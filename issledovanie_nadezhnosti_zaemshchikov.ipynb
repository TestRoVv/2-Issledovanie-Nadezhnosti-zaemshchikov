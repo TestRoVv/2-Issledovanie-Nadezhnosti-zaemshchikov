{
 "cells": [
  {
   "cell_type": "markdown",
   "id": "49ab94ea",
   "metadata": {},
   "source": [
    "**Михаил, привет!**\n",
    "\n",
    "Меня зовут Артемьева Саша, я буду проверять твой проект. Приятно познакомиться, хоть и заочно:)\n",
    "    \n",
    "Предлагаю общаться на «ты» :) Но если это не удобно - дай знать, и мы перейдем на \"вы\". \n",
    "\n",
    "Моя основная цель — не указать на совершенные тобою ошибки, а поделиться своим опытом и помочь тебе стать аналитиком данных. Ты уже проделал большую работу над проектом, но давай сделаем его еще лучше. Ниже ты найдешь мои комментарии - пожалуйста, не перемещай, не изменяй и не удаляй их. Я буду использовать цветовую разметку:\n",
    "\n",
    "<div class=\"alert alert-danger\">\n",
    "<b>❌ Комментарий ревьюера:</b> Так выделены самые важные замечания. Без их отработки проект не будет принят. </div>\n",
    "\n",
    "<div class=\"alert alert-warning\">\n",
    "<b>⚠️ Комментарий ревьюера:</b> Так выделены небольшие замечания. Одно-два таких замечания в проекте допустимы, но если их будет больше - тебе будет необходимо внести исправления. Это как тестовое задание при приеме на работу: очень много мелких ошибок могут стать причиной отказа кандидату. \n",
    "\n",
    "</div>\n",
    "\n",
    "<div class=\"alert alert-success\">\n",
    "<b>✔️ Комментарий ревьюера:</b> Так я выделяю все остальные комментарии.</div>\n",
    "\n",
    "Давай работать над проектом в диалоге: если ты что-то меняешь в проекте или отвечаешь на мои комменатри — пиши об этом. Мне будет легче отследить изменения, если ты выделишь свои комментарии:\n",
    "<div class=\"alert alert-info\"> <b>Комментарий студента:</b> Например, вот так.</div>\n",
    "\n",
    "Всё это поможет выполнить повторную проверку твоего проекта оперативнее. "
   ]
  },
  {
   "cell_type": "markdown",
   "id": "5192b877",
   "metadata": {},
   "source": [
    "# Исследование надежности заемщиков."
   ]
  },
  {
   "cell_type": "markdown",
   "id": "fbd4b704",
   "metadata": {},
   "source": [
    "## Шаг 1. Обзор данных"
   ]
  },
  {
   "cell_type": "markdown",
   "id": "568cf722",
   "metadata": {},
   "source": [
    "**Описание проекта**\n",
    "\n",
    "Заказчик — кредитный отдел банка. Нужно разобраться, влияет ли семейное положение и количество детей клиента на факт погашения кредита в срок. Входные данные от банка — статистика о платёжеспособности клиентов.\n",
    "Результаты исследования будут учтены при построении модели кредитного скоринга — специальной системы, которая оценивает способность потенциального заёмщика вернуть кредит банку.\n",
    "\n",
    "**Описание данных:**\n",
    "\n",
    "* `children` — количество детей в семье;\n",
    "* `days_employed` — общий трудовой стаж в днях;\n",
    "* `dob_years` — возраст клиента в годах;\n",
    "* `education` — уровень образования клиента;\n",
    "* `family_status` — семейное положение;\n",
    "* `family_status_id` — идентификатор семейного положения;\n",
    "* `gender` — пол клиента;\n",
    "* `income_type` — тип занятости;\n",
    "* `debt` — имел ли задолженность по возврату кредитов;\n",
    "* `total_income` — ежемесячный доход;\n",
    "* `purpose` — цель получения кредита;\n",
    "\n",
    "**Цель исследования**:\n",
    "1. Есть ли зависимость между количеством детей и возвратом кредита в срок?\n",
    "2. Есть ли зависимость между семейным положением и возвратом кредита в срок?\n",
    "3. Есть ли зависимость между уровнем дохода и возвратом кредита в срок?\n",
    "4. Как разные цели кредита влияют на его возврат в срок?\n",
    "\n",
    "**Ход исследования**\n",
    "\n",
    "О качестве данных ничего не известно. Поэтому перед проверкой гипотез понадобится обзор данных. \n",
    "\n",
    "Проверим данные на ошибки и оценим их влияние на исследование. Затем, на этапе предобработки вы поищете возможность исправить самые критичные ошибки данных.\n",
    " \n",
    "Таким образом, исследование пройдёт в три этапа:\n",
    " 1. Обзор данных.\n",
    " 2. Предобработка данных.\n",
    " 3. Ответы на вопросы на основе данных."
   ]
  },
  {
   "cell_type": "code",
   "execution_count": 349,
   "id": "4d8ac738",
   "metadata": {},
   "outputs": [
    {
     "data": {
      "text/html": [
       "<div>\n",
       "<style scoped>\n",
       "    .dataframe tbody tr th:only-of-type {\n",
       "        vertical-align: middle;\n",
       "    }\n",
       "\n",
       "    .dataframe tbody tr th {\n",
       "        vertical-align: top;\n",
       "    }\n",
       "\n",
       "    .dataframe thead th {\n",
       "        text-align: right;\n",
       "    }\n",
       "</style>\n",
       "<table border=\"1\" class=\"dataframe\">\n",
       "  <thead>\n",
       "    <tr style=\"text-align: right;\">\n",
       "      <th></th>\n",
       "      <th>children</th>\n",
       "      <th>days_employed</th>\n",
       "      <th>dob_years</th>\n",
       "      <th>education</th>\n",
       "      <th>education_id</th>\n",
       "      <th>family_status</th>\n",
       "      <th>family_status_id</th>\n",
       "      <th>gender</th>\n",
       "      <th>income_type</th>\n",
       "      <th>debt</th>\n",
       "      <th>total_income</th>\n",
       "      <th>purpose</th>\n",
       "    </tr>\n",
       "  </thead>\n",
       "  <tbody>\n",
       "    <tr>\n",
       "      <td>0</td>\n",
       "      <td>1</td>\n",
       "      <td>-8437.673028</td>\n",
       "      <td>42</td>\n",
       "      <td>высшее</td>\n",
       "      <td>0</td>\n",
       "      <td>женат / замужем</td>\n",
       "      <td>0</td>\n",
       "      <td>F</td>\n",
       "      <td>сотрудник</td>\n",
       "      <td>0</td>\n",
       "      <td>253875.639453</td>\n",
       "      <td>покупка жилья</td>\n",
       "    </tr>\n",
       "    <tr>\n",
       "      <td>1</td>\n",
       "      <td>1</td>\n",
       "      <td>-4024.803754</td>\n",
       "      <td>36</td>\n",
       "      <td>среднее</td>\n",
       "      <td>1</td>\n",
       "      <td>женат / замужем</td>\n",
       "      <td>0</td>\n",
       "      <td>F</td>\n",
       "      <td>сотрудник</td>\n",
       "      <td>0</td>\n",
       "      <td>112080.014102</td>\n",
       "      <td>приобретение автомобиля</td>\n",
       "    </tr>\n",
       "    <tr>\n",
       "      <td>2</td>\n",
       "      <td>0</td>\n",
       "      <td>-5623.422610</td>\n",
       "      <td>33</td>\n",
       "      <td>Среднее</td>\n",
       "      <td>1</td>\n",
       "      <td>женат / замужем</td>\n",
       "      <td>0</td>\n",
       "      <td>M</td>\n",
       "      <td>сотрудник</td>\n",
       "      <td>0</td>\n",
       "      <td>145885.952297</td>\n",
       "      <td>покупка жилья</td>\n",
       "    </tr>\n",
       "    <tr>\n",
       "      <td>3</td>\n",
       "      <td>3</td>\n",
       "      <td>-4124.747207</td>\n",
       "      <td>32</td>\n",
       "      <td>среднее</td>\n",
       "      <td>1</td>\n",
       "      <td>женат / замужем</td>\n",
       "      <td>0</td>\n",
       "      <td>M</td>\n",
       "      <td>сотрудник</td>\n",
       "      <td>0</td>\n",
       "      <td>267628.550329</td>\n",
       "      <td>дополнительное образование</td>\n",
       "    </tr>\n",
       "    <tr>\n",
       "      <td>4</td>\n",
       "      <td>0</td>\n",
       "      <td>340266.072047</td>\n",
       "      <td>53</td>\n",
       "      <td>среднее</td>\n",
       "      <td>1</td>\n",
       "      <td>гражданский брак</td>\n",
       "      <td>1</td>\n",
       "      <td>F</td>\n",
       "      <td>пенсионер</td>\n",
       "      <td>0</td>\n",
       "      <td>158616.077870</td>\n",
       "      <td>сыграть свадьбу</td>\n",
       "    </tr>\n",
       "    <tr>\n",
       "      <td>...</td>\n",
       "      <td>...</td>\n",
       "      <td>...</td>\n",
       "      <td>...</td>\n",
       "      <td>...</td>\n",
       "      <td>...</td>\n",
       "      <td>...</td>\n",
       "      <td>...</td>\n",
       "      <td>...</td>\n",
       "      <td>...</td>\n",
       "      <td>...</td>\n",
       "      <td>...</td>\n",
       "      <td>...</td>\n",
       "    </tr>\n",
       "    <tr>\n",
       "      <td>21520</td>\n",
       "      <td>1</td>\n",
       "      <td>-4529.316663</td>\n",
       "      <td>43</td>\n",
       "      <td>среднее</td>\n",
       "      <td>1</td>\n",
       "      <td>гражданский брак</td>\n",
       "      <td>1</td>\n",
       "      <td>F</td>\n",
       "      <td>компаньон</td>\n",
       "      <td>0</td>\n",
       "      <td>224791.862382</td>\n",
       "      <td>операции с жильем</td>\n",
       "    </tr>\n",
       "    <tr>\n",
       "      <td>21521</td>\n",
       "      <td>0</td>\n",
       "      <td>343937.404131</td>\n",
       "      <td>67</td>\n",
       "      <td>среднее</td>\n",
       "      <td>1</td>\n",
       "      <td>женат / замужем</td>\n",
       "      <td>0</td>\n",
       "      <td>F</td>\n",
       "      <td>пенсионер</td>\n",
       "      <td>0</td>\n",
       "      <td>155999.806512</td>\n",
       "      <td>сделка с автомобилем</td>\n",
       "    </tr>\n",
       "    <tr>\n",
       "      <td>21522</td>\n",
       "      <td>1</td>\n",
       "      <td>-2113.346888</td>\n",
       "      <td>38</td>\n",
       "      <td>среднее</td>\n",
       "      <td>1</td>\n",
       "      <td>гражданский брак</td>\n",
       "      <td>1</td>\n",
       "      <td>M</td>\n",
       "      <td>сотрудник</td>\n",
       "      <td>1</td>\n",
       "      <td>89672.561153</td>\n",
       "      <td>недвижимость</td>\n",
       "    </tr>\n",
       "    <tr>\n",
       "      <td>21523</td>\n",
       "      <td>3</td>\n",
       "      <td>-3112.481705</td>\n",
       "      <td>38</td>\n",
       "      <td>среднее</td>\n",
       "      <td>1</td>\n",
       "      <td>женат / замужем</td>\n",
       "      <td>0</td>\n",
       "      <td>M</td>\n",
       "      <td>сотрудник</td>\n",
       "      <td>1</td>\n",
       "      <td>244093.050500</td>\n",
       "      <td>на покупку своего автомобиля</td>\n",
       "    </tr>\n",
       "    <tr>\n",
       "      <td>21524</td>\n",
       "      <td>2</td>\n",
       "      <td>-1984.507589</td>\n",
       "      <td>40</td>\n",
       "      <td>среднее</td>\n",
       "      <td>1</td>\n",
       "      <td>женат / замужем</td>\n",
       "      <td>0</td>\n",
       "      <td>F</td>\n",
       "      <td>сотрудник</td>\n",
       "      <td>0</td>\n",
       "      <td>82047.418899</td>\n",
       "      <td>на покупку автомобиля</td>\n",
       "    </tr>\n",
       "  </tbody>\n",
       "</table>\n",
       "<p>21525 rows × 12 columns</p>\n",
       "</div>"
      ],
      "text/plain": [
       "       children  days_employed  dob_years education  education_id  \\\n",
       "0             1   -8437.673028         42    высшее             0   \n",
       "1             1   -4024.803754         36   среднее             1   \n",
       "2             0   -5623.422610         33   Среднее             1   \n",
       "3             3   -4124.747207         32   среднее             1   \n",
       "4             0  340266.072047         53   среднее             1   \n",
       "...         ...            ...        ...       ...           ...   \n",
       "21520         1   -4529.316663         43   среднее             1   \n",
       "21521         0  343937.404131         67   среднее             1   \n",
       "21522         1   -2113.346888         38   среднее             1   \n",
       "21523         3   -3112.481705         38   среднее             1   \n",
       "21524         2   -1984.507589         40   среднее             1   \n",
       "\n",
       "          family_status  family_status_id gender income_type  debt  \\\n",
       "0       женат / замужем                 0      F   сотрудник     0   \n",
       "1       женат / замужем                 0      F   сотрудник     0   \n",
       "2       женат / замужем                 0      M   сотрудник     0   \n",
       "3       женат / замужем                 0      M   сотрудник     0   \n",
       "4      гражданский брак                 1      F   пенсионер     0   \n",
       "...                 ...               ...    ...         ...   ...   \n",
       "21520  гражданский брак                 1      F   компаньон     0   \n",
       "21521   женат / замужем                 0      F   пенсионер     0   \n",
       "21522  гражданский брак                 1      M   сотрудник     1   \n",
       "21523   женат / замужем                 0      M   сотрудник     1   \n",
       "21524   женат / замужем                 0      F   сотрудник     0   \n",
       "\n",
       "        total_income                       purpose  \n",
       "0      253875.639453                 покупка жилья  \n",
       "1      112080.014102       приобретение автомобиля  \n",
       "2      145885.952297                 покупка жилья  \n",
       "3      267628.550329    дополнительное образование  \n",
       "4      158616.077870               сыграть свадьбу  \n",
       "...              ...                           ...  \n",
       "21520  224791.862382             операции с жильем  \n",
       "21521  155999.806512          сделка с автомобилем  \n",
       "21522   89672.561153                  недвижимость  \n",
       "21523  244093.050500  на покупку своего автомобиля  \n",
       "21524   82047.418899         на покупку автомобиля  \n",
       "\n",
       "[21525 rows x 12 columns]"
      ]
     },
     "metadata": {},
     "output_type": "display_data"
    },
    {
     "name": "stdout",
     "output_type": "stream",
     "text": [
      "<class 'pandas.core.frame.DataFrame'>\n",
      "RangeIndex: 21525 entries, 0 to 21524\n",
      "Data columns (total 12 columns):\n",
      "children            21525 non-null int64\n",
      "days_employed       19351 non-null float64\n",
      "dob_years           21525 non-null int64\n",
      "education           21525 non-null object\n",
      "education_id        21525 non-null int64\n",
      "family_status       21525 non-null object\n",
      "family_status_id    21525 non-null int64\n",
      "gender              21525 non-null object\n",
      "income_type         21525 non-null object\n",
      "debt                21525 non-null int64\n",
      "total_income        19351 non-null float64\n",
      "purpose             21525 non-null object\n",
      "dtypes: float64(2), int64(5), object(5)\n",
      "memory usage: 2.0+ MB\n"
     ]
    }
   ],
   "source": [
    "import pandas as pd # импорт библиотеки pandas\n",
    "df = pd.read_csv('/datasets/data.csv') # чтение файла с данными и сохранение в df\n",
    "display(df)\n",
    "df.info() # получение общей информации о данных в таблице df"
   ]
  },
  {
   "cell_type": "markdown",
   "id": "762f78da",
   "metadata": {},
   "source": [
    "Количество значений в столбцах различается. Значит, в данных есть пропущенные значения."
   ]
  },
  {
   "cell_type": "markdown",
   "id": "01ea6cac",
   "metadata": {},
   "source": [
    "# Шаг 2 Предобработка данных"
   ]
  },
  {
   "cell_type": "markdown",
   "id": "5f8ef103",
   "metadata": {},
   "source": [
    "Посмотрим сколько именно и в каких столбцах не хватает значений."
   ]
  },
  {
   "cell_type": "code",
   "execution_count": 350,
   "id": "e3d01e0b",
   "metadata": {},
   "outputs": [
    {
     "data": {
      "text/plain": [
       "children               0\n",
       "days_employed       2174\n",
       "dob_years              0\n",
       "education              0\n",
       "education_id           0\n",
       "family_status          0\n",
       "family_status_id       0\n",
       "gender                 0\n",
       "income_type            0\n",
       "debt                   0\n",
       "total_income        2174\n",
       "purpose                0\n",
       "dtype: int64"
      ]
     },
     "metadata": {},
     "output_type": "display_data"
    }
   ],
   "source": [
    "display(df.isna().sum()) # подсчёт пропусков"
   ]
  },
  {
   "cell_type": "markdown",
   "id": "6c249738",
   "metadata": {},
   "source": [
    "2174 - значений не хватает. Найдем их долю среди всей таблицы:"
   ]
  },
  {
   "cell_type": "code",
   "execution_count": 351,
   "id": "c3ccbc60",
   "metadata": {},
   "outputs": [
    {
     "name": "stdout",
     "output_type": "stream",
     "text": [
      "Доля пропущенных значений: 9.9\n"
     ]
    }
   ],
   "source": [
    "print('Доля пропущенных значений:', round(df['children'].count() / df['days_employed'].isna().sum(),1))"
   ]
  },
  {
   "cell_type": "markdown",
   "id": "2f45962a",
   "metadata": {},
   "source": [
    "Почти 10%. Проверим взаимосвязь по типу занятости."
   ]
  },
  {
   "cell_type": "code",
   "execution_count": 352,
   "id": "49e40a72",
   "metadata": {},
   "outputs": [
    {
     "data": {
      "text/plain": [
       "array(['пенсионер', 'госслужащий', 'компаньон', 'сотрудник',\n",
       "       'предприниматель'], dtype=object)"
      ]
     },
     "metadata": {},
     "output_type": "display_data"
    },
    {
     "data": {
      "text/plain": [
       "array(['пенсионер', 'госслужащий', 'компаньон', 'сотрудник',\n",
       "       'предприниматель'], dtype=object)"
      ]
     },
     "metadata": {},
     "output_type": "display_data"
    }
   ],
   "source": [
    "display(df[df['days_employed'].isna()]['income_type'].unique())\n",
    "display(df[df['total_income'].isna()]['income_type'].unique())"
   ]
  },
  {
   "cell_type": "markdown",
   "id": "8fd54e1d",
   "metadata": {},
   "source": [
    "Пропуски значений есть у всех типов клиентов, вероятнее всего они сделаны не при оформлении или исправлении данных, а при выгрузке в файл."
   ]
  },
  {
   "cell_type": "markdown",
   "id": "4889744a",
   "metadata": {},
   "source": [
    "<div class=\"alert alert-success\">\n",
    "<b>✔️ Комментарий ревьюера:</b>  Можем сообщить о проблеме заказчику и запросить метаданные для глубокого анализа"
   ]
  },
  {
   "cell_type": "markdown",
   "id": "a72ea2c9",
   "metadata": {},
   "source": [
    "## Шаг 2.1 Заполнение пропусков"
   ]
  },
  {
   "cell_type": "markdown",
   "id": "fb4bf9b3",
   "metadata": {},
   "source": [
    "Так как столбцы days_employed и total_income имеют формат - float64, а не object, заменяем пропущенные значения на 0."
   ]
  },
  {
   "cell_type": "code",
   "execution_count": 353,
   "id": "98290a47",
   "metadata": {
    "scrolled": true
   },
   "outputs": [
    {
     "data": {
      "text/plain": [
       "children            0\n",
       "days_employed       0\n",
       "dob_years           0\n",
       "education           0\n",
       "education_id        0\n",
       "family_status       0\n",
       "family_status_id    0\n",
       "gender              0\n",
       "income_type         0\n",
       "debt                0\n",
       "total_income        0\n",
       "purpose             0\n",
       "dtype: int64"
      ]
     },
     "metadata": {},
     "output_type": "display_data"
    }
   ],
   "source": [
    "df['days_employed'] = df['days_employed'].fillna(0) # замена пропущенных значений на 0 в столбце days_employed \n",
    "df['total_income'] = df['total_income'].fillna(0) # замена пропущенных значений на 0 в столбце total_income \n",
    "display(df.isna().sum()) # подсчёт пропусков после замены"
   ]
  },
  {
   "cell_type": "markdown",
   "id": "45df0946",
   "metadata": {},
   "source": [
    "Пропущенные значения days_employed и total_income заменены на 0.                                 \n",
    "Теперь в заменим 0 на значения медиан, по каждому типу занятости клиента.\n",
    "\n",
    "*Зачем нужна медиана, если есть среднее? Среднее значение некорректно характеризует данные, когда некоторые значения сильно выделяются среди большинства.*"
   ]
  },
  {
   "cell_type": "markdown",
   "id": "e86ccdd4",
   "metadata": {},
   "source": [
    "Создаем функцию median_function, которая формирует df по столбцу ежемесячного дохода = 0 и по типу занятости из списка. Приравниваем к значению медианты, которую получили сгруппировав ежемесячный доход по типу занятости.             "
   ]
  },
  {
   "cell_type": "code",
   "execution_count": 354,
   "id": "6f4c27eb",
   "metadata": {},
   "outputs": [],
   "source": [
    "def median_function(columns_list):\n",
    "    income_type_list =['безработный', 'в декрете','госслужащий','компаньон','пенсионер','предприниматель','сотрудник','студент']\n",
    "    for i in income_type_list:\n",
    "        df.loc[(df[columns_list[0]] == 0) & (df[columns_list[1]] == i), columns_list[0]] = df.groupby(columns_list[1])[columns_list[0]].median()[i]"
   ]
  },
  {
   "cell_type": "markdown",
   "id": "1b3462d4",
   "metadata": {},
   "source": [
    "*Столбец ежемесячный доход:*                 "
   ]
  },
  {
   "cell_type": "code",
   "execution_count": 355,
   "id": "cdfb446c",
   "metadata": {
    "scrolled": true
   },
   "outputs": [
    {
     "data": {
      "text/plain": [
       "income_type\n",
       "безработный        131339.751676\n",
       "в декрете           53829.130729\n",
       "госслужащий        139034.452386\n",
       "компаньон          162401.351555\n",
       "пенсионер          110179.955936\n",
       "предприниматель    374372.358710\n",
       "сотрудник          133546.457238\n",
       "студент             98201.625314\n",
       "Name: total_income, dtype: float64"
      ]
     },
     "execution_count": 355,
     "metadata": {},
     "output_type": "execute_result"
    }
   ],
   "source": [
    "median_function(['total_income','income_type'])\n",
    "df.groupby('income_type')['total_income'].median() # вывод медианных значений ежемесячного дохода, относительно типа занятости."
   ]
  },
  {
   "cell_type": "markdown",
   "id": "40681ca1",
   "metadata": {},
   "source": [
    "*Столбец общий трудовой стаж в днях*               "
   ]
  },
  {
   "cell_type": "code",
   "execution_count": 356,
   "id": "c9bd9bf7",
   "metadata": {
    "scrolled": true
   },
   "outputs": [
    {
     "data": {
      "text/plain": [
       "income_type\n",
       "безработный        366413.652744\n",
       "в декрете           -3296.759962\n",
       "госслужащий         -2385.358043\n",
       "компаньон           -1311.128244\n",
       "пенсионер          360515.968234\n",
       "предприниматель      -390.636063\n",
       "сотрудник           -1360.363902\n",
       "студент              -578.751554\n",
       "Name: days_employed, dtype: float64"
      ]
     },
     "execution_count": 356,
     "metadata": {},
     "output_type": "execute_result"
    }
   ],
   "source": [
    "median_function(['days_employed','income_type'])\n",
    "df.groupby('income_type')['days_employed'].median() # вывод медианных значений стажа, относительно типа занятости."
   ]
  },
  {
   "cell_type": "markdown",
   "id": "4dc8eb09",
   "metadata": {},
   "source": [
    "<div class=\"alert alert-warning\">\n",
    "<b>⚠️ Комментарий ревьюера:</b>  Эти замены элегантнее можно было сделать в цикле, создав список из нужных для замены колонок"
   ]
  },
  {
   "cell_type": "markdown",
   "id": "fe93a18d",
   "metadata": {},
   "source": [
    "<div class=\"alert alert-info\">\n",
    "<b> Комментарий студента:</b> Сделал более-менее элегантнее))"
   ]
  },
  {
   "cell_type": "markdown",
   "id": "8b2eb896",
   "metadata": {},
   "source": [
    "<div class=\"alert alert-success\">\n",
    "<b>✔️ Комментарий ревьюера V2:</b>  Молодец!"
   ]
  },
  {
   "cell_type": "markdown",
   "id": "58e98d7d",
   "metadata": {},
   "source": [
    "Отрицательного трудового стажа неможет быть.\n",
    "Медианные значения по типу безработный и пенсионер - аномальны. Так как это медианные значения, то аномально большинство значений, при этом всем они положительны. Похоже что значения данных трудового стажа у безработных и пенсионеров, завышенно рукотворно. \n",
    "\n",
    "*Надеемся что пенсионерам завысили из лучших побуждений*"
   ]
  },
  {
   "cell_type": "code",
   "execution_count": 357,
   "id": "e83d1710",
   "metadata": {
    "scrolled": true
   },
   "outputs": [
    {
     "name": "stdout",
     "output_type": "stream",
     "text": [
      "<class 'pandas.core.frame.DataFrame'>\n",
      "RangeIndex: 21525 entries, 0 to 21524\n",
      "Data columns (total 12 columns):\n",
      "children            21525 non-null int64\n",
      "days_employed       21525 non-null float64\n",
      "dob_years           21525 non-null int64\n",
      "education           21525 non-null object\n",
      "education_id        21525 non-null int64\n",
      "family_status       21525 non-null object\n",
      "family_status_id    21525 non-null int64\n",
      "gender              21525 non-null object\n",
      "income_type         21525 non-null object\n",
      "debt                21525 non-null int64\n",
      "total_income        21525 non-null float64\n",
      "purpose             21525 non-null object\n",
      "dtypes: float64(2), int64(5), object(5)\n",
      "memory usage: 2.0+ MB\n"
     ]
    }
   ],
   "source": [
    "df.info() # получение общей информации о данных в измененной таблице df"
   ]
  },
  {
   "cell_type": "markdown",
   "id": "e0a36867",
   "metadata": {
    "scrolled": true
   },
   "source": [
    "Пропуски заполнили, но теперь нужно проверить таблицу на наличие аномалий."
   ]
  },
  {
   "cell_type": "markdown",
   "id": "2c22a9f1",
   "metadata": {},
   "source": [
    "## Шаг 2.2 Проверка данных на аномалии и исправления."
   ]
  },
  {
   "cell_type": "markdown",
   "id": "4e0f3529",
   "metadata": {
    "scrolled": true
   },
   "source": [
    "Проверим все столбцы на наличие уникальных значений."
   ]
  },
  {
   "cell_type": "code",
   "execution_count": 358,
   "id": "e5273e97",
   "metadata": {
    "scrolled": true
   },
   "outputs": [
    {
     "name": "stdout",
     "output_type": "stream",
     "text": [
      "Index(['children', 'days_employed', 'dob_years', 'education', 'education_id',\n",
      "       'family_status', 'family_status_id', 'gender', 'income_type', 'debt',\n",
      "       'total_income', 'purpose'],\n",
      "      dtype='object')\n",
      "Series([], Name: children, dtype: int64)\n",
      "[-1  0  1  2  3  4  5 20]\n",
      "\n",
      "Series([], Name: days_employed, dtype: float64)\n",
      "[-18388.94990057 -17615.56326563 -16593.47281726 ... 401675.09343386\n",
      " 401715.81174889 401755.40047533]\n",
      "\n",
      "Series([], Name: dob_years, dtype: int64)\n",
      "[ 0 19 20 21 22 23 24 25 26 27 28 29 30 31 32 33 34 35 36 37 38 39 40 41\n",
      " 42 43 44 45 46 47 48 49 50 51 52 53 54 55 56 57 58 59 60 61 62 63 64 65\n",
      " 66 67 68 69 70 71 72 73 74 75]\n",
      "\n",
      "Series([], Name: education, dtype: object)\n",
      "['ВЫСШЕЕ' 'Высшее' 'НАЧАЛЬНОЕ' 'НЕОКОНЧЕННОЕ ВЫСШЕЕ' 'Начальное'\n",
      " 'Неоконченное высшее' 'СРЕДНЕЕ' 'Среднее' 'УЧЕНАЯ СТЕПЕНЬ'\n",
      " 'Ученая степень' 'высшее' 'начальное' 'неоконченное высшее' 'среднее'\n",
      " 'ученая степень']\n",
      "\n",
      "Series([], Name: education_id, dtype: int64)\n",
      "[0 1 2 3 4]\n",
      "\n",
      "Series([], Name: family_status, dtype: object)\n",
      "['Не женат / не замужем' 'в разводе' 'вдовец / вдова' 'гражданский брак'\n",
      " 'женат / замужем']\n",
      "\n",
      "Series([], Name: family_status_id, dtype: int64)\n",
      "[0 1 2 3 4]\n",
      "\n",
      "Series([], Name: gender, dtype: object)\n",
      "['F' 'M' 'XNA']\n",
      "\n",
      "Series([], Name: income_type, dtype: object)\n",
      "['безработный' 'в декрете' 'госслужащий' 'компаньон' 'пенсионер'\n",
      " 'предприниматель' 'сотрудник' 'студент']\n",
      "\n",
      "Series([], Name: debt, dtype: int64)\n",
      "[0 1]\n",
      "\n",
      "Series([], Name: total_income, dtype: float64)\n",
      "[  20667.26379327   21205.28056622   21367.64835649 ... 1726276.01433167\n",
      " 2200852.2102589  2265604.02872274]\n",
      "\n",
      "Series([], Name: purpose, dtype: object)\n",
      "['автомобили' 'автомобиль' 'высшее образование'\n",
      " 'дополнительное образование' 'жилье' 'заняться высшим образованием'\n",
      " 'заняться образованием' 'на покупку автомобиля'\n",
      " 'на покупку подержанного автомобиля' 'на покупку своего автомобиля'\n",
      " 'на проведение свадьбы' 'недвижимость' 'образование' 'операции с жильем'\n",
      " 'операции с коммерческой недвижимостью' 'операции с недвижимостью'\n",
      " 'операции со своей недвижимостью' 'покупка жилой недвижимости'\n",
      " 'покупка жилья' 'покупка жилья для сдачи' 'покупка жилья для семьи'\n",
      " 'покупка коммерческой недвижимости' 'покупка недвижимости'\n",
      " 'покупка своего жилья' 'получение высшего образования'\n",
      " 'получение дополнительного образования' 'получение образования'\n",
      " 'приобретение автомобиля' 'профильное образование' 'ремонт жилью'\n",
      " 'свадьба' 'свой автомобиль' 'сделка с автомобилем'\n",
      " 'сделка с подержанным автомобилем' 'строительство жилой недвижимости'\n",
      " 'строительство недвижимости' 'строительство собственной недвижимости'\n",
      " 'сыграть свадьбу']\n",
      "\n"
     ]
    }
   ],
   "source": [
    "print(df.columns) # правильность названий столбцов\n",
    "for row in df:\n",
    "    print(df[row].head(0)) # вывод названия столбца и типа данных\n",
    "    print(df[row].sort_values().unique()) # вывод уникальных значений\n",
    "    print()"
   ]
  },
  {
   "cell_type": "markdown",
   "id": "e4aa8648",
   "metadata": {},
   "source": [
    "Первое что бросается в глаза:\n",
    "\n",
    "* `children` — количество детей, -1 и 20. Нужно уточнить.\n",
    "* `days_employed` — общий трудовой стаж, есть отрицательные значения и значения \"артефакты\" (401675.09343386, 401715.81174889, 401755.40047533 и т.п)\n",
    "* `dob_years` — возраст клиента в годах, 0 лет. Нужно уточнить.\n",
    "* `education` — уровень образования клиента, нужно привести к единому регистру.\n",
    "* `gender` — пол клиента: XNA. Нужно уточнить.\n",
    "* `purpose` — цель получения кредита, много однотипных целей."
   ]
  },
  {
   "cell_type": "markdown",
   "id": "4aa995db",
   "metadata": {},
   "source": [
    "Начнем самого этого. \n",
    "* `children` — количество детей, -1 и 20. Нужно уточнить.\n",
    "\n",
    "Взглянем на данные:"
   ]
  },
  {
   "cell_type": "code",
   "execution_count": 359,
   "id": "96d9887d",
   "metadata": {},
   "outputs": [
    {
     "data": {
      "text/html": [
       "<div>\n",
       "<style scoped>\n",
       "    .dataframe tbody tr th:only-of-type {\n",
       "        vertical-align: middle;\n",
       "    }\n",
       "\n",
       "    .dataframe tbody tr th {\n",
       "        vertical-align: top;\n",
       "    }\n",
       "\n",
       "    .dataframe thead th {\n",
       "        text-align: right;\n",
       "    }\n",
       "</style>\n",
       "<table border=\"1\" class=\"dataframe\">\n",
       "  <thead>\n",
       "    <tr style=\"text-align: right;\">\n",
       "      <th></th>\n",
       "      <th>children</th>\n",
       "      <th>days_employed</th>\n",
       "      <th>dob_years</th>\n",
       "      <th>education</th>\n",
       "      <th>education_id</th>\n",
       "      <th>family_status</th>\n",
       "      <th>family_status_id</th>\n",
       "      <th>gender</th>\n",
       "      <th>income_type</th>\n",
       "      <th>debt</th>\n",
       "      <th>total_income</th>\n",
       "      <th>purpose</th>\n",
       "    </tr>\n",
       "  </thead>\n",
       "  <tbody>\n",
       "    <tr>\n",
       "      <td>291</td>\n",
       "      <td>-1</td>\n",
       "      <td>-4417.703588</td>\n",
       "      <td>46</td>\n",
       "      <td>среднее</td>\n",
       "      <td>1</td>\n",
       "      <td>гражданский брак</td>\n",
       "      <td>1</td>\n",
       "      <td>F</td>\n",
       "      <td>сотрудник</td>\n",
       "      <td>0</td>\n",
       "      <td>102816.346412</td>\n",
       "      <td>профильное образование</td>\n",
       "    </tr>\n",
       "    <tr>\n",
       "      <td>705</td>\n",
       "      <td>-1</td>\n",
       "      <td>-902.084528</td>\n",
       "      <td>50</td>\n",
       "      <td>среднее</td>\n",
       "      <td>1</td>\n",
       "      <td>женат / замужем</td>\n",
       "      <td>0</td>\n",
       "      <td>F</td>\n",
       "      <td>госслужащий</td>\n",
       "      <td>0</td>\n",
       "      <td>137882.899271</td>\n",
       "      <td>приобретение автомобиля</td>\n",
       "    </tr>\n",
       "    <tr>\n",
       "      <td>742</td>\n",
       "      <td>-1</td>\n",
       "      <td>-3174.456205</td>\n",
       "      <td>57</td>\n",
       "      <td>среднее</td>\n",
       "      <td>1</td>\n",
       "      <td>женат / замужем</td>\n",
       "      <td>0</td>\n",
       "      <td>F</td>\n",
       "      <td>сотрудник</td>\n",
       "      <td>0</td>\n",
       "      <td>64268.044444</td>\n",
       "      <td>дополнительное образование</td>\n",
       "    </tr>\n",
       "    <tr>\n",
       "      <td>800</td>\n",
       "      <td>-1</td>\n",
       "      <td>349987.852217</td>\n",
       "      <td>54</td>\n",
       "      <td>среднее</td>\n",
       "      <td>1</td>\n",
       "      <td>Не женат / не замужем</td>\n",
       "      <td>4</td>\n",
       "      <td>F</td>\n",
       "      <td>пенсионер</td>\n",
       "      <td>0</td>\n",
       "      <td>86293.724153</td>\n",
       "      <td>дополнительное образование</td>\n",
       "    </tr>\n",
       "    <tr>\n",
       "      <td>941</td>\n",
       "      <td>-1</td>\n",
       "      <td>360505.668544</td>\n",
       "      <td>57</td>\n",
       "      <td>Среднее</td>\n",
       "      <td>1</td>\n",
       "      <td>женат / замужем</td>\n",
       "      <td>0</td>\n",
       "      <td>F</td>\n",
       "      <td>пенсионер</td>\n",
       "      <td>0</td>\n",
       "      <td>110179.690761</td>\n",
       "      <td>на покупку своего автомобиля</td>\n",
       "    </tr>\n",
       "    <tr>\n",
       "      <td>1363</td>\n",
       "      <td>-1</td>\n",
       "      <td>-1195.264956</td>\n",
       "      <td>55</td>\n",
       "      <td>СРЕДНЕЕ</td>\n",
       "      <td>1</td>\n",
       "      <td>женат / замужем</td>\n",
       "      <td>0</td>\n",
       "      <td>F</td>\n",
       "      <td>компаньон</td>\n",
       "      <td>0</td>\n",
       "      <td>69550.699692</td>\n",
       "      <td>профильное образование</td>\n",
       "    </tr>\n",
       "    <tr>\n",
       "      <td>1929</td>\n",
       "      <td>-1</td>\n",
       "      <td>-1461.303336</td>\n",
       "      <td>38</td>\n",
       "      <td>среднее</td>\n",
       "      <td>1</td>\n",
       "      <td>Не женат / не замужем</td>\n",
       "      <td>4</td>\n",
       "      <td>M</td>\n",
       "      <td>сотрудник</td>\n",
       "      <td>0</td>\n",
       "      <td>109121.569013</td>\n",
       "      <td>покупка жилья</td>\n",
       "    </tr>\n",
       "    <tr>\n",
       "      <td>2073</td>\n",
       "      <td>-1</td>\n",
       "      <td>-2539.761232</td>\n",
       "      <td>42</td>\n",
       "      <td>среднее</td>\n",
       "      <td>1</td>\n",
       "      <td>в разводе</td>\n",
       "      <td>3</td>\n",
       "      <td>F</td>\n",
       "      <td>компаньон</td>\n",
       "      <td>0</td>\n",
       "      <td>162638.609373</td>\n",
       "      <td>покупка жилья</td>\n",
       "    </tr>\n",
       "    <tr>\n",
       "      <td>3814</td>\n",
       "      <td>-1</td>\n",
       "      <td>-3045.290443</td>\n",
       "      <td>26</td>\n",
       "      <td>Среднее</td>\n",
       "      <td>1</td>\n",
       "      <td>гражданский брак</td>\n",
       "      <td>1</td>\n",
       "      <td>F</td>\n",
       "      <td>госслужащий</td>\n",
       "      <td>0</td>\n",
       "      <td>131892.785435</td>\n",
       "      <td>на проведение свадьбы</td>\n",
       "    </tr>\n",
       "    <tr>\n",
       "      <td>4201</td>\n",
       "      <td>-1</td>\n",
       "      <td>-901.101738</td>\n",
       "      <td>41</td>\n",
       "      <td>среднее</td>\n",
       "      <td>1</td>\n",
       "      <td>женат / замужем</td>\n",
       "      <td>0</td>\n",
       "      <td>F</td>\n",
       "      <td>госслужащий</td>\n",
       "      <td>0</td>\n",
       "      <td>226375.766751</td>\n",
       "      <td>операции со своей недвижимостью</td>\n",
       "    </tr>\n",
       "    <tr>\n",
       "      <td>4402</td>\n",
       "      <td>-1</td>\n",
       "      <td>398001.302888</td>\n",
       "      <td>64</td>\n",
       "      <td>СРЕДНЕЕ</td>\n",
       "      <td>1</td>\n",
       "      <td>женат / замужем</td>\n",
       "      <td>0</td>\n",
       "      <td>F</td>\n",
       "      <td>пенсионер</td>\n",
       "      <td>0</td>\n",
       "      <td>163264.062064</td>\n",
       "      <td>покупка недвижимости</td>\n",
       "    </tr>\n",
       "    <tr>\n",
       "      <td>4542</td>\n",
       "      <td>-1</td>\n",
       "      <td>-1811.899756</td>\n",
       "      <td>32</td>\n",
       "      <td>среднее</td>\n",
       "      <td>1</td>\n",
       "      <td>женат / замужем</td>\n",
       "      <td>0</td>\n",
       "      <td>F</td>\n",
       "      <td>сотрудник</td>\n",
       "      <td>0</td>\n",
       "      <td>160544.718446</td>\n",
       "      <td>образование</td>\n",
       "    </tr>\n",
       "    <tr>\n",
       "      <td>5272</td>\n",
       "      <td>-1</td>\n",
       "      <td>-1143.485347</td>\n",
       "      <td>46</td>\n",
       "      <td>среднее</td>\n",
       "      <td>1</td>\n",
       "      <td>вдовец / вдова</td>\n",
       "      <td>2</td>\n",
       "      <td>F</td>\n",
       "      <td>сотрудник</td>\n",
       "      <td>0</td>\n",
       "      <td>278708.018820</td>\n",
       "      <td>покупка недвижимости</td>\n",
       "    </tr>\n",
       "    <tr>\n",
       "      <td>6013</td>\n",
       "      <td>-1</td>\n",
       "      <td>-1361.258696</td>\n",
       "      <td>46</td>\n",
       "      <td>высшее</td>\n",
       "      <td>0</td>\n",
       "      <td>женат / замужем</td>\n",
       "      <td>0</td>\n",
       "      <td>F</td>\n",
       "      <td>сотрудник</td>\n",
       "      <td>0</td>\n",
       "      <td>143008.454914</td>\n",
       "      <td>строительство собственной недвижимости</td>\n",
       "    </tr>\n",
       "    <tr>\n",
       "      <td>6385</td>\n",
       "      <td>-1</td>\n",
       "      <td>370215.476226</td>\n",
       "      <td>48</td>\n",
       "      <td>среднее</td>\n",
       "      <td>1</td>\n",
       "      <td>вдовец / вдова</td>\n",
       "      <td>2</td>\n",
       "      <td>F</td>\n",
       "      <td>пенсионер</td>\n",
       "      <td>0</td>\n",
       "      <td>36052.447435</td>\n",
       "      <td>образование</td>\n",
       "    </tr>\n",
       "    <tr>\n",
       "      <td>7190</td>\n",
       "      <td>-1</td>\n",
       "      <td>-5928.202068</td>\n",
       "      <td>34</td>\n",
       "      <td>СРЕДНЕЕ</td>\n",
       "      <td>1</td>\n",
       "      <td>женат / замужем</td>\n",
       "      <td>0</td>\n",
       "      <td>M</td>\n",
       "      <td>сотрудник</td>\n",
       "      <td>0</td>\n",
       "      <td>184315.121979</td>\n",
       "      <td>приобретение автомобиля</td>\n",
       "    </tr>\n",
       "    <tr>\n",
       "      <td>7278</td>\n",
       "      <td>-1</td>\n",
       "      <td>-526.318451</td>\n",
       "      <td>51</td>\n",
       "      <td>среднее</td>\n",
       "      <td>1</td>\n",
       "      <td>женат / замужем</td>\n",
       "      <td>0</td>\n",
       "      <td>F</td>\n",
       "      <td>сотрудник</td>\n",
       "      <td>0</td>\n",
       "      <td>146928.769439</td>\n",
       "      <td>операции с коммерческой недвижимостью</td>\n",
       "    </tr>\n",
       "    <tr>\n",
       "      <td>7615</td>\n",
       "      <td>-1</td>\n",
       "      <td>-1360.363902</td>\n",
       "      <td>35</td>\n",
       "      <td>среднее</td>\n",
       "      <td>1</td>\n",
       "      <td>женат / замужем</td>\n",
       "      <td>0</td>\n",
       "      <td>M</td>\n",
       "      <td>сотрудник</td>\n",
       "      <td>0</td>\n",
       "      <td>133546.457238</td>\n",
       "      <td>образование</td>\n",
       "    </tr>\n",
       "    <tr>\n",
       "      <td>7685</td>\n",
       "      <td>-1</td>\n",
       "      <td>-3237.360455</td>\n",
       "      <td>53</td>\n",
       "      <td>среднее</td>\n",
       "      <td>1</td>\n",
       "      <td>вдовец / вдова</td>\n",
       "      <td>2</td>\n",
       "      <td>F</td>\n",
       "      <td>сотрудник</td>\n",
       "      <td>0</td>\n",
       "      <td>159676.174958</td>\n",
       "      <td>строительство жилой недвижимости</td>\n",
       "    </tr>\n",
       "    <tr>\n",
       "      <td>8229</td>\n",
       "      <td>-1</td>\n",
       "      <td>-1803.441074</td>\n",
       "      <td>54</td>\n",
       "      <td>высшее</td>\n",
       "      <td>0</td>\n",
       "      <td>женат / замужем</td>\n",
       "      <td>0</td>\n",
       "      <td>F</td>\n",
       "      <td>компаньон</td>\n",
       "      <td>0</td>\n",
       "      <td>138809.082930</td>\n",
       "      <td>покупка недвижимости</td>\n",
       "    </tr>\n",
       "    <tr>\n",
       "      <td>8251</td>\n",
       "      <td>-1</td>\n",
       "      <td>-3113.998449</td>\n",
       "      <td>31</td>\n",
       "      <td>среднее</td>\n",
       "      <td>1</td>\n",
       "      <td>гражданский брак</td>\n",
       "      <td>1</td>\n",
       "      <td>F</td>\n",
       "      <td>сотрудник</td>\n",
       "      <td>0</td>\n",
       "      <td>54412.056005</td>\n",
       "      <td>свой автомобиль</td>\n",
       "    </tr>\n",
       "    <tr>\n",
       "      <td>8561</td>\n",
       "      <td>-1</td>\n",
       "      <td>-195.479496</td>\n",
       "      <td>31</td>\n",
       "      <td>среднее</td>\n",
       "      <td>1</td>\n",
       "      <td>женат / замужем</td>\n",
       "      <td>0</td>\n",
       "      <td>F</td>\n",
       "      <td>сотрудник</td>\n",
       "      <td>0</td>\n",
       "      <td>145577.881522</td>\n",
       "      <td>ремонт жилью</td>\n",
       "    </tr>\n",
       "    <tr>\n",
       "      <td>9565</td>\n",
       "      <td>-1</td>\n",
       "      <td>-2896.629686</td>\n",
       "      <td>34</td>\n",
       "      <td>высшее</td>\n",
       "      <td>0</td>\n",
       "      <td>женат / замужем</td>\n",
       "      <td>0</td>\n",
       "      <td>M</td>\n",
       "      <td>сотрудник</td>\n",
       "      <td>0</td>\n",
       "      <td>126754.656529</td>\n",
       "      <td>операции с недвижимостью</td>\n",
       "    </tr>\n",
       "    <tr>\n",
       "      <td>9574</td>\n",
       "      <td>-1</td>\n",
       "      <td>-2710.419901</td>\n",
       "      <td>28</td>\n",
       "      <td>высшее</td>\n",
       "      <td>0</td>\n",
       "      <td>женат / замужем</td>\n",
       "      <td>0</td>\n",
       "      <td>M</td>\n",
       "      <td>госслужащий</td>\n",
       "      <td>0</td>\n",
       "      <td>303137.161001</td>\n",
       "      <td>получение дополнительного образования</td>\n",
       "    </tr>\n",
       "    <tr>\n",
       "      <td>10177</td>\n",
       "      <td>-1</td>\n",
       "      <td>-1743.604011</td>\n",
       "      <td>37</td>\n",
       "      <td>среднее</td>\n",
       "      <td>1</td>\n",
       "      <td>женат / замужем</td>\n",
       "      <td>0</td>\n",
       "      <td>M</td>\n",
       "      <td>сотрудник</td>\n",
       "      <td>0</td>\n",
       "      <td>310367.509001</td>\n",
       "      <td>получение образования</td>\n",
       "    </tr>\n",
       "    <tr>\n",
       "      <td>10365</td>\n",
       "      <td>-1</td>\n",
       "      <td>345774.125957</td>\n",
       "      <td>63</td>\n",
       "      <td>ВЫСШЕЕ</td>\n",
       "      <td>0</td>\n",
       "      <td>вдовец / вдова</td>\n",
       "      <td>2</td>\n",
       "      <td>F</td>\n",
       "      <td>пенсионер</td>\n",
       "      <td>0</td>\n",
       "      <td>170762.751325</td>\n",
       "      <td>строительство жилой недвижимости</td>\n",
       "    </tr>\n",
       "    <tr>\n",
       "      <td>10918</td>\n",
       "      <td>-1</td>\n",
       "      <td>340499.039342</td>\n",
       "      <td>50</td>\n",
       "      <td>среднее</td>\n",
       "      <td>1</td>\n",
       "      <td>женат / замужем</td>\n",
       "      <td>0</td>\n",
       "      <td>M</td>\n",
       "      <td>пенсионер</td>\n",
       "      <td>0</td>\n",
       "      <td>170762.773162</td>\n",
       "      <td>покупка своего жилья</td>\n",
       "    </tr>\n",
       "    <tr>\n",
       "      <td>11109</td>\n",
       "      <td>-1</td>\n",
       "      <td>-3438.463024</td>\n",
       "      <td>59</td>\n",
       "      <td>среднее</td>\n",
       "      <td>1</td>\n",
       "      <td>женат / замужем</td>\n",
       "      <td>0</td>\n",
       "      <td>F</td>\n",
       "      <td>сотрудник</td>\n",
       "      <td>0</td>\n",
       "      <td>219874.012345</td>\n",
       "      <td>операции с жильем</td>\n",
       "    </tr>\n",
       "    <tr>\n",
       "      <td>11268</td>\n",
       "      <td>-1</td>\n",
       "      <td>-1048.782203</td>\n",
       "      <td>30</td>\n",
       "      <td>высшее</td>\n",
       "      <td>0</td>\n",
       "      <td>гражданский брак</td>\n",
       "      <td>1</td>\n",
       "      <td>F</td>\n",
       "      <td>компаньон</td>\n",
       "      <td>0</td>\n",
       "      <td>321603.700207</td>\n",
       "      <td>на покупку автомобиля</td>\n",
       "    </tr>\n",
       "    <tr>\n",
       "      <td>11617</td>\n",
       "      <td>-1</td>\n",
       "      <td>-370.827130</td>\n",
       "      <td>27</td>\n",
       "      <td>среднее</td>\n",
       "      <td>1</td>\n",
       "      <td>женат / замужем</td>\n",
       "      <td>0</td>\n",
       "      <td>F</td>\n",
       "      <td>компаньон</td>\n",
       "      <td>0</td>\n",
       "      <td>164591.260338</td>\n",
       "      <td>покупка жилья для сдачи</td>\n",
       "    </tr>\n",
       "    <tr>\n",
       "      <td>12304</td>\n",
       "      <td>-1</td>\n",
       "      <td>-8493.101252</td>\n",
       "      <td>61</td>\n",
       "      <td>неоконченное высшее</td>\n",
       "      <td>2</td>\n",
       "      <td>женат / замужем</td>\n",
       "      <td>0</td>\n",
       "      <td>M</td>\n",
       "      <td>сотрудник</td>\n",
       "      <td>0</td>\n",
       "      <td>315006.182056</td>\n",
       "      <td>недвижимость</td>\n",
       "    </tr>\n",
       "    <tr>\n",
       "      <td>13786</td>\n",
       "      <td>-1</td>\n",
       "      <td>-1311.128244</td>\n",
       "      <td>42</td>\n",
       "      <td>среднее</td>\n",
       "      <td>1</td>\n",
       "      <td>Не женат / не замужем</td>\n",
       "      <td>4</td>\n",
       "      <td>M</td>\n",
       "      <td>компаньон</td>\n",
       "      <td>0</td>\n",
       "      <td>162401.351555</td>\n",
       "      <td>автомобиль</td>\n",
       "    </tr>\n",
       "    <tr>\n",
       "      <td>14357</td>\n",
       "      <td>-1</td>\n",
       "      <td>-268.337037</td>\n",
       "      <td>23</td>\n",
       "      <td>среднее</td>\n",
       "      <td>1</td>\n",
       "      <td>в разводе</td>\n",
       "      <td>3</td>\n",
       "      <td>F</td>\n",
       "      <td>компаньон</td>\n",
       "      <td>0</td>\n",
       "      <td>92257.579312</td>\n",
       "      <td>покупка жилой недвижимости</td>\n",
       "    </tr>\n",
       "    <tr>\n",
       "      <td>15147</td>\n",
       "      <td>-1</td>\n",
       "      <td>-9851.184337</td>\n",
       "      <td>44</td>\n",
       "      <td>среднее</td>\n",
       "      <td>1</td>\n",
       "      <td>в разводе</td>\n",
       "      <td>3</td>\n",
       "      <td>F</td>\n",
       "      <td>сотрудник</td>\n",
       "      <td>0</td>\n",
       "      <td>110990.810581</td>\n",
       "      <td>свой автомобиль</td>\n",
       "    </tr>\n",
       "    <tr>\n",
       "      <td>15435</td>\n",
       "      <td>-1</td>\n",
       "      <td>-3614.220232</td>\n",
       "      <td>40</td>\n",
       "      <td>высшее</td>\n",
       "      <td>0</td>\n",
       "      <td>гражданский брак</td>\n",
       "      <td>1</td>\n",
       "      <td>F</td>\n",
       "      <td>сотрудник</td>\n",
       "      <td>0</td>\n",
       "      <td>98127.537462</td>\n",
       "      <td>сыграть свадьбу</td>\n",
       "    </tr>\n",
       "    <tr>\n",
       "      <td>16129</td>\n",
       "      <td>-1</td>\n",
       "      <td>-457.861760</td>\n",
       "      <td>33</td>\n",
       "      <td>среднее</td>\n",
       "      <td>1</td>\n",
       "      <td>женат / замужем</td>\n",
       "      <td>0</td>\n",
       "      <td>F</td>\n",
       "      <td>сотрудник</td>\n",
       "      <td>1</td>\n",
       "      <td>149641.079451</td>\n",
       "      <td>автомобиль</td>\n",
       "    </tr>\n",
       "    <tr>\n",
       "      <td>16265</td>\n",
       "      <td>-1</td>\n",
       "      <td>-2802.218127</td>\n",
       "      <td>40</td>\n",
       "      <td>высшее</td>\n",
       "      <td>0</td>\n",
       "      <td>женат / замужем</td>\n",
       "      <td>0</td>\n",
       "      <td>M</td>\n",
       "      <td>сотрудник</td>\n",
       "      <td>0</td>\n",
       "      <td>111984.472021</td>\n",
       "      <td>покупка жилья</td>\n",
       "    </tr>\n",
       "    <tr>\n",
       "      <td>17095</td>\n",
       "      <td>-1</td>\n",
       "      <td>-2809.693200</td>\n",
       "      <td>34</td>\n",
       "      <td>среднее</td>\n",
       "      <td>1</td>\n",
       "      <td>женат / замужем</td>\n",
       "      <td>0</td>\n",
       "      <td>F</td>\n",
       "      <td>сотрудник</td>\n",
       "      <td>0</td>\n",
       "      <td>182543.890127</td>\n",
       "      <td>на покупку подержанного автомобиля</td>\n",
       "    </tr>\n",
       "    <tr>\n",
       "      <td>17429</td>\n",
       "      <td>-1</td>\n",
       "      <td>-895.379738</td>\n",
       "      <td>37</td>\n",
       "      <td>среднее</td>\n",
       "      <td>1</td>\n",
       "      <td>женат / замужем</td>\n",
       "      <td>0</td>\n",
       "      <td>F</td>\n",
       "      <td>компаньон</td>\n",
       "      <td>0</td>\n",
       "      <td>214814.018780</td>\n",
       "      <td>жилье</td>\n",
       "    </tr>\n",
       "    <tr>\n",
       "      <td>17657</td>\n",
       "      <td>-1</td>\n",
       "      <td>-4571.957475</td>\n",
       "      <td>41</td>\n",
       "      <td>среднее</td>\n",
       "      <td>1</td>\n",
       "      <td>женат / замужем</td>\n",
       "      <td>0</td>\n",
       "      <td>F</td>\n",
       "      <td>сотрудник</td>\n",
       "      <td>0</td>\n",
       "      <td>122105.415823</td>\n",
       "      <td>операции со своей недвижимостью</td>\n",
       "    </tr>\n",
       "    <tr>\n",
       "      <td>18219</td>\n",
       "      <td>-1</td>\n",
       "      <td>-3575.215641</td>\n",
       "      <td>33</td>\n",
       "      <td>среднее</td>\n",
       "      <td>1</td>\n",
       "      <td>женат / замужем</td>\n",
       "      <td>0</td>\n",
       "      <td>F</td>\n",
       "      <td>сотрудник</td>\n",
       "      <td>0</td>\n",
       "      <td>128362.023879</td>\n",
       "      <td>высшее образование</td>\n",
       "    </tr>\n",
       "    <tr>\n",
       "      <td>19100</td>\n",
       "      <td>-1</td>\n",
       "      <td>-617.246968</td>\n",
       "      <td>38</td>\n",
       "      <td>среднее</td>\n",
       "      <td>1</td>\n",
       "      <td>Не женат / не замужем</td>\n",
       "      <td>4</td>\n",
       "      <td>M</td>\n",
       "      <td>сотрудник</td>\n",
       "      <td>0</td>\n",
       "      <td>122205.497527</td>\n",
       "      <td>строительство жилой недвижимости</td>\n",
       "    </tr>\n",
       "    <tr>\n",
       "      <td>19366</td>\n",
       "      <td>-1</td>\n",
       "      <td>-372.034749</td>\n",
       "      <td>43</td>\n",
       "      <td>СРЕДНЕЕ</td>\n",
       "      <td>1</td>\n",
       "      <td>женат / замужем</td>\n",
       "      <td>0</td>\n",
       "      <td>M</td>\n",
       "      <td>сотрудник</td>\n",
       "      <td>0</td>\n",
       "      <td>155588.766795</td>\n",
       "      <td>сделка с подержанным автомобилем</td>\n",
       "    </tr>\n",
       "    <tr>\n",
       "      <td>19417</td>\n",
       "      <td>-1</td>\n",
       "      <td>350340.760224</td>\n",
       "      <td>28</td>\n",
       "      <td>среднее</td>\n",
       "      <td>1</td>\n",
       "      <td>в разводе</td>\n",
       "      <td>3</td>\n",
       "      <td>F</td>\n",
       "      <td>пенсионер</td>\n",
       "      <td>0</td>\n",
       "      <td>52872.993654</td>\n",
       "      <td>автомобили</td>\n",
       "    </tr>\n",
       "    <tr>\n",
       "      <td>20393</td>\n",
       "      <td>-1</td>\n",
       "      <td>355157.107212</td>\n",
       "      <td>69</td>\n",
       "      <td>среднее</td>\n",
       "      <td>1</td>\n",
       "      <td>Не женат / не замужем</td>\n",
       "      <td>4</td>\n",
       "      <td>F</td>\n",
       "      <td>пенсионер</td>\n",
       "      <td>0</td>\n",
       "      <td>116521.045858</td>\n",
       "      <td>операции с недвижимостью</td>\n",
       "    </tr>\n",
       "    <tr>\n",
       "      <td>20717</td>\n",
       "      <td>-1</td>\n",
       "      <td>-661.822321</td>\n",
       "      <td>32</td>\n",
       "      <td>высшее</td>\n",
       "      <td>0</td>\n",
       "      <td>женат / замужем</td>\n",
       "      <td>0</td>\n",
       "      <td>F</td>\n",
       "      <td>сотрудник</td>\n",
       "      <td>0</td>\n",
       "      <td>137405.384917</td>\n",
       "      <td>покупка жилой недвижимости</td>\n",
       "    </tr>\n",
       "    <tr>\n",
       "      <td>21140</td>\n",
       "      <td>-1</td>\n",
       "      <td>-1422.668059</td>\n",
       "      <td>44</td>\n",
       "      <td>среднее</td>\n",
       "      <td>1</td>\n",
       "      <td>женат / замужем</td>\n",
       "      <td>0</td>\n",
       "      <td>F</td>\n",
       "      <td>компаньон</td>\n",
       "      <td>0</td>\n",
       "      <td>169562.091999</td>\n",
       "      <td>операции со своей недвижимостью</td>\n",
       "    </tr>\n",
       "  </tbody>\n",
       "</table>\n",
       "</div>"
      ],
      "text/plain": [
       "       children  days_employed  dob_years            education  education_id  \\\n",
       "291          -1   -4417.703588         46              среднее             1   \n",
       "705          -1    -902.084528         50              среднее             1   \n",
       "742          -1   -3174.456205         57              среднее             1   \n",
       "800          -1  349987.852217         54              среднее             1   \n",
       "941          -1  360505.668544         57              Среднее             1   \n",
       "1363         -1   -1195.264956         55              СРЕДНЕЕ             1   \n",
       "1929         -1   -1461.303336         38              среднее             1   \n",
       "2073         -1   -2539.761232         42              среднее             1   \n",
       "3814         -1   -3045.290443         26              Среднее             1   \n",
       "4201         -1    -901.101738         41              среднее             1   \n",
       "4402         -1  398001.302888         64              СРЕДНЕЕ             1   \n",
       "4542         -1   -1811.899756         32              среднее             1   \n",
       "5272         -1   -1143.485347         46              среднее             1   \n",
       "6013         -1   -1361.258696         46               высшее             0   \n",
       "6385         -1  370215.476226         48              среднее             1   \n",
       "7190         -1   -5928.202068         34              СРЕДНЕЕ             1   \n",
       "7278         -1    -526.318451         51              среднее             1   \n",
       "7615         -1   -1360.363902         35              среднее             1   \n",
       "7685         -1   -3237.360455         53              среднее             1   \n",
       "8229         -1   -1803.441074         54               высшее             0   \n",
       "8251         -1   -3113.998449         31              среднее             1   \n",
       "8561         -1    -195.479496         31              среднее             1   \n",
       "9565         -1   -2896.629686         34               высшее             0   \n",
       "9574         -1   -2710.419901         28               высшее             0   \n",
       "10177        -1   -1743.604011         37              среднее             1   \n",
       "10365        -1  345774.125957         63               ВЫСШЕЕ             0   \n",
       "10918        -1  340499.039342         50              среднее             1   \n",
       "11109        -1   -3438.463024         59              среднее             1   \n",
       "11268        -1   -1048.782203         30               высшее             0   \n",
       "11617        -1    -370.827130         27              среднее             1   \n",
       "12304        -1   -8493.101252         61  неоконченное высшее             2   \n",
       "13786        -1   -1311.128244         42              среднее             1   \n",
       "14357        -1    -268.337037         23              среднее             1   \n",
       "15147        -1   -9851.184337         44              среднее             1   \n",
       "15435        -1   -3614.220232         40               высшее             0   \n",
       "16129        -1    -457.861760         33              среднее             1   \n",
       "16265        -1   -2802.218127         40               высшее             0   \n",
       "17095        -1   -2809.693200         34              среднее             1   \n",
       "17429        -1    -895.379738         37              среднее             1   \n",
       "17657        -1   -4571.957475         41              среднее             1   \n",
       "18219        -1   -3575.215641         33              среднее             1   \n",
       "19100        -1    -617.246968         38              среднее             1   \n",
       "19366        -1    -372.034749         43              СРЕДНЕЕ             1   \n",
       "19417        -1  350340.760224         28              среднее             1   \n",
       "20393        -1  355157.107212         69              среднее             1   \n",
       "20717        -1    -661.822321         32               высшее             0   \n",
       "21140        -1   -1422.668059         44              среднее             1   \n",
       "\n",
       "               family_status  family_status_id gender  income_type  debt  \\\n",
       "291         гражданский брак                 1      F    сотрудник     0   \n",
       "705          женат / замужем                 0      F  госслужащий     0   \n",
       "742          женат / замужем                 0      F    сотрудник     0   \n",
       "800    Не женат / не замужем                 4      F    пенсионер     0   \n",
       "941          женат / замужем                 0      F    пенсионер     0   \n",
       "1363         женат / замужем                 0      F    компаньон     0   \n",
       "1929   Не женат / не замужем                 4      M    сотрудник     0   \n",
       "2073               в разводе                 3      F    компаньон     0   \n",
       "3814        гражданский брак                 1      F  госслужащий     0   \n",
       "4201         женат / замужем                 0      F  госслужащий     0   \n",
       "4402         женат / замужем                 0      F    пенсионер     0   \n",
       "4542         женат / замужем                 0      F    сотрудник     0   \n",
       "5272          вдовец / вдова                 2      F    сотрудник     0   \n",
       "6013         женат / замужем                 0      F    сотрудник     0   \n",
       "6385          вдовец / вдова                 2      F    пенсионер     0   \n",
       "7190         женат / замужем                 0      M    сотрудник     0   \n",
       "7278         женат / замужем                 0      F    сотрудник     0   \n",
       "7615         женат / замужем                 0      M    сотрудник     0   \n",
       "7685          вдовец / вдова                 2      F    сотрудник     0   \n",
       "8229         женат / замужем                 0      F    компаньон     0   \n",
       "8251        гражданский брак                 1      F    сотрудник     0   \n",
       "8561         женат / замужем                 0      F    сотрудник     0   \n",
       "9565         женат / замужем                 0      M    сотрудник     0   \n",
       "9574         женат / замужем                 0      M  госслужащий     0   \n",
       "10177        женат / замужем                 0      M    сотрудник     0   \n",
       "10365         вдовец / вдова                 2      F    пенсионер     0   \n",
       "10918        женат / замужем                 0      M    пенсионер     0   \n",
       "11109        женат / замужем                 0      F    сотрудник     0   \n",
       "11268       гражданский брак                 1      F    компаньон     0   \n",
       "11617        женат / замужем                 0      F    компаньон     0   \n",
       "12304        женат / замужем                 0      M    сотрудник     0   \n",
       "13786  Не женат / не замужем                 4      M    компаньон     0   \n",
       "14357              в разводе                 3      F    компаньон     0   \n",
       "15147              в разводе                 3      F    сотрудник     0   \n",
       "15435       гражданский брак                 1      F    сотрудник     0   \n",
       "16129        женат / замужем                 0      F    сотрудник     1   \n",
       "16265        женат / замужем                 0      M    сотрудник     0   \n",
       "17095        женат / замужем                 0      F    сотрудник     0   \n",
       "17429        женат / замужем                 0      F    компаньон     0   \n",
       "17657        женат / замужем                 0      F    сотрудник     0   \n",
       "18219        женат / замужем                 0      F    сотрудник     0   \n",
       "19100  Не женат / не замужем                 4      M    сотрудник     0   \n",
       "19366        женат / замужем                 0      M    сотрудник     0   \n",
       "19417              в разводе                 3      F    пенсионер     0   \n",
       "20393  Не женат / не замужем                 4      F    пенсионер     0   \n",
       "20717        женат / замужем                 0      F    сотрудник     0   \n",
       "21140        женат / замужем                 0      F    компаньон     0   \n",
       "\n",
       "        total_income                                 purpose  \n",
       "291    102816.346412                  профильное образование  \n",
       "705    137882.899271                 приобретение автомобиля  \n",
       "742     64268.044444              дополнительное образование  \n",
       "800     86293.724153              дополнительное образование  \n",
       "941    110179.690761            на покупку своего автомобиля  \n",
       "1363    69550.699692                  профильное образование  \n",
       "1929   109121.569013                           покупка жилья  \n",
       "2073   162638.609373                           покупка жилья  \n",
       "3814   131892.785435                   на проведение свадьбы  \n",
       "4201   226375.766751         операции со своей недвижимостью  \n",
       "4402   163264.062064                    покупка недвижимости  \n",
       "4542   160544.718446                             образование  \n",
       "5272   278708.018820                    покупка недвижимости  \n",
       "6013   143008.454914  строительство собственной недвижимости  \n",
       "6385    36052.447435                             образование  \n",
       "7190   184315.121979                 приобретение автомобиля  \n",
       "7278   146928.769439   операции с коммерческой недвижимостью  \n",
       "7615   133546.457238                             образование  \n",
       "7685   159676.174958        строительство жилой недвижимости  \n",
       "8229   138809.082930                    покупка недвижимости  \n",
       "8251    54412.056005                         свой автомобиль  \n",
       "8561   145577.881522                            ремонт жилью  \n",
       "9565   126754.656529                операции с недвижимостью  \n",
       "9574   303137.161001   получение дополнительного образования  \n",
       "10177  310367.509001                   получение образования  \n",
       "10365  170762.751325        строительство жилой недвижимости  \n",
       "10918  170762.773162                    покупка своего жилья  \n",
       "11109  219874.012345                       операции с жильем  \n",
       "11268  321603.700207                   на покупку автомобиля  \n",
       "11617  164591.260338                 покупка жилья для сдачи  \n",
       "12304  315006.182056                            недвижимость  \n",
       "13786  162401.351555                              автомобиль  \n",
       "14357   92257.579312              покупка жилой недвижимости  \n",
       "15147  110990.810581                         свой автомобиль  \n",
       "15435   98127.537462                         сыграть свадьбу  \n",
       "16129  149641.079451                              автомобиль  \n",
       "16265  111984.472021                           покупка жилья  \n",
       "17095  182543.890127      на покупку подержанного автомобиля  \n",
       "17429  214814.018780                                   жилье  \n",
       "17657  122105.415823         операции со своей недвижимостью  \n",
       "18219  128362.023879                      высшее образование  \n",
       "19100  122205.497527        строительство жилой недвижимости  \n",
       "19366  155588.766795        сделка с подержанным автомобилем  \n",
       "19417   52872.993654                              автомобили  \n",
       "20393  116521.045858                операции с недвижимостью  \n",
       "20717  137405.384917              покупка жилой недвижимости  \n",
       "21140  169562.091999         операции со своей недвижимостью  "
      ]
     },
     "metadata": {},
     "output_type": "display_data"
    }
   ],
   "source": [
    "display(df[df['children'] == -1])"
   ]
  },
  {
   "cell_type": "markdown",
   "id": "cf4dfd28",
   "metadata": {},
   "source": [
    "Похоже что эта ошибка опявилась так же как и отрицательное значение трудового стажа."
   ]
  },
  {
   "cell_type": "code",
   "execution_count": 360,
   "id": "6a4cff02",
   "metadata": {},
   "outputs": [
    {
     "data": {
      "text/html": [
       "<div>\n",
       "<style scoped>\n",
       "    .dataframe tbody tr th:only-of-type {\n",
       "        vertical-align: middle;\n",
       "    }\n",
       "\n",
       "    .dataframe tbody tr th {\n",
       "        vertical-align: top;\n",
       "    }\n",
       "\n",
       "    .dataframe thead th {\n",
       "        text-align: right;\n",
       "    }\n",
       "</style>\n",
       "<table border=\"1\" class=\"dataframe\">\n",
       "  <thead>\n",
       "    <tr style=\"text-align: right;\">\n",
       "      <th></th>\n",
       "      <th>children</th>\n",
       "      <th>days_employed</th>\n",
       "      <th>dob_years</th>\n",
       "      <th>education</th>\n",
       "      <th>education_id</th>\n",
       "      <th>family_status</th>\n",
       "      <th>family_status_id</th>\n",
       "      <th>gender</th>\n",
       "      <th>income_type</th>\n",
       "      <th>debt</th>\n",
       "      <th>total_income</th>\n",
       "      <th>purpose</th>\n",
       "    </tr>\n",
       "  </thead>\n",
       "  <tbody>\n",
       "    <tr>\n",
       "      <td>606</td>\n",
       "      <td>20</td>\n",
       "      <td>-880.221113</td>\n",
       "      <td>21</td>\n",
       "      <td>среднее</td>\n",
       "      <td>1</td>\n",
       "      <td>женат / замужем</td>\n",
       "      <td>0</td>\n",
       "      <td>M</td>\n",
       "      <td>компаньон</td>\n",
       "      <td>0</td>\n",
       "      <td>145334.865002</td>\n",
       "      <td>покупка жилья</td>\n",
       "    </tr>\n",
       "    <tr>\n",
       "      <td>720</td>\n",
       "      <td>20</td>\n",
       "      <td>-855.595512</td>\n",
       "      <td>44</td>\n",
       "      <td>среднее</td>\n",
       "      <td>1</td>\n",
       "      <td>женат / замужем</td>\n",
       "      <td>0</td>\n",
       "      <td>F</td>\n",
       "      <td>компаньон</td>\n",
       "      <td>0</td>\n",
       "      <td>112998.738649</td>\n",
       "      <td>покупка недвижимости</td>\n",
       "    </tr>\n",
       "    <tr>\n",
       "      <td>1074</td>\n",
       "      <td>20</td>\n",
       "      <td>-3310.411598</td>\n",
       "      <td>56</td>\n",
       "      <td>среднее</td>\n",
       "      <td>1</td>\n",
       "      <td>женат / замужем</td>\n",
       "      <td>0</td>\n",
       "      <td>F</td>\n",
       "      <td>сотрудник</td>\n",
       "      <td>1</td>\n",
       "      <td>229518.537004</td>\n",
       "      <td>получение образования</td>\n",
       "    </tr>\n",
       "    <tr>\n",
       "      <td>2510</td>\n",
       "      <td>20</td>\n",
       "      <td>-2714.161249</td>\n",
       "      <td>59</td>\n",
       "      <td>высшее</td>\n",
       "      <td>0</td>\n",
       "      <td>вдовец / вдова</td>\n",
       "      <td>2</td>\n",
       "      <td>F</td>\n",
       "      <td>сотрудник</td>\n",
       "      <td>0</td>\n",
       "      <td>264474.835577</td>\n",
       "      <td>операции с коммерческой недвижимостью</td>\n",
       "    </tr>\n",
       "    <tr>\n",
       "      <td>2941</td>\n",
       "      <td>20</td>\n",
       "      <td>-2161.591519</td>\n",
       "      <td>0</td>\n",
       "      <td>среднее</td>\n",
       "      <td>1</td>\n",
       "      <td>женат / замужем</td>\n",
       "      <td>0</td>\n",
       "      <td>F</td>\n",
       "      <td>сотрудник</td>\n",
       "      <td>0</td>\n",
       "      <td>199739.941398</td>\n",
       "      <td>на покупку автомобиля</td>\n",
       "    </tr>\n",
       "    <tr>\n",
       "      <td>...</td>\n",
       "      <td>...</td>\n",
       "      <td>...</td>\n",
       "      <td>...</td>\n",
       "      <td>...</td>\n",
       "      <td>...</td>\n",
       "      <td>...</td>\n",
       "      <td>...</td>\n",
       "      <td>...</td>\n",
       "      <td>...</td>\n",
       "      <td>...</td>\n",
       "      <td>...</td>\n",
       "      <td>...</td>\n",
       "    </tr>\n",
       "    <tr>\n",
       "      <td>21008</td>\n",
       "      <td>20</td>\n",
       "      <td>-1240.257910</td>\n",
       "      <td>40</td>\n",
       "      <td>среднее</td>\n",
       "      <td>1</td>\n",
       "      <td>женат / замужем</td>\n",
       "      <td>0</td>\n",
       "      <td>F</td>\n",
       "      <td>сотрудник</td>\n",
       "      <td>1</td>\n",
       "      <td>133524.010303</td>\n",
       "      <td>свой автомобиль</td>\n",
       "    </tr>\n",
       "    <tr>\n",
       "      <td>21325</td>\n",
       "      <td>20</td>\n",
       "      <td>-601.174883</td>\n",
       "      <td>37</td>\n",
       "      <td>среднее</td>\n",
       "      <td>1</td>\n",
       "      <td>женат / замужем</td>\n",
       "      <td>0</td>\n",
       "      <td>F</td>\n",
       "      <td>компаньон</td>\n",
       "      <td>0</td>\n",
       "      <td>102986.065978</td>\n",
       "      <td>профильное образование</td>\n",
       "    </tr>\n",
       "    <tr>\n",
       "      <td>21390</td>\n",
       "      <td>20</td>\n",
       "      <td>-1311.128244</td>\n",
       "      <td>53</td>\n",
       "      <td>среднее</td>\n",
       "      <td>1</td>\n",
       "      <td>женат / замужем</td>\n",
       "      <td>0</td>\n",
       "      <td>M</td>\n",
       "      <td>компаньон</td>\n",
       "      <td>0</td>\n",
       "      <td>162401.351555</td>\n",
       "      <td>покупка жилой недвижимости</td>\n",
       "    </tr>\n",
       "    <tr>\n",
       "      <td>21404</td>\n",
       "      <td>20</td>\n",
       "      <td>-494.788448</td>\n",
       "      <td>52</td>\n",
       "      <td>среднее</td>\n",
       "      <td>1</td>\n",
       "      <td>женат / замужем</td>\n",
       "      <td>0</td>\n",
       "      <td>M</td>\n",
       "      <td>компаньон</td>\n",
       "      <td>0</td>\n",
       "      <td>156629.683642</td>\n",
       "      <td>операции со своей недвижимостью</td>\n",
       "    </tr>\n",
       "    <tr>\n",
       "      <td>21491</td>\n",
       "      <td>20</td>\n",
       "      <td>-173.954460</td>\n",
       "      <td>27</td>\n",
       "      <td>среднее</td>\n",
       "      <td>1</td>\n",
       "      <td>женат / замужем</td>\n",
       "      <td>0</td>\n",
       "      <td>F</td>\n",
       "      <td>сотрудник</td>\n",
       "      <td>0</td>\n",
       "      <td>155520.899688</td>\n",
       "      <td>на покупку подержанного автомобиля</td>\n",
       "    </tr>\n",
       "  </tbody>\n",
       "</table>\n",
       "<p>76 rows × 12 columns</p>\n",
       "</div>"
      ],
      "text/plain": [
       "       children  days_employed  dob_years education  education_id  \\\n",
       "606          20    -880.221113         21   среднее             1   \n",
       "720          20    -855.595512         44   среднее             1   \n",
       "1074         20   -3310.411598         56   среднее             1   \n",
       "2510         20   -2714.161249         59    высшее             0   \n",
       "2941         20   -2161.591519          0   среднее             1   \n",
       "...         ...            ...        ...       ...           ...   \n",
       "21008        20   -1240.257910         40   среднее             1   \n",
       "21325        20    -601.174883         37   среднее             1   \n",
       "21390        20   -1311.128244         53   среднее             1   \n",
       "21404        20    -494.788448         52   среднее             1   \n",
       "21491        20    -173.954460         27   среднее             1   \n",
       "\n",
       "         family_status  family_status_id gender income_type  debt  \\\n",
       "606    женат / замужем                 0      M   компаньон     0   \n",
       "720    женат / замужем                 0      F   компаньон     0   \n",
       "1074   женат / замужем                 0      F   сотрудник     1   \n",
       "2510    вдовец / вдова                 2      F   сотрудник     0   \n",
       "2941   женат / замужем                 0      F   сотрудник     0   \n",
       "...                ...               ...    ...         ...   ...   \n",
       "21008  женат / замужем                 0      F   сотрудник     1   \n",
       "21325  женат / замужем                 0      F   компаньон     0   \n",
       "21390  женат / замужем                 0      M   компаньон     0   \n",
       "21404  женат / замужем                 0      M   компаньон     0   \n",
       "21491  женат / замужем                 0      F   сотрудник     0   \n",
       "\n",
       "        total_income                                purpose  \n",
       "606    145334.865002                          покупка жилья  \n",
       "720    112998.738649                   покупка недвижимости  \n",
       "1074   229518.537004                  получение образования  \n",
       "2510   264474.835577  операции с коммерческой недвижимостью  \n",
       "2941   199739.941398                  на покупку автомобиля  \n",
       "...              ...                                    ...  \n",
       "21008  133524.010303                        свой автомобиль  \n",
       "21325  102986.065978                 профильное образование  \n",
       "21390  162401.351555             покупка жилой недвижимости  \n",
       "21404  156629.683642        операции со своей недвижимостью  \n",
       "21491  155520.899688     на покупку подержанного автомобиля  \n",
       "\n",
       "[76 rows x 12 columns]"
      ]
     },
     "metadata": {},
     "output_type": "display_data"
    }
   ],
   "source": [
    "display(df[df['children'] == 20])"
   ]
  },
  {
   "cell_type": "markdown",
   "id": "b702a59d",
   "metadata": {},
   "source": [
    "1-4 семей может быть по 20 детей, но 76 семей по 20 детей в России - это явно опечатка.\n",
    "\n",
    "*Где-то вздохнула демография...*"
   ]
  },
  {
   "cell_type": "code",
   "execution_count": 361,
   "id": "3ac7ffab",
   "metadata": {},
   "outputs": [
    {
     "name": "stdout",
     "output_type": "stream",
     "text": [
      "Доля аномалий 0.57 %\n"
     ]
    }
   ],
   "source": [
    "print('Доля аномалий',round((((df[df['children'] == -1]['children'].count() + df[df['children'] == 20]['children'].count()) / df['children'].count())*100),2),'%')"
   ]
  },
  {
   "cell_type": "markdown",
   "id": "ca8b2ff0",
   "metadata": {},
   "source": [
    "Избавляемся от них"
   ]
  },
  {
   "cell_type": "code",
   "execution_count": 362,
   "id": "7c7b370a",
   "metadata": {},
   "outputs": [
    {
     "name": "stdout",
     "output_type": "stream",
     "text": [
      "[1 0 3 2 4 5]\n"
     ]
    }
   ],
   "source": [
    "df = df[(df['children'] != -1) & (df['children'] != 20)]\n",
    "print(df['children'].unique()) # Проверка"
   ]
  },
  {
   "cell_type": "markdown",
   "id": "0413c2a6",
   "metadata": {},
   "source": [
    "<div class=\"alert alert-warning\">\n",
    "<b>⚠️ Комментарий ревьюера:</b> Сейчас доля аномалий мала и ни на что не повлияет. В следующий раз старайся сразу высчитывать их долю и если она меньше 5%, смело избавляйся от нее. Возможно наше предположение о том, что 20==2, а -1==1 неверно\n",
    "\n",
    "</div>"
   ]
  },
  {
   "cell_type": "markdown",
   "id": "84b43e46",
   "metadata": {},
   "source": [
    "<div class=\"alert alert-info\">\n",
    "<b> Комментарий студента:</b> Избавился от этой доли)"
   ]
  },
  {
   "cell_type": "markdown",
   "id": "776a80d1",
   "metadata": {},
   "source": [
    "<div class=\"alert alert-success\">\n",
    "<b>✔️ Комментарий ревьюера V2:</b> Отлично!"
   ]
  },
  {
   "cell_type": "markdown",
   "id": "8b92ec3f",
   "metadata": {},
   "source": [
    "Продолжим:\n",
    "\n",
    "* `days_employed` — общий трудовой стаж, есть отрицательные значения и значения \"артефакты\" (401675.09343386, 401715.81174889, 401755.40047533 и т.п)"
   ]
  },
  {
   "cell_type": "markdown",
   "id": "c2694a49",
   "metadata": {},
   "source": [
    "Сначала исправим \"-\" :"
   ]
  },
  {
   "cell_type": "code",
   "execution_count": 363,
   "id": "da5a7501",
   "metadata": {},
   "outputs": [
    {
     "name": "stdout",
     "output_type": "stream",
     "text": [
      "income_type\n",
      "безработный        366413.652744\n",
      "в декрете            3296.759962\n",
      "госслужащий          2385.358043\n",
      "компаньон            1318.013821\n",
      "пенсионер          360632.255610\n",
      "предприниматель       390.636063\n",
      "сотрудник            1360.363902\n",
      "студент               578.751554\n",
      "Name: days_employed, dtype: float64\n"
     ]
    }
   ],
   "source": [
    "df['days_employed'] = abs(df['days_employed']) # исправляем \"-\" в отрицательных значениях\n",
    "print(df.groupby('income_type')['days_employed'].median())"
   ]
  },
  {
   "cell_type": "markdown",
   "id": "bdb96566",
   "metadata": {},
   "source": [
    "Теперь все значения трудового стажа положительные."
   ]
  },
  {
   "cell_type": "markdown",
   "id": "54dd4fd1",
   "metadata": {},
   "source": [
    "Попробуем найти все аномальные значения в столбце трудового стажа. Но так как есть и нормальные значения, отфильтровать данные по максимально возможному числу трудового стажа."
   ]
  },
  {
   "cell_type": "code",
   "execution_count": 364,
   "id": "9fafd33b",
   "metadata": {},
   "outputs": [
    {
     "name": "stdout",
     "output_type": "stream",
     "text": [
      "Максимальный трудовой стаж: 41610 дней\n"
     ]
    }
   ],
   "source": [
    "max_dob_teor = ((df['dob_years'].max()-18)*365)*2\n",
    "# максимальный возраст в таблице - 18 лет * 365 дней(работа без выходных) * 2 (надбавка в условиях крайнего севера)\n",
    "print('Максимальный трудовой стаж:',max_dob_teor,'дней') # Максимальный теоретический стаж работы, без выходных."
   ]
  },
  {
   "cell_type": "markdown",
   "id": "0113d821",
   "metadata": {},
   "source": [
    "При условиях крайнего севера(или коэффициента работы = 2), стаж 41610 дней."
   ]
  },
  {
   "cell_type": "markdown",
   "id": "73ecfb71",
   "metadata": {},
   "source": [
    "Теперь отфильтруем таблицу по этой велечине:"
   ]
  },
  {
   "cell_type": "code",
   "execution_count": 365,
   "id": "0da3f6fe",
   "metadata": {},
   "outputs": [
    {
     "data": {
      "text/html": [
       "<div>\n",
       "<style scoped>\n",
       "    .dataframe tbody tr th:only-of-type {\n",
       "        vertical-align: middle;\n",
       "    }\n",
       "\n",
       "    .dataframe tbody tr th {\n",
       "        vertical-align: top;\n",
       "    }\n",
       "\n",
       "    .dataframe thead th {\n",
       "        text-align: right;\n",
       "    }\n",
       "</style>\n",
       "<table border=\"1\" class=\"dataframe\">\n",
       "  <thead>\n",
       "    <tr style=\"text-align: right;\">\n",
       "      <th></th>\n",
       "      <th>children</th>\n",
       "      <th>days_employed</th>\n",
       "      <th>dob_years</th>\n",
       "      <th>education</th>\n",
       "      <th>education_id</th>\n",
       "      <th>family_status</th>\n",
       "      <th>family_status_id</th>\n",
       "      <th>gender</th>\n",
       "      <th>income_type</th>\n",
       "      <th>debt</th>\n",
       "      <th>total_income</th>\n",
       "      <th>purpose</th>\n",
       "    </tr>\n",
       "  </thead>\n",
       "  <tbody>\n",
       "    <tr>\n",
       "      <td>4</td>\n",
       "      <td>0</td>\n",
       "      <td>340266.072047</td>\n",
       "      <td>53</td>\n",
       "      <td>среднее</td>\n",
       "      <td>1</td>\n",
       "      <td>гражданский брак</td>\n",
       "      <td>1</td>\n",
       "      <td>F</td>\n",
       "      <td>пенсионер</td>\n",
       "      <td>0</td>\n",
       "      <td>158616.077870</td>\n",
       "      <td>сыграть свадьбу</td>\n",
       "    </tr>\n",
       "    <tr>\n",
       "      <td>12</td>\n",
       "      <td>0</td>\n",
       "      <td>360505.668544</td>\n",
       "      <td>65</td>\n",
       "      <td>среднее</td>\n",
       "      <td>1</td>\n",
       "      <td>гражданский брак</td>\n",
       "      <td>1</td>\n",
       "      <td>M</td>\n",
       "      <td>пенсионер</td>\n",
       "      <td>0</td>\n",
       "      <td>110179.690761</td>\n",
       "      <td>сыграть свадьбу</td>\n",
       "    </tr>\n",
       "    <tr>\n",
       "      <td>18</td>\n",
       "      <td>0</td>\n",
       "      <td>400281.136913</td>\n",
       "      <td>53</td>\n",
       "      <td>среднее</td>\n",
       "      <td>1</td>\n",
       "      <td>вдовец / вдова</td>\n",
       "      <td>2</td>\n",
       "      <td>F</td>\n",
       "      <td>пенсионер</td>\n",
       "      <td>0</td>\n",
       "      <td>56823.777243</td>\n",
       "      <td>на покупку подержанного автомобиля</td>\n",
       "    </tr>\n",
       "    <tr>\n",
       "      <td>24</td>\n",
       "      <td>1</td>\n",
       "      <td>338551.952911</td>\n",
       "      <td>57</td>\n",
       "      <td>среднее</td>\n",
       "      <td>1</td>\n",
       "      <td>Не женат / не замужем</td>\n",
       "      <td>4</td>\n",
       "      <td>F</td>\n",
       "      <td>пенсионер</td>\n",
       "      <td>0</td>\n",
       "      <td>290547.235997</td>\n",
       "      <td>операции с коммерческой недвижимостью</td>\n",
       "    </tr>\n",
       "    <tr>\n",
       "      <td>25</td>\n",
       "      <td>0</td>\n",
       "      <td>363548.489348</td>\n",
       "      <td>67</td>\n",
       "      <td>среднее</td>\n",
       "      <td>1</td>\n",
       "      <td>женат / замужем</td>\n",
       "      <td>0</td>\n",
       "      <td>M</td>\n",
       "      <td>пенсионер</td>\n",
       "      <td>0</td>\n",
       "      <td>55112.757732</td>\n",
       "      <td>покупка недвижимости</td>\n",
       "    </tr>\n",
       "    <tr>\n",
       "      <td>...</td>\n",
       "      <td>...</td>\n",
       "      <td>...</td>\n",
       "      <td>...</td>\n",
       "      <td>...</td>\n",
       "      <td>...</td>\n",
       "      <td>...</td>\n",
       "      <td>...</td>\n",
       "      <td>...</td>\n",
       "      <td>...</td>\n",
       "      <td>...</td>\n",
       "      <td>...</td>\n",
       "      <td>...</td>\n",
       "    </tr>\n",
       "    <tr>\n",
       "      <td>21505</td>\n",
       "      <td>0</td>\n",
       "      <td>338904.866406</td>\n",
       "      <td>53</td>\n",
       "      <td>среднее</td>\n",
       "      <td>1</td>\n",
       "      <td>гражданский брак</td>\n",
       "      <td>1</td>\n",
       "      <td>M</td>\n",
       "      <td>пенсионер</td>\n",
       "      <td>0</td>\n",
       "      <td>75439.993167</td>\n",
       "      <td>сыграть свадьбу</td>\n",
       "    </tr>\n",
       "    <tr>\n",
       "      <td>21508</td>\n",
       "      <td>0</td>\n",
       "      <td>386497.714078</td>\n",
       "      <td>62</td>\n",
       "      <td>среднее</td>\n",
       "      <td>1</td>\n",
       "      <td>женат / замужем</td>\n",
       "      <td>0</td>\n",
       "      <td>M</td>\n",
       "      <td>пенсионер</td>\n",
       "      <td>0</td>\n",
       "      <td>72638.590915</td>\n",
       "      <td>недвижимость</td>\n",
       "    </tr>\n",
       "    <tr>\n",
       "      <td>21509</td>\n",
       "      <td>0</td>\n",
       "      <td>362161.054124</td>\n",
       "      <td>59</td>\n",
       "      <td>высшее</td>\n",
       "      <td>0</td>\n",
       "      <td>женат / замужем</td>\n",
       "      <td>0</td>\n",
       "      <td>M</td>\n",
       "      <td>пенсионер</td>\n",
       "      <td>0</td>\n",
       "      <td>73029.059379</td>\n",
       "      <td>операции с недвижимостью</td>\n",
       "    </tr>\n",
       "    <tr>\n",
       "      <td>21518</td>\n",
       "      <td>0</td>\n",
       "      <td>373995.710838</td>\n",
       "      <td>59</td>\n",
       "      <td>СРЕДНЕЕ</td>\n",
       "      <td>1</td>\n",
       "      <td>женат / замужем</td>\n",
       "      <td>0</td>\n",
       "      <td>F</td>\n",
       "      <td>пенсионер</td>\n",
       "      <td>0</td>\n",
       "      <td>153864.650328</td>\n",
       "      <td>сделка с автомобилем</td>\n",
       "    </tr>\n",
       "    <tr>\n",
       "      <td>21521</td>\n",
       "      <td>0</td>\n",
       "      <td>343937.404131</td>\n",
       "      <td>67</td>\n",
       "      <td>среднее</td>\n",
       "      <td>1</td>\n",
       "      <td>женат / замужем</td>\n",
       "      <td>0</td>\n",
       "      <td>F</td>\n",
       "      <td>пенсионер</td>\n",
       "      <td>0</td>\n",
       "      <td>155999.806512</td>\n",
       "      <td>сделка с автомобилем</td>\n",
       "    </tr>\n",
       "  </tbody>\n",
       "</table>\n",
       "<p>3841 rows × 12 columns</p>\n",
       "</div>"
      ],
      "text/plain": [
       "       children  days_employed  dob_years education  education_id  \\\n",
       "4             0  340266.072047         53   среднее             1   \n",
       "12            0  360505.668544         65   среднее             1   \n",
       "18            0  400281.136913         53   среднее             1   \n",
       "24            1  338551.952911         57   среднее             1   \n",
       "25            0  363548.489348         67   среднее             1   \n",
       "...         ...            ...        ...       ...           ...   \n",
       "21505         0  338904.866406         53   среднее             1   \n",
       "21508         0  386497.714078         62   среднее             1   \n",
       "21509         0  362161.054124         59    высшее             0   \n",
       "21518         0  373995.710838         59   СРЕДНЕЕ             1   \n",
       "21521         0  343937.404131         67   среднее             1   \n",
       "\n",
       "               family_status  family_status_id gender income_type  debt  \\\n",
       "4           гражданский брак                 1      F   пенсионер     0   \n",
       "12          гражданский брак                 1      M   пенсионер     0   \n",
       "18            вдовец / вдова                 2      F   пенсионер     0   \n",
       "24     Не женат / не замужем                 4      F   пенсионер     0   \n",
       "25           женат / замужем                 0      M   пенсионер     0   \n",
       "...                      ...               ...    ...         ...   ...   \n",
       "21505       гражданский брак                 1      M   пенсионер     0   \n",
       "21508        женат / замужем                 0      M   пенсионер     0   \n",
       "21509        женат / замужем                 0      M   пенсионер     0   \n",
       "21518        женат / замужем                 0      F   пенсионер     0   \n",
       "21521        женат / замужем                 0      F   пенсионер     0   \n",
       "\n",
       "        total_income                                purpose  \n",
       "4      158616.077870                        сыграть свадьбу  \n",
       "12     110179.690761                        сыграть свадьбу  \n",
       "18      56823.777243     на покупку подержанного автомобиля  \n",
       "24     290547.235997  операции с коммерческой недвижимостью  \n",
       "25      55112.757732                   покупка недвижимости  \n",
       "...              ...                                    ...  \n",
       "21505   75439.993167                        сыграть свадьбу  \n",
       "21508   72638.590915                           недвижимость  \n",
       "21509   73029.059379               операции с недвижимостью  \n",
       "21518  153864.650328                   сделка с автомобилем  \n",
       "21521  155999.806512                   сделка с автомобилем  \n",
       "\n",
       "[3841 rows x 12 columns]"
      ]
     },
     "metadata": {},
     "output_type": "display_data"
    }
   ],
   "source": [
    "display(df[df['days_employed'] > max_dob_teor]) # Фильтрация таблицы по макс.теор.стаж"
   ]
  },
  {
   "cell_type": "markdown",
   "id": "2ce23a90",
   "metadata": {},
   "source": [
    "Теперь посмотрим уникальные значения в столбце типа занятости:"
   ]
  },
  {
   "cell_type": "code",
   "execution_count": 366,
   "id": "d2cd2b78",
   "metadata": {},
   "outputs": [
    {
     "data": {
      "text/plain": [
       "array(['пенсионер', 'безработный'], dtype=object)"
      ]
     },
     "metadata": {},
     "output_type": "display_data"
    }
   ],
   "source": [
    "display(df[df['days_employed'] > max_dob_teor]['income_type'].unique())"
   ]
  },
  {
   "cell_type": "markdown",
   "id": "463637ec",
   "metadata": {},
   "source": [
    "И все таки есть только пенсионеры и безработные с аномальным стажем. Посчитаем их количество."
   ]
  },
  {
   "cell_type": "code",
   "execution_count": 367,
   "id": "ebd0ee74",
   "metadata": {},
   "outputs": [
    {
     "name": "stdout",
     "output_type": "stream",
     "text": [
      "Аномальный трудовой стаж у безработных: 2\n",
      "Аномальный трудовой стаж у пенсионеров: 3839\n"
     ]
    }
   ],
   "source": [
    "print('Аномальный трудовой стаж у безработных:',df.loc[(df['days_employed'] > max_dob_teor) & (df['income_type'] == 'безработный'), 'days_employed'].count())\n",
    "print('Аномальный трудовой стаж у пенсионеров:',df.loc[(df['days_employed'] >max_dob_teor) & (df['income_type'] == 'пенсионер'), 'days_employed'].count())"
   ]
  },
  {
   "cell_type": "markdown",
   "id": "2d2f209f",
   "metadata": {},
   "source": [
    "Поситаем общее количество безработных и пенсионеров во всем дата-фрейме."
   ]
  },
  {
   "cell_type": "code",
   "execution_count": 368,
   "id": "ca2233d6",
   "metadata": {},
   "outputs": [
    {
     "name": "stdout",
     "output_type": "stream",
     "text": [
      "Общее число безработных: 2\n",
      "Общее число пенсионеро: 3839\n"
     ]
    }
   ],
   "source": [
    "print('Общее число безработных:', df[df['income_type'] == 'безработный']['income_type'].count())\n",
    "print('Общее число пенсионеро:', df[df['income_type'] == 'пенсионер']['income_type'].count())"
   ]
  },
  {
   "cell_type": "markdown",
   "id": "a5bf238e",
   "metadata": {},
   "source": [
    "Абсолютно все данные аномальны. Продолжим работу с ними после преобработки всей таблицы."
   ]
  },
  {
   "cell_type": "markdown",
   "id": "788134f4",
   "metadata": {},
   "source": [
    "Разберемся с возрастом клиентов.\n",
    "\n",
    "* `dob_years` — возраст клиента в годах, 0 лет. Нужно уточнить."
   ]
  },
  {
   "cell_type": "code",
   "execution_count": 369,
   "id": "fc6635d7",
   "metadata": {
    "scrolled": true
   },
   "outputs": [
    {
     "data": {
      "text/html": [
       "<div>\n",
       "<style scoped>\n",
       "    .dataframe tbody tr th:only-of-type {\n",
       "        vertical-align: middle;\n",
       "    }\n",
       "\n",
       "    .dataframe tbody tr th {\n",
       "        vertical-align: top;\n",
       "    }\n",
       "\n",
       "    .dataframe thead th {\n",
       "        text-align: right;\n",
       "    }\n",
       "</style>\n",
       "<table border=\"1\" class=\"dataframe\">\n",
       "  <thead>\n",
       "    <tr style=\"text-align: right;\">\n",
       "      <th></th>\n",
       "      <th>children</th>\n",
       "      <th>days_employed</th>\n",
       "      <th>dob_years</th>\n",
       "      <th>education</th>\n",
       "      <th>education_id</th>\n",
       "      <th>family_status</th>\n",
       "      <th>family_status_id</th>\n",
       "      <th>gender</th>\n",
       "      <th>income_type</th>\n",
       "      <th>debt</th>\n",
       "      <th>total_income</th>\n",
       "      <th>purpose</th>\n",
       "    </tr>\n",
       "  </thead>\n",
       "  <tbody>\n",
       "    <tr>\n",
       "      <td>99</td>\n",
       "      <td>0</td>\n",
       "      <td>346541.618895</td>\n",
       "      <td>0</td>\n",
       "      <td>Среднее</td>\n",
       "      <td>1</td>\n",
       "      <td>женат / замужем</td>\n",
       "      <td>0</td>\n",
       "      <td>F</td>\n",
       "      <td>пенсионер</td>\n",
       "      <td>0</td>\n",
       "      <td>71291.522491</td>\n",
       "      <td>автомобиль</td>\n",
       "    </tr>\n",
       "    <tr>\n",
       "      <td>149</td>\n",
       "      <td>0</td>\n",
       "      <td>2664.273168</td>\n",
       "      <td>0</td>\n",
       "      <td>среднее</td>\n",
       "      <td>1</td>\n",
       "      <td>в разводе</td>\n",
       "      <td>3</td>\n",
       "      <td>F</td>\n",
       "      <td>сотрудник</td>\n",
       "      <td>0</td>\n",
       "      <td>70176.435951</td>\n",
       "      <td>операции с жильем</td>\n",
       "    </tr>\n",
       "    <tr>\n",
       "      <td>270</td>\n",
       "      <td>3</td>\n",
       "      <td>1872.663186</td>\n",
       "      <td>0</td>\n",
       "      <td>среднее</td>\n",
       "      <td>1</td>\n",
       "      <td>женат / замужем</td>\n",
       "      <td>0</td>\n",
       "      <td>F</td>\n",
       "      <td>сотрудник</td>\n",
       "      <td>0</td>\n",
       "      <td>102166.458894</td>\n",
       "      <td>ремонт жилью</td>\n",
       "    </tr>\n",
       "    <tr>\n",
       "      <td>578</td>\n",
       "      <td>0</td>\n",
       "      <td>397856.565013</td>\n",
       "      <td>0</td>\n",
       "      <td>среднее</td>\n",
       "      <td>1</td>\n",
       "      <td>женат / замужем</td>\n",
       "      <td>0</td>\n",
       "      <td>F</td>\n",
       "      <td>пенсионер</td>\n",
       "      <td>0</td>\n",
       "      <td>97620.687042</td>\n",
       "      <td>строительство собственной недвижимости</td>\n",
       "    </tr>\n",
       "    <tr>\n",
       "      <td>1040</td>\n",
       "      <td>0</td>\n",
       "      <td>1158.029561</td>\n",
       "      <td>0</td>\n",
       "      <td>высшее</td>\n",
       "      <td>0</td>\n",
       "      <td>в разводе</td>\n",
       "      <td>3</td>\n",
       "      <td>F</td>\n",
       "      <td>компаньон</td>\n",
       "      <td>0</td>\n",
       "      <td>303994.134987</td>\n",
       "      <td>свой автомобиль</td>\n",
       "    </tr>\n",
       "    <tr>\n",
       "      <td>...</td>\n",
       "      <td>...</td>\n",
       "      <td>...</td>\n",
       "      <td>...</td>\n",
       "      <td>...</td>\n",
       "      <td>...</td>\n",
       "      <td>...</td>\n",
       "      <td>...</td>\n",
       "      <td>...</td>\n",
       "      <td>...</td>\n",
       "      <td>...</td>\n",
       "      <td>...</td>\n",
       "      <td>...</td>\n",
       "    </tr>\n",
       "    <tr>\n",
       "      <td>19829</td>\n",
       "      <td>0</td>\n",
       "      <td>1360.363902</td>\n",
       "      <td>0</td>\n",
       "      <td>среднее</td>\n",
       "      <td>1</td>\n",
       "      <td>женат / замужем</td>\n",
       "      <td>0</td>\n",
       "      <td>F</td>\n",
       "      <td>сотрудник</td>\n",
       "      <td>0</td>\n",
       "      <td>133546.457238</td>\n",
       "      <td>жилье</td>\n",
       "    </tr>\n",
       "    <tr>\n",
       "      <td>20462</td>\n",
       "      <td>0</td>\n",
       "      <td>338734.868540</td>\n",
       "      <td>0</td>\n",
       "      <td>среднее</td>\n",
       "      <td>1</td>\n",
       "      <td>женат / замужем</td>\n",
       "      <td>0</td>\n",
       "      <td>F</td>\n",
       "      <td>пенсионер</td>\n",
       "      <td>0</td>\n",
       "      <td>259193.920299</td>\n",
       "      <td>покупка своего жилья</td>\n",
       "    </tr>\n",
       "    <tr>\n",
       "      <td>20577</td>\n",
       "      <td>0</td>\n",
       "      <td>331741.271455</td>\n",
       "      <td>0</td>\n",
       "      <td>среднее</td>\n",
       "      <td>1</td>\n",
       "      <td>Не женат / не замужем</td>\n",
       "      <td>4</td>\n",
       "      <td>F</td>\n",
       "      <td>пенсионер</td>\n",
       "      <td>0</td>\n",
       "      <td>129788.762899</td>\n",
       "      <td>недвижимость</td>\n",
       "    </tr>\n",
       "    <tr>\n",
       "      <td>21179</td>\n",
       "      <td>2</td>\n",
       "      <td>108.967042</td>\n",
       "      <td>0</td>\n",
       "      <td>высшее</td>\n",
       "      <td>0</td>\n",
       "      <td>женат / замужем</td>\n",
       "      <td>0</td>\n",
       "      <td>M</td>\n",
       "      <td>компаньон</td>\n",
       "      <td>0</td>\n",
       "      <td>240702.007382</td>\n",
       "      <td>строительство жилой недвижимости</td>\n",
       "    </tr>\n",
       "    <tr>\n",
       "      <td>21313</td>\n",
       "      <td>0</td>\n",
       "      <td>1268.487728</td>\n",
       "      <td>0</td>\n",
       "      <td>среднее</td>\n",
       "      <td>1</td>\n",
       "      <td>Не женат / не замужем</td>\n",
       "      <td>4</td>\n",
       "      <td>M</td>\n",
       "      <td>сотрудник</td>\n",
       "      <td>0</td>\n",
       "      <td>152419.184851</td>\n",
       "      <td>операции с жильем</td>\n",
       "    </tr>\n",
       "  </tbody>\n",
       "</table>\n",
       "<p>100 rows × 12 columns</p>\n",
       "</div>"
      ],
      "text/plain": [
       "       children  days_employed  dob_years education  education_id  \\\n",
       "99            0  346541.618895          0   Среднее             1   \n",
       "149           0    2664.273168          0   среднее             1   \n",
       "270           3    1872.663186          0   среднее             1   \n",
       "578           0  397856.565013          0   среднее             1   \n",
       "1040          0    1158.029561          0    высшее             0   \n",
       "...         ...            ...        ...       ...           ...   \n",
       "19829         0    1360.363902          0   среднее             1   \n",
       "20462         0  338734.868540          0   среднее             1   \n",
       "20577         0  331741.271455          0   среднее             1   \n",
       "21179         2     108.967042          0    высшее             0   \n",
       "21313         0    1268.487728          0   среднее             1   \n",
       "\n",
       "               family_status  family_status_id gender income_type  debt  \\\n",
       "99           женат / замужем                 0      F   пенсионер     0   \n",
       "149                в разводе                 3      F   сотрудник     0   \n",
       "270          женат / замужем                 0      F   сотрудник     0   \n",
       "578          женат / замужем                 0      F   пенсионер     0   \n",
       "1040               в разводе                 3      F   компаньон     0   \n",
       "...                      ...               ...    ...         ...   ...   \n",
       "19829        женат / замужем                 0      F   сотрудник     0   \n",
       "20462        женат / замужем                 0      F   пенсионер     0   \n",
       "20577  Не женат / не замужем                 4      F   пенсионер     0   \n",
       "21179        женат / замужем                 0      M   компаньон     0   \n",
       "21313  Не женат / не замужем                 4      M   сотрудник     0   \n",
       "\n",
       "        total_income                                 purpose  \n",
       "99      71291.522491                              автомобиль  \n",
       "149     70176.435951                       операции с жильем  \n",
       "270    102166.458894                            ремонт жилью  \n",
       "578     97620.687042  строительство собственной недвижимости  \n",
       "1040   303994.134987                         свой автомобиль  \n",
       "...              ...                                     ...  \n",
       "19829  133546.457238                                   жилье  \n",
       "20462  259193.920299                    покупка своего жилья  \n",
       "20577  129788.762899                            недвижимость  \n",
       "21179  240702.007382        строительство жилой недвижимости  \n",
       "21313  152419.184851                       операции с жильем  \n",
       "\n",
       "[100 rows x 12 columns]"
      ]
     },
     "metadata": {},
     "output_type": "display_data"
    },
    {
     "name": "stdout",
     "output_type": "stream",
     "text": [
      "Погрешность: 0.467 %\n"
     ]
    }
   ],
   "source": [
    "display(df[df['dob_years'] == 0])\n",
    "print('Погрешность:' ,round(((df[df['dob_years'] == 0]['dob_years'].count()/df['dob_years'].count())*100),3),'%')"
   ]
  },
  {
   "cell_type": "markdown",
   "id": "bd0ef70c",
   "metadata": {},
   "source": [
    "Погрешность почти 0,5% мы можем даже удалить эти данные, они не повлияют на общий вывод. Но все таки мы их восстановим, через медиану по типу занятости."
   ]
  },
  {
   "cell_type": "code",
   "execution_count": 370,
   "id": "de82b27b",
   "metadata": {
    "scrolled": true
   },
   "outputs": [
    {
     "data": {
      "text/plain": [
       "income_type\n",
       "безработный        38.0\n",
       "в декрете          39.0\n",
       "госслужащий        40.0\n",
       "компаньон          39.0\n",
       "пенсионер          60.0\n",
       "предприниматель    42.5\n",
       "сотрудник          39.0\n",
       "студент            22.0\n",
       "Name: dob_years, dtype: float64"
      ]
     },
     "metadata": {},
     "output_type": "display_data"
    }
   ],
   "source": [
    "display(df.groupby('income_type')['dob_years'].median()) # Медианные значения возраста по типу занятости"
   ]
  },
  {
   "cell_type": "markdown",
   "id": "73108d8c",
   "metadata": {},
   "source": [
    "Заменяем 0 на медианные значения возраста. И посмотрим уникальные значения, убедимся что 0 нет."
   ]
  },
  {
   "cell_type": "code",
   "execution_count": 371,
   "id": "1877f5f1",
   "metadata": {
    "scrolled": true
   },
   "outputs": [
    {
     "data": {
      "text/plain": [
       "array([19., 20., 21., 22., 23., 24., 25., 26., 27., 28., 29., 30., 31.,\n",
       "       32., 33., 34., 35., 36., 37., 38., 39., 40., 41., 42., 43., 44.,\n",
       "       45., 46., 47., 48., 49., 50., 51., 52., 53., 54., 55., 56., 57.,\n",
       "       58., 59., 60., 61., 62., 63., 64., 65., 66., 67., 68., 69., 70.,\n",
       "       71., 72., 73., 74., 75.])"
      ]
     },
     "metadata": {},
     "output_type": "display_data"
    }
   ],
   "source": [
    "median_function(['dob_years','income_type'])\n",
    "display(df['dob_years'].sort_values().unique())"
   ]
  },
  {
   "cell_type": "markdown",
   "id": "d65efc5a",
   "metadata": {},
   "source": [
    "<div class=\"alert alert-warning\">\n",
    "<b>⚠️ Комментарий ревьюера:</b> Для оптимизации кода здесь также можно было бы применить цикл"
   ]
  },
  {
   "cell_type": "markdown",
   "id": "d0ca73c4",
   "metadata": {},
   "source": [
    "<div class=\"alert alert-info\">\n",
    "<b> Комментарий студента:</b> Сделал более-менее элегантнее))"
   ]
  },
  {
   "cell_type": "markdown",
   "id": "37c3ef65",
   "metadata": {},
   "source": [
    "<div class=\"alert alert-success\">\n",
    "<b>✔️ Комментарий ревьюера V2:</b>  Корректно"
   ]
  },
  {
   "cell_type": "markdown",
   "id": "439c0d0a",
   "metadata": {},
   "source": [
    "Значения возраста получили в формате float, в будущем мы его приведем в порядок."
   ]
  },
  {
   "cell_type": "markdown",
   "id": "0c0bb00b",
   "metadata": {},
   "source": [
    "Раберемся с полом клиентов.\n",
    "* `gender` — пол клиента: XNA. Нужно уточнить."
   ]
  },
  {
   "cell_type": "code",
   "execution_count": 372,
   "id": "6b3d8066",
   "metadata": {},
   "outputs": [
    {
     "data": {
      "text/html": [
       "<div>\n",
       "<style scoped>\n",
       "    .dataframe tbody tr th:only-of-type {\n",
       "        vertical-align: middle;\n",
       "    }\n",
       "\n",
       "    .dataframe tbody tr th {\n",
       "        vertical-align: top;\n",
       "    }\n",
       "\n",
       "    .dataframe thead th {\n",
       "        text-align: right;\n",
       "    }\n",
       "</style>\n",
       "<table border=\"1\" class=\"dataframe\">\n",
       "  <thead>\n",
       "    <tr style=\"text-align: right;\">\n",
       "      <th></th>\n",
       "      <th>children</th>\n",
       "      <th>days_employed</th>\n",
       "      <th>dob_years</th>\n",
       "      <th>education</th>\n",
       "      <th>education_id</th>\n",
       "      <th>family_status</th>\n",
       "      <th>family_status_id</th>\n",
       "      <th>gender</th>\n",
       "      <th>income_type</th>\n",
       "      <th>debt</th>\n",
       "      <th>total_income</th>\n",
       "      <th>purpose</th>\n",
       "    </tr>\n",
       "  </thead>\n",
       "  <tbody>\n",
       "    <tr>\n",
       "      <td>10701</td>\n",
       "      <td>0</td>\n",
       "      <td>2358.600502</td>\n",
       "      <td>24.0</td>\n",
       "      <td>неоконченное высшее</td>\n",
       "      <td>2</td>\n",
       "      <td>гражданский брак</td>\n",
       "      <td>1</td>\n",
       "      <td>XNA</td>\n",
       "      <td>компаньон</td>\n",
       "      <td>0</td>\n",
       "      <td>203905.157261</td>\n",
       "      <td>покупка недвижимости</td>\n",
       "    </tr>\n",
       "  </tbody>\n",
       "</table>\n",
       "</div>"
      ],
      "text/plain": [
       "       children  days_employed  dob_years            education  education_id  \\\n",
       "10701         0    2358.600502       24.0  неоконченное высшее             2   \n",
       "\n",
       "          family_status  family_status_id gender income_type  debt  \\\n",
       "10701  гражданский брак                 1    XNA   компаньон     0   \n",
       "\n",
       "        total_income               purpose  \n",
       "10701  203905.157261  покупка недвижимости  "
      ]
     },
     "execution_count": 372,
     "metadata": {},
     "output_type": "execute_result"
    }
   ],
   "source": [
    "df[df['gender'] == 'XNA'] # Фильтруем таблицу по гендеру XNA"
   ]
  },
  {
   "cell_type": "markdown",
   "id": "a577e12b",
   "metadata": {},
   "source": [
    "Всего 1 экземпляр. Удаляем.\n",
    "\n",
    "*С зп 204к можно не заканчивать высшее и не определяться с гендером...*"
   ]
  },
  {
   "cell_type": "code",
   "execution_count": 373,
   "id": "9354eab1",
   "metadata": {},
   "outputs": [],
   "source": [
    "df = df[df['gender'] != 'XNA'].reset_index(drop=True) # удаляем строку"
   ]
  },
  {
   "cell_type": "markdown",
   "id": "1f2198fd",
   "metadata": {},
   "source": [
    "Проверяем на наличие уникальных значений в гендоре."
   ]
  },
  {
   "cell_type": "code",
   "execution_count": 374,
   "id": "7c897559",
   "metadata": {},
   "outputs": [
    {
     "name": "stdout",
     "output_type": "stream",
     "text": [
      "['F' 'M']\n"
     ]
    }
   ],
   "source": [
    "print(df['gender'].unique()) # проверка на наличие значений"
   ]
  },
  {
   "cell_type": "markdown",
   "id": "fcb0e36a",
   "metadata": {},
   "source": [
    "<div class=\"alert alert-success\">\n",
    "<b>✔️ Комментарий ревьюера:</b> Отлично!"
   ]
  },
  {
   "cell_type": "markdown",
   "id": "29bc7797",
   "metadata": {},
   "source": [
    "Вернемся к аномальным значениям в стаже работы и отсортируем по возрасту."
   ]
  },
  {
   "cell_type": "code",
   "execution_count": 375,
   "id": "059829f5",
   "metadata": {},
   "outputs": [
    {
     "data": {
      "text/html": [
       "<div>\n",
       "<style scoped>\n",
       "    .dataframe tbody tr th:only-of-type {\n",
       "        vertical-align: middle;\n",
       "    }\n",
       "\n",
       "    .dataframe tbody tr th {\n",
       "        vertical-align: top;\n",
       "    }\n",
       "\n",
       "    .dataframe thead th {\n",
       "        text-align: right;\n",
       "    }\n",
       "</style>\n",
       "<table border=\"1\" class=\"dataframe\">\n",
       "  <thead>\n",
       "    <tr style=\"text-align: right;\">\n",
       "      <th></th>\n",
       "      <th>children</th>\n",
       "      <th>days_employed</th>\n",
       "      <th>dob_years</th>\n",
       "      <th>education</th>\n",
       "      <th>education_id</th>\n",
       "      <th>family_status</th>\n",
       "      <th>family_status_id</th>\n",
       "      <th>gender</th>\n",
       "      <th>income_type</th>\n",
       "      <th>debt</th>\n",
       "      <th>total_income</th>\n",
       "      <th>purpose</th>\n",
       "    </tr>\n",
       "  </thead>\n",
       "  <tbody>\n",
       "    <tr>\n",
       "      <td>1234</td>\n",
       "      <td>0</td>\n",
       "      <td>334764.259831</td>\n",
       "      <td>22.0</td>\n",
       "      <td>Среднее</td>\n",
       "      <td>1</td>\n",
       "      <td>Не женат / не замужем</td>\n",
       "      <td>4</td>\n",
       "      <td>F</td>\n",
       "      <td>пенсионер</td>\n",
       "      <td>0</td>\n",
       "      <td>89368.600062</td>\n",
       "      <td>получение высшего образования</td>\n",
       "    </tr>\n",
       "    <tr>\n",
       "      <td>3604</td>\n",
       "      <td>0</td>\n",
       "      <td>360505.668544</td>\n",
       "      <td>24.0</td>\n",
       "      <td>среднее</td>\n",
       "      <td>1</td>\n",
       "      <td>женат / замужем</td>\n",
       "      <td>0</td>\n",
       "      <td>F</td>\n",
       "      <td>пенсионер</td>\n",
       "      <td>0</td>\n",
       "      <td>110179.690761</td>\n",
       "      <td>покупка своего жилья</td>\n",
       "    </tr>\n",
       "    <tr>\n",
       "      <td>16074</td>\n",
       "      <td>0</td>\n",
       "      <td>364348.197352</td>\n",
       "      <td>26.0</td>\n",
       "      <td>среднее</td>\n",
       "      <td>1</td>\n",
       "      <td>гражданский брак</td>\n",
       "      <td>1</td>\n",
       "      <td>M</td>\n",
       "      <td>пенсионер</td>\n",
       "      <td>0</td>\n",
       "      <td>80044.196101</td>\n",
       "      <td>автомобиль</td>\n",
       "    </tr>\n",
       "    <tr>\n",
       "      <td>19327</td>\n",
       "      <td>0</td>\n",
       "      <td>389397.167577</td>\n",
       "      <td>26.0</td>\n",
       "      <td>высшее</td>\n",
       "      <td>0</td>\n",
       "      <td>женат / замужем</td>\n",
       "      <td>0</td>\n",
       "      <td>F</td>\n",
       "      <td>пенсионер</td>\n",
       "      <td>0</td>\n",
       "      <td>214963.301941</td>\n",
       "      <td>покупка недвижимости</td>\n",
       "    </tr>\n",
       "    <tr>\n",
       "      <td>12681</td>\n",
       "      <td>1</td>\n",
       "      <td>329781.704997</td>\n",
       "      <td>27.0</td>\n",
       "      <td>среднее</td>\n",
       "      <td>1</td>\n",
       "      <td>женат / замужем</td>\n",
       "      <td>0</td>\n",
       "      <td>F</td>\n",
       "      <td>пенсионер</td>\n",
       "      <td>0</td>\n",
       "      <td>65198.102341</td>\n",
       "      <td>получение образования</td>\n",
       "    </tr>\n",
       "    <tr>\n",
       "      <td>...</td>\n",
       "      <td>...</td>\n",
       "      <td>...</td>\n",
       "      <td>...</td>\n",
       "      <td>...</td>\n",
       "      <td>...</td>\n",
       "      <td>...</td>\n",
       "      <td>...</td>\n",
       "      <td>...</td>\n",
       "      <td>...</td>\n",
       "      <td>...</td>\n",
       "      <td>...</td>\n",
       "      <td>...</td>\n",
       "    </tr>\n",
       "    <tr>\n",
       "      <td>229</td>\n",
       "      <td>0</td>\n",
       "      <td>336747.835284</td>\n",
       "      <td>73.0</td>\n",
       "      <td>среднее</td>\n",
       "      <td>1</td>\n",
       "      <td>вдовец / вдова</td>\n",
       "      <td>2</td>\n",
       "      <td>F</td>\n",
       "      <td>пенсионер</td>\n",
       "      <td>0</td>\n",
       "      <td>136897.008375</td>\n",
       "      <td>сделка с подержанным автомобилем</td>\n",
       "    </tr>\n",
       "    <tr>\n",
       "      <td>4872</td>\n",
       "      <td>0</td>\n",
       "      <td>341528.126150</td>\n",
       "      <td>74.0</td>\n",
       "      <td>высшее</td>\n",
       "      <td>0</td>\n",
       "      <td>женат / замужем</td>\n",
       "      <td>0</td>\n",
       "      <td>F</td>\n",
       "      <td>пенсионер</td>\n",
       "      <td>0</td>\n",
       "      <td>134935.354225</td>\n",
       "      <td>покупка своего жилья</td>\n",
       "    </tr>\n",
       "    <tr>\n",
       "      <td>2545</td>\n",
       "      <td>0</td>\n",
       "      <td>372861.103965</td>\n",
       "      <td>74.0</td>\n",
       "      <td>среднее</td>\n",
       "      <td>1</td>\n",
       "      <td>женат / замужем</td>\n",
       "      <td>0</td>\n",
       "      <td>F</td>\n",
       "      <td>пенсионер</td>\n",
       "      <td>0</td>\n",
       "      <td>42927.300898</td>\n",
       "      <td>автомобили</td>\n",
       "    </tr>\n",
       "    <tr>\n",
       "      <td>3445</td>\n",
       "      <td>0</td>\n",
       "      <td>344623.836105</td>\n",
       "      <td>74.0</td>\n",
       "      <td>среднее</td>\n",
       "      <td>1</td>\n",
       "      <td>женат / замужем</td>\n",
       "      <td>0</td>\n",
       "      <td>M</td>\n",
       "      <td>пенсионер</td>\n",
       "      <td>0</td>\n",
       "      <td>54754.745517</td>\n",
       "      <td>операции со своей недвижимостью</td>\n",
       "    </tr>\n",
       "    <tr>\n",
       "      <td>19529</td>\n",
       "      <td>0</td>\n",
       "      <td>380150.387046</td>\n",
       "      <td>74.0</td>\n",
       "      <td>среднее</td>\n",
       "      <td>1</td>\n",
       "      <td>вдовец / вдова</td>\n",
       "      <td>2</td>\n",
       "      <td>F</td>\n",
       "      <td>пенсионер</td>\n",
       "      <td>0</td>\n",
       "      <td>45089.546419</td>\n",
       "      <td>приобретение автомобиля</td>\n",
       "    </tr>\n",
       "  </tbody>\n",
       "</table>\n",
       "<p>3841 rows × 12 columns</p>\n",
       "</div>"
      ],
      "text/plain": [
       "       children  days_employed  dob_years education  education_id  \\\n",
       "1234          0  334764.259831       22.0   Среднее             1   \n",
       "3604          0  360505.668544       24.0   среднее             1   \n",
       "16074         0  364348.197352       26.0   среднее             1   \n",
       "19327         0  389397.167577       26.0    высшее             0   \n",
       "12681         1  329781.704997       27.0   среднее             1   \n",
       "...         ...            ...        ...       ...           ...   \n",
       "229           0  336747.835284       73.0   среднее             1   \n",
       "4872          0  341528.126150       74.0    высшее             0   \n",
       "2545          0  372861.103965       74.0   среднее             1   \n",
       "3445          0  344623.836105       74.0   среднее             1   \n",
       "19529         0  380150.387046       74.0   среднее             1   \n",
       "\n",
       "               family_status  family_status_id gender income_type  debt  \\\n",
       "1234   Не женат / не замужем                 4      F   пенсионер     0   \n",
       "3604         женат / замужем                 0      F   пенсионер     0   \n",
       "16074       гражданский брак                 1      M   пенсионер     0   \n",
       "19327        женат / замужем                 0      F   пенсионер     0   \n",
       "12681        женат / замужем                 0      F   пенсионер     0   \n",
       "...                      ...               ...    ...         ...   ...   \n",
       "229           вдовец / вдова                 2      F   пенсионер     0   \n",
       "4872         женат / замужем                 0      F   пенсионер     0   \n",
       "2545         женат / замужем                 0      F   пенсионер     0   \n",
       "3445         женат / замужем                 0      M   пенсионер     0   \n",
       "19529         вдовец / вдова                 2      F   пенсионер     0   \n",
       "\n",
       "        total_income                           purpose  \n",
       "1234    89368.600062     получение высшего образования  \n",
       "3604   110179.690761              покупка своего жилья  \n",
       "16074   80044.196101                        автомобиль  \n",
       "19327  214963.301941              покупка недвижимости  \n",
       "12681   65198.102341             получение образования  \n",
       "...              ...                               ...  \n",
       "229    136897.008375  сделка с подержанным автомобилем  \n",
       "4872   134935.354225              покупка своего жилья  \n",
       "2545    42927.300898                        автомобили  \n",
       "3445    54754.745517   операции со своей недвижимостью  \n",
       "19529   45089.546419           приобретение автомобиля  \n",
       "\n",
       "[3841 rows x 12 columns]"
      ]
     },
     "metadata": {},
     "output_type": "display_data"
    }
   ],
   "source": [
    "display(df[df['days_employed'] > max_dob_teor].sort_values('dob_years'))"
   ]
  },
  {
   "cell_type": "markdown",
   "id": "66cb61da",
   "metadata": {},
   "source": [
    "В данных присутствуют явные недоработки, есть пенсионеры - которым по 22, 24, 26 лет."
   ]
  },
  {
   "cell_type": "markdown",
   "id": "f945a185",
   "metadata": {},
   "source": [
    "**Даже если исключить людей, которые очевидно не входят в число пенсионеров, то у настоящих пенсионеров останутся некорректные значения.** \n",
    "* Предположение: Похоже что настоящие значения трудового стажа категории \"пенсионеров\", каким то образом умножились на значения собственного возраста."
   ]
  },
  {
   "cell_type": "markdown",
   "id": "664e9a0d",
   "metadata": {},
   "source": [
    "Отсортируем таблицу по возрастанию по стажу."
   ]
  },
  {
   "cell_type": "code",
   "execution_count": 376,
   "id": "8aade3cc",
   "metadata": {
    "scrolled": true
   },
   "outputs": [
    {
     "data": {
      "text/html": [
       "<div>\n",
       "<style scoped>\n",
       "    .dataframe tbody tr th:only-of-type {\n",
       "        vertical-align: middle;\n",
       "    }\n",
       "\n",
       "    .dataframe tbody tr th {\n",
       "        vertical-align: top;\n",
       "    }\n",
       "\n",
       "    .dataframe thead th {\n",
       "        text-align: right;\n",
       "    }\n",
       "</style>\n",
       "<table border=\"1\" class=\"dataframe\">\n",
       "  <thead>\n",
       "    <tr style=\"text-align: right;\">\n",
       "      <th></th>\n",
       "      <th>children</th>\n",
       "      <th>days_employed</th>\n",
       "      <th>dob_years</th>\n",
       "      <th>education</th>\n",
       "      <th>education_id</th>\n",
       "      <th>family_status</th>\n",
       "      <th>family_status_id</th>\n",
       "      <th>gender</th>\n",
       "      <th>income_type</th>\n",
       "      <th>debt</th>\n",
       "      <th>total_income</th>\n",
       "      <th>purpose</th>\n",
       "    </tr>\n",
       "  </thead>\n",
       "  <tbody>\n",
       "    <tr>\n",
       "      <td>20327</td>\n",
       "      <td>0</td>\n",
       "      <td>328728.720605</td>\n",
       "      <td>72.0</td>\n",
       "      <td>среднее</td>\n",
       "      <td>1</td>\n",
       "      <td>вдовец / вдова</td>\n",
       "      <td>2</td>\n",
       "      <td>F</td>\n",
       "      <td>пенсионер</td>\n",
       "      <td>0</td>\n",
       "      <td>96519.339647</td>\n",
       "      <td>покупка жилья для семьи</td>\n",
       "    </tr>\n",
       "    <tr>\n",
       "      <td>9280</td>\n",
       "      <td>2</td>\n",
       "      <td>328734.923996</td>\n",
       "      <td>41.0</td>\n",
       "      <td>высшее</td>\n",
       "      <td>0</td>\n",
       "      <td>женат / замужем</td>\n",
       "      <td>0</td>\n",
       "      <td>M</td>\n",
       "      <td>пенсионер</td>\n",
       "      <td>0</td>\n",
       "      <td>126997.497760</td>\n",
       "      <td>операции со своей недвижимостью</td>\n",
       "    </tr>\n",
       "    <tr>\n",
       "      <td>17679</td>\n",
       "      <td>0</td>\n",
       "      <td>328771.341387</td>\n",
       "      <td>56.0</td>\n",
       "      <td>среднее</td>\n",
       "      <td>1</td>\n",
       "      <td>женат / замужем</td>\n",
       "      <td>0</td>\n",
       "      <td>F</td>\n",
       "      <td>пенсионер</td>\n",
       "      <td>0</td>\n",
       "      <td>68648.047062</td>\n",
       "      <td>операции с коммерческой недвижимостью</td>\n",
       "    </tr>\n",
       "    <tr>\n",
       "      <td>14699</td>\n",
       "      <td>0</td>\n",
       "      <td>328795.726728</td>\n",
       "      <td>62.0</td>\n",
       "      <td>высшее</td>\n",
       "      <td>0</td>\n",
       "      <td>женат / замужем</td>\n",
       "      <td>0</td>\n",
       "      <td>F</td>\n",
       "      <td>пенсионер</td>\n",
       "      <td>0</td>\n",
       "      <td>79940.196752</td>\n",
       "      <td>на покупку своего автомобиля</td>\n",
       "    </tr>\n",
       "    <tr>\n",
       "      <td>7194</td>\n",
       "      <td>1</td>\n",
       "      <td>328827.345667</td>\n",
       "      <td>32.0</td>\n",
       "      <td>среднее</td>\n",
       "      <td>1</td>\n",
       "      <td>гражданский брак</td>\n",
       "      <td>1</td>\n",
       "      <td>F</td>\n",
       "      <td>пенсионер</td>\n",
       "      <td>0</td>\n",
       "      <td>122162.965695</td>\n",
       "      <td>сыграть свадьбу</td>\n",
       "    </tr>\n",
       "    <tr>\n",
       "      <td>...</td>\n",
       "      <td>...</td>\n",
       "      <td>...</td>\n",
       "      <td>...</td>\n",
       "      <td>...</td>\n",
       "      <td>...</td>\n",
       "      <td>...</td>\n",
       "      <td>...</td>\n",
       "      <td>...</td>\n",
       "      <td>...</td>\n",
       "      <td>...</td>\n",
       "      <td>...</td>\n",
       "      <td>...</td>\n",
       "    </tr>\n",
       "    <tr>\n",
       "      <td>7754</td>\n",
       "      <td>0</td>\n",
       "      <td>401663.850046</td>\n",
       "      <td>61.0</td>\n",
       "      <td>среднее</td>\n",
       "      <td>1</td>\n",
       "      <td>гражданский брак</td>\n",
       "      <td>1</td>\n",
       "      <td>F</td>\n",
       "      <td>пенсионер</td>\n",
       "      <td>0</td>\n",
       "      <td>48286.441362</td>\n",
       "      <td>свадьба</td>\n",
       "    </tr>\n",
       "    <tr>\n",
       "      <td>2145</td>\n",
       "      <td>0</td>\n",
       "      <td>401674.466633</td>\n",
       "      <td>60.0</td>\n",
       "      <td>среднее</td>\n",
       "      <td>1</td>\n",
       "      <td>женат / замужем</td>\n",
       "      <td>0</td>\n",
       "      <td>M</td>\n",
       "      <td>пенсионер</td>\n",
       "      <td>0</td>\n",
       "      <td>325395.724541</td>\n",
       "      <td>автомобили</td>\n",
       "    </tr>\n",
       "    <tr>\n",
       "      <td>7626</td>\n",
       "      <td>1</td>\n",
       "      <td>401675.093434</td>\n",
       "      <td>61.0</td>\n",
       "      <td>среднее</td>\n",
       "      <td>1</td>\n",
       "      <td>женат / замужем</td>\n",
       "      <td>0</td>\n",
       "      <td>F</td>\n",
       "      <td>пенсионер</td>\n",
       "      <td>0</td>\n",
       "      <td>126214.519212</td>\n",
       "      <td>операции с жильем</td>\n",
       "    </tr>\n",
       "    <tr>\n",
       "      <td>9955</td>\n",
       "      <td>0</td>\n",
       "      <td>401715.811749</td>\n",
       "      <td>69.0</td>\n",
       "      <td>высшее</td>\n",
       "      <td>0</td>\n",
       "      <td>Не женат / не замужем</td>\n",
       "      <td>4</td>\n",
       "      <td>F</td>\n",
       "      <td>пенсионер</td>\n",
       "      <td>0</td>\n",
       "      <td>57390.256908</td>\n",
       "      <td>получение образования</td>\n",
       "    </tr>\n",
       "    <tr>\n",
       "      <td>6922</td>\n",
       "      <td>0</td>\n",
       "      <td>401755.400475</td>\n",
       "      <td>56.0</td>\n",
       "      <td>среднее</td>\n",
       "      <td>1</td>\n",
       "      <td>вдовец / вдова</td>\n",
       "      <td>2</td>\n",
       "      <td>F</td>\n",
       "      <td>пенсионер</td>\n",
       "      <td>0</td>\n",
       "      <td>176278.441171</td>\n",
       "      <td>ремонт жилью</td>\n",
       "    </tr>\n",
       "  </tbody>\n",
       "</table>\n",
       "<p>3841 rows × 12 columns</p>\n",
       "</div>"
      ],
      "text/plain": [
       "       children  days_employed  dob_years education  education_id  \\\n",
       "20327         0  328728.720605       72.0   среднее             1   \n",
       "9280          2  328734.923996       41.0    высшее             0   \n",
       "17679         0  328771.341387       56.0   среднее             1   \n",
       "14699         0  328795.726728       62.0    высшее             0   \n",
       "7194          1  328827.345667       32.0   среднее             1   \n",
       "...         ...            ...        ...       ...           ...   \n",
       "7754          0  401663.850046       61.0   среднее             1   \n",
       "2145          0  401674.466633       60.0   среднее             1   \n",
       "7626          1  401675.093434       61.0   среднее             1   \n",
       "9955          0  401715.811749       69.0    высшее             0   \n",
       "6922          0  401755.400475       56.0   среднее             1   \n",
       "\n",
       "               family_status  family_status_id gender income_type  debt  \\\n",
       "20327         вдовец / вдова                 2      F   пенсионер     0   \n",
       "9280         женат / замужем                 0      M   пенсионер     0   \n",
       "17679        женат / замужем                 0      F   пенсионер     0   \n",
       "14699        женат / замужем                 0      F   пенсионер     0   \n",
       "7194        гражданский брак                 1      F   пенсионер     0   \n",
       "...                      ...               ...    ...         ...   ...   \n",
       "7754        гражданский брак                 1      F   пенсионер     0   \n",
       "2145         женат / замужем                 0      M   пенсионер     0   \n",
       "7626         женат / замужем                 0      F   пенсионер     0   \n",
       "9955   Не женат / не замужем                 4      F   пенсионер     0   \n",
       "6922          вдовец / вдова                 2      F   пенсионер     0   \n",
       "\n",
       "        total_income                                purpose  \n",
       "20327   96519.339647                покупка жилья для семьи  \n",
       "9280   126997.497760        операции со своей недвижимостью  \n",
       "17679   68648.047062  операции с коммерческой недвижимостью  \n",
       "14699   79940.196752           на покупку своего автомобиля  \n",
       "7194   122162.965695                        сыграть свадьбу  \n",
       "...              ...                                    ...  \n",
       "7754    48286.441362                                свадьба  \n",
       "2145   325395.724541                             автомобили  \n",
       "7626   126214.519212                      операции с жильем  \n",
       "9955    57390.256908                  получение образования  \n",
       "6922   176278.441171                           ремонт жилью  \n",
       "\n",
       "[3841 rows x 12 columns]"
      ]
     },
     "metadata": {},
     "output_type": "display_data"
    }
   ],
   "source": [
    "display(df[df['days_employed'] > max_dob_teor].sort_values(by='days_employed'))"
   ]
  },
  {
   "cell_type": "code",
   "execution_count": 377,
   "id": "7f4053f0",
   "metadata": {
    "scrolled": true
   },
   "outputs": [
    {
     "name": "stdout",
     "output_type": "stream",
     "text": [
      "Предполагаемое медианное значение: 6010\n",
      "\n",
      "Предполагаемое(мин.) значение: 4565\n",
      "Предполагаемое(макс.) значение: 6694\n",
      "\n",
      "Предполагаемое среднее значение в РФ: 8521\n"
     ]
    }
   ],
   "source": [
    "print('Предполагаемое медианное значение:', int((df.groupby('income_type')['days_employed'].median()[4]) / df.groupby('income_type')['dob_years'].median()[4])) # Медианные значения стажа пенсионеров / медианное значение возраста пенсионеров\n",
    "print()\n",
    "print('Предполагаемое(мин.) значение:',int((df[(df.income_type == 'пенсионер') & (df.dob_years >= df.groupby('income_type')['dob_years'].median()[4])]['days_employed'] / df[(df.income_type == 'пенсионер') & (df.dob_years >= df.groupby('income_type')['dob_years'].median()[4])]['dob_years']).min())) # Минимальное значение / возраст клиента\n",
    "print('Предполагаемое(макс.) значение:',int((df[(df.income_type == 'пенсионер') & (df.dob_years >= df.groupby('income_type')['dob_years'].median()[4])]['days_employed'] / df[(df.income_type == 'пенсионер') & (df.dob_years >= df.groupby('income_type')['dob_years'].median()[4])]['dob_years']).max())) # Максимальное значение / возраст клиента\n",
    "print()\n",
    "print('Предполагаемое среднее значение в РФ:', int(247*34.5)) # 247 рабочих дней в году, 34.5 - Средний трудовой стаж в РФ (https://ria.ru/20131119/977986173.html)"
   ]
  },
  {
   "cell_type": "markdown",
   "id": "11f557ab",
   "metadata": {},
   "source": [
    "<div class=\"alert alert-warning\">\n",
    "<b>⚠️ Комментарий ревьюера:</b> Чтобы избежать хардкода, старайся вытаскивать нужные значения непосредственно из датафрейма (к примеру, df[df.income_type == 'пенсионер'].days_employed.max())"
   ]
  },
  {
   "cell_type": "markdown",
   "id": "1850e2e7",
   "metadata": {},
   "source": [
    "<div class=\"alert alert-info\">\n",
    "<b> Комментарий студента:</b> Назначил значения непосредственно из датафрейма"
   ]
  },
  {
   "cell_type": "markdown",
   "id": "9677925d",
   "metadata": {},
   "source": [
    "<div class=\"alert alert-success\">\n",
    "<b>✔️ Комментарий ревьюера V2:</b>  Абсолютно верно!"
   ]
  },
  {
   "cell_type": "markdown",
   "id": "c3ec947a",
   "metadata": {
    "scrolled": true
   },
   "source": [
    "Найдем погрешность аномальных данных."
   ]
  },
  {
   "cell_type": "code",
   "execution_count": 378,
   "id": "ee9a123a",
   "metadata": {},
   "outputs": [
    {
     "name": "stdout",
     "output_type": "stream",
     "text": [
      "Погрешность: 17.95 %\n"
     ]
    }
   ],
   "source": [
    "print('Погрешность:',round((df[df['days_employed'] > max_dob_teor]['days_employed'].count() / df['days_employed'].count())*100,2),'%')"
   ]
  },
  {
   "cell_type": "markdown",
   "id": "9fbaef0b",
   "metadata": {},
   "source": [
    "Решение: **Запросить у заказчика новые данные по безработным и пенсионерам. Предупредить о погрешности, если заказчик даст установку продолжать исследование.**\n"
   ]
  },
  {
   "cell_type": "markdown",
   "id": "b4e283ee",
   "metadata": {},
   "source": [
    "Предположим, что заказчика устраивает такое исследование...\n",
    "Чистим таблицу, от аномальных значений"
   ]
  },
  {
   "cell_type": "code",
   "execution_count": 379,
   "id": "450a0a0b",
   "metadata": {},
   "outputs": [
    {
     "data": {
      "text/html": [
       "<div>\n",
       "<style scoped>\n",
       "    .dataframe tbody tr th:only-of-type {\n",
       "        vertical-align: middle;\n",
       "    }\n",
       "\n",
       "    .dataframe tbody tr th {\n",
       "        vertical-align: top;\n",
       "    }\n",
       "\n",
       "    .dataframe thead th {\n",
       "        text-align: right;\n",
       "    }\n",
       "</style>\n",
       "<table border=\"1\" class=\"dataframe\">\n",
       "  <thead>\n",
       "    <tr style=\"text-align: right;\">\n",
       "      <th></th>\n",
       "      <th>children</th>\n",
       "      <th>days_employed</th>\n",
       "      <th>dob_years</th>\n",
       "      <th>education</th>\n",
       "      <th>education_id</th>\n",
       "      <th>family_status</th>\n",
       "      <th>family_status_id</th>\n",
       "      <th>gender</th>\n",
       "      <th>income_type</th>\n",
       "      <th>debt</th>\n",
       "      <th>total_income</th>\n",
       "      <th>purpose</th>\n",
       "    </tr>\n",
       "  </thead>\n",
       "  <tbody>\n",
       "    <tr>\n",
       "      <td>0</td>\n",
       "      <td>1</td>\n",
       "      <td>8437.673028</td>\n",
       "      <td>42.0</td>\n",
       "      <td>высшее</td>\n",
       "      <td>0</td>\n",
       "      <td>женат / замужем</td>\n",
       "      <td>0</td>\n",
       "      <td>F</td>\n",
       "      <td>сотрудник</td>\n",
       "      <td>0</td>\n",
       "      <td>253875.639453</td>\n",
       "      <td>покупка жилья</td>\n",
       "    </tr>\n",
       "    <tr>\n",
       "      <td>1</td>\n",
       "      <td>1</td>\n",
       "      <td>4024.803754</td>\n",
       "      <td>36.0</td>\n",
       "      <td>среднее</td>\n",
       "      <td>1</td>\n",
       "      <td>женат / замужем</td>\n",
       "      <td>0</td>\n",
       "      <td>F</td>\n",
       "      <td>сотрудник</td>\n",
       "      <td>0</td>\n",
       "      <td>112080.014102</td>\n",
       "      <td>приобретение автомобиля</td>\n",
       "    </tr>\n",
       "    <tr>\n",
       "      <td>2</td>\n",
       "      <td>0</td>\n",
       "      <td>5623.422610</td>\n",
       "      <td>33.0</td>\n",
       "      <td>Среднее</td>\n",
       "      <td>1</td>\n",
       "      <td>женат / замужем</td>\n",
       "      <td>0</td>\n",
       "      <td>M</td>\n",
       "      <td>сотрудник</td>\n",
       "      <td>0</td>\n",
       "      <td>145885.952297</td>\n",
       "      <td>покупка жилья</td>\n",
       "    </tr>\n",
       "    <tr>\n",
       "      <td>3</td>\n",
       "      <td>3</td>\n",
       "      <td>4124.747207</td>\n",
       "      <td>32.0</td>\n",
       "      <td>среднее</td>\n",
       "      <td>1</td>\n",
       "      <td>женат / замужем</td>\n",
       "      <td>0</td>\n",
       "      <td>M</td>\n",
       "      <td>сотрудник</td>\n",
       "      <td>0</td>\n",
       "      <td>267628.550329</td>\n",
       "      <td>дополнительное образование</td>\n",
       "    </tr>\n",
       "    <tr>\n",
       "      <td>4</td>\n",
       "      <td>0</td>\n",
       "      <td>926.185831</td>\n",
       "      <td>27.0</td>\n",
       "      <td>высшее</td>\n",
       "      <td>0</td>\n",
       "      <td>гражданский брак</td>\n",
       "      <td>1</td>\n",
       "      <td>M</td>\n",
       "      <td>компаньон</td>\n",
       "      <td>0</td>\n",
       "      <td>255763.565419</td>\n",
       "      <td>покупка жилья</td>\n",
       "    </tr>\n",
       "    <tr>\n",
       "      <td>...</td>\n",
       "      <td>...</td>\n",
       "      <td>...</td>\n",
       "      <td>...</td>\n",
       "      <td>...</td>\n",
       "      <td>...</td>\n",
       "      <td>...</td>\n",
       "      <td>...</td>\n",
       "      <td>...</td>\n",
       "      <td>...</td>\n",
       "      <td>...</td>\n",
       "      <td>...</td>\n",
       "      <td>...</td>\n",
       "    </tr>\n",
       "    <tr>\n",
       "      <td>17555</td>\n",
       "      <td>1</td>\n",
       "      <td>2351.431934</td>\n",
       "      <td>37.0</td>\n",
       "      <td>ученая степень</td>\n",
       "      <td>4</td>\n",
       "      <td>в разводе</td>\n",
       "      <td>3</td>\n",
       "      <td>M</td>\n",
       "      <td>сотрудник</td>\n",
       "      <td>0</td>\n",
       "      <td>115949.039788</td>\n",
       "      <td>покупка коммерческой недвижимости</td>\n",
       "    </tr>\n",
       "    <tr>\n",
       "      <td>17556</td>\n",
       "      <td>1</td>\n",
       "      <td>4529.316663</td>\n",
       "      <td>43.0</td>\n",
       "      <td>среднее</td>\n",
       "      <td>1</td>\n",
       "      <td>гражданский брак</td>\n",
       "      <td>1</td>\n",
       "      <td>F</td>\n",
       "      <td>компаньон</td>\n",
       "      <td>0</td>\n",
       "      <td>224791.862382</td>\n",
       "      <td>операции с жильем</td>\n",
       "    </tr>\n",
       "    <tr>\n",
       "      <td>17557</td>\n",
       "      <td>1</td>\n",
       "      <td>2113.346888</td>\n",
       "      <td>38.0</td>\n",
       "      <td>среднее</td>\n",
       "      <td>1</td>\n",
       "      <td>гражданский брак</td>\n",
       "      <td>1</td>\n",
       "      <td>M</td>\n",
       "      <td>сотрудник</td>\n",
       "      <td>1</td>\n",
       "      <td>89672.561153</td>\n",
       "      <td>недвижимость</td>\n",
       "    </tr>\n",
       "    <tr>\n",
       "      <td>17558</td>\n",
       "      <td>3</td>\n",
       "      <td>3112.481705</td>\n",
       "      <td>38.0</td>\n",
       "      <td>среднее</td>\n",
       "      <td>1</td>\n",
       "      <td>женат / замужем</td>\n",
       "      <td>0</td>\n",
       "      <td>M</td>\n",
       "      <td>сотрудник</td>\n",
       "      <td>1</td>\n",
       "      <td>244093.050500</td>\n",
       "      <td>на покупку своего автомобиля</td>\n",
       "    </tr>\n",
       "    <tr>\n",
       "      <td>17559</td>\n",
       "      <td>2</td>\n",
       "      <td>1984.507589</td>\n",
       "      <td>40.0</td>\n",
       "      <td>среднее</td>\n",
       "      <td>1</td>\n",
       "      <td>женат / замужем</td>\n",
       "      <td>0</td>\n",
       "      <td>F</td>\n",
       "      <td>сотрудник</td>\n",
       "      <td>0</td>\n",
       "      <td>82047.418899</td>\n",
       "      <td>на покупку автомобиля</td>\n",
       "    </tr>\n",
       "  </tbody>\n",
       "</table>\n",
       "<p>17560 rows × 12 columns</p>\n",
       "</div>"
      ],
      "text/plain": [
       "       children  days_employed  dob_years       education  education_id  \\\n",
       "0             1    8437.673028       42.0          высшее             0   \n",
       "1             1    4024.803754       36.0         среднее             1   \n",
       "2             0    5623.422610       33.0         Среднее             1   \n",
       "3             3    4124.747207       32.0         среднее             1   \n",
       "4             0     926.185831       27.0          высшее             0   \n",
       "...         ...            ...        ...             ...           ...   \n",
       "17555         1    2351.431934       37.0  ученая степень             4   \n",
       "17556         1    4529.316663       43.0         среднее             1   \n",
       "17557         1    2113.346888       38.0         среднее             1   \n",
       "17558         3    3112.481705       38.0         среднее             1   \n",
       "17559         2    1984.507589       40.0         среднее             1   \n",
       "\n",
       "          family_status  family_status_id gender income_type  debt  \\\n",
       "0       женат / замужем                 0      F   сотрудник     0   \n",
       "1       женат / замужем                 0      F   сотрудник     0   \n",
       "2       женат / замужем                 0      M   сотрудник     0   \n",
       "3       женат / замужем                 0      M   сотрудник     0   \n",
       "4      гражданский брак                 1      M   компаньон     0   \n",
       "...                 ...               ...    ...         ...   ...   \n",
       "17555         в разводе                 3      M   сотрудник     0   \n",
       "17556  гражданский брак                 1      F   компаньон     0   \n",
       "17557  гражданский брак                 1      M   сотрудник     1   \n",
       "17558   женат / замужем                 0      M   сотрудник     1   \n",
       "17559   женат / замужем                 0      F   сотрудник     0   \n",
       "\n",
       "        total_income                            purpose  \n",
       "0      253875.639453                      покупка жилья  \n",
       "1      112080.014102            приобретение автомобиля  \n",
       "2      145885.952297                      покупка жилья  \n",
       "3      267628.550329         дополнительное образование  \n",
       "4      255763.565419                      покупка жилья  \n",
       "...              ...                                ...  \n",
       "17555  115949.039788  покупка коммерческой недвижимости  \n",
       "17556  224791.862382                  операции с жильем  \n",
       "17557   89672.561153                       недвижимость  \n",
       "17558  244093.050500       на покупку своего автомобиля  \n",
       "17559   82047.418899              на покупку автомобиля  \n",
       "\n",
       "[17560 rows x 12 columns]"
      ]
     },
     "execution_count": 379,
     "metadata": {},
     "output_type": "execute_result"
    }
   ],
   "source": [
    "df = df[df['days_employed'] < max_dob_teor] # Пересохраняем df согласно условию (41610)\n",
    "df = df.reset_index(drop=True) # перезаписываем индексы \n",
    "df # Итоговая версия таблицы"
   ]
  },
  {
   "cell_type": "markdown",
   "id": "1c9175f9",
   "metadata": {},
   "source": [
    "## Шаг 2.3. Изменение типов данных."
   ]
  },
  {
   "cell_type": "markdown",
   "id": "71529c08",
   "metadata": {},
   "source": [
    "Изменяем тип данных. \n",
    "Округлим трудовой стаж, возраст и ежемесячный доход до целых чисел."
   ]
  },
  {
   "cell_type": "code",
   "execution_count": 380,
   "id": "1afacccd",
   "metadata": {},
   "outputs": [
    {
     "name": "stdout",
     "output_type": "stream",
     "text": [
      "<class 'pandas.core.frame.DataFrame'>\n",
      "RangeIndex: 17560 entries, 0 to 17559\n",
      "Data columns (total 12 columns):\n",
      "children            17560 non-null int64\n",
      "days_employed       17560 non-null int64\n",
      "dob_years           17560 non-null int64\n",
      "education           17560 non-null object\n",
      "education_id        17560 non-null int64\n",
      "family_status       17560 non-null object\n",
      "family_status_id    17560 non-null int64\n",
      "gender              17560 non-null object\n",
      "income_type         17560 non-null object\n",
      "debt                17560 non-null int64\n",
      "total_income        17560 non-null int64\n",
      "purpose             17560 non-null object\n",
      "dtypes: int64(7), object(5)\n",
      "memory usage: 1.6+ MB\n"
     ]
    }
   ],
   "source": [
    "df['days_employed'] = df['days_employed'].astype('int') # округление струд. стажа\n",
    "df['dob_years'] = df['dob_years'].astype('int') # округление возраста\n",
    "df['total_income'] = df['total_income'].astype('int') # округление ежемесячного дохода\n",
    "df.info() # Проверяем"
   ]
  },
  {
   "cell_type": "markdown",
   "id": "648cdffd",
   "metadata": {},
   "source": [
    "В таблице остался только: int и object."
   ]
  },
  {
   "cell_type": "markdown",
   "id": "2707cd60",
   "metadata": {},
   "source": [
    "## Шаг 2.4. Удаление неявных дубликатов."
   ]
  },
  {
   "cell_type": "markdown",
   "id": "a6843095",
   "metadata": {},
   "source": [
    "Изменим регистр.\n",
    "* `education` — уровень образования клиента, нужно привести к единому регистру."
   ]
  },
  {
   "cell_type": "code",
   "execution_count": 381,
   "id": "4e709974",
   "metadata": {},
   "outputs": [
    {
     "name": "stdout",
     "output_type": "stream",
     "text": [
      "['высшее' 'среднее' 'Среднее' 'СРЕДНЕЕ' 'ВЫСШЕЕ' 'неоконченное высшее'\n",
      " 'начальное' 'Высшее' 'НЕОКОНЧЕННОЕ ВЫСШЕЕ' 'Неоконченное высшее'\n",
      " 'НАЧАЛЬНОЕ' 'Начальное' 'УЧЕНАЯ СТЕПЕНЬ' 'ученая степень']\n"
     ]
    }
   ],
   "source": [
    "print(df['education'].unique()) # Вывод уникальных значений"
   ]
  },
  {
   "cell_type": "markdown",
   "id": "a91086d4",
   "metadata": {},
   "source": [
    "Привидем к единому регистру методом lower() и проверим результат."
   ]
  },
  {
   "cell_type": "code",
   "execution_count": 382,
   "id": "725f5d58",
   "metadata": {},
   "outputs": [
    {
     "name": "stdout",
     "output_type": "stream",
     "text": [
      "['высшее' 'среднее' 'неоконченное высшее' 'начальное' 'ученая степень']\n"
     ]
    }
   ],
   "source": [
    "df['education'] = df['education'].str.lower()\n",
    "print(df['education'].unique())"
   ]
  },
  {
   "cell_type": "markdown",
   "id": "490face9",
   "metadata": {},
   "source": [
    "<div class=\"alert alert-success\">\n",
    "<b>✔️ Комментарий ревьюера:</b>  Так избавились от неявных дублей, отлично!"
   ]
  },
  {
   "cell_type": "markdown",
   "id": "8a62c3da",
   "metadata": {},
   "source": [
    "## Шаг 2.5. Формирование дополнительных датафреймов словарей, декомпозиция исходного датафрейма."
   ]
  },
  {
   "cell_type": "markdown",
   "id": "30397b5b",
   "metadata": {},
   "source": [
    "Создадим два новых датафрейма со столбцами:\n",
    "* education_id и education - в первом;\n",
    "* family_status_id и family_status - во втором."
   ]
  },
  {
   "cell_type": "code",
   "execution_count": 383,
   "id": "fa247c32",
   "metadata": {},
   "outputs": [
    {
     "data": {
      "text/html": [
       "<div>\n",
       "<style scoped>\n",
       "    .dataframe tbody tr th:only-of-type {\n",
       "        vertical-align: middle;\n",
       "    }\n",
       "\n",
       "    .dataframe tbody tr th {\n",
       "        vertical-align: top;\n",
       "    }\n",
       "\n",
       "    .dataframe thead th {\n",
       "        text-align: right;\n",
       "    }\n",
       "</style>\n",
       "<table border=\"1\" class=\"dataframe\">\n",
       "  <thead>\n",
       "    <tr style=\"text-align: right;\">\n",
       "      <th></th>\n",
       "      <th>education_id</th>\n",
       "      <th>education</th>\n",
       "    </tr>\n",
       "  </thead>\n",
       "  <tbody>\n",
       "    <tr>\n",
       "      <td>0</td>\n",
       "      <td>0</td>\n",
       "      <td>высшее</td>\n",
       "    </tr>\n",
       "    <tr>\n",
       "      <td>1</td>\n",
       "      <td>1</td>\n",
       "      <td>среднее</td>\n",
       "    </tr>\n",
       "    <tr>\n",
       "      <td>2</td>\n",
       "      <td>1</td>\n",
       "      <td>среднее</td>\n",
       "    </tr>\n",
       "    <tr>\n",
       "      <td>3</td>\n",
       "      <td>1</td>\n",
       "      <td>среднее</td>\n",
       "    </tr>\n",
       "    <tr>\n",
       "      <td>4</td>\n",
       "      <td>0</td>\n",
       "      <td>высшее</td>\n",
       "    </tr>\n",
       "    <tr>\n",
       "      <td>...</td>\n",
       "      <td>...</td>\n",
       "      <td>...</td>\n",
       "    </tr>\n",
       "    <tr>\n",
       "      <td>17555</td>\n",
       "      <td>4</td>\n",
       "      <td>ученая степень</td>\n",
       "    </tr>\n",
       "    <tr>\n",
       "      <td>17556</td>\n",
       "      <td>1</td>\n",
       "      <td>среднее</td>\n",
       "    </tr>\n",
       "    <tr>\n",
       "      <td>17557</td>\n",
       "      <td>1</td>\n",
       "      <td>среднее</td>\n",
       "    </tr>\n",
       "    <tr>\n",
       "      <td>17558</td>\n",
       "      <td>1</td>\n",
       "      <td>среднее</td>\n",
       "    </tr>\n",
       "    <tr>\n",
       "      <td>17559</td>\n",
       "      <td>1</td>\n",
       "      <td>среднее</td>\n",
       "    </tr>\n",
       "  </tbody>\n",
       "</table>\n",
       "<p>17560 rows × 2 columns</p>\n",
       "</div>"
      ],
      "text/plain": [
       "       education_id       education\n",
       "0                 0          высшее\n",
       "1                 1         среднее\n",
       "2                 1         среднее\n",
       "3                 1         среднее\n",
       "4                 0          высшее\n",
       "...             ...             ...\n",
       "17555             4  ученая степень\n",
       "17556             1         среднее\n",
       "17557             1         среднее\n",
       "17558             1         среднее\n",
       "17559             1         среднее\n",
       "\n",
       "[17560 rows x 2 columns]"
      ]
     },
     "metadata": {},
     "output_type": "display_data"
    },
    {
     "data": {
      "text/html": [
       "<div>\n",
       "<style scoped>\n",
       "    .dataframe tbody tr th:only-of-type {\n",
       "        vertical-align: middle;\n",
       "    }\n",
       "\n",
       "    .dataframe tbody tr th {\n",
       "        vertical-align: top;\n",
       "    }\n",
       "\n",
       "    .dataframe thead th {\n",
       "        text-align: right;\n",
       "    }\n",
       "</style>\n",
       "<table border=\"1\" class=\"dataframe\">\n",
       "  <thead>\n",
       "    <tr style=\"text-align: right;\">\n",
       "      <th></th>\n",
       "      <th>family_status_id</th>\n",
       "      <th>family_status</th>\n",
       "    </tr>\n",
       "  </thead>\n",
       "  <tbody>\n",
       "    <tr>\n",
       "      <td>0</td>\n",
       "      <td>0</td>\n",
       "      <td>женат / замужем</td>\n",
       "    </tr>\n",
       "    <tr>\n",
       "      <td>1</td>\n",
       "      <td>0</td>\n",
       "      <td>женат / замужем</td>\n",
       "    </tr>\n",
       "    <tr>\n",
       "      <td>2</td>\n",
       "      <td>0</td>\n",
       "      <td>женат / замужем</td>\n",
       "    </tr>\n",
       "    <tr>\n",
       "      <td>3</td>\n",
       "      <td>0</td>\n",
       "      <td>женат / замужем</td>\n",
       "    </tr>\n",
       "    <tr>\n",
       "      <td>4</td>\n",
       "      <td>1</td>\n",
       "      <td>гражданский брак</td>\n",
       "    </tr>\n",
       "    <tr>\n",
       "      <td>...</td>\n",
       "      <td>...</td>\n",
       "      <td>...</td>\n",
       "    </tr>\n",
       "    <tr>\n",
       "      <td>17555</td>\n",
       "      <td>3</td>\n",
       "      <td>в разводе</td>\n",
       "    </tr>\n",
       "    <tr>\n",
       "      <td>17556</td>\n",
       "      <td>1</td>\n",
       "      <td>гражданский брак</td>\n",
       "    </tr>\n",
       "    <tr>\n",
       "      <td>17557</td>\n",
       "      <td>1</td>\n",
       "      <td>гражданский брак</td>\n",
       "    </tr>\n",
       "    <tr>\n",
       "      <td>17558</td>\n",
       "      <td>0</td>\n",
       "      <td>женат / замужем</td>\n",
       "    </tr>\n",
       "    <tr>\n",
       "      <td>17559</td>\n",
       "      <td>0</td>\n",
       "      <td>женат / замужем</td>\n",
       "    </tr>\n",
       "  </tbody>\n",
       "</table>\n",
       "<p>17560 rows × 2 columns</p>\n",
       "</div>"
      ],
      "text/plain": [
       "       family_status_id     family_status\n",
       "0                     0   женат / замужем\n",
       "1                     0   женат / замужем\n",
       "2                     0   женат / замужем\n",
       "3                     0   женат / замужем\n",
       "4                     1  гражданский брак\n",
       "...                 ...               ...\n",
       "17555                 3         в разводе\n",
       "17556                 1  гражданский брак\n",
       "17557                 1  гражданский брак\n",
       "17558                 0   женат / замужем\n",
       "17559                 0   женат / замужем\n",
       "\n",
       "[17560 rows x 2 columns]"
      ]
     },
     "metadata": {},
     "output_type": "display_data"
    }
   ],
   "source": [
    "df_education = df[['education_id','education']] # education_id и education\n",
    "display(df_education) # Проверка\n",
    "df_family_status = df[['family_status_id','family_status']] # family_status_id и family_status\n",
    "display(df_family_status) # Проверка"
   ]
  },
  {
   "cell_type": "markdown",
   "id": "22ec6c78",
   "metadata": {},
   "source": [
    "Удаляем из исходного датафрейма столбы education и family_status, оставив только их идентификаторы."
   ]
  },
  {
   "cell_type": "code",
   "execution_count": 384,
   "id": "a67bdad4",
   "metadata": {},
   "outputs": [
    {
     "data": {
      "text/html": [
       "<div>\n",
       "<style scoped>\n",
       "    .dataframe tbody tr th:only-of-type {\n",
       "        vertical-align: middle;\n",
       "    }\n",
       "\n",
       "    .dataframe tbody tr th {\n",
       "        vertical-align: top;\n",
       "    }\n",
       "\n",
       "    .dataframe thead th {\n",
       "        text-align: right;\n",
       "    }\n",
       "</style>\n",
       "<table border=\"1\" class=\"dataframe\">\n",
       "  <thead>\n",
       "    <tr style=\"text-align: right;\">\n",
       "      <th></th>\n",
       "      <th>children</th>\n",
       "      <th>days_employed</th>\n",
       "      <th>dob_years</th>\n",
       "      <th>education_id</th>\n",
       "      <th>family_status_id</th>\n",
       "      <th>gender</th>\n",
       "      <th>income_type</th>\n",
       "      <th>debt</th>\n",
       "      <th>total_income</th>\n",
       "      <th>purpose</th>\n",
       "    </tr>\n",
       "  </thead>\n",
       "  <tbody>\n",
       "    <tr>\n",
       "      <td>0</td>\n",
       "      <td>1</td>\n",
       "      <td>8437</td>\n",
       "      <td>42</td>\n",
       "      <td>0</td>\n",
       "      <td>0</td>\n",
       "      <td>F</td>\n",
       "      <td>сотрудник</td>\n",
       "      <td>0</td>\n",
       "      <td>253875</td>\n",
       "      <td>покупка жилья</td>\n",
       "    </tr>\n",
       "    <tr>\n",
       "      <td>1</td>\n",
       "      <td>1</td>\n",
       "      <td>4024</td>\n",
       "      <td>36</td>\n",
       "      <td>1</td>\n",
       "      <td>0</td>\n",
       "      <td>F</td>\n",
       "      <td>сотрудник</td>\n",
       "      <td>0</td>\n",
       "      <td>112080</td>\n",
       "      <td>приобретение автомобиля</td>\n",
       "    </tr>\n",
       "    <tr>\n",
       "      <td>2</td>\n",
       "      <td>0</td>\n",
       "      <td>5623</td>\n",
       "      <td>33</td>\n",
       "      <td>1</td>\n",
       "      <td>0</td>\n",
       "      <td>M</td>\n",
       "      <td>сотрудник</td>\n",
       "      <td>0</td>\n",
       "      <td>145885</td>\n",
       "      <td>покупка жилья</td>\n",
       "    </tr>\n",
       "    <tr>\n",
       "      <td>3</td>\n",
       "      <td>3</td>\n",
       "      <td>4124</td>\n",
       "      <td>32</td>\n",
       "      <td>1</td>\n",
       "      <td>0</td>\n",
       "      <td>M</td>\n",
       "      <td>сотрудник</td>\n",
       "      <td>0</td>\n",
       "      <td>267628</td>\n",
       "      <td>дополнительное образование</td>\n",
       "    </tr>\n",
       "    <tr>\n",
       "      <td>4</td>\n",
       "      <td>0</td>\n",
       "      <td>926</td>\n",
       "      <td>27</td>\n",
       "      <td>0</td>\n",
       "      <td>1</td>\n",
       "      <td>M</td>\n",
       "      <td>компаньон</td>\n",
       "      <td>0</td>\n",
       "      <td>255763</td>\n",
       "      <td>покупка жилья</td>\n",
       "    </tr>\n",
       "  </tbody>\n",
       "</table>\n",
       "</div>"
      ],
      "text/plain": [
       "   children  days_employed  dob_years  education_id  family_status_id gender  \\\n",
       "0         1           8437         42             0                 0      F   \n",
       "1         1           4024         36             1                 0      F   \n",
       "2         0           5623         33             1                 0      M   \n",
       "3         3           4124         32             1                 0      M   \n",
       "4         0            926         27             0                 1      M   \n",
       "\n",
       "  income_type  debt  total_income                     purpose  \n",
       "0   сотрудник     0        253875               покупка жилья  \n",
       "1   сотрудник     0        112080     приобретение автомобиля  \n",
       "2   сотрудник     0        145885               покупка жилья  \n",
       "3   сотрудник     0        267628  дополнительное образование  \n",
       "4   компаньон     0        255763               покупка жилья  "
      ]
     },
     "execution_count": 384,
     "metadata": {},
     "output_type": "execute_result"
    }
   ],
   "source": [
    "df = df[['children','days_employed','dob_years','education_id','family_status_id','gender','income_type','debt','total_income','purpose']]\n",
    "df.head()"
   ]
  },
  {
   "cell_type": "markdown",
   "id": "b5d819dc",
   "metadata": {},
   "source": [
    "## Шаг 2.6. Категоризация дохода."
   ]
  },
  {
   "cell_type": "markdown",
   "id": "dcc3fd81",
   "metadata": {},
   "source": [
    "Объединим данные по ежемесячному доходу в категории по типу:\n",
    "* 0–30000 — E;\n",
    "* 30001–50000 — D;\n",
    "* 50001–200000 — C;\n",
    "* 200001–1000000 — B;\n",
    "* 1000001 и выше — A."
   ]
  },
  {
   "cell_type": "code",
   "execution_count": 385,
   "id": "7bc665df",
   "metadata": {},
   "outputs": [
    {
     "name": "stderr",
     "output_type": "stream",
     "text": [
      "/opt/conda/lib/python3.7/site-packages/ipykernel_launcher.py:13: SettingWithCopyWarning: \n",
      "A value is trying to be set on a copy of a slice from a DataFrame.\n",
      "Try using .loc[row_indexer,col_indexer] = value instead\n",
      "\n",
      "See the caveats in the documentation: http://pandas.pydata.org/pandas-docs/stable/user_guide/indexing.html#returning-a-view-versus-a-copy\n",
      "  del sys.path[0]\n"
     ]
    },
    {
     "data": {
      "text/html": [
       "<div>\n",
       "<style scoped>\n",
       "    .dataframe tbody tr th:only-of-type {\n",
       "        vertical-align: middle;\n",
       "    }\n",
       "\n",
       "    .dataframe tbody tr th {\n",
       "        vertical-align: top;\n",
       "    }\n",
       "\n",
       "    .dataframe thead th {\n",
       "        text-align: right;\n",
       "    }\n",
       "</style>\n",
       "<table border=\"1\" class=\"dataframe\">\n",
       "  <thead>\n",
       "    <tr style=\"text-align: right;\">\n",
       "      <th></th>\n",
       "      <th>children</th>\n",
       "      <th>days_employed</th>\n",
       "      <th>dob_years</th>\n",
       "      <th>education_id</th>\n",
       "      <th>family_status_id</th>\n",
       "      <th>gender</th>\n",
       "      <th>income_type</th>\n",
       "      <th>debt</th>\n",
       "      <th>total_income</th>\n",
       "      <th>purpose</th>\n",
       "      <th>total_income_category</th>\n",
       "    </tr>\n",
       "  </thead>\n",
       "  <tbody>\n",
       "    <tr>\n",
       "      <td>0</td>\n",
       "      <td>1</td>\n",
       "      <td>8437</td>\n",
       "      <td>42</td>\n",
       "      <td>0</td>\n",
       "      <td>0</td>\n",
       "      <td>F</td>\n",
       "      <td>сотрудник</td>\n",
       "      <td>0</td>\n",
       "      <td>253875</td>\n",
       "      <td>покупка жилья</td>\n",
       "      <td>B</td>\n",
       "    </tr>\n",
       "    <tr>\n",
       "      <td>1</td>\n",
       "      <td>1</td>\n",
       "      <td>4024</td>\n",
       "      <td>36</td>\n",
       "      <td>1</td>\n",
       "      <td>0</td>\n",
       "      <td>F</td>\n",
       "      <td>сотрудник</td>\n",
       "      <td>0</td>\n",
       "      <td>112080</td>\n",
       "      <td>приобретение автомобиля</td>\n",
       "      <td>C</td>\n",
       "    </tr>\n",
       "    <tr>\n",
       "      <td>2</td>\n",
       "      <td>0</td>\n",
       "      <td>5623</td>\n",
       "      <td>33</td>\n",
       "      <td>1</td>\n",
       "      <td>0</td>\n",
       "      <td>M</td>\n",
       "      <td>сотрудник</td>\n",
       "      <td>0</td>\n",
       "      <td>145885</td>\n",
       "      <td>покупка жилья</td>\n",
       "      <td>C</td>\n",
       "    </tr>\n",
       "    <tr>\n",
       "      <td>3</td>\n",
       "      <td>3</td>\n",
       "      <td>4124</td>\n",
       "      <td>32</td>\n",
       "      <td>1</td>\n",
       "      <td>0</td>\n",
       "      <td>M</td>\n",
       "      <td>сотрудник</td>\n",
       "      <td>0</td>\n",
       "      <td>267628</td>\n",
       "      <td>дополнительное образование</td>\n",
       "      <td>B</td>\n",
       "    </tr>\n",
       "    <tr>\n",
       "      <td>4</td>\n",
       "      <td>0</td>\n",
       "      <td>926</td>\n",
       "      <td>27</td>\n",
       "      <td>0</td>\n",
       "      <td>1</td>\n",
       "      <td>M</td>\n",
       "      <td>компаньон</td>\n",
       "      <td>0</td>\n",
       "      <td>255763</td>\n",
       "      <td>покупка жилья</td>\n",
       "      <td>B</td>\n",
       "    </tr>\n",
       "  </tbody>\n",
       "</table>\n",
       "</div>"
      ],
      "text/plain": [
       "   children  days_employed  dob_years  education_id  family_status_id gender  \\\n",
       "0         1           8437         42             0                 0      F   \n",
       "1         1           4024         36             1                 0      F   \n",
       "2         0           5623         33             1                 0      M   \n",
       "3         3           4124         32             1                 0      M   \n",
       "4         0            926         27             0                 1      M   \n",
       "\n",
       "  income_type  debt  total_income                     purpose  \\\n",
       "0   сотрудник     0        253875               покупка жилья   \n",
       "1   сотрудник     0        112080     приобретение автомобиля   \n",
       "2   сотрудник     0        145885               покупка жилья   \n",
       "3   сотрудник     0        267628  дополнительное образование   \n",
       "4   компаньон     0        255763               покупка жилья   \n",
       "\n",
       "  total_income_category  \n",
       "0                     B  \n",
       "1                     C  \n",
       "2                     C  \n",
       "3                     B  \n",
       "4                     B  "
      ]
     },
     "execution_count": 385,
     "metadata": {},
     "output_type": "execute_result"
    }
   ],
   "source": [
    "def total_income_category(income): # создаем функции категоризации по доходу\n",
    "    if income <= 30000:\n",
    "        return 'E'\n",
    "    if 30001 <= income <= 50000:\n",
    "        return 'D'\n",
    "    if 50001 <= income <= 200000:\n",
    "        return 'C'\n",
    "    if 200001 <= income <= 1000000:\n",
    "        return 'B'\n",
    "    if income >= 1000001:\n",
    "        return 'A'\n",
    "    \n",
    "df['total_income_category'] = df['total_income'].apply(total_income_category)\n",
    "df.head()"
   ]
  },
  {
   "cell_type": "markdown",
   "id": "edd623f4",
   "metadata": {},
   "source": [
    "## Шаг 2.7. Категоризация целей кредита."
   ]
  },
  {
   "cell_type": "markdown",
   "id": "73cb5b0d",
   "metadata": {},
   "source": [
    "Объединим данные целей в категории:\n",
    "* операции с автомобилем;\n",
    "* операции с недвижимостью;\n",
    "* проведение свадьбы;\n",
    "* получение образования;"
   ]
  },
  {
   "cell_type": "code",
   "execution_count": 386,
   "id": "35dd4e66",
   "metadata": {
    "scrolled": true
   },
   "outputs": [
    {
     "data": {
      "text/html": [
       "<div>\n",
       "<style scoped>\n",
       "    .dataframe tbody tr th:only-of-type {\n",
       "        vertical-align: middle;\n",
       "    }\n",
       "\n",
       "    .dataframe tbody tr th {\n",
       "        vertical-align: top;\n",
       "    }\n",
       "\n",
       "    .dataframe thead th {\n",
       "        text-align: right;\n",
       "    }\n",
       "</style>\n",
       "<table border=\"1\" class=\"dataframe\">\n",
       "  <thead>\n",
       "    <tr style=\"text-align: right;\">\n",
       "      <th></th>\n",
       "      <th>children</th>\n",
       "      <th>days_employed</th>\n",
       "      <th>dob_years</th>\n",
       "      <th>education_id</th>\n",
       "      <th>family_status_id</th>\n",
       "      <th>gender</th>\n",
       "      <th>income_type</th>\n",
       "      <th>debt</th>\n",
       "      <th>total_income_category</th>\n",
       "      <th>purpose_category</th>\n",
       "    </tr>\n",
       "  </thead>\n",
       "  <tbody>\n",
       "    <tr>\n",
       "      <td>0</td>\n",
       "      <td>1</td>\n",
       "      <td>8437</td>\n",
       "      <td>42</td>\n",
       "      <td>0</td>\n",
       "      <td>0</td>\n",
       "      <td>F</td>\n",
       "      <td>сотрудник</td>\n",
       "      <td>0</td>\n",
       "      <td>B</td>\n",
       "      <td>операции с недвижимостью</td>\n",
       "    </tr>\n",
       "    <tr>\n",
       "      <td>1</td>\n",
       "      <td>1</td>\n",
       "      <td>4024</td>\n",
       "      <td>36</td>\n",
       "      <td>1</td>\n",
       "      <td>0</td>\n",
       "      <td>F</td>\n",
       "      <td>сотрудник</td>\n",
       "      <td>0</td>\n",
       "      <td>C</td>\n",
       "      <td>операции с автомобилем</td>\n",
       "    </tr>\n",
       "    <tr>\n",
       "      <td>2</td>\n",
       "      <td>0</td>\n",
       "      <td>5623</td>\n",
       "      <td>33</td>\n",
       "      <td>1</td>\n",
       "      <td>0</td>\n",
       "      <td>M</td>\n",
       "      <td>сотрудник</td>\n",
       "      <td>0</td>\n",
       "      <td>C</td>\n",
       "      <td>операции с недвижимостью</td>\n",
       "    </tr>\n",
       "    <tr>\n",
       "      <td>3</td>\n",
       "      <td>3</td>\n",
       "      <td>4124</td>\n",
       "      <td>32</td>\n",
       "      <td>1</td>\n",
       "      <td>0</td>\n",
       "      <td>M</td>\n",
       "      <td>сотрудник</td>\n",
       "      <td>0</td>\n",
       "      <td>B</td>\n",
       "      <td>получение образования</td>\n",
       "    </tr>\n",
       "    <tr>\n",
       "      <td>4</td>\n",
       "      <td>0</td>\n",
       "      <td>926</td>\n",
       "      <td>27</td>\n",
       "      <td>0</td>\n",
       "      <td>1</td>\n",
       "      <td>M</td>\n",
       "      <td>компаньон</td>\n",
       "      <td>0</td>\n",
       "      <td>B</td>\n",
       "      <td>операции с недвижимостью</td>\n",
       "    </tr>\n",
       "  </tbody>\n",
       "</table>\n",
       "</div>"
      ],
      "text/plain": [
       "   children  days_employed  dob_years  education_id  family_status_id gender  \\\n",
       "0         1           8437         42             0                 0      F   \n",
       "1         1           4024         36             1                 0      F   \n",
       "2         0           5623         33             1                 0      M   \n",
       "3         3           4124         32             1                 0      M   \n",
       "4         0            926         27             0                 1      M   \n",
       "\n",
       "  income_type  debt total_income_category          purpose_category  \n",
       "0   сотрудник     0                     B  операции с недвижимостью  \n",
       "1   сотрудник     0                     C    операции с автомобилем  \n",
       "2   сотрудник     0                     C  операции с недвижимостью  \n",
       "3   сотрудник     0                     B     получение образования  \n",
       "4   компаньон     0                     B  операции с недвижимостью  "
      ]
     },
     "metadata": {},
     "output_type": "display_data"
    }
   ],
   "source": [
    "def purpose_category(list):\n",
    "    if 'авто' in list:\n",
    "        return \"операции с автомобилем\"\n",
    "    if \"образ\" in list:\n",
    "        return \"получение образования\"\n",
    "    if \"свад\" in list:\n",
    "        return \"проведение свадьбы\"\n",
    "    if \"недвиж\" in list:\n",
    "        return \"операции с недвижимостью\"\n",
    "    if \"строи\" in list:\n",
    "        return \"операции с недвижимостью\"\n",
    "    if \"жил\" in list:\n",
    "        return \"операции с недвижимостью\"\n",
    "\n",
    "df['purpose_category'] = df['purpose'].apply(purpose_category)\n",
    "df = df[['children','days_employed','dob_years','education_id','family_status_id','gender','income_type','debt','total_income_category','purpose_category']]\n",
    "display(df.head())"
   ]
  },
  {
   "cell_type": "markdown",
   "id": "c48be576",
   "metadata": {},
   "source": [
    "<div class=\"alert alert-danger\">\n",
    "<b>❌ Комментарий ревьюера:</b> Чтобы избавиться от хардкода, можно заменить данные через if...else:\n",
    "        \n",
    "        if \"свадьба\" in df.purpose:\n",
    "            df.purpose_category = \"свадьба\" \n",
    "        elif \" авто\" in df.purpose:\n",
    "            df.purpose_category = \"операции с автомобилем\"\n",
    "        "
   ]
  },
  {
   "cell_type": "markdown",
   "id": "daa86091",
   "metadata": {},
   "source": [
    "<div class=\"alert alert-info\">\n",
    "<b> Комментарий студента:</b> Вау!!! Так намного легче... Странно что после категоризаци, мне не пришел этот метод в голову..."
   ]
  },
  {
   "cell_type": "markdown",
   "id": "89fc46df",
   "metadata": {},
   "source": [
    "<div class=\"alert alert-success\">\n",
    "<b>✔️ Комментарий ревьюера V2:</b> Получилось компактно и быстро. Отлично!"
   ]
  },
  {
   "cell_type": "markdown",
   "id": "9840f9c0",
   "metadata": {},
   "source": [
    "## Шаг 2.8. Удаление полных дубликатов."
   ]
  },
  {
   "cell_type": "markdown",
   "id": "c942ccd1",
   "metadata": {},
   "source": [
    "Теперь можно проверить таблицу на наличие дубликатов."
   ]
  },
  {
   "cell_type": "code",
   "execution_count": 475,
   "id": "84da8e40",
   "metadata": {},
   "outputs": [
    {
     "data": {
      "text/html": [
       "<div>\n",
       "<style scoped>\n",
       "    .dataframe tbody tr th:only-of-type {\n",
       "        vertical-align: middle;\n",
       "    }\n",
       "\n",
       "    .dataframe tbody tr th {\n",
       "        vertical-align: top;\n",
       "    }\n",
       "\n",
       "    .dataframe thead th {\n",
       "        text-align: right;\n",
       "    }\n",
       "</style>\n",
       "<table border=\"1\" class=\"dataframe\">\n",
       "  <thead>\n",
       "    <tr style=\"text-align: right;\">\n",
       "      <th></th>\n",
       "      <th>children</th>\n",
       "      <th>days_employed</th>\n",
       "      <th>dob_years</th>\n",
       "      <th>education_id</th>\n",
       "      <th>family_status_id</th>\n",
       "      <th>gender</th>\n",
       "      <th>income_type</th>\n",
       "      <th>debt</th>\n",
       "      <th>total_income_category</th>\n",
       "      <th>purpose_category</th>\n",
       "    </tr>\n",
       "  </thead>\n",
       "  <tbody>\n",
       "    <tr>\n",
       "      <td>292</td>\n",
       "      <td>0</td>\n",
       "      <td>1311</td>\n",
       "      <td>27</td>\n",
       "      <td>1</td>\n",
       "      <td>0</td>\n",
       "      <td>M</td>\n",
       "      <td>компаньон</td>\n",
       "      <td>0</td>\n",
       "      <td>C</td>\n",
       "      <td>операции с недвижимостью</td>\n",
       "    </tr>\n",
       "    <tr>\n",
       "      <td>680</td>\n",
       "      <td>0</td>\n",
       "      <td>1311</td>\n",
       "      <td>57</td>\n",
       "      <td>1</td>\n",
       "      <td>1</td>\n",
       "      <td>F</td>\n",
       "      <td>компаньон</td>\n",
       "      <td>0</td>\n",
       "      <td>C</td>\n",
       "      <td>получение образования</td>\n",
       "    </tr>\n",
       "    <tr>\n",
       "      <td>879</td>\n",
       "      <td>0</td>\n",
       "      <td>1360</td>\n",
       "      <td>44</td>\n",
       "      <td>1</td>\n",
       "      <td>1</td>\n",
       "      <td>F</td>\n",
       "      <td>сотрудник</td>\n",
       "      <td>0</td>\n",
       "      <td>C</td>\n",
       "      <td>операции с недвижимостью</td>\n",
       "    </tr>\n",
       "    <tr>\n",
       "      <td>1021</td>\n",
       "      <td>0</td>\n",
       "      <td>1360</td>\n",
       "      <td>54</td>\n",
       "      <td>1</td>\n",
       "      <td>1</td>\n",
       "      <td>M</td>\n",
       "      <td>сотрудник</td>\n",
       "      <td>0</td>\n",
       "      <td>C</td>\n",
       "      <td>проведение свадьбы</td>\n",
       "    </tr>\n",
       "    <tr>\n",
       "      <td>1819</td>\n",
       "      <td>1</td>\n",
       "      <td>1360</td>\n",
       "      <td>49</td>\n",
       "      <td>0</td>\n",
       "      <td>0</td>\n",
       "      <td>F</td>\n",
       "      <td>сотрудник</td>\n",
       "      <td>0</td>\n",
       "      <td>C</td>\n",
       "      <td>операции с недвижимостью</td>\n",
       "    </tr>\n",
       "    <tr>\n",
       "      <td>...</td>\n",
       "      <td>...</td>\n",
       "      <td>...</td>\n",
       "      <td>...</td>\n",
       "      <td>...</td>\n",
       "      <td>...</td>\n",
       "      <td>...</td>\n",
       "      <td>...</td>\n",
       "      <td>...</td>\n",
       "      <td>...</td>\n",
       "      <td>...</td>\n",
       "    </tr>\n",
       "    <tr>\n",
       "      <td>17308</td>\n",
       "      <td>0</td>\n",
       "      <td>1360</td>\n",
       "      <td>48</td>\n",
       "      <td>1</td>\n",
       "      <td>0</td>\n",
       "      <td>F</td>\n",
       "      <td>сотрудник</td>\n",
       "      <td>0</td>\n",
       "      <td>C</td>\n",
       "      <td>операции с автомобилем</td>\n",
       "    </tr>\n",
       "    <tr>\n",
       "      <td>17364</td>\n",
       "      <td>1</td>\n",
       "      <td>1360</td>\n",
       "      <td>30</td>\n",
       "      <td>0</td>\n",
       "      <td>0</td>\n",
       "      <td>F</td>\n",
       "      <td>сотрудник</td>\n",
       "      <td>0</td>\n",
       "      <td>C</td>\n",
       "      <td>операции с недвижимостью</td>\n",
       "    </tr>\n",
       "    <tr>\n",
       "      <td>17432</td>\n",
       "      <td>0</td>\n",
       "      <td>1360</td>\n",
       "      <td>50</td>\n",
       "      <td>1</td>\n",
       "      <td>0</td>\n",
       "      <td>M</td>\n",
       "      <td>сотрудник</td>\n",
       "      <td>0</td>\n",
       "      <td>C</td>\n",
       "      <td>операции с недвижимостью</td>\n",
       "    </tr>\n",
       "    <tr>\n",
       "      <td>17453</td>\n",
       "      <td>0</td>\n",
       "      <td>1311</td>\n",
       "      <td>52</td>\n",
       "      <td>1</td>\n",
       "      <td>0</td>\n",
       "      <td>F</td>\n",
       "      <td>компаньон</td>\n",
       "      <td>0</td>\n",
       "      <td>C</td>\n",
       "      <td>операции с недвижимостью</td>\n",
       "    </tr>\n",
       "    <tr>\n",
       "      <td>17543</td>\n",
       "      <td>1</td>\n",
       "      <td>1360</td>\n",
       "      <td>42</td>\n",
       "      <td>1</td>\n",
       "      <td>0</td>\n",
       "      <td>F</td>\n",
       "      <td>сотрудник</td>\n",
       "      <td>0</td>\n",
       "      <td>C</td>\n",
       "      <td>операции с недвижимостью</td>\n",
       "    </tr>\n",
       "  </tbody>\n",
       "</table>\n",
       "<p>289 rows × 10 columns</p>\n",
       "</div>"
      ],
      "text/plain": [
       "       children  days_employed  dob_years  education_id  family_status_id  \\\n",
       "292           0           1311         27             1                 0   \n",
       "680           0           1311         57             1                 1   \n",
       "879           0           1360         44             1                 1   \n",
       "1021          0           1360         54             1                 1   \n",
       "1819          1           1360         49             0                 0   \n",
       "...         ...            ...        ...           ...               ...   \n",
       "17308         0           1360         48             1                 0   \n",
       "17364         1           1360         30             0                 0   \n",
       "17432         0           1360         50             1                 0   \n",
       "17453         0           1311         52             1                 0   \n",
       "17543         1           1360         42             1                 0   \n",
       "\n",
       "      gender income_type  debt total_income_category          purpose_category  \n",
       "292        M   компаньон     0                     C  операции с недвижимостью  \n",
       "680        F   компаньон     0                     C     получение образования  \n",
       "879        F   сотрудник     0                     C  операции с недвижимостью  \n",
       "1021       M   сотрудник     0                     C        проведение свадьбы  \n",
       "1819       F   сотрудник     0                     C  операции с недвижимостью  \n",
       "...      ...         ...   ...                   ...                       ...  \n",
       "17308      F   сотрудник     0                     C    операции с автомобилем  \n",
       "17364      F   сотрудник     0                     C  операции с недвижимостью  \n",
       "17432      M   сотрудник     0                     C  операции с недвижимостью  \n",
       "17453      F   компаньон     0                     C  операции с недвижимостью  \n",
       "17543      F   сотрудник     0                     C  операции с недвижимостью  \n",
       "\n",
       "[289 rows x 10 columns]"
      ]
     },
     "metadata": {},
     "output_type": "display_data"
    },
    {
     "name": "stdout",
     "output_type": "stream",
     "text": [
      "Сумма дубликатов: 289\n",
      "\n",
      "0    203\n",
      "1     67\n",
      "2     17\n",
      "Name: children, dtype: int64\n"
     ]
    },
    {
     "data": {
      "text/html": [
       "<div>\n",
       "<style scoped>\n",
       "    .dataframe tbody tr th:only-of-type {\n",
       "        vertical-align: middle;\n",
       "    }\n",
       "\n",
       "    .dataframe tbody tr th {\n",
       "        vertical-align: top;\n",
       "    }\n",
       "\n",
       "    .dataframe thead th {\n",
       "        text-align: right;\n",
       "    }\n",
       "</style>\n",
       "<table border=\"1\" class=\"dataframe\">\n",
       "  <thead>\n",
       "    <tr style=\"text-align: right;\">\n",
       "      <th></th>\n",
       "      <th>children</th>\n",
       "      <th>days_employed</th>\n",
       "      <th>dob_years</th>\n",
       "      <th>education_id</th>\n",
       "      <th>family_status_id</th>\n",
       "      <th>gender</th>\n",
       "      <th>income_type</th>\n",
       "      <th>debt</th>\n",
       "      <th>total_income_category</th>\n",
       "      <th>purpose_category</th>\n",
       "    </tr>\n",
       "  </thead>\n",
       "  <tbody>\n",
       "    <tr>\n",
       "      <td>292</td>\n",
       "      <td>0</td>\n",
       "      <td>1311</td>\n",
       "      <td>27</td>\n",
       "      <td>1</td>\n",
       "      <td>0</td>\n",
       "      <td>M</td>\n",
       "      <td>компаньон</td>\n",
       "      <td>0</td>\n",
       "      <td>C</td>\n",
       "      <td>операции с недвижимостью</td>\n",
       "    </tr>\n",
       "    <tr>\n",
       "      <td>680</td>\n",
       "      <td>0</td>\n",
       "      <td>1311</td>\n",
       "      <td>57</td>\n",
       "      <td>1</td>\n",
       "      <td>1</td>\n",
       "      <td>F</td>\n",
       "      <td>компаньон</td>\n",
       "      <td>0</td>\n",
       "      <td>C</td>\n",
       "      <td>получение образования</td>\n",
       "    </tr>\n",
       "    <tr>\n",
       "      <td>879</td>\n",
       "      <td>0</td>\n",
       "      <td>1360</td>\n",
       "      <td>44</td>\n",
       "      <td>1</td>\n",
       "      <td>1</td>\n",
       "      <td>F</td>\n",
       "      <td>сотрудник</td>\n",
       "      <td>0</td>\n",
       "      <td>C</td>\n",
       "      <td>операции с недвижимостью</td>\n",
       "    </tr>\n",
       "    <tr>\n",
       "      <td>1021</td>\n",
       "      <td>0</td>\n",
       "      <td>1360</td>\n",
       "      <td>54</td>\n",
       "      <td>1</td>\n",
       "      <td>1</td>\n",
       "      <td>M</td>\n",
       "      <td>сотрудник</td>\n",
       "      <td>0</td>\n",
       "      <td>C</td>\n",
       "      <td>проведение свадьбы</td>\n",
       "    </tr>\n",
       "    <tr>\n",
       "      <td>1926</td>\n",
       "      <td>0</td>\n",
       "      <td>1360</td>\n",
       "      <td>47</td>\n",
       "      <td>1</td>\n",
       "      <td>0</td>\n",
       "      <td>M</td>\n",
       "      <td>сотрудник</td>\n",
       "      <td>0</td>\n",
       "      <td>C</td>\n",
       "      <td>операции с недвижимостью</td>\n",
       "    </tr>\n",
       "  </tbody>\n",
       "</table>\n",
       "</div>"
      ],
      "text/plain": [
       "      children  days_employed  dob_years  education_id  family_status_id  \\\n",
       "292          0           1311         27             1                 0   \n",
       "680          0           1311         57             1                 1   \n",
       "879          0           1360         44             1                 1   \n",
       "1021         0           1360         54             1                 1   \n",
       "1926         0           1360         47             1                 0   \n",
       "\n",
       "     gender income_type  debt total_income_category          purpose_category  \n",
       "292       M   компаньон     0                     C  операции с недвижимостью  \n",
       "680       F   компаньон     0                     C     получение образования  \n",
       "879       F   сотрудник     0                     C  операции с недвижимостью  \n",
       "1021      M   сотрудник     0                     C        проведение свадьбы  \n",
       "1926      M   сотрудник     0                     C  операции с недвижимостью  "
      ]
     },
     "metadata": {},
     "output_type": "display_data"
    },
    {
     "name": "stdout",
     "output_type": "stream",
     "text": [
      "1360    221\n",
      "1311     52\n",
      "2385      9\n",
      "Name: days_employed, dtype: int64\n"
     ]
    },
    {
     "data": {
      "text/html": [
       "<div>\n",
       "<style scoped>\n",
       "    .dataframe tbody tr th:only-of-type {\n",
       "        vertical-align: middle;\n",
       "    }\n",
       "\n",
       "    .dataframe tbody tr th {\n",
       "        vertical-align: top;\n",
       "    }\n",
       "\n",
       "    .dataframe thead th {\n",
       "        text-align: right;\n",
       "    }\n",
       "</style>\n",
       "<table border=\"1\" class=\"dataframe\">\n",
       "  <thead>\n",
       "    <tr style=\"text-align: right;\">\n",
       "      <th></th>\n",
       "      <th>children</th>\n",
       "      <th>days_employed</th>\n",
       "      <th>dob_years</th>\n",
       "      <th>education_id</th>\n",
       "      <th>family_status_id</th>\n",
       "      <th>gender</th>\n",
       "      <th>income_type</th>\n",
       "      <th>debt</th>\n",
       "      <th>total_income_category</th>\n",
       "      <th>purpose_category</th>\n",
       "    </tr>\n",
       "  </thead>\n",
       "  <tbody>\n",
       "    <tr>\n",
       "      <td>879</td>\n",
       "      <td>0</td>\n",
       "      <td>1360</td>\n",
       "      <td>44</td>\n",
       "      <td>1</td>\n",
       "      <td>1</td>\n",
       "      <td>F</td>\n",
       "      <td>сотрудник</td>\n",
       "      <td>0</td>\n",
       "      <td>C</td>\n",
       "      <td>операции с недвижимостью</td>\n",
       "    </tr>\n",
       "    <tr>\n",
       "      <td>1021</td>\n",
       "      <td>0</td>\n",
       "      <td>1360</td>\n",
       "      <td>54</td>\n",
       "      <td>1</td>\n",
       "      <td>1</td>\n",
       "      <td>M</td>\n",
       "      <td>сотрудник</td>\n",
       "      <td>0</td>\n",
       "      <td>C</td>\n",
       "      <td>проведение свадьбы</td>\n",
       "    </tr>\n",
       "    <tr>\n",
       "      <td>1819</td>\n",
       "      <td>1</td>\n",
       "      <td>1360</td>\n",
       "      <td>49</td>\n",
       "      <td>0</td>\n",
       "      <td>0</td>\n",
       "      <td>F</td>\n",
       "      <td>сотрудник</td>\n",
       "      <td>0</td>\n",
       "      <td>C</td>\n",
       "      <td>операции с недвижимостью</td>\n",
       "    </tr>\n",
       "    <tr>\n",
       "      <td>1926</td>\n",
       "      <td>0</td>\n",
       "      <td>1360</td>\n",
       "      <td>47</td>\n",
       "      <td>1</td>\n",
       "      <td>0</td>\n",
       "      <td>M</td>\n",
       "      <td>сотрудник</td>\n",
       "      <td>0</td>\n",
       "      <td>C</td>\n",
       "      <td>операции с недвижимостью</td>\n",
       "    </tr>\n",
       "    <tr>\n",
       "      <td>2330</td>\n",
       "      <td>0</td>\n",
       "      <td>1360</td>\n",
       "      <td>41</td>\n",
       "      <td>1</td>\n",
       "      <td>0</td>\n",
       "      <td>F</td>\n",
       "      <td>сотрудник</td>\n",
       "      <td>0</td>\n",
       "      <td>C</td>\n",
       "      <td>операции с недвижимостью</td>\n",
       "    </tr>\n",
       "  </tbody>\n",
       "</table>\n",
       "</div>"
      ],
      "text/plain": [
       "      children  days_employed  dob_years  education_id  family_status_id  \\\n",
       "879          0           1360         44             1                 1   \n",
       "1021         0           1360         54             1                 1   \n",
       "1819         1           1360         49             0                 0   \n",
       "1926         0           1360         47             1                 0   \n",
       "2330         0           1360         41             1                 0   \n",
       "\n",
       "     gender income_type  debt total_income_category          purpose_category  \n",
       "879       F   сотрудник     0                     C  операции с недвижимостью  \n",
       "1021      M   сотрудник     0                     C        проведение свадьбы  \n",
       "1819      F   сотрудник     0                     C  операции с недвижимостью  \n",
       "1926      M   сотрудник     0                     C  операции с недвижимостью  \n",
       "2330      F   сотрудник     0                     C  операции с недвижимостью  "
      ]
     },
     "metadata": {},
     "output_type": "display_data"
    },
    {
     "name": "stdout",
     "output_type": "stream",
     "text": [
      "47    20\n",
      "42    14\n",
      "49    14\n",
      "Name: dob_years, dtype: int64\n"
     ]
    },
    {
     "data": {
      "text/html": [
       "<div>\n",
       "<style scoped>\n",
       "    .dataframe tbody tr th:only-of-type {\n",
       "        vertical-align: middle;\n",
       "    }\n",
       "\n",
       "    .dataframe tbody tr th {\n",
       "        vertical-align: top;\n",
       "    }\n",
       "\n",
       "    .dataframe thead th {\n",
       "        text-align: right;\n",
       "    }\n",
       "</style>\n",
       "<table border=\"1\" class=\"dataframe\">\n",
       "  <thead>\n",
       "    <tr style=\"text-align: right;\">\n",
       "      <th></th>\n",
       "      <th>children</th>\n",
       "      <th>days_employed</th>\n",
       "      <th>dob_years</th>\n",
       "      <th>education_id</th>\n",
       "      <th>family_status_id</th>\n",
       "      <th>gender</th>\n",
       "      <th>income_type</th>\n",
       "      <th>debt</th>\n",
       "      <th>total_income_category</th>\n",
       "      <th>purpose_category</th>\n",
       "    </tr>\n",
       "  </thead>\n",
       "  <tbody>\n",
       "    <tr>\n",
       "      <td>1926</td>\n",
       "      <td>0</td>\n",
       "      <td>1360</td>\n",
       "      <td>47</td>\n",
       "      <td>1</td>\n",
       "      <td>0</td>\n",
       "      <td>M</td>\n",
       "      <td>сотрудник</td>\n",
       "      <td>0</td>\n",
       "      <td>C</td>\n",
       "      <td>операции с недвижимостью</td>\n",
       "    </tr>\n",
       "    <tr>\n",
       "      <td>4061</td>\n",
       "      <td>0</td>\n",
       "      <td>1360</td>\n",
       "      <td>47</td>\n",
       "      <td>1</td>\n",
       "      <td>0</td>\n",
       "      <td>M</td>\n",
       "      <td>сотрудник</td>\n",
       "      <td>0</td>\n",
       "      <td>C</td>\n",
       "      <td>операции с недвижимостью</td>\n",
       "    </tr>\n",
       "    <tr>\n",
       "      <td>6879</td>\n",
       "      <td>0</td>\n",
       "      <td>1311</td>\n",
       "      <td>47</td>\n",
       "      <td>1</td>\n",
       "      <td>0</td>\n",
       "      <td>F</td>\n",
       "      <td>компаньон</td>\n",
       "      <td>0</td>\n",
       "      <td>C</td>\n",
       "      <td>операции с недвижимостью</td>\n",
       "    </tr>\n",
       "    <tr>\n",
       "      <td>7071</td>\n",
       "      <td>0</td>\n",
       "      <td>1360</td>\n",
       "      <td>47</td>\n",
       "      <td>0</td>\n",
       "      <td>0</td>\n",
       "      <td>F</td>\n",
       "      <td>сотрудник</td>\n",
       "      <td>0</td>\n",
       "      <td>C</td>\n",
       "      <td>получение образования</td>\n",
       "    </tr>\n",
       "    <tr>\n",
       "      <td>7373</td>\n",
       "      <td>0</td>\n",
       "      <td>1360</td>\n",
       "      <td>47</td>\n",
       "      <td>0</td>\n",
       "      <td>0</td>\n",
       "      <td>F</td>\n",
       "      <td>сотрудник</td>\n",
       "      <td>0</td>\n",
       "      <td>C</td>\n",
       "      <td>операции с недвижимостью</td>\n",
       "    </tr>\n",
       "  </tbody>\n",
       "</table>\n",
       "</div>"
      ],
      "text/plain": [
       "      children  days_employed  dob_years  education_id  family_status_id  \\\n",
       "1926         0           1360         47             1                 0   \n",
       "4061         0           1360         47             1                 0   \n",
       "6879         0           1311         47             1                 0   \n",
       "7071         0           1360         47             0                 0   \n",
       "7373         0           1360         47             0                 0   \n",
       "\n",
       "     gender income_type  debt total_income_category          purpose_category  \n",
       "1926      M   сотрудник     0                     C  операции с недвижимостью  \n",
       "4061      M   сотрудник     0                     C  операции с недвижимостью  \n",
       "6879      F   компаньон     0                     C  операции с недвижимостью  \n",
       "7071      F   сотрудник     0                     C     получение образования  \n",
       "7373      F   сотрудник     0                     C  операции с недвижимостью  "
      ]
     },
     "metadata": {},
     "output_type": "display_data"
    },
    {
     "name": "stdout",
     "output_type": "stream",
     "text": [
      "1    246\n",
      "0     43\n",
      "Name: education_id, dtype: int64\n"
     ]
    },
    {
     "data": {
      "text/html": [
       "<div>\n",
       "<style scoped>\n",
       "    .dataframe tbody tr th:only-of-type {\n",
       "        vertical-align: middle;\n",
       "    }\n",
       "\n",
       "    .dataframe tbody tr th {\n",
       "        vertical-align: top;\n",
       "    }\n",
       "\n",
       "    .dataframe thead th {\n",
       "        text-align: right;\n",
       "    }\n",
       "</style>\n",
       "<table border=\"1\" class=\"dataframe\">\n",
       "  <thead>\n",
       "    <tr style=\"text-align: right;\">\n",
       "      <th></th>\n",
       "      <th>children</th>\n",
       "      <th>days_employed</th>\n",
       "      <th>dob_years</th>\n",
       "      <th>education_id</th>\n",
       "      <th>family_status_id</th>\n",
       "      <th>gender</th>\n",
       "      <th>income_type</th>\n",
       "      <th>debt</th>\n",
       "      <th>total_income_category</th>\n",
       "      <th>purpose_category</th>\n",
       "    </tr>\n",
       "  </thead>\n",
       "  <tbody>\n",
       "    <tr>\n",
       "      <td>292</td>\n",
       "      <td>0</td>\n",
       "      <td>1311</td>\n",
       "      <td>27</td>\n",
       "      <td>1</td>\n",
       "      <td>0</td>\n",
       "      <td>M</td>\n",
       "      <td>компаньон</td>\n",
       "      <td>0</td>\n",
       "      <td>C</td>\n",
       "      <td>операции с недвижимостью</td>\n",
       "    </tr>\n",
       "    <tr>\n",
       "      <td>680</td>\n",
       "      <td>0</td>\n",
       "      <td>1311</td>\n",
       "      <td>57</td>\n",
       "      <td>1</td>\n",
       "      <td>1</td>\n",
       "      <td>F</td>\n",
       "      <td>компаньон</td>\n",
       "      <td>0</td>\n",
       "      <td>C</td>\n",
       "      <td>получение образования</td>\n",
       "    </tr>\n",
       "    <tr>\n",
       "      <td>879</td>\n",
       "      <td>0</td>\n",
       "      <td>1360</td>\n",
       "      <td>44</td>\n",
       "      <td>1</td>\n",
       "      <td>1</td>\n",
       "      <td>F</td>\n",
       "      <td>сотрудник</td>\n",
       "      <td>0</td>\n",
       "      <td>C</td>\n",
       "      <td>операции с недвижимостью</td>\n",
       "    </tr>\n",
       "    <tr>\n",
       "      <td>1021</td>\n",
       "      <td>0</td>\n",
       "      <td>1360</td>\n",
       "      <td>54</td>\n",
       "      <td>1</td>\n",
       "      <td>1</td>\n",
       "      <td>M</td>\n",
       "      <td>сотрудник</td>\n",
       "      <td>0</td>\n",
       "      <td>C</td>\n",
       "      <td>проведение свадьбы</td>\n",
       "    </tr>\n",
       "    <tr>\n",
       "      <td>1926</td>\n",
       "      <td>0</td>\n",
       "      <td>1360</td>\n",
       "      <td>47</td>\n",
       "      <td>1</td>\n",
       "      <td>0</td>\n",
       "      <td>M</td>\n",
       "      <td>сотрудник</td>\n",
       "      <td>0</td>\n",
       "      <td>C</td>\n",
       "      <td>операции с недвижимостью</td>\n",
       "    </tr>\n",
       "  </tbody>\n",
       "</table>\n",
       "</div>"
      ],
      "text/plain": [
       "      children  days_employed  dob_years  education_id  family_status_id  \\\n",
       "292          0           1311         27             1                 0   \n",
       "680          0           1311         57             1                 1   \n",
       "879          0           1360         44             1                 1   \n",
       "1021         0           1360         54             1                 1   \n",
       "1926         0           1360         47             1                 0   \n",
       "\n",
       "     gender income_type  debt total_income_category          purpose_category  \n",
       "292       M   компаньон     0                     C  операции с недвижимостью  \n",
       "680       F   компаньон     0                     C     получение образования  \n",
       "879       F   сотрудник     0                     C  операции с недвижимостью  \n",
       "1021      M   сотрудник     0                     C        проведение свадьбы  \n",
       "1926      M   сотрудник     0                     C  операции с недвижимостью  "
      ]
     },
     "metadata": {},
     "output_type": "display_data"
    },
    {
     "name": "stdout",
     "output_type": "stream",
     "text": [
      "0    230\n",
      "1     33\n",
      "4     23\n",
      "Name: family_status_id, dtype: int64\n"
     ]
    },
    {
     "data": {
      "text/html": [
       "<div>\n",
       "<style scoped>\n",
       "    .dataframe tbody tr th:only-of-type {\n",
       "        vertical-align: middle;\n",
       "    }\n",
       "\n",
       "    .dataframe tbody tr th {\n",
       "        vertical-align: top;\n",
       "    }\n",
       "\n",
       "    .dataframe thead th {\n",
       "        text-align: right;\n",
       "    }\n",
       "</style>\n",
       "<table border=\"1\" class=\"dataframe\">\n",
       "  <thead>\n",
       "    <tr style=\"text-align: right;\">\n",
       "      <th></th>\n",
       "      <th>children</th>\n",
       "      <th>days_employed</th>\n",
       "      <th>dob_years</th>\n",
       "      <th>education_id</th>\n",
       "      <th>family_status_id</th>\n",
       "      <th>gender</th>\n",
       "      <th>income_type</th>\n",
       "      <th>debt</th>\n",
       "      <th>total_income_category</th>\n",
       "      <th>purpose_category</th>\n",
       "    </tr>\n",
       "  </thead>\n",
       "  <tbody>\n",
       "    <tr>\n",
       "      <td>292</td>\n",
       "      <td>0</td>\n",
       "      <td>1311</td>\n",
       "      <td>27</td>\n",
       "      <td>1</td>\n",
       "      <td>0</td>\n",
       "      <td>M</td>\n",
       "      <td>компаньон</td>\n",
       "      <td>0</td>\n",
       "      <td>C</td>\n",
       "      <td>операции с недвижимостью</td>\n",
       "    </tr>\n",
       "    <tr>\n",
       "      <td>1819</td>\n",
       "      <td>1</td>\n",
       "      <td>1360</td>\n",
       "      <td>49</td>\n",
       "      <td>0</td>\n",
       "      <td>0</td>\n",
       "      <td>F</td>\n",
       "      <td>сотрудник</td>\n",
       "      <td>0</td>\n",
       "      <td>C</td>\n",
       "      <td>операции с недвижимостью</td>\n",
       "    </tr>\n",
       "    <tr>\n",
       "      <td>1926</td>\n",
       "      <td>0</td>\n",
       "      <td>1360</td>\n",
       "      <td>47</td>\n",
       "      <td>1</td>\n",
       "      <td>0</td>\n",
       "      <td>M</td>\n",
       "      <td>сотрудник</td>\n",
       "      <td>0</td>\n",
       "      <td>C</td>\n",
       "      <td>операции с недвижимостью</td>\n",
       "    </tr>\n",
       "    <tr>\n",
       "      <td>2330</td>\n",
       "      <td>0</td>\n",
       "      <td>1360</td>\n",
       "      <td>41</td>\n",
       "      <td>1</td>\n",
       "      <td>0</td>\n",
       "      <td>F</td>\n",
       "      <td>сотрудник</td>\n",
       "      <td>0</td>\n",
       "      <td>C</td>\n",
       "      <td>операции с недвижимостью</td>\n",
       "    </tr>\n",
       "    <tr>\n",
       "      <td>2464</td>\n",
       "      <td>1</td>\n",
       "      <td>1360</td>\n",
       "      <td>26</td>\n",
       "      <td>1</td>\n",
       "      <td>0</td>\n",
       "      <td>F</td>\n",
       "      <td>сотрудник</td>\n",
       "      <td>0</td>\n",
       "      <td>C</td>\n",
       "      <td>операции с недвижимостью</td>\n",
       "    </tr>\n",
       "  </tbody>\n",
       "</table>\n",
       "</div>"
      ],
      "text/plain": [
       "      children  days_employed  dob_years  education_id  family_status_id  \\\n",
       "292          0           1311         27             1                 0   \n",
       "1819         1           1360         49             0                 0   \n",
       "1926         0           1360         47             1                 0   \n",
       "2330         0           1360         41             1                 0   \n",
       "2464         1           1360         26             1                 0   \n",
       "\n",
       "     gender income_type  debt total_income_category          purpose_category  \n",
       "292       M   компаньон     0                     C  операции с недвижимостью  \n",
       "1819      F   сотрудник     0                     C  операции с недвижимостью  \n",
       "1926      M   сотрудник     0                     C  операции с недвижимостью  \n",
       "2330      F   сотрудник     0                     C  операции с недвижимостью  \n",
       "2464      F   сотрудник     0                     C  операции с недвижимостью  "
      ]
     },
     "metadata": {},
     "output_type": "display_data"
    },
    {
     "name": "stdout",
     "output_type": "stream",
     "text": [
      "F    202\n",
      "M     87\n",
      "Name: gender, dtype: int64\n"
     ]
    },
    {
     "data": {
      "text/html": [
       "<div>\n",
       "<style scoped>\n",
       "    .dataframe tbody tr th:only-of-type {\n",
       "        vertical-align: middle;\n",
       "    }\n",
       "\n",
       "    .dataframe tbody tr th {\n",
       "        vertical-align: top;\n",
       "    }\n",
       "\n",
       "    .dataframe thead th {\n",
       "        text-align: right;\n",
       "    }\n",
       "</style>\n",
       "<table border=\"1\" class=\"dataframe\">\n",
       "  <thead>\n",
       "    <tr style=\"text-align: right;\">\n",
       "      <th></th>\n",
       "      <th>children</th>\n",
       "      <th>days_employed</th>\n",
       "      <th>dob_years</th>\n",
       "      <th>education_id</th>\n",
       "      <th>family_status_id</th>\n",
       "      <th>gender</th>\n",
       "      <th>income_type</th>\n",
       "      <th>debt</th>\n",
       "      <th>total_income_category</th>\n",
       "      <th>purpose_category</th>\n",
       "    </tr>\n",
       "  </thead>\n",
       "  <tbody>\n",
       "    <tr>\n",
       "      <td>680</td>\n",
       "      <td>0</td>\n",
       "      <td>1311</td>\n",
       "      <td>57</td>\n",
       "      <td>1</td>\n",
       "      <td>1</td>\n",
       "      <td>F</td>\n",
       "      <td>компаньон</td>\n",
       "      <td>0</td>\n",
       "      <td>C</td>\n",
       "      <td>получение образования</td>\n",
       "    </tr>\n",
       "    <tr>\n",
       "      <td>879</td>\n",
       "      <td>0</td>\n",
       "      <td>1360</td>\n",
       "      <td>44</td>\n",
       "      <td>1</td>\n",
       "      <td>1</td>\n",
       "      <td>F</td>\n",
       "      <td>сотрудник</td>\n",
       "      <td>0</td>\n",
       "      <td>C</td>\n",
       "      <td>операции с недвижимостью</td>\n",
       "    </tr>\n",
       "    <tr>\n",
       "      <td>1819</td>\n",
       "      <td>1</td>\n",
       "      <td>1360</td>\n",
       "      <td>49</td>\n",
       "      <td>0</td>\n",
       "      <td>0</td>\n",
       "      <td>F</td>\n",
       "      <td>сотрудник</td>\n",
       "      <td>0</td>\n",
       "      <td>C</td>\n",
       "      <td>операции с недвижимостью</td>\n",
       "    </tr>\n",
       "    <tr>\n",
       "      <td>2330</td>\n",
       "      <td>0</td>\n",
       "      <td>1360</td>\n",
       "      <td>41</td>\n",
       "      <td>1</td>\n",
       "      <td>0</td>\n",
       "      <td>F</td>\n",
       "      <td>сотрудник</td>\n",
       "      <td>0</td>\n",
       "      <td>C</td>\n",
       "      <td>операции с недвижимостью</td>\n",
       "    </tr>\n",
       "    <tr>\n",
       "      <td>2464</td>\n",
       "      <td>1</td>\n",
       "      <td>1360</td>\n",
       "      <td>26</td>\n",
       "      <td>1</td>\n",
       "      <td>0</td>\n",
       "      <td>F</td>\n",
       "      <td>сотрудник</td>\n",
       "      <td>0</td>\n",
       "      <td>C</td>\n",
       "      <td>операции с недвижимостью</td>\n",
       "    </tr>\n",
       "  </tbody>\n",
       "</table>\n",
       "</div>"
      ],
      "text/plain": [
       "      children  days_employed  dob_years  education_id  family_status_id  \\\n",
       "680          0           1311         57             1                 1   \n",
       "879          0           1360         44             1                 1   \n",
       "1819         1           1360         49             0                 0   \n",
       "2330         0           1360         41             1                 0   \n",
       "2464         1           1360         26             1                 0   \n",
       "\n",
       "     gender income_type  debt total_income_category          purpose_category  \n",
       "680       F   компаньон     0                     C     получение образования  \n",
       "879       F   сотрудник     0                     C  операции с недвижимостью  \n",
       "1819      F   сотрудник     0                     C  операции с недвижимостью  \n",
       "2330      F   сотрудник     0                     C  операции с недвижимостью  \n",
       "2464      F   сотрудник     0                     C  операции с недвижимостью  "
      ]
     },
     "metadata": {},
     "output_type": "display_data"
    },
    {
     "name": "stdout",
     "output_type": "stream",
     "text": [
      "сотрудник      226\n",
      "компаньон       54\n",
      "госслужащий      9\n",
      "Name: income_type, dtype: int64\n"
     ]
    },
    {
     "data": {
      "text/html": [
       "<div>\n",
       "<style scoped>\n",
       "    .dataframe tbody tr th:only-of-type {\n",
       "        vertical-align: middle;\n",
       "    }\n",
       "\n",
       "    .dataframe tbody tr th {\n",
       "        vertical-align: top;\n",
       "    }\n",
       "\n",
       "    .dataframe thead th {\n",
       "        text-align: right;\n",
       "    }\n",
       "</style>\n",
       "<table border=\"1\" class=\"dataframe\">\n",
       "  <thead>\n",
       "    <tr style=\"text-align: right;\">\n",
       "      <th></th>\n",
       "      <th>children</th>\n",
       "      <th>days_employed</th>\n",
       "      <th>dob_years</th>\n",
       "      <th>education_id</th>\n",
       "      <th>family_status_id</th>\n",
       "      <th>gender</th>\n",
       "      <th>income_type</th>\n",
       "      <th>debt</th>\n",
       "      <th>total_income_category</th>\n",
       "      <th>purpose_category</th>\n",
       "    </tr>\n",
       "  </thead>\n",
       "  <tbody>\n",
       "    <tr>\n",
       "      <td>879</td>\n",
       "      <td>0</td>\n",
       "      <td>1360</td>\n",
       "      <td>44</td>\n",
       "      <td>1</td>\n",
       "      <td>1</td>\n",
       "      <td>F</td>\n",
       "      <td>сотрудник</td>\n",
       "      <td>0</td>\n",
       "      <td>C</td>\n",
       "      <td>операции с недвижимостью</td>\n",
       "    </tr>\n",
       "    <tr>\n",
       "      <td>1021</td>\n",
       "      <td>0</td>\n",
       "      <td>1360</td>\n",
       "      <td>54</td>\n",
       "      <td>1</td>\n",
       "      <td>1</td>\n",
       "      <td>M</td>\n",
       "      <td>сотрудник</td>\n",
       "      <td>0</td>\n",
       "      <td>C</td>\n",
       "      <td>проведение свадьбы</td>\n",
       "    </tr>\n",
       "    <tr>\n",
       "      <td>1819</td>\n",
       "      <td>1</td>\n",
       "      <td>1360</td>\n",
       "      <td>49</td>\n",
       "      <td>0</td>\n",
       "      <td>0</td>\n",
       "      <td>F</td>\n",
       "      <td>сотрудник</td>\n",
       "      <td>0</td>\n",
       "      <td>C</td>\n",
       "      <td>операции с недвижимостью</td>\n",
       "    </tr>\n",
       "    <tr>\n",
       "      <td>1926</td>\n",
       "      <td>0</td>\n",
       "      <td>1360</td>\n",
       "      <td>47</td>\n",
       "      <td>1</td>\n",
       "      <td>0</td>\n",
       "      <td>M</td>\n",
       "      <td>сотрудник</td>\n",
       "      <td>0</td>\n",
       "      <td>C</td>\n",
       "      <td>операции с недвижимостью</td>\n",
       "    </tr>\n",
       "    <tr>\n",
       "      <td>2330</td>\n",
       "      <td>0</td>\n",
       "      <td>1360</td>\n",
       "      <td>41</td>\n",
       "      <td>1</td>\n",
       "      <td>0</td>\n",
       "      <td>F</td>\n",
       "      <td>сотрудник</td>\n",
       "      <td>0</td>\n",
       "      <td>C</td>\n",
       "      <td>операции с недвижимостью</td>\n",
       "    </tr>\n",
       "  </tbody>\n",
       "</table>\n",
       "</div>"
      ],
      "text/plain": [
       "      children  days_employed  dob_years  education_id  family_status_id  \\\n",
       "879          0           1360         44             1                 1   \n",
       "1021         0           1360         54             1                 1   \n",
       "1819         1           1360         49             0                 0   \n",
       "1926         0           1360         47             1                 0   \n",
       "2330         0           1360         41             1                 0   \n",
       "\n",
       "     gender income_type  debt total_income_category          purpose_category  \n",
       "879       F   сотрудник     0                     C  операции с недвижимостью  \n",
       "1021      M   сотрудник     0                     C        проведение свадьбы  \n",
       "1819      F   сотрудник     0                     C  операции с недвижимостью  \n",
       "1926      M   сотрудник     0                     C  операции с недвижимостью  \n",
       "2330      F   сотрудник     0                     C  операции с недвижимостью  "
      ]
     },
     "metadata": {},
     "output_type": "display_data"
    },
    {
     "name": "stdout",
     "output_type": "stream",
     "text": [
      "0    287\n",
      "1      2\n",
      "Name: debt, dtype: int64\n"
     ]
    },
    {
     "data": {
      "text/html": [
       "<div>\n",
       "<style scoped>\n",
       "    .dataframe tbody tr th:only-of-type {\n",
       "        vertical-align: middle;\n",
       "    }\n",
       "\n",
       "    .dataframe tbody tr th {\n",
       "        vertical-align: top;\n",
       "    }\n",
       "\n",
       "    .dataframe thead th {\n",
       "        text-align: right;\n",
       "    }\n",
       "</style>\n",
       "<table border=\"1\" class=\"dataframe\">\n",
       "  <thead>\n",
       "    <tr style=\"text-align: right;\">\n",
       "      <th></th>\n",
       "      <th>children</th>\n",
       "      <th>days_employed</th>\n",
       "      <th>dob_years</th>\n",
       "      <th>education_id</th>\n",
       "      <th>family_status_id</th>\n",
       "      <th>gender</th>\n",
       "      <th>income_type</th>\n",
       "      <th>debt</th>\n",
       "      <th>total_income_category</th>\n",
       "      <th>purpose_category</th>\n",
       "    </tr>\n",
       "  </thead>\n",
       "  <tbody>\n",
       "    <tr>\n",
       "      <td>292</td>\n",
       "      <td>0</td>\n",
       "      <td>1311</td>\n",
       "      <td>27</td>\n",
       "      <td>1</td>\n",
       "      <td>0</td>\n",
       "      <td>M</td>\n",
       "      <td>компаньон</td>\n",
       "      <td>0</td>\n",
       "      <td>C</td>\n",
       "      <td>операции с недвижимостью</td>\n",
       "    </tr>\n",
       "    <tr>\n",
       "      <td>680</td>\n",
       "      <td>0</td>\n",
       "      <td>1311</td>\n",
       "      <td>57</td>\n",
       "      <td>1</td>\n",
       "      <td>1</td>\n",
       "      <td>F</td>\n",
       "      <td>компаньон</td>\n",
       "      <td>0</td>\n",
       "      <td>C</td>\n",
       "      <td>получение образования</td>\n",
       "    </tr>\n",
       "    <tr>\n",
       "      <td>879</td>\n",
       "      <td>0</td>\n",
       "      <td>1360</td>\n",
       "      <td>44</td>\n",
       "      <td>1</td>\n",
       "      <td>1</td>\n",
       "      <td>F</td>\n",
       "      <td>сотрудник</td>\n",
       "      <td>0</td>\n",
       "      <td>C</td>\n",
       "      <td>операции с недвижимостью</td>\n",
       "    </tr>\n",
       "    <tr>\n",
       "      <td>1021</td>\n",
       "      <td>0</td>\n",
       "      <td>1360</td>\n",
       "      <td>54</td>\n",
       "      <td>1</td>\n",
       "      <td>1</td>\n",
       "      <td>M</td>\n",
       "      <td>сотрудник</td>\n",
       "      <td>0</td>\n",
       "      <td>C</td>\n",
       "      <td>проведение свадьбы</td>\n",
       "    </tr>\n",
       "    <tr>\n",
       "      <td>1819</td>\n",
       "      <td>1</td>\n",
       "      <td>1360</td>\n",
       "      <td>49</td>\n",
       "      <td>0</td>\n",
       "      <td>0</td>\n",
       "      <td>F</td>\n",
       "      <td>сотрудник</td>\n",
       "      <td>0</td>\n",
       "      <td>C</td>\n",
       "      <td>операции с недвижимостью</td>\n",
       "    </tr>\n",
       "  </tbody>\n",
       "</table>\n",
       "</div>"
      ],
      "text/plain": [
       "      children  days_employed  dob_years  education_id  family_status_id  \\\n",
       "292          0           1311         27             1                 0   \n",
       "680          0           1311         57             1                 1   \n",
       "879          0           1360         44             1                 1   \n",
       "1021         0           1360         54             1                 1   \n",
       "1819         1           1360         49             0                 0   \n",
       "\n",
       "     gender income_type  debt total_income_category          purpose_category  \n",
       "292       M   компаньон     0                     C  операции с недвижимостью  \n",
       "680       F   компаньон     0                     C     получение образования  \n",
       "879       F   сотрудник     0                     C  операции с недвижимостью  \n",
       "1021      M   сотрудник     0                     C        проведение свадьбы  \n",
       "1819      F   сотрудник     0                     C  операции с недвижимостью  "
      ]
     },
     "metadata": {},
     "output_type": "display_data"
    },
    {
     "name": "stdout",
     "output_type": "stream",
     "text": [
      "C    288\n",
      "B      1\n",
      "Name: total_income_category, dtype: int64\n"
     ]
    },
    {
     "data": {
      "text/html": [
       "<div>\n",
       "<style scoped>\n",
       "    .dataframe tbody tr th:only-of-type {\n",
       "        vertical-align: middle;\n",
       "    }\n",
       "\n",
       "    .dataframe tbody tr th {\n",
       "        vertical-align: top;\n",
       "    }\n",
       "\n",
       "    .dataframe thead th {\n",
       "        text-align: right;\n",
       "    }\n",
       "</style>\n",
       "<table border=\"1\" class=\"dataframe\">\n",
       "  <thead>\n",
       "    <tr style=\"text-align: right;\">\n",
       "      <th></th>\n",
       "      <th>children</th>\n",
       "      <th>days_employed</th>\n",
       "      <th>dob_years</th>\n",
       "      <th>education_id</th>\n",
       "      <th>family_status_id</th>\n",
       "      <th>gender</th>\n",
       "      <th>income_type</th>\n",
       "      <th>debt</th>\n",
       "      <th>total_income_category</th>\n",
       "      <th>purpose_category</th>\n",
       "    </tr>\n",
       "  </thead>\n",
       "  <tbody>\n",
       "    <tr>\n",
       "      <td>292</td>\n",
       "      <td>0</td>\n",
       "      <td>1311</td>\n",
       "      <td>27</td>\n",
       "      <td>1</td>\n",
       "      <td>0</td>\n",
       "      <td>M</td>\n",
       "      <td>компаньон</td>\n",
       "      <td>0</td>\n",
       "      <td>C</td>\n",
       "      <td>операции с недвижимостью</td>\n",
       "    </tr>\n",
       "    <tr>\n",
       "      <td>680</td>\n",
       "      <td>0</td>\n",
       "      <td>1311</td>\n",
       "      <td>57</td>\n",
       "      <td>1</td>\n",
       "      <td>1</td>\n",
       "      <td>F</td>\n",
       "      <td>компаньон</td>\n",
       "      <td>0</td>\n",
       "      <td>C</td>\n",
       "      <td>получение образования</td>\n",
       "    </tr>\n",
       "    <tr>\n",
       "      <td>879</td>\n",
       "      <td>0</td>\n",
       "      <td>1360</td>\n",
       "      <td>44</td>\n",
       "      <td>1</td>\n",
       "      <td>1</td>\n",
       "      <td>F</td>\n",
       "      <td>сотрудник</td>\n",
       "      <td>0</td>\n",
       "      <td>C</td>\n",
       "      <td>операции с недвижимостью</td>\n",
       "    </tr>\n",
       "    <tr>\n",
       "      <td>1021</td>\n",
       "      <td>0</td>\n",
       "      <td>1360</td>\n",
       "      <td>54</td>\n",
       "      <td>1</td>\n",
       "      <td>1</td>\n",
       "      <td>M</td>\n",
       "      <td>сотрудник</td>\n",
       "      <td>0</td>\n",
       "      <td>C</td>\n",
       "      <td>проведение свадьбы</td>\n",
       "    </tr>\n",
       "    <tr>\n",
       "      <td>1819</td>\n",
       "      <td>1</td>\n",
       "      <td>1360</td>\n",
       "      <td>49</td>\n",
       "      <td>0</td>\n",
       "      <td>0</td>\n",
       "      <td>F</td>\n",
       "      <td>сотрудник</td>\n",
       "      <td>0</td>\n",
       "      <td>C</td>\n",
       "      <td>операции с недвижимостью</td>\n",
       "    </tr>\n",
       "  </tbody>\n",
       "</table>\n",
       "</div>"
      ],
      "text/plain": [
       "      children  days_employed  dob_years  education_id  family_status_id  \\\n",
       "292          0           1311         27             1                 0   \n",
       "680          0           1311         57             1                 1   \n",
       "879          0           1360         44             1                 1   \n",
       "1021         0           1360         54             1                 1   \n",
       "1819         1           1360         49             0                 0   \n",
       "\n",
       "     gender income_type  debt total_income_category          purpose_category  \n",
       "292       M   компаньон     0                     C  операции с недвижимостью  \n",
       "680       F   компаньон     0                     C     получение образования  \n",
       "879       F   сотрудник     0                     C  операции с недвижимостью  \n",
       "1021      M   сотрудник     0                     C        проведение свадьбы  \n",
       "1819      F   сотрудник     0                     C  операции с недвижимостью  "
      ]
     },
     "metadata": {},
     "output_type": "display_data"
    },
    {
     "name": "stdout",
     "output_type": "stream",
     "text": [
      "операции с недвижимостью    193\n",
      "получение образования        40\n",
      "операции с автомобилем       34\n",
      "Name: purpose_category, dtype: int64\n"
     ]
    },
    {
     "data": {
      "text/html": [
       "<div>\n",
       "<style scoped>\n",
       "    .dataframe tbody tr th:only-of-type {\n",
       "        vertical-align: middle;\n",
       "    }\n",
       "\n",
       "    .dataframe tbody tr th {\n",
       "        vertical-align: top;\n",
       "    }\n",
       "\n",
       "    .dataframe thead th {\n",
       "        text-align: right;\n",
       "    }\n",
       "</style>\n",
       "<table border=\"1\" class=\"dataframe\">\n",
       "  <thead>\n",
       "    <tr style=\"text-align: right;\">\n",
       "      <th></th>\n",
       "      <th>children</th>\n",
       "      <th>days_employed</th>\n",
       "      <th>dob_years</th>\n",
       "      <th>education_id</th>\n",
       "      <th>family_status_id</th>\n",
       "      <th>gender</th>\n",
       "      <th>income_type</th>\n",
       "      <th>debt</th>\n",
       "      <th>total_income_category</th>\n",
       "      <th>purpose_category</th>\n",
       "    </tr>\n",
       "  </thead>\n",
       "  <tbody>\n",
       "    <tr>\n",
       "      <td>292</td>\n",
       "      <td>0</td>\n",
       "      <td>1311</td>\n",
       "      <td>27</td>\n",
       "      <td>1</td>\n",
       "      <td>0</td>\n",
       "      <td>M</td>\n",
       "      <td>компаньон</td>\n",
       "      <td>0</td>\n",
       "      <td>C</td>\n",
       "      <td>операции с недвижимостью</td>\n",
       "    </tr>\n",
       "    <tr>\n",
       "      <td>879</td>\n",
       "      <td>0</td>\n",
       "      <td>1360</td>\n",
       "      <td>44</td>\n",
       "      <td>1</td>\n",
       "      <td>1</td>\n",
       "      <td>F</td>\n",
       "      <td>сотрудник</td>\n",
       "      <td>0</td>\n",
       "      <td>C</td>\n",
       "      <td>операции с недвижимостью</td>\n",
       "    </tr>\n",
       "    <tr>\n",
       "      <td>1819</td>\n",
       "      <td>1</td>\n",
       "      <td>1360</td>\n",
       "      <td>49</td>\n",
       "      <td>0</td>\n",
       "      <td>0</td>\n",
       "      <td>F</td>\n",
       "      <td>сотрудник</td>\n",
       "      <td>0</td>\n",
       "      <td>C</td>\n",
       "      <td>операции с недвижимостью</td>\n",
       "    </tr>\n",
       "    <tr>\n",
       "      <td>1926</td>\n",
       "      <td>0</td>\n",
       "      <td>1360</td>\n",
       "      <td>47</td>\n",
       "      <td>1</td>\n",
       "      <td>0</td>\n",
       "      <td>M</td>\n",
       "      <td>сотрудник</td>\n",
       "      <td>0</td>\n",
       "      <td>C</td>\n",
       "      <td>операции с недвижимостью</td>\n",
       "    </tr>\n",
       "    <tr>\n",
       "      <td>2330</td>\n",
       "      <td>0</td>\n",
       "      <td>1360</td>\n",
       "      <td>41</td>\n",
       "      <td>1</td>\n",
       "      <td>0</td>\n",
       "      <td>F</td>\n",
       "      <td>сотрудник</td>\n",
       "      <td>0</td>\n",
       "      <td>C</td>\n",
       "      <td>операции с недвижимостью</td>\n",
       "    </tr>\n",
       "  </tbody>\n",
       "</table>\n",
       "</div>"
      ],
      "text/plain": [
       "      children  days_employed  dob_years  education_id  family_status_id  \\\n",
       "292          0           1311         27             1                 0   \n",
       "879          0           1360         44             1                 1   \n",
       "1819         1           1360         49             0                 0   \n",
       "1926         0           1360         47             1                 0   \n",
       "2330         0           1360         41             1                 0   \n",
       "\n",
       "     gender income_type  debt total_income_category          purpose_category  \n",
       "292       M   компаньон     0                     C  операции с недвижимостью  \n",
       "879       F   сотрудник     0                     C  операции с недвижимостью  \n",
       "1819      F   сотрудник     0                     C  операции с недвижимостью  \n",
       "1926      M   сотрудник     0                     C  операции с недвижимостью  \n",
       "2330      F   сотрудник     0                     C  операции с недвижимостью  "
      ]
     },
     "metadata": {},
     "output_type": "display_data"
    }
   ],
   "source": [
    "dubl = df[df.duplicated()]\n",
    "display(dubl)\n",
    "print('Сумма дубликатов:', dubl['days_employed'].count())\n",
    "print()\n",
    "columns = []\n",
    "for row in dubl:\n",
    "    #print(dubl[row].head(0)) # вывод названия столбца\n",
    "    print(dubl[row].value_counts().head(3)) # вывод суммы наиболее популярных дубликатов по столбцам\n",
    "    dubl_list = dubl[dubl[row] == dubl[row].value_counts().index[0]]\n",
    "    display(dubl_list.head(5))\n",
    "    columns.append(row)\n",
    "    #display(dubl[dubl[columns] == dubl[columns].value_counts().index[0]])"
   ]
  },
  {
   "cell_type": "code",
   "execution_count": 474,
   "id": "a7775da7",
   "metadata": {},
   "outputs": [
    {
     "data": {
      "text/html": [
       "<div>\n",
       "<style scoped>\n",
       "    .dataframe tbody tr th:only-of-type {\n",
       "        vertical-align: middle;\n",
       "    }\n",
       "\n",
       "    .dataframe tbody tr th {\n",
       "        vertical-align: top;\n",
       "    }\n",
       "\n",
       "    .dataframe thead th {\n",
       "        text-align: right;\n",
       "    }\n",
       "</style>\n",
       "<table border=\"1\" class=\"dataframe\">\n",
       "  <thead>\n",
       "    <tr style=\"text-align: right;\">\n",
       "      <th></th>\n",
       "      <th>children</th>\n",
       "      <th>days_employed</th>\n",
       "      <th>dob_years</th>\n",
       "      <th>education_id</th>\n",
       "      <th>family_status_id</th>\n",
       "      <th>gender</th>\n",
       "      <th>income_type</th>\n",
       "      <th>debt</th>\n",
       "      <th>total_income_category</th>\n",
       "      <th>purpose_category</th>\n",
       "    </tr>\n",
       "  </thead>\n",
       "  <tbody>\n",
       "    <tr>\n",
       "      <td>7397</td>\n",
       "      <td>0</td>\n",
       "      <td>1360</td>\n",
       "      <td>47</td>\n",
       "      <td>1</td>\n",
       "      <td>0</td>\n",
       "      <td>F</td>\n",
       "      <td>сотрудник</td>\n",
       "      <td>0</td>\n",
       "      <td>C</td>\n",
       "      <td>операции с недвижимостью</td>\n",
       "    </tr>\n",
       "    <tr>\n",
       "      <td>8064</td>\n",
       "      <td>0</td>\n",
       "      <td>1360</td>\n",
       "      <td>47</td>\n",
       "      <td>1</td>\n",
       "      <td>0</td>\n",
       "      <td>F</td>\n",
       "      <td>сотрудник</td>\n",
       "      <td>0</td>\n",
       "      <td>C</td>\n",
       "      <td>операции с недвижимостью</td>\n",
       "    </tr>\n",
       "    <tr>\n",
       "      <td>9624</td>\n",
       "      <td>0</td>\n",
       "      <td>1360</td>\n",
       "      <td>47</td>\n",
       "      <td>1</td>\n",
       "      <td>0</td>\n",
       "      <td>F</td>\n",
       "      <td>сотрудник</td>\n",
       "      <td>0</td>\n",
       "      <td>C</td>\n",
       "      <td>операции с недвижимостью</td>\n",
       "    </tr>\n",
       "    <tr>\n",
       "      <td>9660</td>\n",
       "      <td>0</td>\n",
       "      <td>1360</td>\n",
       "      <td>47</td>\n",
       "      <td>1</td>\n",
       "      <td>0</td>\n",
       "      <td>F</td>\n",
       "      <td>сотрудник</td>\n",
       "      <td>0</td>\n",
       "      <td>C</td>\n",
       "      <td>операции с недвижимостью</td>\n",
       "    </tr>\n",
       "    <tr>\n",
       "      <td>11787</td>\n",
       "      <td>0</td>\n",
       "      <td>1360</td>\n",
       "      <td>47</td>\n",
       "      <td>1</td>\n",
       "      <td>0</td>\n",
       "      <td>F</td>\n",
       "      <td>сотрудник</td>\n",
       "      <td>0</td>\n",
       "      <td>C</td>\n",
       "      <td>операции с недвижимостью</td>\n",
       "    </tr>\n",
       "    <tr>\n",
       "      <td>13197</td>\n",
       "      <td>0</td>\n",
       "      <td>1360</td>\n",
       "      <td>47</td>\n",
       "      <td>1</td>\n",
       "      <td>0</td>\n",
       "      <td>F</td>\n",
       "      <td>сотрудник</td>\n",
       "      <td>0</td>\n",
       "      <td>C</td>\n",
       "      <td>операции с недвижимостью</td>\n",
       "    </tr>\n",
       "    <tr>\n",
       "      <td>14480</td>\n",
       "      <td>0</td>\n",
       "      <td>1360</td>\n",
       "      <td>47</td>\n",
       "      <td>1</td>\n",
       "      <td>0</td>\n",
       "      <td>F</td>\n",
       "      <td>сотрудник</td>\n",
       "      <td>0</td>\n",
       "      <td>C</td>\n",
       "      <td>операции с недвижимостью</td>\n",
       "    </tr>\n",
       "    <tr>\n",
       "      <td>17241</td>\n",
       "      <td>0</td>\n",
       "      <td>1360</td>\n",
       "      <td>47</td>\n",
       "      <td>1</td>\n",
       "      <td>0</td>\n",
       "      <td>F</td>\n",
       "      <td>сотрудник</td>\n",
       "      <td>0</td>\n",
       "      <td>C</td>\n",
       "      <td>операции с недвижимостью</td>\n",
       "    </tr>\n",
       "  </tbody>\n",
       "</table>\n",
       "</div>"
      ],
      "text/plain": [
       "       children  days_employed  dob_years  education_id  family_status_id  \\\n",
       "7397          0           1360         47             1                 0   \n",
       "8064          0           1360         47             1                 0   \n",
       "9624          0           1360         47             1                 0   \n",
       "9660          0           1360         47             1                 0   \n",
       "11787         0           1360         47             1                 0   \n",
       "13197         0           1360         47             1                 0   \n",
       "14480         0           1360         47             1                 0   \n",
       "17241         0           1360         47             1                 0   \n",
       "\n",
       "      gender income_type  debt total_income_category          purpose_category  \n",
       "7397       F   сотрудник     0                     C  операции с недвижимостью  \n",
       "8064       F   сотрудник     0                     C  операции с недвижимостью  \n",
       "9624       F   сотрудник     0                     C  операции с недвижимостью  \n",
       "9660       F   сотрудник     0                     C  операции с недвижимостью  \n",
       "11787      F   сотрудник     0                     C  операции с недвижимостью  \n",
       "13197      F   сотрудник     0                     C  операции с недвижимостью  \n",
       "14480      F   сотрудник     0                     C  операции с недвижимостью  \n",
       "17241      F   сотрудник     0                     C  операции с недвижимостью  "
      ]
     },
     "execution_count": 474,
     "metadata": {},
     "output_type": "execute_result"
    }
   ],
   "source": [
    "dubl[\n",
    "    (dubl[columns[0]]==dubl[columns[0]].value_counts().index[0])&\n",
    "    (dubl[columns[1]]==dubl[columns[1]].value_counts().index[0])&\n",
    "    (dubl[columns[2]]==dubl[columns[2]].value_counts().index[0])&\n",
    "    (dubl[columns[3]]==dubl[columns[3]].value_counts().index[0])&\n",
    "    (dubl[columns[4]]==dubl[columns[4]].value_counts().index[0])&\n",
    "    (dubl[columns[5]]==dubl[columns[5]].value_counts().index[0])&\n",
    "    (dubl[columns[6]]==dubl[columns[6]].value_counts().index[0])&\n",
    "    (dubl[columns[7]]==dubl[columns[7]].value_counts().index[0])&\n",
    "    (dubl[columns[8]]==dubl[columns[8]].value_counts().index[0])&\n",
    "    (dubl[columns[9]]==dubl[columns[9]].value_counts().index[0])\n",
    "] # Пример дубликатов по наибольшим параметрам\n"
   ]
  },
  {
   "cell_type": "markdown",
   "id": "24975354",
   "metadata": {},
   "source": [
    "289 дубликатов. Удаляем их."
   ]
  },
  {
   "cell_type": "code",
   "execution_count": 479,
   "id": "6017bfe5",
   "metadata": {},
   "outputs": [
    {
     "data": {
      "text/plain": [
       "0"
      ]
     },
     "execution_count": 479,
     "metadata": {},
     "output_type": "execute_result"
    }
   ],
   "source": [
    "df = df.drop_duplicates()\n",
    "#df\n",
    "df.duplicated().sum()"
   ]
  },
  {
   "cell_type": "markdown",
   "id": "1197a0db",
   "metadata": {},
   "source": [
    "<div class=\"alert alert-danger\">\n",
    "<b>❌ Комментарий ревьюера:</b> Явные дубли - это полные совпадения строк во всем датафрейме. Давай найдем их!"
   ]
  },
  {
   "cell_type": "markdown",
   "id": "d808ad72",
   "metadata": {},
   "source": [
    "<div class=\"alert alert-info\">\n",
    "<b> Комментарий студента:</b> Исправил!"
   ]
  },
  {
   "cell_type": "markdown",
   "id": "3ee2038f",
   "metadata": {},
   "source": [
    "<div class=\"alert alert-success\">\n",
    "<b>✔️ Комментарий ревьюера V2:</b> Избавилсиь от дублей!"
   ]
  },
  {
   "cell_type": "markdown",
   "id": "f3a17e31",
   "metadata": {},
   "source": [
    "**Итоговый датафрейм**"
   ]
  },
  {
   "cell_type": "code",
   "execution_count": 480,
   "id": "6edb777d",
   "metadata": {},
   "outputs": [
    {
     "data": {
      "text/html": [
       "<div>\n",
       "<style scoped>\n",
       "    .dataframe tbody tr th:only-of-type {\n",
       "        vertical-align: middle;\n",
       "    }\n",
       "\n",
       "    .dataframe tbody tr th {\n",
       "        vertical-align: top;\n",
       "    }\n",
       "\n",
       "    .dataframe thead th {\n",
       "        text-align: right;\n",
       "    }\n",
       "</style>\n",
       "<table border=\"1\" class=\"dataframe\">\n",
       "  <thead>\n",
       "    <tr style=\"text-align: right;\">\n",
       "      <th></th>\n",
       "      <th>children</th>\n",
       "      <th>days_employed</th>\n",
       "      <th>dob_years</th>\n",
       "      <th>education_id</th>\n",
       "      <th>family_status_id</th>\n",
       "      <th>gender</th>\n",
       "      <th>income_type</th>\n",
       "      <th>debt</th>\n",
       "      <th>total_income_category</th>\n",
       "      <th>purpose_category</th>\n",
       "    </tr>\n",
       "  </thead>\n",
       "  <tbody>\n",
       "    <tr>\n",
       "      <td>0</td>\n",
       "      <td>1</td>\n",
       "      <td>8437</td>\n",
       "      <td>42</td>\n",
       "      <td>0</td>\n",
       "      <td>0</td>\n",
       "      <td>F</td>\n",
       "      <td>сотрудник</td>\n",
       "      <td>0</td>\n",
       "      <td>B</td>\n",
       "      <td>операции с недвижимостью</td>\n",
       "    </tr>\n",
       "    <tr>\n",
       "      <td>1</td>\n",
       "      <td>1</td>\n",
       "      <td>4024</td>\n",
       "      <td>36</td>\n",
       "      <td>1</td>\n",
       "      <td>0</td>\n",
       "      <td>F</td>\n",
       "      <td>сотрудник</td>\n",
       "      <td>0</td>\n",
       "      <td>C</td>\n",
       "      <td>операции с автомобилем</td>\n",
       "    </tr>\n",
       "    <tr>\n",
       "      <td>2</td>\n",
       "      <td>0</td>\n",
       "      <td>5623</td>\n",
       "      <td>33</td>\n",
       "      <td>1</td>\n",
       "      <td>0</td>\n",
       "      <td>M</td>\n",
       "      <td>сотрудник</td>\n",
       "      <td>0</td>\n",
       "      <td>C</td>\n",
       "      <td>операции с недвижимостью</td>\n",
       "    </tr>\n",
       "    <tr>\n",
       "      <td>3</td>\n",
       "      <td>3</td>\n",
       "      <td>4124</td>\n",
       "      <td>32</td>\n",
       "      <td>1</td>\n",
       "      <td>0</td>\n",
       "      <td>M</td>\n",
       "      <td>сотрудник</td>\n",
       "      <td>0</td>\n",
       "      <td>B</td>\n",
       "      <td>получение образования</td>\n",
       "    </tr>\n",
       "    <tr>\n",
       "      <td>4</td>\n",
       "      <td>0</td>\n",
       "      <td>926</td>\n",
       "      <td>27</td>\n",
       "      <td>0</td>\n",
       "      <td>1</td>\n",
       "      <td>M</td>\n",
       "      <td>компаньон</td>\n",
       "      <td>0</td>\n",
       "      <td>B</td>\n",
       "      <td>операции с недвижимостью</td>\n",
       "    </tr>\n",
       "    <tr>\n",
       "      <td>...</td>\n",
       "      <td>...</td>\n",
       "      <td>...</td>\n",
       "      <td>...</td>\n",
       "      <td>...</td>\n",
       "      <td>...</td>\n",
       "      <td>...</td>\n",
       "      <td>...</td>\n",
       "      <td>...</td>\n",
       "      <td>...</td>\n",
       "      <td>...</td>\n",
       "    </tr>\n",
       "    <tr>\n",
       "      <td>17266</td>\n",
       "      <td>1</td>\n",
       "      <td>2351</td>\n",
       "      <td>37</td>\n",
       "      <td>4</td>\n",
       "      <td>3</td>\n",
       "      <td>M</td>\n",
       "      <td>сотрудник</td>\n",
       "      <td>0</td>\n",
       "      <td>C</td>\n",
       "      <td>операции с недвижимостью</td>\n",
       "    </tr>\n",
       "    <tr>\n",
       "      <td>17267</td>\n",
       "      <td>1</td>\n",
       "      <td>4529</td>\n",
       "      <td>43</td>\n",
       "      <td>1</td>\n",
       "      <td>1</td>\n",
       "      <td>F</td>\n",
       "      <td>компаньон</td>\n",
       "      <td>0</td>\n",
       "      <td>B</td>\n",
       "      <td>операции с недвижимостью</td>\n",
       "    </tr>\n",
       "    <tr>\n",
       "      <td>17268</td>\n",
       "      <td>1</td>\n",
       "      <td>2113</td>\n",
       "      <td>38</td>\n",
       "      <td>1</td>\n",
       "      <td>1</td>\n",
       "      <td>M</td>\n",
       "      <td>сотрудник</td>\n",
       "      <td>1</td>\n",
       "      <td>C</td>\n",
       "      <td>операции с недвижимостью</td>\n",
       "    </tr>\n",
       "    <tr>\n",
       "      <td>17269</td>\n",
       "      <td>3</td>\n",
       "      <td>3112</td>\n",
       "      <td>38</td>\n",
       "      <td>1</td>\n",
       "      <td>0</td>\n",
       "      <td>M</td>\n",
       "      <td>сотрудник</td>\n",
       "      <td>1</td>\n",
       "      <td>B</td>\n",
       "      <td>операции с автомобилем</td>\n",
       "    </tr>\n",
       "    <tr>\n",
       "      <td>17270</td>\n",
       "      <td>2</td>\n",
       "      <td>1984</td>\n",
       "      <td>40</td>\n",
       "      <td>1</td>\n",
       "      <td>0</td>\n",
       "      <td>F</td>\n",
       "      <td>сотрудник</td>\n",
       "      <td>0</td>\n",
       "      <td>C</td>\n",
       "      <td>операции с автомобилем</td>\n",
       "    </tr>\n",
       "  </tbody>\n",
       "</table>\n",
       "<p>17271 rows × 10 columns</p>\n",
       "</div>"
      ],
      "text/plain": [
       "       children  days_employed  dob_years  education_id  family_status_id  \\\n",
       "0             1           8437         42             0                 0   \n",
       "1             1           4024         36             1                 0   \n",
       "2             0           5623         33             1                 0   \n",
       "3             3           4124         32             1                 0   \n",
       "4             0            926         27             0                 1   \n",
       "...         ...            ...        ...           ...               ...   \n",
       "17266         1           2351         37             4                 3   \n",
       "17267         1           4529         43             1                 1   \n",
       "17268         1           2113         38             1                 1   \n",
       "17269         3           3112         38             1                 0   \n",
       "17270         2           1984         40             1                 0   \n",
       "\n",
       "      gender income_type  debt total_income_category          purpose_category  \n",
       "0          F   сотрудник     0                     B  операции с недвижимостью  \n",
       "1          F   сотрудник     0                     C    операции с автомобилем  \n",
       "2          M   сотрудник     0                     C  операции с недвижимостью  \n",
       "3          M   сотрудник     0                     B     получение образования  \n",
       "4          M   компаньон     0                     B  операции с недвижимостью  \n",
       "...      ...         ...   ...                   ...                       ...  \n",
       "17266      M   сотрудник     0                     C  операции с недвижимостью  \n",
       "17267      F   компаньон     0                     B  операции с недвижимостью  \n",
       "17268      M   сотрудник     1                     C  операции с недвижимостью  \n",
       "17269      M   сотрудник     1                     B    операции с автомобилем  \n",
       "17270      F   сотрудник     0                     C    операции с автомобилем  \n",
       "\n",
       "[17271 rows x 10 columns]"
      ]
     },
     "execution_count": 480,
     "metadata": {},
     "output_type": "execute_result"
    }
   ],
   "source": [
    "df = df.reset_index(drop=True)\n",
    "df"
   ]
  },
  {
   "cell_type": "markdown",
   "id": "9b8b5b87",
   "metadata": {},
   "source": [
    "## Шаг 3. Ответы на вопросы."
   ]
  },
  {
   "cell_type": "markdown",
   "id": "eadda137",
   "metadata": {},
   "source": [
    "### Вопрос 1: Есть ли зависимость между количеством детей и возвратом кредита в срок?"
   ]
  },
  {
   "cell_type": "markdown",
   "id": "b0029aa5",
   "metadata": {},
   "source": [
    "Что бы ответить на этот вопрос, узнаем у скольких клиентов с детьми были просрочки по кредиту и разделим на количество клиентов с детьми, которые платили вовремя."
   ]
  },
  {
   "cell_type": "code",
   "execution_count": 494,
   "id": "7c082a1a",
   "metadata": {},
   "outputs": [
    {
     "name": "stdout",
     "output_type": "stream",
     "text": [
      "Общая зависимость: 9.6 %\n"
     ]
    }
   ],
   "source": [
    "print('Общая зависимость:',round((df[df['debt'] == 1]['children'].count() / df[df['debt'] == 0]['children'].count())*100,2),'%')"
   ]
  },
  {
   "cell_type": "code",
   "execution_count": 501,
   "id": "35f151cb",
   "metadata": {},
   "outputs": [
    {
     "name": "stdout",
     "output_type": "stream",
     "text": [
      "Зависимость без детей: 9.04 %\n",
      "Зависимость при одним ребенком: 10.6 %\n",
      "Зависимость при вдух детях: 10.45 %\n",
      "Зависимость при трех детях: 8.75 %\n",
      "Зависимость при четырех детях: 11.43 %\n",
      "Зависимость при пяти детях: 0.0 %\n"
     ]
    }
   ],
   "source": [
    "print('Зависимость без детей:',round((df[(df['debt'] == 1) & (df['children'] == 0)]['children'].count() / df[(df['debt'] == 0) & (df['children'] == 0)]['children'].count())*100,2),'%')\n",
    "print('Зависимость при одним ребенком:',round((df[(df['debt'] == 1) & (df['children'] == 1)]['children'].count() / df[(df['debt'] == 0) & (df['children'] == 1)]['children'].count())*100,2),'%')\n",
    "print('Зависимость при вдух детях:',round((df[(df['debt'] == 1) & (df['children'] == 2)]['children'].count() / df[(df['debt'] == 0) & (df['children'] == 2)]['children'].count())*100,2),'%')\n",
    "print('Зависимость при трех детях:',round((df[(df['debt'] == 1) & (df['children'] == 3)]['children'].count() / df[(df['debt'] == 0) & (df['children'] == 3)]['children'].count())*100,2),'%')\n",
    "print('Зависимость при четырех детях:',round((df[(df['debt'] == 1) & (df['children'] == 4)]['children'].count() / df[(df['debt'] == 0) & (df['children'] == 4)]['children'].count())*100,2),'%')\n",
    "print('Зависимость при пяти детях:',round((df[(df['debt'] == 1) & (df['children'] == 5)]['children'].count() / df[(df['debt'] == 0) & (df['children'] == 5)]['children'].count())*100,2),'%')"
   ]
  },
  {
   "cell_type": "markdown",
   "id": "dcf7e9b6",
   "metadata": {},
   "source": [
    "Интересно что при пяти детях у семей, просрочка по кредиту 0%"
   ]
  },
  {
   "cell_type": "markdown",
   "id": "22233b53",
   "metadata": {},
   "source": [
    "<div class=\"alert alert-warning\">\n",
    "<b>⚠️ Комментарий ревьюера:</b> Здесь я бы советовала создать сводную таблицу и сгруппировать данные по среднему. Так мы сразу увилим долю"
   ]
  },
  {
   "cell_type": "markdown",
   "id": "8630fb93",
   "metadata": {},
   "source": [
    "<div class=\"alert alert-info\">\n",
    "<b> Комментарий студента:</b> Цифры другие. Что сделал неправильно, подскажите пожалуйста))"
   ]
  },
  {
   "cell_type": "markdown",
   "id": "7204a1c0",
   "metadata": {},
   "source": [
    "<div class=\"alert alert-success\">\n",
    "<b>✔️ Комментарий ревьюера V2:</b>  Как можно сформировать таблицу:\n",
    "        \n",
    "            df.pivot_table(index=\"cchildren\",columns='debt', values=\"education\", aggfunc=\"mean\")\n",
    "            \n",
    "Таким образом, мы сразу получим процентное соотношение оптимальным способом.\n",
    "\n",
    "При твоем расчете доли нужно сделать следующее:\n",
    "    \n",
    "        len(df[(df['debt'] == 1) & (df['children'] == 3)])/len(df['children'] == 3)\n",
    "        \n",
    "То есть долю людей с определенным кол-вом детей и просрочкой делим на общую долю людей с определенным кол-вом детей\n",
    "            "
   ]
  },
  {
   "cell_type": "code",
   "execution_count": 503,
   "id": "8a37ef89",
   "metadata": {},
   "outputs": [
    {
     "data": {
      "text/html": [
       "<div>\n",
       "<style scoped>\n",
       "    .dataframe tbody tr th:only-of-type {\n",
       "        vertical-align: middle;\n",
       "    }\n",
       "\n",
       "    .dataframe tbody tr th {\n",
       "        vertical-align: top;\n",
       "    }\n",
       "\n",
       "    .dataframe thead th {\n",
       "        text-align: right;\n",
       "    }\n",
       "</style>\n",
       "<table border=\"1\" class=\"dataframe\">\n",
       "  <thead>\n",
       "    <tr style=\"text-align: right;\">\n",
       "      <th></th>\n",
       "      <th>debt</th>\n",
       "    </tr>\n",
       "    <tr>\n",
       "      <th>children</th>\n",
       "      <th></th>\n",
       "    </tr>\n",
       "  </thead>\n",
       "  <tbody>\n",
       "    <tr>\n",
       "      <td>0</td>\n",
       "      <td>0.082925</td>\n",
       "    </tr>\n",
       "    <tr>\n",
       "      <td>1</td>\n",
       "      <td>0.095866</td>\n",
       "    </tr>\n",
       "    <tr>\n",
       "      <td>2</td>\n",
       "      <td>0.094648</td>\n",
       "    </tr>\n",
       "    <tr>\n",
       "      <td>3</td>\n",
       "      <td>0.080495</td>\n",
       "    </tr>\n",
       "    <tr>\n",
       "      <td>4</td>\n",
       "      <td>0.102564</td>\n",
       "    </tr>\n",
       "    <tr>\n",
       "      <td>5</td>\n",
       "      <td>0.000000</td>\n",
       "    </tr>\n",
       "  </tbody>\n",
       "</table>\n",
       "</div>"
      ],
      "text/plain": [
       "              debt\n",
       "children          \n",
       "0         0.082925\n",
       "1         0.095866\n",
       "2         0.094648\n",
       "3         0.080495\n",
       "4         0.102564\n",
       "5         0.000000"
      ]
     },
     "execution_count": 503,
     "metadata": {},
     "output_type": "execute_result"
    }
   ],
   "source": [
    "df.pivot_table(index='children', values ='debt' , aggfunc = 'mean')"
   ]
  },
  {
   "cell_type": "code",
   "execution_count": 491,
   "id": "b580807e",
   "metadata": {},
   "outputs": [
    {
     "name": "stdout",
     "output_type": "stream",
     "text": [
      "Средний процент просрочки с детьми 8.12 %\n"
     ]
    }
   ],
   "source": [
    "print('Средний процент просрочки с детьми',round((10.38 + 10.37 + 8.72 + 11.11)/5,2), '%')"
   ]
  },
  {
   "cell_type": "markdown",
   "id": "27ac5fbf",
   "metadata": {},
   "source": [
    "### Вывод 1: В среднем, ребенок увеличивает возможность просрочки платежа по кредиту."
   ]
  },
  {
   "cell_type": "markdown",
   "id": "9896042b",
   "metadata": {},
   "source": [
    "### Вопрос 2: Есть ли зависимость между семейным положением и возвратом кредита в срок?"
   ]
  },
  {
   "cell_type": "markdown",
   "id": "7eacbeee",
   "metadata": {},
   "source": [
    "Что бы ответить на этот вопрос, узнаем скольких клиентов были просрочки и разделим на количество клиентов, которые платили вовремя, учитывая семейное положение клиента."
   ]
  },
  {
   "cell_type": "code",
   "execution_count": 505,
   "id": "ef97f4cc",
   "metadata": {},
   "outputs": [
    {
     "name": "stdout",
     "output_type": "stream",
     "text": [
      "Зависимость при браке: 8.82 %\n",
      "Зависимость при гражданском браке: 11.19 %\n",
      "Зависимость при вдовец/вдова: 6.63 %\n",
      "Зависимость при разводе: 7.91 %\n",
      "Зависимость при холост: 11.85 %\n"
     ]
    }
   ],
   "source": [
    "print('Зависимость при браке:',round((df[(df['debt'] == 1) & (df['family_status_id'] == 0)]['family_status_id'].count() / df[(df['debt'] == 0) & (df['family_status_id'] == 0)]['family_status_id'].count())*100,2),'%')\n",
    "print('Зависимость при гражданском браке:',round((df[(df['debt'] == 1) & (df['family_status_id'] == 1)]['family_status_id'].count() / df[(df['debt'] == 0) & (df['family_status_id'] == 1)]['family_status_id'].count())*100,2),'%')\n",
    "print('Зависимость при вдовец/вдова:',round((df[(df['debt'] == 1) & (df['family_status_id'] == 2)]['family_status_id'].count() / df[(df['debt'] == 0) & (df['family_status_id'] == 2)]['family_status_id'].count())*100,2),'%')\n",
    "print('Зависимость при разводе:',round((df[(df['debt'] == 1) & (df['family_status_id'] == 3)]['family_status_id'].count() / df[(df['debt'] == 0) & (df['family_status_id'] == 3)]['family_status_id'].count())*100,2),'%')\n",
    "print('Зависимость при холост:',round((df[(df['debt'] == 1) & (df['family_status_id'] == 4)]['family_status_id'].count() / df[(df['debt'] == 0) & (df['family_status_id'] == 4)]['family_status_id'].count())*100,2),'%')"
   ]
  },
  {
   "cell_type": "markdown",
   "id": "bcb75568",
   "metadata": {},
   "source": [
    "### Вывод 2: Холостые и люди состоящие в гражданском браке имеют больше просрочек."
   ]
  },
  {
   "cell_type": "markdown",
   "id": "7c3ac75b",
   "metadata": {},
   "source": [
    "### Вопрос 3: Есть ли зависимость между уровнем дохода и возвратом кредита в срок?"
   ]
  },
  {
   "cell_type": "markdown",
   "id": "ad5a2f82",
   "metadata": {},
   "source": [
    "Что бы ответить на этот вопрос, узнаем у скольких клиентов были просрочки и разделим на количество клиентов, которые платили вовремя, учитывая их уровень дохода по категориям."
   ]
  },
  {
   "cell_type": "code",
   "execution_count": 489,
   "id": "72f40175",
   "metadata": {},
   "outputs": [
    {
     "name": "stdout",
     "output_type": "stream",
     "text": [
      "Категория E: 0.0 %\n",
      "Категория D: 8.19 %\n",
      "Категория C: 10.28 %\n",
      "Категория B: 7.81 %\n",
      "Категория A: 8.7 %\n"
     ]
    }
   ],
   "source": [
    "print('Категория E:',round((df[(df['debt'] == 1) & (df['total_income_category'] == 'E')]['total_income_category'].count() / df[(df['debt'] == 0) & (df['total_income_category'] == 'E')]['total_income_category'].count())*100,2),'%')\n",
    "print('Категория D:',round((df[(df['debt'] == 1) & (df['total_income_category'] == 'D')]['total_income_category'].count() / df[(df['debt'] == 0) & (df['total_income_category'] == 'D')]['total_income_category'].count())*100,2),'%')\n",
    "print('Категория C:',round((df[(df['debt'] == 1) & (df['total_income_category'] == 'C')]['total_income_category'].count() / df[(df['debt'] == 0) & (df['total_income_category'] == 'C')]['total_income_category'].count())*100,2),'%')\n",
    "print('Категория B:',round((df[(df['debt'] == 1) & (df['total_income_category'] == 'B')]['total_income_category'].count() / df[(df['debt'] == 0) & (df['total_income_category'] == 'B')]['total_income_category'].count())*100,2),'%')\n",
    "print('Категория A:',round((df[(df['debt'] == 1) & (df['total_income_category'] == 'A')]['total_income_category'].count() / df[(df['debt'] == 0) & (df['total_income_category'] == 'A')]['total_income_category'].count())*100,2),'%')"
   ]
  },
  {
   "cell_type": "markdown",
   "id": "fb5ee818",
   "metadata": {},
   "source": [
    "Интересно что клиенты категории Е выплачивают все как положенно."
   ]
  },
  {
   "cell_type": "markdown",
   "id": "2612b308",
   "metadata": {},
   "source": [
    "### Вывод 3: У клиентов категории С (ежемесячный доход которых 50001–200000) - чаще встречаются просрочки."
   ]
  },
  {
   "cell_type": "markdown",
   "id": "f57f5b8d",
   "metadata": {},
   "source": [
    "### Вопрос 4: Как разные цели кредита влияют на его возврат в срок?"
   ]
  },
  {
   "cell_type": "markdown",
   "id": "b5206548",
   "metadata": {},
   "source": [
    "Что бы ответить на этот вопрос, узнаем у скольких клиентов были просрочки и разделим на количество клиентов, которые платили вовремя, учитывая их цели кредита."
   ]
  },
  {
   "cell_type": "code",
   "execution_count": 490,
   "id": "bb36a502",
   "metadata": {},
   "outputs": [
    {
     "name": "stdout",
     "output_type": "stream",
     "text": [
      "операции с автомобилем: 11.18 %\n",
      "операции с недвижимостью: 8.57 %\n",
      "проведение свадьбы: 9.16 %\n",
      "получение образования: 11.03 %\n"
     ]
    }
   ],
   "source": [
    "print('операции с автомобилем:',round((df[(df['debt'] == 1) & (df['purpose_category'] == 'операции с автомобилем')]['purpose_category'].count() / df[(df['debt'] == 0) & (df['purpose_category'] == 'операции с автомобилем')]['purpose_category'].count())*100,2),'%')\n",
    "print('операции с недвижимостью:',round((df[(df['debt'] == 1) & (df['purpose_category'] == 'операции с недвижимостью')]['purpose_category'].count() / df[(df['debt'] == 0) & (df['purpose_category'] == 'операции с недвижимостью')]['purpose_category'].count())*100,2),'%')\n",
    "print('проведение свадьбы:',round((df[(df['debt'] == 1) & (df['purpose_category'] == 'проведение свадьбы')]['purpose_category'].count() / df[(df['debt'] == 0) & (df['purpose_category'] == 'проведение свадьбы')]['purpose_category'].count())*100,2),'%')\n",
    "print('получение образования:',round((df[(df['debt'] == 1) & (df['purpose_category'] == 'получение образования')]['purpose_category'].count() / df[(df['debt'] == 0) & (df['purpose_category'] == 'получение образования')]['purpose_category'].count())*100,2),'%')"
   ]
  },
  {
   "cell_type": "markdown",
   "id": "f42bdf07",
   "metadata": {},
   "source": [
    "### Вывод 4: У клиентов, которые брали кредит на операции с автомобилем и на образование - чаще встречаются просрочки."
   ]
  },
  {
   "cell_type": "markdown",
   "id": "3bc335a5",
   "metadata": {},
   "source": [
    "<div class=\"alert alert-success\">\n",
    "<b>✔️ Комментарий ревьюера:</b> Все так"
   ]
  },
  {
   "cell_type": "markdown",
   "id": "40a9753d",
   "metadata": {},
   "source": [
    "## Общий вывод:"
   ]
  },
  {
   "cell_type": "markdown",
   "id": "3315430b",
   "metadata": {},
   "source": [
    "При работе с данными были заполнены пропущенные значения, удалены дубликаты и аномальные данные, выделены категории ежемесячного дохода и целей кредита. Дополнительный анализ может помочь более точно предсказать вероятность вылпаты кредита в срок.\n",
    "Из-за отсутствия 17.92% данных. В дальнейшем результаты выводов могут измениться."
   ]
  },
  {
   "cell_type": "markdown",
   "id": "cf89d704",
   "metadata": {},
   "source": [
    "<div class=\"alert alert-success\">\n",
    "<b>✔️ Комментарий ревьюера:</b> Спасибо за работу! Проект получился очень хорошим. Давай сделаем его сильнее:\n",
    "        \n",
    "- удалим дявные убли из всей таблицы\n",
    "- оптимизируем код и избавимся от хардкода\n",
    "\n",
    "Оставила направляющие комментарии. Возвращаю тебе работу, чтобы ты смог задать вопросы. Буду ждать твою работу на финальное ревью!\n",
    "</div>"
   ]
  },
  {
   "cell_type": "markdown",
   "id": "87a489db",
   "metadata": {},
   "source": [
    "<div class=\"alert alert-info\">\n",
    "<b> Комментарий студента:</b> Исправил некоторые моменты, воспользовался вашими советами!"
   ]
  },
  {
   "cell_type": "markdown",
   "id": "260909f2",
   "metadata": {},
   "source": [
    "<div class=\"alert alert-success\">\n",
    "<b>✔️ Комментарий ревьюера V2:</b> Спасибо за проработку комментариев! Теперь все отлично. Оставила еще направляющих комментариев. Если у тебя возникнут вопросы, смело задавай мне их через куратора. Удачи на следующих этапах!"
   ]
  },
  {
   "cell_type": "code",
   "execution_count": null,
   "id": "7abf05fe",
   "metadata": {},
   "outputs": [],
   "source": []
  }
 ],
 "metadata": {
  "ExecuteTimeLog": [
   {
    "duration": 624,
    "start_time": "2022-02-09T04:59:19.049Z"
   },
   {
    "duration": 46,
    "start_time": "2022-02-09T04:59:22.242Z"
   },
   {
    "duration": 343,
    "start_time": "2022-02-09T04:59:30.228Z"
   },
   {
    "duration": 56,
    "start_time": "2022-02-09T04:59:36.804Z"
   },
   {
    "duration": 70,
    "start_time": "2022-02-09T05:00:12.381Z"
   },
   {
    "duration": 59,
    "start_time": "2022-02-09T05:00:21.730Z"
   },
   {
    "duration": 68,
    "start_time": "2022-02-09T05:01:37.310Z"
   },
   {
    "duration": 14,
    "start_time": "2022-02-09T05:02:12.916Z"
   },
   {
    "duration": 55,
    "start_time": "2022-02-09T05:02:19.901Z"
   },
   {
    "duration": 13,
    "start_time": "2022-02-09T05:04:24.956Z"
   },
   {
    "duration": 13,
    "start_time": "2022-02-09T05:04:57.884Z"
   },
   {
    "duration": 15,
    "start_time": "2022-02-09T05:05:01.500Z"
   },
   {
    "duration": 24,
    "start_time": "2022-02-09T05:05:55.132Z"
   },
   {
    "duration": 20,
    "start_time": "2022-02-09T05:06:28.485Z"
   },
   {
    "duration": 28,
    "start_time": "2022-02-09T05:06:39.485Z"
   },
   {
    "duration": 3,
    "start_time": "2022-02-09T05:09:51.428Z"
   },
   {
    "duration": 5,
    "start_time": "2022-02-09T05:10:02.036Z"
   },
   {
    "duration": 6,
    "start_time": "2022-02-09T05:10:31.204Z"
   },
   {
    "duration": 5,
    "start_time": "2022-02-09T05:10:52.556Z"
   },
   {
    "duration": 5,
    "start_time": "2022-02-09T05:11:14.332Z"
   },
   {
    "duration": 12,
    "start_time": "2022-02-09T05:12:41.243Z"
   },
   {
    "duration": 13,
    "start_time": "2022-02-09T05:12:52.243Z"
   },
   {
    "duration": 17,
    "start_time": "2022-02-09T05:22:36.995Z"
   },
   {
    "duration": 7,
    "start_time": "2022-02-09T05:27:00.067Z"
   },
   {
    "duration": 7,
    "start_time": "2022-02-09T05:32:09.842Z"
   },
   {
    "duration": 5,
    "start_time": "2022-02-09T05:32:17.250Z"
   },
   {
    "duration": 5,
    "start_time": "2022-02-09T05:32:41.641Z"
   },
   {
    "duration": 10,
    "start_time": "2022-02-09T05:33:05.842Z"
   },
   {
    "duration": 5,
    "start_time": "2022-02-09T05:35:30.802Z"
   },
   {
    "duration": 6,
    "start_time": "2022-02-09T05:40:39.209Z"
   },
   {
    "duration": 5,
    "start_time": "2022-02-09T05:42:57.305Z"
   },
   {
    "duration": 8,
    "start_time": "2022-02-09T05:43:08.249Z"
   },
   {
    "duration": 11,
    "start_time": "2022-02-09T05:43:26.905Z"
   },
   {
    "duration": 254,
    "start_time": "2022-02-09T05:43:56.073Z"
   },
   {
    "duration": 238,
    "start_time": "2022-02-09T05:44:04.857Z"
   },
   {
    "duration": 244,
    "start_time": "2022-02-09T05:44:10.305Z"
   },
   {
    "duration": 4,
    "start_time": "2022-02-09T05:44:29.633Z"
   },
   {
    "duration": 4,
    "start_time": "2022-02-09T05:46:00.033Z"
   },
   {
    "duration": 15,
    "start_time": "2022-02-09T05:46:22.713Z"
   },
   {
    "duration": 20,
    "start_time": "2022-02-09T05:47:12.009Z"
   },
   {
    "duration": 23,
    "start_time": "2022-02-09T06:32:48.166Z"
   },
   {
    "duration": 6,
    "start_time": "2022-02-09T06:34:58.479Z"
   },
   {
    "duration": 727,
    "start_time": "2022-02-09T06:35:08.216Z"
   },
   {
    "duration": 25,
    "start_time": "2022-02-09T06:35:08.945Z"
   },
   {
    "duration": 5,
    "start_time": "2022-02-09T06:35:08.972Z"
   },
   {
    "duration": 30,
    "start_time": "2022-02-09T06:35:08.979Z"
   },
   {
    "duration": 26,
    "start_time": "2022-02-09T06:35:09.011Z"
   },
   {
    "duration": 6,
    "start_time": "2022-02-09T06:36:08.448Z"
   },
   {
    "duration": 486,
    "start_time": "2022-02-09T06:36:19.568Z"
   },
   {
    "duration": 12,
    "start_time": "2022-02-09T06:36:41.728Z"
   },
   {
    "duration": 13,
    "start_time": "2022-02-09T06:36:52.317Z"
   },
   {
    "duration": 379,
    "start_time": "2022-02-09T06:37:19.969Z"
   },
   {
    "duration": 11,
    "start_time": "2022-02-09T06:37:37.377Z"
   },
   {
    "duration": 23,
    "start_time": "2022-02-09T06:37:59.385Z"
   },
   {
    "duration": 5,
    "start_time": "2022-02-09T06:39:42.257Z"
   },
   {
    "duration": 315,
    "start_time": "2022-02-09T06:40:30.472Z"
   },
   {
    "duration": 26,
    "start_time": "2022-02-09T06:42:59.055Z"
   },
   {
    "duration": 27,
    "start_time": "2022-02-09T06:43:35.880Z"
   },
   {
    "duration": 11,
    "start_time": "2022-02-09T06:48:56.600Z"
   },
   {
    "duration": 4,
    "start_time": "2022-02-09T06:49:16.399Z"
   },
   {
    "duration": 5,
    "start_time": "2022-02-09T06:49:22.703Z"
   },
   {
    "duration": 114,
    "start_time": "2022-02-09T06:52:32.783Z"
   },
   {
    "duration": 331,
    "start_time": "2022-02-09T06:54:55.607Z"
   },
   {
    "duration": 250,
    "start_time": "2022-02-09T06:55:31.694Z"
   },
   {
    "duration": 683,
    "start_time": "2022-02-09T06:55:42.624Z"
   },
   {
    "duration": 24,
    "start_time": "2022-02-09T06:55:43.309Z"
   },
   {
    "duration": 5,
    "start_time": "2022-02-09T06:55:43.335Z"
   },
   {
    "duration": 139,
    "start_time": "2022-02-09T06:55:43.342Z"
   },
   {
    "duration": 30,
    "start_time": "2022-02-09T06:55:43.483Z"
   },
   {
    "duration": 386,
    "start_time": "2022-02-09T06:55:49.614Z"
   },
   {
    "duration": 58,
    "start_time": "2022-02-09T06:56:42.199Z"
   },
   {
    "duration": 25,
    "start_time": "2022-02-09T06:56:44.720Z"
   },
   {
    "duration": 57,
    "start_time": "2022-02-09T06:56:53.919Z"
   },
   {
    "duration": 25,
    "start_time": "2022-02-09T06:56:57.823Z"
   },
   {
    "duration": 6,
    "start_time": "2022-02-09T06:57:03.646Z"
   },
   {
    "duration": 20,
    "start_time": "2022-02-09T06:57:12.977Z"
   },
   {
    "duration": 40,
    "start_time": "2022-02-09T06:57:20.975Z"
   },
   {
    "duration": 23,
    "start_time": "2022-02-09T06:57:57.743Z"
   },
   {
    "duration": 45,
    "start_time": "2022-02-09T06:58:04.591Z"
   },
   {
    "duration": 42,
    "start_time": "2022-02-09T06:58:21.238Z"
   },
   {
    "duration": 5,
    "start_time": "2022-02-09T06:59:11.606Z"
   },
   {
    "duration": 134,
    "start_time": "2022-02-09T07:00:16.951Z"
   },
   {
    "duration": 462,
    "start_time": "2022-02-09T07:00:20.960Z"
   },
   {
    "duration": 112,
    "start_time": "2022-02-09T07:00:42.471Z"
   },
   {
    "duration": 116,
    "start_time": "2022-02-09T07:01:00.374Z"
   },
   {
    "duration": 118,
    "start_time": "2022-02-09T07:01:04.447Z"
   },
   {
    "duration": 393,
    "start_time": "2022-02-09T07:01:27.031Z"
   },
   {
    "duration": 122,
    "start_time": "2022-02-09T07:01:45.662Z"
   },
   {
    "duration": 235,
    "start_time": "2022-02-09T07:02:41.455Z"
   },
   {
    "duration": 299,
    "start_time": "2022-02-09T07:04:19.903Z"
   },
   {
    "duration": 344,
    "start_time": "2022-02-09T07:04:39.767Z"
   },
   {
    "duration": 357,
    "start_time": "2022-02-09T07:05:08.383Z"
   },
   {
    "duration": 243,
    "start_time": "2022-02-09T07:06:40.719Z"
   },
   {
    "duration": 306,
    "start_time": "2022-02-09T07:07:17.599Z"
   },
   {
    "duration": 259,
    "start_time": "2022-02-09T07:08:23.423Z"
   },
   {
    "duration": 264,
    "start_time": "2022-02-09T07:09:51.966Z"
   },
   {
    "duration": 712,
    "start_time": "2022-02-09T07:10:06.206Z"
   },
   {
    "duration": 57,
    "start_time": "2022-02-09T07:10:11.021Z"
   },
   {
    "duration": 45,
    "start_time": "2022-02-09T07:10:14.575Z"
   },
   {
    "duration": 772,
    "start_time": "2022-02-09T07:10:19.906Z"
   },
   {
    "duration": 55,
    "start_time": "2022-02-09T07:10:20.681Z"
   },
   {
    "duration": 5,
    "start_time": "2022-02-09T07:10:20.738Z"
   },
   {
    "duration": 32,
    "start_time": "2022-02-09T07:10:20.745Z"
   },
   {
    "duration": 56,
    "start_time": "2022-02-09T07:10:25.643Z"
   },
   {
    "duration": 43,
    "start_time": "2022-02-09T07:10:27.979Z"
   },
   {
    "duration": 6,
    "start_time": "2022-02-09T07:10:33.931Z"
   },
   {
    "duration": 9,
    "start_time": "2022-02-09T07:12:29.013Z"
   },
   {
    "duration": 9,
    "start_time": "2022-02-09T07:12:57.195Z"
   },
   {
    "duration": 5,
    "start_time": "2022-02-09T07:13:07.421Z"
   },
   {
    "duration": 5,
    "start_time": "2022-02-09T07:13:29.692Z"
   },
   {
    "duration": 357,
    "start_time": "2022-02-09T07:13:44.339Z"
   },
   {
    "duration": 257,
    "start_time": "2022-02-09T07:15:14.235Z"
   },
   {
    "duration": 6,
    "start_time": "2022-02-09T07:15:28.116Z"
   },
   {
    "duration": 7,
    "start_time": "2022-02-09T07:15:47.331Z"
   },
   {
    "duration": 10,
    "start_time": "2022-02-09T07:16:08.114Z"
   },
   {
    "duration": 6,
    "start_time": "2022-02-09T07:16:30.716Z"
   },
   {
    "duration": 30,
    "start_time": "2022-02-09T07:16:51.499Z"
   },
   {
    "duration": -124,
    "start_time": "2022-02-09T07:17:58.348Z"
   },
   {
    "duration": 6927,
    "start_time": "2022-02-09T07:18:00.538Z"
   },
   {
    "duration": 16,
    "start_time": "2022-02-09T07:18:44.546Z"
   },
   {
    "duration": 15,
    "start_time": "2022-02-09T07:18:55.866Z"
   },
   {
    "duration": 17,
    "start_time": "2022-02-09T07:19:48.899Z"
   },
   {
    "duration": 14,
    "start_time": "2022-02-09T07:20:24.642Z"
   },
   {
    "duration": 20,
    "start_time": "2022-02-09T07:21:04.419Z"
   },
   {
    "duration": 619,
    "start_time": "2022-02-10T13:43:54.957Z"
   },
   {
    "duration": 36,
    "start_time": "2022-02-10T13:44:11.421Z"
   },
   {
    "duration": 16,
    "start_time": "2022-02-10T13:45:12.598Z"
   },
   {
    "duration": 16,
    "start_time": "2022-02-10T13:45:24.357Z"
   },
   {
    "duration": 5,
    "start_time": "2022-02-10T13:53:40.490Z"
   },
   {
    "duration": 5,
    "start_time": "2022-02-10T13:53:54.065Z"
   },
   {
    "duration": 5,
    "start_time": "2022-02-10T13:57:26.701Z"
   },
   {
    "duration": 523,
    "start_time": "2022-02-10T14:05:20.114Z"
   },
   {
    "duration": 9,
    "start_time": "2022-02-10T14:05:29.121Z"
   },
   {
    "duration": 7,
    "start_time": "2022-02-10T14:05:42.878Z"
   },
   {
    "duration": 53,
    "start_time": "2022-02-10T14:10:06.150Z"
   },
   {
    "duration": 106,
    "start_time": "2022-02-10T14:11:25.590Z"
   },
   {
    "duration": 51,
    "start_time": "2022-02-10T14:11:33.610Z"
   },
   {
    "duration": 49,
    "start_time": "2022-02-10T14:26:40.630Z"
   },
   {
    "duration": 57,
    "start_time": "2022-02-10T14:27:04.630Z"
   },
   {
    "duration": 51,
    "start_time": "2022-02-10T14:37:32.706Z"
   },
   {
    "duration": 60,
    "start_time": "2022-02-10T14:37:48.654Z"
   },
   {
    "duration": 3,
    "start_time": "2022-02-10T14:47:42.642Z"
   },
   {
    "duration": 380,
    "start_time": "2022-02-10T14:48:03.679Z"
   },
   {
    "duration": 3,
    "start_time": "2022-02-10T14:48:22.490Z"
   },
   {
    "duration": 4,
    "start_time": "2022-02-10T14:48:26.186Z"
   },
   {
    "duration": 112,
    "start_time": "2022-02-10T14:51:17.934Z"
   },
   {
    "duration": 3,
    "start_time": "2022-02-10T14:51:24.995Z"
   },
   {
    "duration": 3,
    "start_time": "2022-02-10T14:51:30.751Z"
   },
   {
    "duration": 13,
    "start_time": "2022-02-10T14:52:01.983Z"
   },
   {
    "duration": 13,
    "start_time": "2022-02-10T14:52:46.427Z"
   },
   {
    "duration": 13,
    "start_time": "2022-02-10T14:53:03.839Z"
   },
   {
    "duration": 65,
    "start_time": "2022-02-10T15:02:42.479Z"
   },
   {
    "duration": 23,
    "start_time": "2022-02-10T15:07:11.087Z"
   },
   {
    "duration": 23,
    "start_time": "2022-02-10T15:07:35.983Z"
   },
   {
    "duration": 70,
    "start_time": "2022-02-10T15:11:11.516Z"
   },
   {
    "duration": 104,
    "start_time": "2022-02-10T15:11:30.623Z"
   },
   {
    "duration": 24,
    "start_time": "2022-02-10T15:11:39.971Z"
   },
   {
    "duration": 26,
    "start_time": "2022-02-10T15:28:46.907Z"
   },
   {
    "duration": 13,
    "start_time": "2022-02-10T15:30:16.939Z"
   },
   {
    "duration": 15,
    "start_time": "2022-02-10T15:31:45.811Z"
   },
   {
    "duration": 328,
    "start_time": "2022-02-10T15:33:56.447Z"
   },
   {
    "duration": 316,
    "start_time": "2022-02-10T15:34:34.639Z"
   },
   {
    "duration": 22,
    "start_time": "2022-02-10T15:36:30.391Z"
   },
   {
    "duration": 17,
    "start_time": "2022-02-10T15:36:48.267Z"
   },
   {
    "duration": 454,
    "start_time": "2022-02-10T15:39:36.400Z"
   },
   {
    "duration": 332,
    "start_time": "2022-02-10T15:39:46.443Z"
   },
   {
    "duration": 1717,
    "start_time": "2022-02-10T15:40:10.703Z"
   },
   {
    "duration": 70,
    "start_time": "2022-02-10T15:40:24.847Z"
   },
   {
    "duration": 76,
    "start_time": "2022-02-10T15:40:43.532Z"
   },
   {
    "duration": 9,
    "start_time": "2022-02-10T15:46:25.542Z"
   },
   {
    "duration": 70,
    "start_time": "2022-02-10T15:47:14.327Z"
   },
   {
    "duration": 346,
    "start_time": "2022-02-10T15:47:27.751Z"
   },
   {
    "duration": 316,
    "start_time": "2022-02-10T15:47:50.347Z"
   },
   {
    "duration": 69,
    "start_time": "2022-02-10T15:47:56.427Z"
   },
   {
    "duration": 70,
    "start_time": "2022-02-10T15:48:26.767Z"
   },
   {
    "duration": 71,
    "start_time": "2022-02-10T15:48:41.163Z"
   },
   {
    "duration": 71,
    "start_time": "2022-02-10T15:48:52.003Z"
   },
   {
    "duration": 5,
    "start_time": "2022-02-10T15:54:36.315Z"
   },
   {
    "duration": 4,
    "start_time": "2022-02-10T15:54:41.211Z"
   },
   {
    "duration": 10,
    "start_time": "2022-02-10T15:54:41.815Z"
   },
   {
    "duration": 6,
    "start_time": "2022-02-10T15:54:42.147Z"
   },
   {
    "duration": 5,
    "start_time": "2022-02-10T15:55:56.203Z"
   },
   {
    "duration": 5,
    "start_time": "2022-02-10T15:55:58.763Z"
   },
   {
    "duration": 2,
    "start_time": "2022-02-10T15:56:36.459Z"
   },
   {
    "duration": 5,
    "start_time": "2022-02-10T15:57:55.279Z"
   },
   {
    "duration": 9,
    "start_time": "2022-02-10T16:00:51.911Z"
   },
   {
    "duration": 10,
    "start_time": "2022-02-10T16:01:13.347Z"
   },
   {
    "duration": 347,
    "start_time": "2022-02-10T16:03:42.727Z"
   },
   {
    "duration": 36,
    "start_time": "2022-02-10T16:05:03.466Z"
   },
   {
    "duration": -2899,
    "start_time": "2022-02-10T16:05:31.373Z"
   },
   {
    "duration": 138,
    "start_time": "2022-02-10T16:05:36.471Z"
   },
   {
    "duration": 6626,
    "start_time": "2022-02-10T16:05:42.215Z"
   },
   {
    "duration": 6076,
    "start_time": "2022-02-10T16:06:01.568Z"
   },
   {
    "duration": 116,
    "start_time": "2022-02-10T16:13:00.942Z"
   },
   {
    "duration": 192,
    "start_time": "2022-02-10T16:14:08.398Z"
   },
   {
    "duration": 555,
    "start_time": "2022-02-10T16:14:39.663Z"
   },
   {
    "duration": 2,
    "start_time": "2022-02-10T16:14:52.303Z"
   },
   {
    "duration": 3,
    "start_time": "2022-02-10T16:15:04.735Z"
   },
   {
    "duration": 326,
    "start_time": "2022-02-10T16:15:13.059Z"
   },
   {
    "duration": 321,
    "start_time": "2022-02-10T16:15:20.651Z"
   },
   {
    "duration": 320,
    "start_time": "2022-02-10T16:15:38.035Z"
   },
   {
    "duration": 316,
    "start_time": "2022-02-10T16:16:14.115Z"
   },
   {
    "duration": 8,
    "start_time": "2022-02-10T16:16:26.455Z"
   },
   {
    "duration": 6,
    "start_time": "2022-02-10T16:16:54.891Z"
   },
   {
    "duration": 7,
    "start_time": "2022-02-10T16:17:02.954Z"
   },
   {
    "duration": 9,
    "start_time": "2022-02-10T16:17:08.663Z"
   },
   {
    "duration": 5,
    "start_time": "2022-02-10T16:17:26.575Z"
   },
   {
    "duration": 6,
    "start_time": "2022-02-10T16:17:34.719Z"
   },
   {
    "duration": 5,
    "start_time": "2022-02-10T16:17:39.099Z"
   },
   {
    "duration": 5,
    "start_time": "2022-02-10T16:17:58.022Z"
   },
   {
    "duration": 3,
    "start_time": "2022-02-10T16:22:45.478Z"
   },
   {
    "duration": 4,
    "start_time": "2022-02-10T16:23:08.611Z"
   },
   {
    "duration": 6,
    "start_time": "2022-02-10T16:23:40.543Z"
   },
   {
    "duration": 4,
    "start_time": "2022-02-10T16:24:24.251Z"
   },
   {
    "duration": 5,
    "start_time": "2022-02-10T16:30:14.871Z"
   },
   {
    "duration": 6,
    "start_time": "2022-02-10T16:30:26.951Z"
   },
   {
    "duration": 6,
    "start_time": "2022-02-10T16:30:53.095Z"
   },
   {
    "duration": 107,
    "start_time": "2022-02-10T16:31:34.511Z"
   },
   {
    "duration": 350,
    "start_time": "2022-02-10T16:31:39.195Z"
   },
   {
    "duration": 125,
    "start_time": "2022-02-10T16:31:49.075Z"
   },
   {
    "duration": 14,
    "start_time": "2022-02-10T16:32:11.439Z"
   },
   {
    "duration": 12,
    "start_time": "2022-02-10T16:33:34.795Z"
   },
   {
    "duration": 10,
    "start_time": "2022-02-10T16:33:38.895Z"
   },
   {
    "duration": 10,
    "start_time": "2022-02-10T16:33:45.567Z"
   },
   {
    "duration": 13,
    "start_time": "2022-02-10T16:34:21.579Z"
   },
   {
    "duration": 12,
    "start_time": "2022-02-10T16:34:31.423Z"
   },
   {
    "duration": 113,
    "start_time": "2022-02-10T16:42:47.099Z"
   },
   {
    "duration": 121,
    "start_time": "2022-02-10T16:43:01.631Z"
   },
   {
    "duration": 14,
    "start_time": "2022-02-10T16:43:17.467Z"
   },
   {
    "duration": 14,
    "start_time": "2022-02-10T16:44:31.087Z"
   },
   {
    "duration": 14,
    "start_time": "2022-02-10T16:45:35.112Z"
   },
   {
    "duration": 19,
    "start_time": "2022-02-10T16:46:21.503Z"
   },
   {
    "duration": 12,
    "start_time": "2022-02-10T16:47:19.784Z"
   },
   {
    "duration": 10,
    "start_time": "2022-02-10T16:47:34.471Z"
   },
   {
    "duration": 9,
    "start_time": "2022-02-10T16:47:43.056Z"
   },
   {
    "duration": 9,
    "start_time": "2022-02-10T16:47:50.923Z"
   },
   {
    "duration": 11,
    "start_time": "2022-02-10T16:47:58.811Z"
   },
   {
    "duration": 10,
    "start_time": "2022-02-10T16:48:06.109Z"
   },
   {
    "duration": 9,
    "start_time": "2022-02-10T16:48:11.883Z"
   },
   {
    "duration": 9,
    "start_time": "2022-02-10T16:48:15.725Z"
   },
   {
    "duration": 10,
    "start_time": "2022-02-10T16:48:20.899Z"
   },
   {
    "duration": 9,
    "start_time": "2022-02-10T16:48:27.547Z"
   },
   {
    "duration": 9,
    "start_time": "2022-02-10T17:03:48.235Z"
   },
   {
    "duration": 15,
    "start_time": "2022-02-10T17:04:39.396Z"
   },
   {
    "duration": 15,
    "start_time": "2022-02-10T17:04:58.383Z"
   },
   {
    "duration": 22,
    "start_time": "2022-02-10T17:05:39.956Z"
   },
   {
    "duration": 123,
    "start_time": "2022-02-10T17:08:22.132Z"
   },
   {
    "duration": 19,
    "start_time": "2022-02-10T17:08:28.484Z"
   },
   {
    "duration": 100,
    "start_time": "2022-02-10T17:12:12.259Z"
   },
   {
    "duration": 9,
    "start_time": "2022-02-10T17:12:27.859Z"
   },
   {
    "duration": 22,
    "start_time": "2022-02-10T17:12:45.503Z"
   },
   {
    "duration": 100,
    "start_time": "2022-02-10T17:13:09.308Z"
   },
   {
    "duration": 24,
    "start_time": "2022-02-10T17:13:23.743Z"
   },
   {
    "duration": 323,
    "start_time": "2022-02-10T17:17:45.647Z"
   },
   {
    "duration": 22,
    "start_time": "2022-02-10T17:18:12.997Z"
   },
   {
    "duration": 2146,
    "start_time": "2022-02-10T17:18:52.244Z"
   },
   {
    "duration": 111,
    "start_time": "2022-02-10T17:18:56.560Z"
   },
   {
    "duration": 109,
    "start_time": "2022-02-10T17:19:05.599Z"
   },
   {
    "duration": 104,
    "start_time": "2022-02-10T17:19:10.116Z"
   },
   {
    "duration": 112,
    "start_time": "2022-02-10T17:19:24.216Z"
   },
   {
    "duration": 7,
    "start_time": "2022-02-10T17:19:42.220Z"
   },
   {
    "duration": 7,
    "start_time": "2022-02-10T17:19:53.859Z"
   },
   {
    "duration": 637,
    "start_time": "2022-02-10T17:20:09.167Z"
   },
   {
    "duration": 7,
    "start_time": "2022-02-10T17:20:21.052Z"
   },
   {
    "duration": 8,
    "start_time": "2022-02-10T17:21:33.204Z"
   },
   {
    "duration": 9,
    "start_time": "2022-02-10T17:21:41.476Z"
   },
   {
    "duration": 11,
    "start_time": "2022-02-10T17:22:09.904Z"
   },
   {
    "duration": 9,
    "start_time": "2022-02-10T17:24:39.236Z"
   },
   {
    "duration": 9,
    "start_time": "2022-02-10T17:25:04.116Z"
   },
   {
    "duration": 10,
    "start_time": "2022-02-10T17:26:14.208Z"
   },
   {
    "duration": 9,
    "start_time": "2022-02-10T17:26:19.820Z"
   },
   {
    "duration": 588,
    "start_time": "2022-02-10T17:26:27.786Z"
   },
   {
    "duration": 69,
    "start_time": "2022-02-10T17:26:28.376Z"
   },
   {
    "duration": 13,
    "start_time": "2022-02-10T17:26:28.446Z"
   },
   {
    "duration": 7,
    "start_time": "2022-02-10T17:26:28.461Z"
   },
   {
    "duration": 2,
    "start_time": "2022-02-10T17:26:28.469Z"
   },
   {
    "duration": 52,
    "start_time": "2022-02-10T17:26:36.934Z"
   },
   {
    "duration": 71,
    "start_time": "2022-02-10T17:26:37.858Z"
   },
   {
    "duration": 9,
    "start_time": "2022-02-10T17:26:39.622Z"
   },
   {
    "duration": 9,
    "start_time": "2022-02-10T17:26:40.673Z"
   },
   {
    "duration": 9,
    "start_time": "2022-02-10T17:27:03.850Z"
   },
   {
    "duration": 9,
    "start_time": "2022-02-10T17:27:34.270Z"
   },
   {
    "duration": 10,
    "start_time": "2022-02-10T17:28:17.126Z"
   },
   {
    "duration": 11,
    "start_time": "2022-02-10T17:28:41.902Z"
   },
   {
    "duration": 11,
    "start_time": "2022-02-10T17:28:58.138Z"
   },
   {
    "duration": 10,
    "start_time": "2022-02-10T17:29:31.226Z"
   },
   {
    "duration": 11,
    "start_time": "2022-02-10T17:30:04.986Z"
   },
   {
    "duration": 11,
    "start_time": "2022-02-10T17:30:41.014Z"
   },
   {
    "duration": 418,
    "start_time": "2022-02-10T17:32:03.306Z"
   },
   {
    "duration": 308,
    "start_time": "2022-02-10T17:32:40.218Z"
   },
   {
    "duration": 109,
    "start_time": "2022-02-10T17:33:04.114Z"
   },
   {
    "duration": 312,
    "start_time": "2022-02-10T17:33:45.298Z"
   },
   {
    "duration": 321,
    "start_time": "2022-02-10T17:34:12.818Z"
   },
   {
    "duration": 9,
    "start_time": "2022-02-10T17:34:25.158Z"
   },
   {
    "duration": 8,
    "start_time": "2022-02-10T17:34:35.122Z"
   },
   {
    "duration": 19,
    "start_time": "2022-02-10T17:38:50.858Z"
   },
   {
    "duration": 11,
    "start_time": "2022-02-10T17:39:47.686Z"
   },
   {
    "duration": 21,
    "start_time": "2022-02-10T17:39:59.330Z"
   },
   {
    "duration": 27,
    "start_time": "2022-02-10T17:40:27.658Z"
   },
   {
    "duration": 327,
    "start_time": "2022-02-10T17:41:09.406Z"
   },
   {
    "duration": 27,
    "start_time": "2022-02-10T17:41:18.358Z"
   },
   {
    "duration": 115,
    "start_time": "2022-02-10T17:41:40.662Z"
   },
   {
    "duration": 30,
    "start_time": "2022-02-10T17:41:48.486Z"
   },
   {
    "duration": 27,
    "start_time": "2022-02-10T17:42:03.807Z"
   },
   {
    "duration": 12,
    "start_time": "2022-02-10T17:42:26.434Z"
   },
   {
    "duration": 27,
    "start_time": "2022-02-10T17:42:32.358Z"
   },
   {
    "duration": 315,
    "start_time": "2022-02-10T17:43:09.471Z"
   },
   {
    "duration": 363,
    "start_time": "2022-02-10T17:43:16.930Z"
   },
   {
    "duration": 312,
    "start_time": "2022-02-10T17:44:25.350Z"
   },
   {
    "duration": 643,
    "start_time": "2022-02-10T17:44:41.911Z"
   },
   {
    "duration": 77,
    "start_time": "2022-02-10T17:44:42.556Z"
   },
   {
    "duration": 12,
    "start_time": "2022-02-10T17:44:42.635Z"
   },
   {
    "duration": 362,
    "start_time": "2022-02-10T17:44:42.648Z"
   },
   {
    "duration": -1742,
    "start_time": "2022-02-10T17:44:44.753Z"
   },
   {
    "duration": 52,
    "start_time": "2022-02-10T17:44:49.115Z"
   },
   {
    "duration": 93,
    "start_time": "2022-02-10T17:44:49.737Z"
   },
   {
    "duration": 9,
    "start_time": "2022-02-10T17:44:51.283Z"
   },
   {
    "duration": 379,
    "start_time": "2022-02-10T17:44:52.715Z"
   },
   {
    "duration": 12,
    "start_time": "2022-02-10T17:44:57.471Z"
   },
   {
    "duration": 13,
    "start_time": "2022-02-10T17:45:19.387Z"
   },
   {
    "duration": 28,
    "start_time": "2022-02-10T17:45:29.588Z"
   },
   {
    "duration": 26,
    "start_time": "2022-02-10T17:46:14.956Z"
   },
   {
    "duration": 12,
    "start_time": "2022-02-10T17:46:53.827Z"
   },
   {
    "duration": 13,
    "start_time": "2022-02-10T17:47:26.295Z"
   },
   {
    "duration": 12,
    "start_time": "2022-02-10T17:47:32.631Z"
   },
   {
    "duration": 19,
    "start_time": "2022-02-10T17:47:38.600Z"
   },
   {
    "duration": 13,
    "start_time": "2022-02-10T17:48:14.455Z"
   },
   {
    "duration": 5,
    "start_time": "2022-02-10T17:52:05.479Z"
   },
   {
    "duration": 6,
    "start_time": "2022-02-10T17:53:32.932Z"
   },
   {
    "duration": 12,
    "start_time": "2022-02-10T17:54:16.336Z"
   },
   {
    "duration": 19,
    "start_time": "2022-02-10T17:54:40.816Z"
   },
   {
    "duration": 8,
    "start_time": "2022-02-10T17:55:10.823Z"
   },
   {
    "duration": 22,
    "start_time": "2022-02-10T17:55:23.023Z"
   },
   {
    "duration": 16,
    "start_time": "2022-02-10T17:56:29.021Z"
   },
   {
    "duration": 9,
    "start_time": "2022-02-10T17:58:52.656Z"
   },
   {
    "duration": 6,
    "start_time": "2022-02-10T17:59:11.855Z"
   },
   {
    "duration": 234,
    "start_time": "2022-02-11T02:33:54.968Z"
   },
   {
    "duration": 193,
    "start_time": "2022-02-11T02:34:00.712Z"
   },
   {
    "duration": 576,
    "start_time": "2022-02-11T02:34:05.977Z"
   },
   {
    "duration": 80,
    "start_time": "2022-02-11T02:34:07.297Z"
   },
   {
    "duration": 14,
    "start_time": "2022-02-11T02:34:09.224Z"
   },
   {
    "duration": 7,
    "start_time": "2022-02-11T02:34:10.017Z"
   },
   {
    "duration": 6,
    "start_time": "2022-02-11T02:34:25.937Z"
   },
   {
    "duration": 6,
    "start_time": "2022-02-11T02:34:35.513Z"
   },
   {
    "duration": 5,
    "start_time": "2022-02-11T02:40:40.848Z"
   },
   {
    "duration": 220,
    "start_time": "2022-02-11T02:41:12.598Z"
   },
   {
    "duration": 188,
    "start_time": "2022-02-11T02:41:17.600Z"
   },
   {
    "duration": 195,
    "start_time": "2022-02-11T02:41:27.600Z"
   },
   {
    "duration": 182,
    "start_time": "2022-02-11T02:42:32.112Z"
   },
   {
    "duration": 189,
    "start_time": "2022-02-11T02:42:33.976Z"
   },
   {
    "duration": 49,
    "start_time": "2022-02-11T02:42:39.575Z"
   },
   {
    "duration": 79,
    "start_time": "2022-02-11T02:42:40.272Z"
   },
   {
    "duration": 10,
    "start_time": "2022-02-11T02:42:41.783Z"
   },
   {
    "duration": 206,
    "start_time": "2022-02-11T02:42:42.535Z"
   },
   {
    "duration": 61,
    "start_time": "2022-02-11T02:42:53.527Z"
   },
   {
    "duration": 7,
    "start_time": "2022-02-11T02:43:11.327Z"
   },
   {
    "duration": 196,
    "start_time": "2022-02-11T02:43:14.063Z"
   },
   {
    "duration": 4,
    "start_time": "2022-02-11T02:44:02.704Z"
   },
   {
    "duration": 5,
    "start_time": "2022-02-11T02:44:23.167Z"
   },
   {
    "duration": 5,
    "start_time": "2022-02-11T02:44:37.103Z"
   },
   {
    "duration": 5,
    "start_time": "2022-02-11T02:44:53.695Z"
   },
   {
    "duration": 6,
    "start_time": "2022-02-11T02:45:20.967Z"
   },
   {
    "duration": 6,
    "start_time": "2022-02-11T02:45:29.001Z"
   },
   {
    "duration": 6,
    "start_time": "2022-02-11T02:45:56.279Z"
   },
   {
    "duration": 13,
    "start_time": "2022-02-11T02:46:06.775Z"
   },
   {
    "duration": 40,
    "start_time": "2022-02-11T02:46:19.039Z"
   },
   {
    "duration": 39,
    "start_time": "2022-02-11T02:46:34.464Z"
   },
   {
    "duration": 24,
    "start_time": "2022-02-11T02:46:44.382Z"
   },
   {
    "duration": 20,
    "start_time": "2022-02-11T02:47:00.455Z"
   },
   {
    "duration": 638,
    "start_time": "2022-02-11T02:47:06.305Z"
   },
   {
    "duration": 82,
    "start_time": "2022-02-11T02:47:06.945Z"
   },
   {
    "duration": 14,
    "start_time": "2022-02-11T02:47:07.029Z"
   },
   {
    "duration": 4,
    "start_time": "2022-02-11T02:47:07.045Z"
   },
   {
    "duration": 4,
    "start_time": "2022-02-11T02:47:07.051Z"
   },
   {
    "duration": 2,
    "start_time": "2022-02-11T02:47:07.056Z"
   },
   {
    "duration": 53,
    "start_time": "2022-02-11T02:47:15.188Z"
   },
   {
    "duration": 91,
    "start_time": "2022-02-11T02:47:15.772Z"
   },
   {
    "duration": 11,
    "start_time": "2022-02-11T02:47:16.604Z"
   },
   {
    "duration": 7,
    "start_time": "2022-02-11T02:47:16.955Z"
   },
   {
    "duration": 5,
    "start_time": "2022-02-11T02:47:17.388Z"
   },
   {
    "duration": 5,
    "start_time": "2022-02-11T02:47:31.948Z"
   },
   {
    "duration": 6,
    "start_time": "2022-02-11T02:47:49.028Z"
   },
   {
    "duration": 276,
    "start_time": "2022-02-11T02:48:14.492Z"
   },
   {
    "duration": 6,
    "start_time": "2022-02-11T02:48:37.836Z"
   },
   {
    "duration": 177,
    "start_time": "2022-02-11T02:48:49.772Z"
   },
   {
    "duration": 6,
    "start_time": "2022-02-11T02:49:01.524Z"
   },
   {
    "duration": 198,
    "start_time": "2022-02-11T02:49:19.243Z"
   },
   {
    "duration": 191,
    "start_time": "2022-02-11T02:49:52.708Z"
   },
   {
    "duration": 5,
    "start_time": "2022-02-11T02:49:57.052Z"
   },
   {
    "duration": 14,
    "start_time": "2022-02-11T02:59:04.819Z"
   },
   {
    "duration": 15,
    "start_time": "2022-02-11T02:59:26.795Z"
   },
   {
    "duration": 16,
    "start_time": "2022-02-11T05:36:57.039Z"
   },
   {
    "duration": 17,
    "start_time": "2022-02-11T05:37:01.567Z"
   },
   {
    "duration": 16,
    "start_time": "2022-02-11T05:37:16.856Z"
   },
   {
    "duration": 13,
    "start_time": "2022-02-11T05:37:57.943Z"
   },
   {
    "duration": 5,
    "start_time": "2022-02-11T05:38:48.965Z"
   },
   {
    "duration": 7,
    "start_time": "2022-02-11T05:39:11.438Z"
   },
   {
    "duration": 13,
    "start_time": "2022-02-11T05:39:27.711Z"
   },
   {
    "duration": 24,
    "start_time": "2022-02-11T07:34:51.730Z"
   },
   {
    "duration": 204,
    "start_time": "2022-02-11T07:35:09.321Z"
   },
   {
    "duration": 205,
    "start_time": "2022-02-11T07:35:46.425Z"
   },
   {
    "duration": 17,
    "start_time": "2022-02-11T07:35:49.521Z"
   },
   {
    "duration": 10,
    "start_time": "2022-02-11T07:36:23.889Z"
   },
   {
    "duration": 13,
    "start_time": "2022-02-11T07:36:46.185Z"
   },
   {
    "duration": 18,
    "start_time": "2022-02-11T07:36:56.033Z"
   },
   {
    "duration": 18,
    "start_time": "2022-02-11T07:37:04.496Z"
   },
   {
    "duration": 22,
    "start_time": "2022-02-11T07:38:03.793Z"
   },
   {
    "duration": 27,
    "start_time": "2022-02-11T07:38:11.945Z"
   },
   {
    "duration": 11,
    "start_time": "2022-02-11T07:40:42.689Z"
   },
   {
    "duration": 15,
    "start_time": "2022-02-11T07:41:09.689Z"
   },
   {
    "duration": 6,
    "start_time": "2022-02-11T07:41:31.810Z"
   },
   {
    "duration": 11,
    "start_time": "2022-02-11T07:42:10.585Z"
   },
   {
    "duration": 641,
    "start_time": "2022-02-11T07:42:16.593Z"
   },
   {
    "duration": 89,
    "start_time": "2022-02-11T07:42:17.237Z"
   },
   {
    "duration": 14,
    "start_time": "2022-02-11T07:42:17.328Z"
   },
   {
    "duration": 6,
    "start_time": "2022-02-11T07:42:17.344Z"
   },
   {
    "duration": 16,
    "start_time": "2022-02-11T07:42:17.351Z"
   },
   {
    "duration": 9,
    "start_time": "2022-02-11T07:42:17.368Z"
   },
   {
    "duration": 2,
    "start_time": "2022-02-11T07:42:17.379Z"
   },
   {
    "duration": 94,
    "start_time": "2022-02-11T07:42:21.698Z"
   },
   {
    "duration": 9,
    "start_time": "2022-02-11T07:42:22.794Z"
   },
   {
    "duration": 6,
    "start_time": "2022-02-11T07:42:23.157Z"
   },
   {
    "duration": 17,
    "start_time": "2022-02-11T07:42:23.514Z"
   },
   {
    "duration": 9,
    "start_time": "2022-02-11T07:42:23.898Z"
   },
   {
    "duration": 11,
    "start_time": "2022-02-11T07:42:36.786Z"
   },
   {
    "duration": 19,
    "start_time": "2022-02-11T07:42:55.507Z"
   },
   {
    "duration": 11,
    "start_time": "2022-02-11T07:43:43.163Z"
   },
   {
    "duration": 11,
    "start_time": "2022-02-11T07:43:49.659Z"
   },
   {
    "duration": 12,
    "start_time": "2022-02-11T07:43:58.250Z"
   },
   {
    "duration": 18,
    "start_time": "2022-02-11T07:44:01.194Z"
   },
   {
    "duration": 12,
    "start_time": "2022-02-11T07:44:03.546Z"
   },
   {
    "duration": 24,
    "start_time": "2022-02-11T07:44:08.707Z"
   },
   {
    "duration": 26,
    "start_time": "2022-02-11T07:44:27.362Z"
   },
   {
    "duration": 16,
    "start_time": "2022-02-11T07:44:42.891Z"
   },
   {
    "duration": 5,
    "start_time": "2022-02-11T07:49:55.322Z"
   },
   {
    "duration": 7,
    "start_time": "2022-02-11T07:50:08.851Z"
   },
   {
    "duration": 3,
    "start_time": "2022-02-11T08:00:51.648Z"
   },
   {
    "duration": 416,
    "start_time": "2022-02-11T08:01:59.319Z"
   },
   {
    "duration": 4,
    "start_time": "2022-02-11T08:02:06.776Z"
   },
   {
    "duration": 5,
    "start_time": "2022-02-11T08:02:15.184Z"
   },
   {
    "duration": 18,
    "start_time": "2022-02-11T08:02:48.848Z"
   },
   {
    "duration": 209,
    "start_time": "2022-02-11T08:13:40.383Z"
   },
   {
    "duration": 18,
    "start_time": "2022-02-11T08:13:52.446Z"
   },
   {
    "duration": 208,
    "start_time": "2022-02-11T08:13:55.534Z"
   },
   {
    "duration": 200,
    "start_time": "2022-02-11T08:16:23.702Z"
   },
   {
    "duration": 18,
    "start_time": "2022-02-11T08:17:10.790Z"
   },
   {
    "duration": 372,
    "start_time": "2022-02-11T08:17:14.646Z"
   },
   {
    "duration": 17,
    "start_time": "2022-02-11T08:17:35.294Z"
   },
   {
    "duration": 8,
    "start_time": "2022-02-11T08:17:38.334Z"
   },
   {
    "duration": 21,
    "start_time": "2022-02-11T08:17:56.062Z"
   },
   {
    "duration": 33,
    "start_time": "2022-02-11T08:18:56.174Z"
   },
   {
    "duration": 38,
    "start_time": "2022-02-11T08:21:06.966Z"
   },
   {
    "duration": 43,
    "start_time": "2022-02-11T08:22:50.670Z"
   },
   {
    "duration": 43,
    "start_time": "2022-02-11T08:23:00.351Z"
   },
   {
    "duration": 61,
    "start_time": "2022-02-11T08:25:42.918Z"
   },
   {
    "duration": 65,
    "start_time": "2022-02-11T08:26:55.437Z"
   },
   {
    "duration": 67,
    "start_time": "2022-02-11T08:27:12.120Z"
   },
   {
    "duration": 84,
    "start_time": "2022-02-11T08:28:14.677Z"
   },
   {
    "duration": 66,
    "start_time": "2022-02-11T08:28:35.150Z"
   },
   {
    "duration": 21,
    "start_time": "2022-02-11T08:38:34.068Z"
   },
   {
    "duration": 600,
    "start_time": "2022-02-11T08:44:14.226Z"
   },
   {
    "duration": 84,
    "start_time": "2022-02-11T08:44:14.828Z"
   },
   {
    "duration": 14,
    "start_time": "2022-02-11T08:44:14.916Z"
   },
   {
    "duration": 5,
    "start_time": "2022-02-11T08:44:14.932Z"
   },
   {
    "duration": 17,
    "start_time": "2022-02-11T08:44:14.938Z"
   },
   {
    "duration": 22,
    "start_time": "2022-02-11T08:44:14.956Z"
   },
   {
    "duration": 47,
    "start_time": "2022-02-11T08:44:14.979Z"
   },
   {
    "duration": 56,
    "start_time": "2022-02-11T08:44:15.028Z"
   },
   {
    "duration": 37,
    "start_time": "2022-02-11T08:44:15.086Z"
   },
   {
    "duration": 3,
    "start_time": "2022-02-11T08:44:15.124Z"
   },
   {
    "duration": 50,
    "start_time": "2022-02-11T08:44:21.059Z"
   },
   {
    "duration": 81,
    "start_time": "2022-02-11T08:44:24.299Z"
   },
   {
    "duration": 9,
    "start_time": "2022-02-11T08:44:34.130Z"
   },
   {
    "duration": 6,
    "start_time": "2022-02-11T08:44:36.858Z"
   },
   {
    "duration": 15,
    "start_time": "2022-02-11T08:44:39.282Z"
   },
   {
    "duration": 16,
    "start_time": "2022-02-11T08:44:44.397Z"
   },
   {
    "duration": 17,
    "start_time": "2022-02-11T08:44:56.314Z"
   },
   {
    "duration": 18,
    "start_time": "2022-02-11T08:45:24.898Z"
   },
   {
    "duration": 53,
    "start_time": "2022-02-11T08:45:30.251Z"
   },
   {
    "duration": 56,
    "start_time": "2022-02-11T08:45:55.410Z"
   },
   {
    "duration": 646,
    "start_time": "2022-02-11T08:46:06.885Z"
   },
   {
    "duration": 89,
    "start_time": "2022-02-11T08:46:07.533Z"
   },
   {
    "duration": 19,
    "start_time": "2022-02-11T08:46:07.625Z"
   },
   {
    "duration": 7,
    "start_time": "2022-02-11T08:46:07.646Z"
   },
   {
    "duration": 19,
    "start_time": "2022-02-11T08:46:07.654Z"
   },
   {
    "duration": 44,
    "start_time": "2022-02-11T08:46:07.674Z"
   },
   {
    "duration": 19,
    "start_time": "2022-02-11T08:46:07.720Z"
   },
   {
    "duration": 72,
    "start_time": "2022-02-11T08:46:07.742Z"
   },
   {
    "duration": 22,
    "start_time": "2022-02-11T08:46:07.816Z"
   },
   {
    "duration": 2,
    "start_time": "2022-02-11T08:46:07.840Z"
   },
   {
    "duration": 52,
    "start_time": "2022-02-11T08:46:13.321Z"
   },
   {
    "duration": 81,
    "start_time": "2022-02-11T08:46:13.890Z"
   },
   {
    "duration": 11,
    "start_time": "2022-02-11T08:46:15.050Z"
   },
   {
    "duration": 7,
    "start_time": "2022-02-11T08:46:15.593Z"
   },
   {
    "duration": 15,
    "start_time": "2022-02-11T08:46:16.137Z"
   },
   {
    "duration": 16,
    "start_time": "2022-02-11T08:46:16.858Z"
   },
   {
    "duration": 19,
    "start_time": "2022-02-11T08:46:19.225Z"
   },
   {
    "duration": 55,
    "start_time": "2022-02-11T08:46:20.281Z"
   },
   {
    "duration": 24,
    "start_time": "2022-02-11T08:46:26.866Z"
   },
   {
    "duration": 22,
    "start_time": "2022-02-11T08:47:35.330Z"
   },
   {
    "duration": 6,
    "start_time": "2022-02-11T08:49:02.234Z"
   },
   {
    "duration": 25,
    "start_time": "2022-02-11T08:49:10.001Z"
   },
   {
    "duration": 4,
    "start_time": "2022-02-11T08:49:43.058Z"
   },
   {
    "duration": 20,
    "start_time": "2022-02-11T08:49:47.145Z"
   },
   {
    "duration": 5,
    "start_time": "2022-02-11T08:50:05.018Z"
   },
   {
    "duration": 5,
    "start_time": "2022-02-11T08:50:58.065Z"
   },
   {
    "duration": 5327,
    "start_time": "2022-02-11T08:51:28.947Z"
   },
   {
    "duration": 3,
    "start_time": "2022-02-11T08:51:57.153Z"
   },
   {
    "duration": 4,
    "start_time": "2022-02-11T08:52:08.217Z"
   },
   {
    "duration": 4,
    "start_time": "2022-02-11T08:52:34.650Z"
   },
   {
    "duration": 32,
    "start_time": "2022-02-11T08:52:50.106Z"
   },
   {
    "duration": 6,
    "start_time": "2022-02-11T08:54:53.833Z"
   },
   {
    "duration": 14,
    "start_time": "2022-02-11T08:55:00.506Z"
   },
   {
    "duration": 24,
    "start_time": "2022-02-11T08:55:05.988Z"
   },
   {
    "duration": 24,
    "start_time": "2022-02-11T08:55:56.610Z"
   },
   {
    "duration": 24,
    "start_time": "2022-02-11T08:57:08.290Z"
   },
   {
    "duration": 39,
    "start_time": "2022-02-11T09:00:13.298Z"
   },
   {
    "duration": 41,
    "start_time": "2022-02-11T09:00:46.746Z"
   },
   {
    "duration": 61,
    "start_time": "2022-02-11T09:00:55.154Z"
   },
   {
    "duration": 35,
    "start_time": "2022-02-11T09:04:46.219Z"
   },
   {
    "duration": 27,
    "start_time": "2022-02-11T09:04:59.834Z"
   },
   {
    "duration": 26,
    "start_time": "2022-02-11T09:05:20.810Z"
   },
   {
    "duration": 26,
    "start_time": "2022-02-11T09:05:29.810Z"
   },
   {
    "duration": 26,
    "start_time": "2022-02-11T09:05:41.738Z"
   },
   {
    "duration": 25,
    "start_time": "2022-02-11T09:05:54.786Z"
   },
   {
    "duration": 25,
    "start_time": "2022-02-11T09:05:59.930Z"
   },
   {
    "duration": 27,
    "start_time": "2022-02-11T09:07:36.810Z"
   },
   {
    "duration": 26,
    "start_time": "2022-02-11T09:08:11.866Z"
   },
   {
    "duration": 31,
    "start_time": "2022-02-11T09:08:30.322Z"
   },
   {
    "duration": 33,
    "start_time": "2022-02-11T09:08:36.922Z"
   },
   {
    "duration": 33,
    "start_time": "2022-02-11T09:09:00.021Z"
   },
   {
    "duration": 31,
    "start_time": "2022-02-11T09:09:23.698Z"
   },
   {
    "duration": 32,
    "start_time": "2022-02-11T09:10:27.330Z"
   },
   {
    "duration": 41,
    "start_time": "2022-02-11T09:10:37.123Z"
   },
   {
    "duration": 211,
    "start_time": "2022-02-11T09:12:47.514Z"
   },
   {
    "duration": 39,
    "start_time": "2022-02-11T09:12:59.546Z"
   },
   {
    "duration": 44,
    "start_time": "2022-02-11T09:13:08.186Z"
   },
   {
    "duration": 27,
    "start_time": "2022-02-11T09:13:29.474Z"
   },
   {
    "duration": 29,
    "start_time": "2022-02-11T09:15:30.435Z"
   },
   {
    "duration": 29,
    "start_time": "2022-02-11T09:15:55.658Z"
   },
   {
    "duration": 31,
    "start_time": "2022-02-11T09:16:32.845Z"
   },
   {
    "duration": 29,
    "start_time": "2022-02-11T09:17:44.603Z"
   },
   {
    "duration": 33,
    "start_time": "2022-02-11T09:18:06.474Z"
   },
   {
    "duration": 75,
    "start_time": "2022-02-11T09:19:28.909Z"
   },
   {
    "duration": 38,
    "start_time": "2022-02-11T09:19:33.306Z"
   },
   {
    "duration": 48,
    "start_time": "2022-02-11T09:19:41.810Z"
   },
   {
    "duration": 44,
    "start_time": "2022-02-11T09:19:55.635Z"
   },
   {
    "duration": 16,
    "start_time": "2022-02-11T09:22:40.210Z"
   },
   {
    "duration": 44,
    "start_time": "2022-02-11T09:24:31.610Z"
   },
   {
    "duration": 3,
    "start_time": "2022-02-11T09:25:48.890Z"
   },
   {
    "duration": 28,
    "start_time": "2022-02-11T09:30:41.355Z"
   },
   {
    "duration": 105,
    "start_time": "2022-02-11T09:33:40.194Z"
   },
   {
    "duration": 2,
    "start_time": "2022-02-11T09:33:48.450Z"
   },
   {
    "duration": 361,
    "start_time": "2022-02-11T09:35:51.890Z"
   },
   {
    "duration": 404,
    "start_time": "2022-02-11T09:36:01.586Z"
   },
   {
    "duration": 419,
    "start_time": "2022-02-11T09:36:17.202Z"
   },
   {
    "duration": 434,
    "start_time": "2022-02-11T09:36:42.434Z"
   },
   {
    "duration": 12,
    "start_time": "2022-02-11T09:37:16.394Z"
   },
   {
    "duration": 22,
    "start_time": "2022-02-11T09:37:26.618Z"
   },
   {
    "duration": 227,
    "start_time": "2022-02-11T09:45:01.395Z"
   },
   {
    "duration": 217,
    "start_time": "2022-02-11T09:46:07.779Z"
   },
   {
    "duration": 216,
    "start_time": "2022-02-11T09:52:24.218Z"
   },
   {
    "duration": 791,
    "start_time": "2022-02-11T09:53:04.660Z"
   },
   {
    "duration": 800,
    "start_time": "2022-02-11T09:53:14.378Z"
   },
   {
    "duration": 215,
    "start_time": "2022-02-11T09:53:42.082Z"
   },
   {
    "duration": 182,
    "start_time": "2022-02-11T09:53:49.090Z"
   },
   {
    "duration": 195,
    "start_time": "2022-02-11T09:53:56.154Z"
   },
   {
    "duration": 11,
    "start_time": "2022-02-11T09:54:02.410Z"
   },
   {
    "duration": 728,
    "start_time": "2022-02-11T09:54:40.378Z"
   },
   {
    "duration": 212,
    "start_time": "2022-02-11T09:55:33.914Z"
   },
   {
    "duration": 67,
    "start_time": "2022-02-11T09:58:51.402Z"
   },
   {
    "duration": 73,
    "start_time": "2022-02-11T09:59:03.634Z"
   },
   {
    "duration": 244,
    "start_time": "2022-02-11T09:59:19.658Z"
   },
   {
    "duration": 7,
    "start_time": "2022-02-11T10:05:27.018Z"
   },
   {
    "duration": 6,
    "start_time": "2022-02-11T10:06:06.091Z"
   },
   {
    "duration": 8,
    "start_time": "2022-02-11T10:06:27.570Z"
   },
   {
    "duration": 10,
    "start_time": "2022-02-11T10:07:01.313Z"
   },
   {
    "duration": 8,
    "start_time": "2022-02-11T10:07:08.610Z"
   },
   {
    "duration": 9,
    "start_time": "2022-02-11T10:07:26.010Z"
   },
   {
    "duration": 8,
    "start_time": "2022-02-11T10:07:34.467Z"
   },
   {
    "duration": 12,
    "start_time": "2022-02-11T10:07:51.305Z"
   },
   {
    "duration": 633,
    "start_time": "2022-02-11T10:08:03.791Z"
   },
   {
    "duration": 88,
    "start_time": "2022-02-11T10:08:04.426Z"
   },
   {
    "duration": 15,
    "start_time": "2022-02-11T10:08:04.516Z"
   },
   {
    "duration": 6,
    "start_time": "2022-02-11T10:08:04.532Z"
   },
   {
    "duration": 20,
    "start_time": "2022-02-11T10:08:04.540Z"
   },
   {
    "duration": 26,
    "start_time": "2022-02-11T10:08:04.562Z"
   },
   {
    "duration": 3,
    "start_time": "2022-02-11T10:08:04.589Z"
   },
   {
    "duration": 71,
    "start_time": "2022-02-11T10:08:04.594Z"
   },
   {
    "duration": 27,
    "start_time": "2022-02-11T10:08:04.668Z"
   },
   {
    "duration": 13,
    "start_time": "2022-02-11T10:08:04.712Z"
   },
   {
    "duration": 5,
    "start_time": "2022-02-11T10:08:04.727Z"
   },
   {
    "duration": 51,
    "start_time": "2022-02-11T10:08:10.383Z"
   },
   {
    "duration": 81,
    "start_time": "2022-02-11T10:08:11.015Z"
   },
   {
    "duration": 10,
    "start_time": "2022-02-11T10:08:12.352Z"
   },
   {
    "duration": 5,
    "start_time": "2022-02-11T10:08:13.055Z"
   },
   {
    "duration": 15,
    "start_time": "2022-02-11T10:08:13.815Z"
   },
   {
    "duration": 15,
    "start_time": "2022-02-11T10:08:14.455Z"
   },
   {
    "duration": 3,
    "start_time": "2022-02-11T10:08:15.662Z"
   },
   {
    "duration": 57,
    "start_time": "2022-02-11T10:08:16.223Z"
   },
   {
    "duration": 30,
    "start_time": "2022-02-11T10:08:17.218Z"
   },
   {
    "duration": 12,
    "start_time": "2022-02-11T10:08:18.935Z"
   },
   {
    "duration": 5,
    "start_time": "2022-02-11T10:16:15.661Z"
   },
   {
    "duration": 15,
    "start_time": "2022-02-11T10:16:22.677Z"
   },
   {
    "duration": 272,
    "start_time": "2022-02-11T10:16:37.381Z"
   },
   {
    "duration": 15,
    "start_time": "2022-02-11T10:16:50.957Z"
   },
   {
    "duration": 5,
    "start_time": "2022-02-11T10:17:08.893Z"
   },
   {
    "duration": 6,
    "start_time": "2022-02-11T10:18:05.644Z"
   },
   {
    "duration": 5,
    "start_time": "2022-02-11T10:18:10.132Z"
   },
   {
    "duration": 6,
    "start_time": "2022-02-11T10:18:12.960Z"
   },
   {
    "duration": 6,
    "start_time": "2022-02-11T10:18:27.236Z"
   },
   {
    "duration": 13,
    "start_time": "2022-02-11T10:18:34.493Z"
   },
   {
    "duration": 668,
    "start_time": "2022-02-11T10:18:46.704Z"
   },
   {
    "duration": 89,
    "start_time": "2022-02-11T10:18:47.374Z"
   },
   {
    "duration": 14,
    "start_time": "2022-02-11T10:18:47.467Z"
   },
   {
    "duration": 6,
    "start_time": "2022-02-11T10:18:47.482Z"
   },
   {
    "duration": 35,
    "start_time": "2022-02-11T10:18:47.489Z"
   },
   {
    "duration": 16,
    "start_time": "2022-02-11T10:18:47.526Z"
   },
   {
    "duration": 2,
    "start_time": "2022-02-11T10:18:47.544Z"
   },
   {
    "duration": 77,
    "start_time": "2022-02-11T10:18:47.549Z"
   },
   {
    "duration": 28,
    "start_time": "2022-02-11T10:18:47.628Z"
   },
   {
    "duration": 13,
    "start_time": "2022-02-11T10:18:47.657Z"
   },
   {
    "duration": 5,
    "start_time": "2022-02-11T10:18:47.672Z"
   },
   {
    "duration": 54,
    "start_time": "2022-02-11T10:18:55.877Z"
   },
   {
    "duration": 85,
    "start_time": "2022-02-11T10:18:56.225Z"
   },
   {
    "duration": 10,
    "start_time": "2022-02-11T10:18:56.918Z"
   },
   {
    "duration": 7,
    "start_time": "2022-02-11T10:18:57.277Z"
   },
   {
    "duration": 15,
    "start_time": "2022-02-11T10:18:57.655Z"
   },
   {
    "duration": 15,
    "start_time": "2022-02-11T10:18:58.038Z"
   },
   {
    "duration": 3,
    "start_time": "2022-02-11T10:18:59.469Z"
   },
   {
    "duration": 58,
    "start_time": "2022-02-11T10:19:00.502Z"
   },
   {
    "duration": 29,
    "start_time": "2022-02-11T10:19:01.429Z"
   },
   {
    "duration": 17,
    "start_time": "2022-02-11T10:19:08.421Z"
   },
   {
    "duration": 7,
    "start_time": "2022-02-11T10:19:14.140Z"
   },
   {
    "duration": 16,
    "start_time": "2022-02-11T10:19:19.525Z"
   },
   {
    "duration": 819,
    "start_time": "2022-02-11T10:20:09.806Z"
   },
   {
    "duration": 14,
    "start_time": "2022-02-11T10:20:33.501Z"
   },
   {
    "duration": 219,
    "start_time": "2022-02-11T10:21:07.854Z"
   },
   {
    "duration": 15,
    "start_time": "2022-02-11T10:21:31.926Z"
   },
   {
    "duration": 8,
    "start_time": "2022-02-11T10:22:03.525Z"
   },
   {
    "duration": 10,
    "start_time": "2022-02-11T10:23:02.308Z"
   },
   {
    "duration": 8,
    "start_time": "2022-02-11T10:23:07.637Z"
   },
   {
    "duration": 8,
    "start_time": "2022-02-11T10:23:09.941Z"
   },
   {
    "duration": 22,
    "start_time": "2022-02-11T10:23:19.021Z"
   },
   {
    "duration": 208,
    "start_time": "2022-02-11T10:23:28.709Z"
   },
   {
    "duration": 4,
    "start_time": "2022-02-11T10:23:41.205Z"
   },
   {
    "duration": 662,
    "start_time": "2022-02-11T10:23:57.808Z"
   },
   {
    "duration": 85,
    "start_time": "2022-02-11T10:23:58.473Z"
   },
   {
    "duration": 15,
    "start_time": "2022-02-11T10:23:58.559Z"
   },
   {
    "duration": 5,
    "start_time": "2022-02-11T10:23:58.576Z"
   },
   {
    "duration": 43,
    "start_time": "2022-02-11T10:23:58.582Z"
   },
   {
    "duration": 20,
    "start_time": "2022-02-11T10:23:58.627Z"
   },
   {
    "duration": 2,
    "start_time": "2022-02-11T10:23:58.649Z"
   },
   {
    "duration": 73,
    "start_time": "2022-02-11T10:23:58.653Z"
   },
   {
    "duration": 26,
    "start_time": "2022-02-11T10:23:58.728Z"
   },
   {
    "duration": 5,
    "start_time": "2022-02-11T10:23:58.755Z"
   },
   {
    "duration": 5,
    "start_time": "2022-02-11T10:23:58.761Z"
   },
   {
    "duration": 55,
    "start_time": "2022-02-11T10:24:03.528Z"
   },
   {
    "duration": 84,
    "start_time": "2022-02-11T10:24:03.785Z"
   },
   {
    "duration": 10,
    "start_time": "2022-02-11T10:24:04.217Z"
   },
   {
    "duration": 6,
    "start_time": "2022-02-11T10:24:04.424Z"
   },
   {
    "duration": 15,
    "start_time": "2022-02-11T10:24:04.906Z"
   },
   {
    "duration": 22,
    "start_time": "2022-02-11T10:24:05.456Z"
   },
   {
    "duration": 4,
    "start_time": "2022-02-11T10:24:07.440Z"
   },
   {
    "duration": 75,
    "start_time": "2022-02-11T10:24:07.970Z"
   },
   {
    "duration": 30,
    "start_time": "2022-02-11T10:24:10.528Z"
   },
   {
    "duration": 5,
    "start_time": "2022-02-11T10:24:15.960Z"
   },
   {
    "duration": 298,
    "start_time": "2022-02-12T07:34:54.125Z"
   },
   {
    "duration": 836,
    "start_time": "2022-02-12T07:35:01.701Z"
   },
   {
    "duration": 98,
    "start_time": "2022-02-12T07:35:02.540Z"
   },
   {
    "duration": 17,
    "start_time": "2022-02-12T07:35:04.505Z"
   },
   {
    "duration": 7,
    "start_time": "2022-02-12T07:35:05.381Z"
   },
   {
    "duration": 16,
    "start_time": "2022-02-12T07:35:06.317Z"
   },
   {
    "duration": 18,
    "start_time": "2022-02-12T07:35:07.309Z"
   },
   {
    "duration": 3,
    "start_time": "2022-02-12T07:35:08.836Z"
   },
   {
    "duration": 60,
    "start_time": "2022-02-12T07:35:09.561Z"
   },
   {
    "duration": 30,
    "start_time": "2022-02-12T07:35:10.721Z"
   },
   {
    "duration": 5,
    "start_time": "2022-02-12T07:35:12.065Z"
   },
   {
    "duration": 114,
    "start_time": "2022-02-12T07:39:42.313Z"
   },
   {
    "duration": 379,
    "start_time": "2022-02-12T07:40:06.477Z"
   },
   {
    "duration": 409,
    "start_time": "2022-02-12T07:40:16.293Z"
   },
   {
    "duration": 4,
    "start_time": "2022-02-12T07:40:33.741Z"
   },
   {
    "duration": 88,
    "start_time": "2022-02-12T07:44:48.309Z"
   },
   {
    "duration": 85,
    "start_time": "2022-02-12T07:45:03.169Z"
   },
   {
    "duration": 3191,
    "start_time": "2022-02-12T07:45:12.417Z"
   },
   {
    "duration": 5,
    "start_time": "2022-02-12T07:46:29.481Z"
   },
   {
    "duration": 285,
    "start_time": "2022-02-12T07:46:51.193Z"
   },
   {
    "duration": 5,
    "start_time": "2022-02-12T07:47:13.810Z"
   },
   {
    "duration": 90,
    "start_time": "2022-02-12T07:48:06.721Z"
   },
   {
    "duration": 1065,
    "start_time": "2022-02-12T07:48:13.637Z"
   },
   {
    "duration": 1449,
    "start_time": "2022-02-12T07:48:24.381Z"
   },
   {
    "duration": 4,
    "start_time": "2022-02-12T07:48:49.554Z"
   },
   {
    "duration": 271,
    "start_time": "2022-02-12T07:48:59.661Z"
   },
   {
    "duration": 283,
    "start_time": "2022-02-12T07:49:07.177Z"
   },
   {
    "duration": 5,
    "start_time": "2022-02-12T07:49:18.150Z"
   },
   {
    "duration": 6,
    "start_time": "2022-02-12T07:49:31.521Z"
   },
   {
    "duration": 5,
    "start_time": "2022-02-12T07:49:43.529Z"
   },
   {
    "duration": 6,
    "start_time": "2022-02-12T07:49:47.761Z"
   },
   {
    "duration": 2941,
    "start_time": "2022-02-12T07:50:02.810Z"
   },
   {
    "duration": 1433,
    "start_time": "2022-02-12T07:50:38.306Z"
   },
   {
    "duration": 87,
    "start_time": "2022-02-12T07:50:46.930Z"
   },
   {
    "duration": 1521,
    "start_time": "2022-02-12T07:50:52.789Z"
   },
   {
    "duration": 1568,
    "start_time": "2022-02-12T07:51:51.674Z"
   },
   {
    "duration": 1716,
    "start_time": "2022-02-12T07:52:19.889Z"
   },
   {
    "duration": 7812,
    "start_time": "2022-02-12T07:52:37.778Z"
   },
   {
    "duration": 1502,
    "start_time": "2022-02-12T07:53:12.497Z"
   },
   {
    "duration": 1432,
    "start_time": "2022-02-12T07:53:43.921Z"
   },
   {
    "duration": 1488,
    "start_time": "2022-02-12T07:54:03.310Z"
   },
   {
    "duration": 3,
    "start_time": "2022-02-12T07:54:11.662Z"
   },
   {
    "duration": 4,
    "start_time": "2022-02-12T07:54:18.701Z"
   },
   {
    "duration": 2,
    "start_time": "2022-02-12T07:54:27.334Z"
   },
   {
    "duration": 757,
    "start_time": "2022-02-12T07:54:32.214Z"
   },
   {
    "duration": 90,
    "start_time": "2022-02-12T07:54:32.973Z"
   },
   {
    "duration": 17,
    "start_time": "2022-02-12T07:54:33.066Z"
   },
   {
    "duration": 8,
    "start_time": "2022-02-12T07:54:33.099Z"
   },
   {
    "duration": 18,
    "start_time": "2022-02-12T07:54:33.109Z"
   },
   {
    "duration": 20,
    "start_time": "2022-02-12T07:54:33.129Z"
   },
   {
    "duration": 4,
    "start_time": "2022-02-12T07:54:33.151Z"
   },
   {
    "duration": 99,
    "start_time": "2022-02-12T07:54:33.158Z"
   },
   {
    "duration": 48,
    "start_time": "2022-02-12T07:54:33.259Z"
   },
   {
    "duration": 2,
    "start_time": "2022-02-12T07:54:33.310Z"
   },
   {
    "duration": 11,
    "start_time": "2022-02-12T07:54:33.314Z"
   },
   {
    "duration": 62,
    "start_time": "2022-02-12T07:54:39.274Z"
   },
   {
    "duration": 90,
    "start_time": "2022-02-12T07:54:39.626Z"
   },
   {
    "duration": 11,
    "start_time": "2022-02-12T07:54:40.506Z"
   },
   {
    "duration": 7,
    "start_time": "2022-02-12T07:54:41.030Z"
   },
   {
    "duration": 17,
    "start_time": "2022-02-12T07:54:41.606Z"
   },
   {
    "duration": 15,
    "start_time": "2022-02-12T07:54:42.194Z"
   },
   {
    "duration": 3,
    "start_time": "2022-02-12T07:54:43.306Z"
   },
   {
    "duration": 59,
    "start_time": "2022-02-12T07:54:43.938Z"
   },
   {
    "duration": 31,
    "start_time": "2022-02-12T07:54:44.586Z"
   },
   {
    "duration": 3,
    "start_time": "2022-02-12T07:54:45.834Z"
   },
   {
    "duration": 19,
    "start_time": "2022-02-12T07:54:56.522Z"
   },
   {
    "duration": 4,
    "start_time": "2022-02-12T07:55:08.826Z"
   },
   {
    "duration": 7,
    "start_time": "2022-02-12T07:55:12.430Z"
   },
   {
    "duration": 21,
    "start_time": "2022-02-12T07:55:16.894Z"
   },
   {
    "duration": 82,
    "start_time": "2022-02-12T07:55:34.566Z"
   },
   {
    "duration": 3,
    "start_time": "2022-02-12T07:55:38.382Z"
   },
   {
    "duration": 3,
    "start_time": "2022-02-12T07:55:54.275Z"
   },
   {
    "duration": 5,
    "start_time": "2022-02-12T07:56:06.762Z"
   },
   {
    "duration": 3,
    "start_time": "2022-02-12T07:57:55.702Z"
   },
   {
    "duration": 87,
    "start_time": "2022-02-12T08:00:02.326Z"
   },
   {
    "duration": 84,
    "start_time": "2022-02-12T08:00:11.374Z"
   },
   {
    "duration": 93,
    "start_time": "2022-02-12T08:00:37.326Z"
   },
   {
    "duration": 92,
    "start_time": "2022-02-12T08:00:51.446Z"
   },
   {
    "duration": 82,
    "start_time": "2022-02-12T08:00:55.598Z"
   },
   {
    "duration": 95,
    "start_time": "2022-02-12T08:01:01.523Z"
   },
   {
    "duration": 86,
    "start_time": "2022-02-12T08:01:09.758Z"
   },
   {
    "duration": 1092,
    "start_time": "2022-02-12T08:02:45.930Z"
   },
   {
    "duration": 265,
    "start_time": "2022-02-12T08:12:25.478Z"
   },
   {
    "duration": 5,
    "start_time": "2022-02-12T08:13:24.342Z"
   },
   {
    "duration": 2721,
    "start_time": "2022-02-12T08:13:34.486Z"
   },
   {
    "duration": 182283,
    "start_time": "2022-02-12T08:17:00.634Z"
   },
   {
    "duration": 676,
    "start_time": "2022-02-12T08:21:24.014Z"
   },
   {
    "duration": 89,
    "start_time": "2022-02-12T08:21:24.692Z"
   },
   {
    "duration": 21,
    "start_time": "2022-02-12T08:21:24.783Z"
   },
   {
    "duration": 5,
    "start_time": "2022-02-12T08:21:24.806Z"
   },
   {
    "duration": 16,
    "start_time": "2022-02-12T08:21:24.813Z"
   },
   {
    "duration": 21,
    "start_time": "2022-02-12T08:21:24.830Z"
   },
   {
    "duration": 3,
    "start_time": "2022-02-12T08:21:24.854Z"
   },
   {
    "duration": 90,
    "start_time": "2022-02-12T08:21:24.860Z"
   },
   {
    "duration": 28,
    "start_time": "2022-02-12T08:21:24.952Z"
   },
   {
    "duration": 117,
    "start_time": "2022-02-12T08:36:33.383Z"
   },
   {
    "duration": 91,
    "start_time": "2022-02-12T08:36:33.502Z"
   },
   {
    "duration": 57,
    "start_time": "2022-02-12T08:36:48.950Z"
   },
   {
    "duration": 93,
    "start_time": "2022-02-12T08:36:57.406Z"
   },
   {
    "duration": 10,
    "start_time": "2022-02-12T08:37:01.834Z"
   },
   {
    "duration": 6,
    "start_time": "2022-02-12T08:37:04.650Z"
   },
   {
    "duration": 16,
    "start_time": "2022-02-12T08:37:05.914Z"
   },
   {
    "duration": 16,
    "start_time": "2022-02-12T08:37:06.826Z"
   },
   {
    "duration": 2,
    "start_time": "2022-02-12T08:37:11.090Z"
   },
   {
    "duration": 58,
    "start_time": "2022-02-12T08:37:16.706Z"
   },
   {
    "duration": 32,
    "start_time": "2022-02-12T08:37:19.670Z"
   },
   {
    "duration": 872,
    "start_time": "2022-02-12T08:44:28.853Z"
   },
   {
    "duration": 863,
    "start_time": "2022-02-12T08:44:28.864Z"
   },
   {
    "duration": 59,
    "start_time": "2022-02-12T08:44:36.839Z"
   },
   {
    "duration": 86,
    "start_time": "2022-02-12T08:44:40.323Z"
   },
   {
    "duration": 11,
    "start_time": "2022-02-12T08:44:41.643Z"
   },
   {
    "duration": 8,
    "start_time": "2022-02-12T08:44:42.155Z"
   },
   {
    "duration": 17,
    "start_time": "2022-02-12T08:44:42.535Z"
   },
   {
    "duration": 17,
    "start_time": "2022-02-12T08:44:43.099Z"
   },
   {
    "duration": 3,
    "start_time": "2022-02-12T08:44:44.055Z"
   },
   {
    "duration": 58,
    "start_time": "2022-02-12T08:44:44.584Z"
   },
   {
    "duration": 31,
    "start_time": "2022-02-12T08:44:45.191Z"
   },
   {
    "duration": 10078,
    "start_time": "2022-02-12T08:44:45.744Z"
   },
   {
    "duration": 3,
    "start_time": "2022-02-12T08:45:03.884Z"
   },
   {
    "duration": 13,
    "start_time": "2022-02-12T08:46:23.576Z"
   },
   {
    "duration": 24,
    "start_time": "2022-02-12T08:46:32.747Z"
   },
   {
    "duration": 284,
    "start_time": "2022-02-12T08:47:54.944Z"
   },
   {
    "duration": 7,
    "start_time": "2022-02-12T08:48:06.499Z"
   },
   {
    "duration": 17,
    "start_time": "2022-02-12T08:48:17.716Z"
   },
   {
    "duration": 31,
    "start_time": "2022-02-12T08:48:25.204Z"
   },
   {
    "duration": 42,
    "start_time": "2022-02-12T08:49:00.076Z"
   },
   {
    "duration": 7,
    "start_time": "2022-02-12T08:56:09.023Z"
   },
   {
    "duration": 7,
    "start_time": "2022-02-12T08:57:49.263Z"
   },
   {
    "duration": 16,
    "start_time": "2022-02-12T08:57:56.784Z"
   },
   {
    "duration": 17,
    "start_time": "2022-02-12T08:58:37.359Z"
   },
   {
    "duration": 268,
    "start_time": "2022-02-12T08:58:43.720Z"
   },
   {
    "duration": 267,
    "start_time": "2022-02-12T08:58:52.767Z"
   },
   {
    "duration": 8,
    "start_time": "2022-02-12T08:59:17.655Z"
   },
   {
    "duration": 8,
    "start_time": "2022-02-12T08:59:24.952Z"
   },
   {
    "duration": 5,
    "start_time": "2022-02-12T09:00:34.464Z"
   },
   {
    "duration": 111,
    "start_time": "2022-02-12T09:01:45.016Z"
   },
   {
    "duration": 258,
    "start_time": "2022-02-12T09:01:51.020Z"
   },
   {
    "duration": 4,
    "start_time": "2022-02-12T09:01:55.112Z"
   },
   {
    "duration": 5,
    "start_time": "2022-02-12T09:02:53.020Z"
   },
   {
    "duration": 6,
    "start_time": "2022-02-12T09:03:38.276Z"
   },
   {
    "duration": 6,
    "start_time": "2022-02-12T09:03:59.272Z"
   },
   {
    "duration": 6,
    "start_time": "2022-02-12T09:04:12.156Z"
   },
   {
    "duration": 9,
    "start_time": "2022-02-12T09:05:02.244Z"
   },
   {
    "duration": 83,
    "start_time": "2022-02-12T09:07:16.628Z"
   },
   {
    "duration": 680,
    "start_time": "2022-02-12T09:07:23.488Z"
   },
   {
    "duration": 84,
    "start_time": "2022-02-12T09:08:12.876Z"
   },
   {
    "duration": 730,
    "start_time": "2022-02-12T09:08:21.304Z"
   },
   {
    "duration": 3,
    "start_time": "2022-02-12T09:11:12.220Z"
   },
   {
    "duration": 338,
    "start_time": "2022-02-12T09:13:52.980Z"
   },
   {
    "duration": 277,
    "start_time": "2022-02-12T09:14:01.660Z"
   },
   {
    "duration": 12,
    "start_time": "2022-02-12T09:14:58.780Z"
   },
   {
    "duration": 10,
    "start_time": "2022-02-12T09:15:09.364Z"
   },
   {
    "duration": 11,
    "start_time": "2022-02-12T09:15:19.420Z"
   },
   {
    "duration": 10,
    "start_time": "2022-02-12T09:15:31.325Z"
   },
   {
    "duration": 10,
    "start_time": "2022-02-12T09:15:46.177Z"
   },
   {
    "duration": 11,
    "start_time": "2022-02-12T09:15:53.229Z"
   },
   {
    "duration": 19,
    "start_time": "2022-02-12T09:16:16.764Z"
   },
   {
    "duration": 297,
    "start_time": "2022-02-12T09:18:07.552Z"
   },
   {
    "duration": 8,
    "start_time": "2022-02-12T09:18:29.492Z"
   },
   {
    "duration": 283,
    "start_time": "2022-02-12T09:19:07.164Z"
   },
   {
    "duration": 96,
    "start_time": "2022-02-12T09:19:22.924Z"
   },
   {
    "duration": 90,
    "start_time": "2022-02-12T09:19:45.341Z"
   },
   {
    "duration": 669,
    "start_time": "2022-02-12T09:20:03.996Z"
   },
   {
    "duration": 562,
    "start_time": "2022-02-12T09:20:15.725Z"
   },
   {
    "duration": 90,
    "start_time": "2022-02-12T09:20:30.096Z"
   },
   {
    "duration": 83,
    "start_time": "2022-02-12T09:20:41.640Z"
   },
   {
    "duration": 85,
    "start_time": "2022-02-12T09:20:47.224Z"
   },
   {
    "duration": 94,
    "start_time": "2022-02-12T09:20:51.776Z"
   },
   {
    "duration": 7,
    "start_time": "2022-02-12T09:21:04.332Z"
   },
   {
    "duration": 129,
    "start_time": "2022-02-12T09:21:13.008Z"
   },
   {
    "duration": 94,
    "start_time": "2022-02-12T09:21:31.512Z"
   },
   {
    "duration": 8,
    "start_time": "2022-02-12T09:22:04.700Z"
   },
   {
    "duration": 7,
    "start_time": "2022-02-12T09:22:17.752Z"
   },
   {
    "duration": 98,
    "start_time": "2022-02-12T09:22:46.224Z"
   },
   {
    "duration": 97,
    "start_time": "2022-02-12T09:22:55.508Z"
   },
   {
    "duration": 8,
    "start_time": "2022-02-12T09:22:59.680Z"
   },
   {
    "duration": 8,
    "start_time": "2022-02-12T09:23:04.808Z"
   },
   {
    "duration": 96,
    "start_time": "2022-02-12T09:24:28.012Z"
   },
   {
    "duration": 278,
    "start_time": "2022-02-12T09:24:36.424Z"
   },
   {
    "duration": 99,
    "start_time": "2022-02-12T09:25:02.148Z"
   },
   {
    "duration": 83,
    "start_time": "2022-02-12T09:25:11.756Z"
   },
   {
    "duration": 94,
    "start_time": "2022-02-12T09:25:42.828Z"
   },
   {
    "duration": 96,
    "start_time": "2022-02-12T09:25:46.636Z"
   },
   {
    "duration": 85,
    "start_time": "2022-02-12T09:25:55.263Z"
   },
   {
    "duration": 7,
    "start_time": "2022-02-12T09:26:06.868Z"
   },
   {
    "duration": 85,
    "start_time": "2022-02-12T09:26:37.260Z"
   },
   {
    "duration": 87,
    "start_time": "2022-02-12T09:26:45.796Z"
   },
   {
    "duration": 7,
    "start_time": "2022-02-12T09:28:28.076Z"
   },
   {
    "duration": 16,
    "start_time": "2022-02-12T09:29:19.992Z"
   },
   {
    "duration": 41,
    "start_time": "2022-02-12T09:29:29.412Z"
   },
   {
    "duration": 53,
    "start_time": "2022-02-12T09:33:36.268Z"
   },
   {
    "duration": 14,
    "start_time": "2022-02-12T09:33:41.776Z"
   },
   {
    "duration": 20,
    "start_time": "2022-02-12T09:33:49.352Z"
   },
   {
    "duration": 95,
    "start_time": "2022-02-12T09:35:56.376Z"
   },
   {
    "duration": 55,
    "start_time": "2022-02-12T09:35:59.880Z"
   },
   {
    "duration": 56,
    "start_time": "2022-02-12T09:37:00.328Z"
   },
   {
    "duration": 28,
    "start_time": "2022-02-12T09:40:25.908Z"
   },
   {
    "duration": 84,
    "start_time": "2022-02-12T09:42:02.593Z"
   },
   {
    "duration": 92,
    "start_time": "2022-02-12T09:42:19.737Z"
   },
   {
    "duration": 88,
    "start_time": "2022-02-12T09:42:38.984Z"
   },
   {
    "duration": 264,
    "start_time": "2022-02-12T09:42:41.712Z"
   },
   {
    "duration": 348,
    "start_time": "2022-02-12T09:42:50.337Z"
   },
   {
    "duration": 88,
    "start_time": "2022-02-12T09:43:10.156Z"
   },
   {
    "duration": 85,
    "start_time": "2022-02-12T09:43:19.452Z"
   },
   {
    "duration": 83,
    "start_time": "2022-02-12T09:43:50.536Z"
   },
   {
    "duration": 261,
    "start_time": "2022-02-12T09:43:54.565Z"
   },
   {
    "duration": 1799,
    "start_time": "2022-02-12T09:44:10.224Z"
   },
   {
    "duration": 253,
    "start_time": "2022-02-12T09:44:15.660Z"
   },
   {
    "duration": 1094,
    "start_time": "2022-02-12T09:46:57.828Z"
   },
   {
    "duration": 23,
    "start_time": "2022-02-12T09:47:20.620Z"
   },
   {
    "duration": 26,
    "start_time": "2022-02-12T09:50:32.392Z"
   },
   {
    "duration": 46,
    "start_time": "2022-02-12T09:50:59.284Z"
   },
   {
    "duration": 53,
    "start_time": "2022-02-12T09:51:10.792Z"
   },
   {
    "duration": 36,
    "start_time": "2022-02-12T09:51:31.004Z"
   },
   {
    "duration": 268,
    "start_time": "2022-02-12T09:59:45.781Z"
   },
   {
    "duration": 261,
    "start_time": "2022-02-12T09:59:55.821Z"
   },
   {
    "duration": 20,
    "start_time": "2022-02-12T10:02:04.537Z"
   },
   {
    "duration": 19,
    "start_time": "2022-02-12T10:02:16.681Z"
   },
   {
    "duration": 18,
    "start_time": "2022-02-12T10:02:19.981Z"
   },
   {
    "duration": 269,
    "start_time": "2022-02-12T10:03:14.481Z"
   },
   {
    "duration": 739,
    "start_time": "2022-02-12T10:03:31.082Z"
   },
   {
    "duration": 95,
    "start_time": "2022-02-12T10:03:31.823Z"
   },
   {
    "duration": 16,
    "start_time": "2022-02-12T10:03:31.920Z"
   },
   {
    "duration": 7,
    "start_time": "2022-02-12T10:03:31.938Z"
   },
   {
    "duration": 23,
    "start_time": "2022-02-12T10:03:31.947Z"
   },
   {
    "duration": 41,
    "start_time": "2022-02-12T10:03:31.972Z"
   },
   {
    "duration": 3,
    "start_time": "2022-02-12T10:03:32.016Z"
   },
   {
    "duration": 84,
    "start_time": "2022-02-12T10:03:32.022Z"
   },
   {
    "duration": 31,
    "start_time": "2022-02-12T10:03:32.108Z"
   },
   {
    "duration": 26,
    "start_time": "2022-02-12T10:03:32.141Z"
   },
   {
    "duration": 364,
    "start_time": "2022-02-12T10:03:32.170Z"
   },
   {
    "duration": 992,
    "start_time": "2022-02-12T10:03:31.544Z"
   },
   {
    "duration": 62,
    "start_time": "2022-02-12T10:03:39.350Z"
   },
   {
    "duration": 88,
    "start_time": "2022-02-12T10:03:40.070Z"
   },
   {
    "duration": 11,
    "start_time": "2022-02-12T10:03:41.430Z"
   },
   {
    "duration": 7,
    "start_time": "2022-02-12T10:03:42.078Z"
   },
   {
    "duration": 16,
    "start_time": "2022-02-12T10:03:42.590Z"
   },
   {
    "duration": 16,
    "start_time": "2022-02-12T10:03:43.510Z"
   },
   {
    "duration": 3,
    "start_time": "2022-02-12T10:03:45.406Z"
   },
   {
    "duration": 60,
    "start_time": "2022-02-12T10:03:46.514Z"
   },
   {
    "duration": 29,
    "start_time": "2022-02-12T10:03:47.442Z"
   },
   {
    "duration": 21,
    "start_time": "2022-02-12T10:03:49.090Z"
   },
   {
    "duration": 252,
    "start_time": "2022-02-12T10:03:57.798Z"
   },
   {
    "duration": 6,
    "start_time": "2022-02-12T10:05:41.190Z"
   },
   {
    "duration": 24,
    "start_time": "2022-02-12T10:05:49.978Z"
   },
   {
    "duration": 133,
    "start_time": "2022-02-12T10:05:57.466Z"
   },
   {
    "duration": 8,
    "start_time": "2022-02-12T10:06:01.174Z"
   },
   {
    "duration": 25,
    "start_time": "2022-02-12T10:06:13.262Z"
   },
   {
    "duration": 29,
    "start_time": "2022-02-12T10:10:36.866Z"
   },
   {
    "duration": 23,
    "start_time": "2022-02-12T10:10:39.046Z"
   },
   {
    "duration": 2,
    "start_time": "2022-02-12T10:10:47.650Z"
   },
   {
    "duration": 60,
    "start_time": "2022-02-12T10:11:16.387Z"
   },
   {
    "duration": 662,
    "start_time": "2022-02-12T10:11:24.856Z"
   },
   {
    "duration": 94,
    "start_time": "2022-02-12T10:11:25.520Z"
   },
   {
    "duration": 15,
    "start_time": "2022-02-12T10:11:25.616Z"
   },
   {
    "duration": 10,
    "start_time": "2022-02-12T10:11:25.634Z"
   },
   {
    "duration": 40,
    "start_time": "2022-02-12T10:11:25.646Z"
   },
   {
    "duration": 33,
    "start_time": "2022-02-12T10:11:25.688Z"
   },
   {
    "duration": 3,
    "start_time": "2022-02-12T10:11:25.722Z"
   },
   {
    "duration": 80,
    "start_time": "2022-02-12T10:11:25.727Z"
   },
   {
    "duration": 28,
    "start_time": "2022-02-12T10:11:25.808Z"
   },
   {
    "duration": 11,
    "start_time": "2022-02-12T10:11:25.837Z"
   },
   {
    "duration": 28,
    "start_time": "2022-02-12T10:11:25.850Z"
   },
   {
    "duration": 62,
    "start_time": "2022-02-12T10:11:31.557Z"
   },
   {
    "duration": 94,
    "start_time": "2022-02-12T10:11:32.273Z"
   },
   {
    "duration": 10,
    "start_time": "2022-02-12T10:11:33.441Z"
   },
   {
    "duration": 6,
    "start_time": "2022-02-12T10:11:33.973Z"
   },
   {
    "duration": 16,
    "start_time": "2022-02-12T10:11:34.493Z"
   },
   {
    "duration": 16,
    "start_time": "2022-02-12T10:11:35.072Z"
   },
   {
    "duration": 3,
    "start_time": "2022-02-12T10:11:36.116Z"
   },
   {
    "duration": 62,
    "start_time": "2022-02-12T10:11:36.661Z"
   },
   {
    "duration": 33,
    "start_time": "2022-02-12T10:11:37.241Z"
   },
   {
    "duration": 2,
    "start_time": "2022-02-12T10:11:38.313Z"
   },
   {
    "duration": 24,
    "start_time": "2022-02-12T10:13:19.397Z"
   },
   {
    "duration": 29,
    "start_time": "2022-02-12T10:13:38.677Z"
   },
   {
    "duration": 28,
    "start_time": "2022-02-12T10:14:55.911Z"
   },
   {
    "duration": 27,
    "start_time": "2022-02-12T10:16:06.357Z"
   },
   {
    "duration": 27,
    "start_time": "2022-02-12T10:16:55.288Z"
   },
   {
    "duration": 28,
    "start_time": "2022-02-12T10:17:54.777Z"
   },
   {
    "duration": 26,
    "start_time": "2022-02-12T10:19:24.069Z"
   },
   {
    "duration": 27,
    "start_time": "2022-02-12T10:19:47.293Z"
   },
   {
    "duration": 102,
    "start_time": "2022-02-12T10:21:32.805Z"
   },
   {
    "duration": 348,
    "start_time": "2022-02-12T10:21:42.833Z"
   },
   {
    "duration": 26,
    "start_time": "2022-02-12T10:22:07.693Z"
   },
   {
    "duration": 26,
    "start_time": "2022-02-12T10:23:03.573Z"
   },
   {
    "duration": 26,
    "start_time": "2022-02-12T10:23:19.945Z"
   },
   {
    "duration": 27,
    "start_time": "2022-02-12T10:23:31.537Z"
   },
   {
    "duration": 26,
    "start_time": "2022-02-12T10:23:51.986Z"
   },
   {
    "duration": 21,
    "start_time": "2022-02-12T10:25:41.909Z"
   },
   {
    "duration": 23,
    "start_time": "2022-02-12T10:26:04.565Z"
   },
   {
    "duration": 4,
    "start_time": "2022-02-12T10:26:33.621Z"
   },
   {
    "duration": 19,
    "start_time": "2022-02-12T10:27:16.781Z"
   },
   {
    "duration": 4,
    "start_time": "2022-02-12T10:27:27.177Z"
   },
   {
    "duration": 705,
    "start_time": "2022-02-12T10:27:37.301Z"
   },
   {
    "duration": 103,
    "start_time": "2022-02-12T10:27:38.008Z"
   },
   {
    "duration": 17,
    "start_time": "2022-02-12T10:27:38.113Z"
   },
   {
    "duration": 6,
    "start_time": "2022-02-12T10:27:38.131Z"
   },
   {
    "duration": 19,
    "start_time": "2022-02-12T10:27:38.139Z"
   },
   {
    "duration": 42,
    "start_time": "2022-02-12T10:27:38.160Z"
   },
   {
    "duration": 4,
    "start_time": "2022-02-12T10:27:38.203Z"
   },
   {
    "duration": 60,
    "start_time": "2022-02-12T10:27:38.209Z"
   },
   {
    "duration": 51,
    "start_time": "2022-02-12T10:27:38.271Z"
   },
   {
    "duration": 3,
    "start_time": "2022-02-12T10:27:38.323Z"
   },
   {
    "duration": 29,
    "start_time": "2022-02-12T10:27:38.328Z"
   },
   {
    "duration": 41,
    "start_time": "2022-02-12T10:27:38.359Z"
   },
   {
    "duration": 5,
    "start_time": "2022-02-12T10:27:38.401Z"
   },
   {
    "duration": 8,
    "start_time": "2022-02-12T10:27:38.407Z"
   },
   {
    "duration": 64,
    "start_time": "2022-02-12T10:27:44.972Z"
   },
   {
    "duration": 92,
    "start_time": "2022-02-12T10:27:45.537Z"
   },
   {
    "duration": 11,
    "start_time": "2022-02-12T10:27:46.864Z"
   },
   {
    "duration": 6,
    "start_time": "2022-02-12T10:27:47.533Z"
   },
   {
    "duration": 16,
    "start_time": "2022-02-12T10:27:48.197Z"
   },
   {
    "duration": 19,
    "start_time": "2022-02-12T10:27:48.832Z"
   },
   {
    "duration": 3,
    "start_time": "2022-02-12T10:27:50.085Z"
   },
   {
    "duration": 59,
    "start_time": "2022-02-12T10:27:50.813Z"
   },
   {
    "duration": 31,
    "start_time": "2022-02-12T10:27:51.493Z"
   },
   {
    "duration": 2,
    "start_time": "2022-02-12T10:27:53.757Z"
   },
   {
    "duration": 25,
    "start_time": "2022-02-12T10:27:56.045Z"
   },
   {
    "duration": 19,
    "start_time": "2022-02-12T10:28:03.469Z"
   },
   {
    "duration": 4,
    "start_time": "2022-02-12T10:28:24.673Z"
   },
   {
    "duration": 2,
    "start_time": "2022-02-12T10:29:31.265Z"
   },
   {
    "duration": 20,
    "start_time": "2022-02-12T10:29:36.652Z"
   },
   {
    "duration": 84,
    "start_time": "2022-02-12T10:29:42.565Z"
   },
   {
    "duration": 20,
    "start_time": "2022-02-12T10:29:45.989Z"
   },
   {
    "duration": 82,
    "start_time": "2022-02-12T10:30:59.893Z"
   },
   {
    "duration": 99,
    "start_time": "2022-02-12T10:31:11.757Z"
   },
   {
    "duration": 329,
    "start_time": "2022-02-12T10:31:17.012Z"
   },
   {
    "duration": 271,
    "start_time": "2022-02-12T10:31:24.565Z"
   },
   {
    "duration": 99,
    "start_time": "2022-02-12T10:31:31.409Z"
   },
   {
    "duration": 22,
    "start_time": "2022-02-12T10:31:34.880Z"
   },
   {
    "duration": 91,
    "start_time": "2022-02-12T10:31:59.492Z"
   },
   {
    "duration": 21,
    "start_time": "2022-02-12T10:32:02.044Z"
   },
   {
    "duration": 1083,
    "start_time": "2022-02-12T10:32:23.016Z"
   },
   {
    "duration": 1080,
    "start_time": "2022-02-12T10:32:43.036Z"
   },
   {
    "duration": 90,
    "start_time": "2022-02-12T10:33:01.673Z"
   },
   {
    "duration": 20,
    "start_time": "2022-02-12T10:33:09.137Z"
   },
   {
    "duration": 7,
    "start_time": "2022-02-12T10:33:49.784Z"
   },
   {
    "duration": 9,
    "start_time": "2022-02-12T10:35:01.588Z"
   },
   {
    "duration": 6,
    "start_time": "2022-02-12T10:35:26.705Z"
   },
   {
    "duration": 10,
    "start_time": "2022-02-12T10:35:46.053Z"
   },
   {
    "duration": 22,
    "start_time": "2022-02-12T10:36:05.440Z"
   },
   {
    "duration": 22,
    "start_time": "2022-02-12T10:36:19.868Z"
   },
   {
    "duration": 7200,
    "start_time": "2022-02-12T10:36:38.608Z"
   },
   {
    "duration": 5301,
    "start_time": "2022-02-12T10:36:47.412Z"
   },
   {
    "duration": 5290,
    "start_time": "2022-02-12T10:37:16.691Z"
   },
   {
    "duration": 20,
    "start_time": "2022-02-12T10:37:23.028Z"
   },
   {
    "duration": 5,
    "start_time": "2022-02-12T10:41:08.196Z"
   },
   {
    "duration": 5,
    "start_time": "2022-02-12T10:41:42.284Z"
   },
   {
    "duration": 5,
    "start_time": "2022-02-12T10:41:44.392Z"
   },
   {
    "duration": 26,
    "start_time": "2022-02-12T10:42:20.340Z"
   },
   {
    "duration": 6,
    "start_time": "2022-02-12T10:42:21.040Z"
   },
   {
    "duration": 23,
    "start_time": "2022-02-12T10:43:10.200Z"
   },
   {
    "duration": 6,
    "start_time": "2022-02-12T10:43:11.077Z"
   },
   {
    "duration": 6,
    "start_time": "2022-02-12T10:43:18.564Z"
   },
   {
    "duration": 6,
    "start_time": "2022-02-12T10:43:26.597Z"
   },
   {
    "duration": 6,
    "start_time": "2022-02-12T10:43:27.392Z"
   },
   {
    "duration": 22,
    "start_time": "2022-02-12T10:43:33.464Z"
   },
   {
    "duration": 684,
    "start_time": "2022-02-12T10:44:29.730Z"
   },
   {
    "duration": 100,
    "start_time": "2022-02-12T10:44:30.416Z"
   },
   {
    "duration": 17,
    "start_time": "2022-02-12T10:44:31.383Z"
   },
   {
    "duration": 6,
    "start_time": "2022-02-12T10:44:32.079Z"
   },
   {
    "duration": 17,
    "start_time": "2022-02-12T10:44:32.791Z"
   },
   {
    "duration": 17,
    "start_time": "2022-02-12T10:44:33.973Z"
   },
   {
    "duration": 3,
    "start_time": "2022-02-12T10:44:36.526Z"
   },
   {
    "duration": 57,
    "start_time": "2022-02-12T10:44:37.195Z"
   },
   {
    "duration": 31,
    "start_time": "2022-02-12T10:44:38.007Z"
   },
   {
    "duration": 3,
    "start_time": "2022-02-12T10:44:38.923Z"
   },
   {
    "duration": 26,
    "start_time": "2022-02-12T10:44:39.843Z"
   },
   {
    "duration": 8,
    "start_time": "2022-02-12T10:44:40.675Z"
   },
   {
    "duration": 22,
    "start_time": "2022-02-12T10:44:41.315Z"
   },
   {
    "duration": 12,
    "start_time": "2022-02-12T10:45:27.999Z"
   },
   {
    "duration": 65,
    "start_time": "2022-02-12T12:57:34.182Z"
   },
   {
    "duration": 95,
    "start_time": "2022-02-12T12:57:35.334Z"
   },
   {
    "duration": 10,
    "start_time": "2022-02-12T12:57:36.598Z"
   },
   {
    "duration": 6,
    "start_time": "2022-02-12T12:57:37.130Z"
   },
   {
    "duration": 17,
    "start_time": "2022-02-12T12:57:37.814Z"
   },
   {
    "duration": 18,
    "start_time": "2022-02-12T12:57:38.326Z"
   },
   {
    "duration": 4,
    "start_time": "2022-02-12T12:57:39.570Z"
   },
   {
    "duration": 61,
    "start_time": "2022-02-12T12:57:40.335Z"
   },
   {
    "duration": 33,
    "start_time": "2022-02-12T12:57:41.043Z"
   },
   {
    "duration": 3,
    "start_time": "2022-02-12T12:57:41.890Z"
   },
   {
    "duration": 26,
    "start_time": "2022-02-12T12:57:42.490Z"
   },
   {
    "duration": 6,
    "start_time": "2022-02-12T12:57:43.466Z"
   },
   {
    "duration": 12,
    "start_time": "2022-02-12T12:57:44.022Z"
   },
   {
    "duration": 6,
    "start_time": "2022-02-12T12:59:44.374Z"
   },
   {
    "duration": 5,
    "start_time": "2022-02-12T13:02:21.323Z"
   },
   {
    "duration": 309,
    "start_time": "2022-02-12T13:02:25.311Z"
   },
   {
    "duration": 9,
    "start_time": "2022-02-12T13:02:35.463Z"
   },
   {
    "duration": 8,
    "start_time": "2022-02-12T13:03:20.162Z"
   },
   {
    "duration": 11,
    "start_time": "2022-02-12T13:03:44.166Z"
   },
   {
    "duration": 735,
    "start_time": "2022-02-12T13:04:04.497Z"
   },
   {
    "duration": 105,
    "start_time": "2022-02-12T13:04:05.234Z"
   },
   {
    "duration": 18,
    "start_time": "2022-02-12T13:04:06.065Z"
   },
   {
    "duration": 7,
    "start_time": "2022-02-12T13:04:06.484Z"
   },
   {
    "duration": 16,
    "start_time": "2022-02-12T13:04:06.912Z"
   },
   {
    "duration": 18,
    "start_time": "2022-02-12T13:04:07.457Z"
   },
   {
    "duration": 4,
    "start_time": "2022-02-12T13:04:08.900Z"
   },
   {
    "duration": 65,
    "start_time": "2022-02-12T13:04:15.700Z"
   },
   {
    "duration": 30,
    "start_time": "2022-02-12T13:04:18.809Z"
   },
   {
    "duration": 3,
    "start_time": "2022-02-12T13:04:23.820Z"
   },
   {
    "duration": 2,
    "start_time": "2022-02-12T13:04:25.352Z"
   },
   {
    "duration": 4,
    "start_time": "2022-02-12T13:04:26.864Z"
   },
   {
    "duration": 14,
    "start_time": "2022-02-12T13:04:27.452Z"
   },
   {
    "duration": 40,
    "start_time": "2022-02-12T13:05:25.705Z"
   },
   {
    "duration": 38,
    "start_time": "2022-02-12T13:06:01.120Z"
   },
   {
    "duration": 37,
    "start_time": "2022-02-12T13:06:17.493Z"
   },
   {
    "duration": 43,
    "start_time": "2022-02-12T13:06:45.869Z"
   },
   {
    "duration": 37,
    "start_time": "2022-02-12T13:06:54.445Z"
   },
   {
    "duration": 9,
    "start_time": "2022-02-12T13:12:28.609Z"
   },
   {
    "duration": 53,
    "start_time": "2022-02-12T13:12:36.841Z"
   },
   {
    "duration": 8,
    "start_time": "2022-02-12T13:12:51.569Z"
   },
   {
    "duration": 613,
    "start_time": "2022-02-12T15:09:42.676Z"
   },
   {
    "duration": 92,
    "start_time": "2022-02-12T15:09:43.291Z"
   },
   {
    "duration": 16,
    "start_time": "2022-02-12T15:09:44.747Z"
   },
   {
    "duration": 7,
    "start_time": "2022-02-12T15:09:45.716Z"
   },
   {
    "duration": 15,
    "start_time": "2022-02-12T15:09:46.700Z"
   },
   {
    "duration": 19,
    "start_time": "2022-02-12T15:09:48.240Z"
   },
   {
    "duration": 3,
    "start_time": "2022-02-12T15:09:53.247Z"
   },
   {
    "duration": 53,
    "start_time": "2022-02-12T15:09:54.292Z"
   },
   {
    "duration": 8,
    "start_time": "2022-02-12T15:09:55.567Z"
   },
   {
    "duration": 9,
    "start_time": "2022-02-12T15:12:59.588Z"
   },
   {
    "duration": 32,
    "start_time": "2022-02-12T15:13:55.286Z"
   },
   {
    "duration": 18,
    "start_time": "2022-02-12T15:14:17.032Z"
   },
   {
    "duration": 19,
    "start_time": "2022-02-12T15:14:28.900Z"
   },
   {
    "duration": 59,
    "start_time": "2022-02-12T15:16:40.832Z"
   },
   {
    "duration": 286,
    "start_time": "2022-02-12T15:17:44.564Z"
   },
   {
    "duration": 210,
    "start_time": "2022-02-12T15:18:27.584Z"
   },
   {
    "duration": 53,
    "start_time": "2022-02-12T15:18:56.653Z"
   },
   {
    "duration": 54,
    "start_time": "2022-02-12T15:22:40.240Z"
   },
   {
    "duration": 48,
    "start_time": "2022-02-12T15:23:20.317Z"
   },
   {
    "duration": 65,
    "start_time": "2022-02-12T15:23:30.421Z"
   },
   {
    "duration": 54,
    "start_time": "2022-02-12T15:24:11.385Z"
   },
   {
    "duration": 72,
    "start_time": "2022-02-12T15:27:08.149Z"
   },
   {
    "duration": 65,
    "start_time": "2022-02-12T15:27:53.429Z"
   },
   {
    "duration": 49,
    "start_time": "2022-02-12T15:31:53.665Z"
   },
   {
    "duration": 47,
    "start_time": "2022-02-12T15:38:15.589Z"
   },
   {
    "duration": 60,
    "start_time": "2022-02-12T15:38:24.073Z"
   },
   {
    "duration": 47,
    "start_time": "2022-02-12T15:40:06.265Z"
   },
   {
    "duration": 49,
    "start_time": "2022-02-12T15:44:51.981Z"
   },
   {
    "duration": 48,
    "start_time": "2022-02-12T15:45:15.806Z"
   },
   {
    "duration": 53,
    "start_time": "2022-02-12T15:47:03.445Z"
   },
   {
    "duration": 7,
    "start_time": "2022-02-12T15:47:47.113Z"
   },
   {
    "duration": 46,
    "start_time": "2022-02-12T15:47:59.472Z"
   },
   {
    "duration": 56,
    "start_time": "2022-02-12T15:48:04.981Z"
   },
   {
    "duration": 47,
    "start_time": "2022-02-12T15:49:36.077Z"
   },
   {
    "duration": 56,
    "start_time": "2022-02-12T15:49:44.032Z"
   },
   {
    "duration": 57,
    "start_time": "2022-02-12T15:54:11.936Z"
   },
   {
    "duration": 56,
    "start_time": "2022-02-12T15:54:25.189Z"
   },
   {
    "duration": 143,
    "start_time": "2022-02-12T15:54:58.917Z"
   },
   {
    "duration": 53,
    "start_time": "2022-02-12T15:57:53.561Z"
   },
   {
    "duration": 55,
    "start_time": "2022-02-12T15:58:26.244Z"
   },
   {
    "duration": 61,
    "start_time": "2022-02-12T15:58:40.629Z"
   },
   {
    "duration": 6,
    "start_time": "2022-02-12T16:14:03.873Z"
   },
   {
    "duration": 3,
    "start_time": "2022-02-12T16:14:23.393Z"
   },
   {
    "duration": 4,
    "start_time": "2022-02-12T16:18:02.885Z"
   },
   {
    "duration": 54,
    "start_time": "2022-02-12T16:18:04.678Z"
   },
   {
    "duration": 351,
    "start_time": "2022-02-12T16:18:47.990Z"
   },
   {
    "duration": 337,
    "start_time": "2022-02-12T16:19:57.413Z"
   },
   {
    "duration": 2,
    "start_time": "2022-02-12T16:20:19.395Z"
   },
   {
    "duration": 4,
    "start_time": "2022-02-12T16:20:39.746Z"
   },
   {
    "duration": 369,
    "start_time": "2022-02-12T16:22:49.706Z"
   },
   {
    "duration": 173,
    "start_time": "2022-02-12T16:24:02.618Z"
   },
   {
    "duration": 191,
    "start_time": "2022-02-12T16:24:56.630Z"
   },
   {
    "duration": 176,
    "start_time": "2022-02-12T16:25:20.930Z"
   },
   {
    "duration": 176,
    "start_time": "2022-02-12T16:27:34.650Z"
   },
   {
    "duration": 63,
    "start_time": "2022-02-12T16:29:46.546Z"
   },
   {
    "duration": 215,
    "start_time": "2022-02-12T16:33:34.442Z"
   },
   {
    "duration": 227,
    "start_time": "2022-02-12T16:37:51.030Z"
   },
   {
    "duration": 225,
    "start_time": "2022-02-12T16:37:59.479Z"
   },
   {
    "duration": 49,
    "start_time": "2022-02-12T16:41:42.751Z"
   },
   {
    "duration": 64,
    "start_time": "2022-02-12T16:42:08.523Z"
   },
   {
    "duration": 57,
    "start_time": "2022-02-12T16:43:59.183Z"
   },
   {
    "duration": 62,
    "start_time": "2022-02-12T16:52:18.781Z"
   },
   {
    "duration": 78,
    "start_time": "2022-02-12T16:54:08.169Z"
   },
   {
    "duration": 69,
    "start_time": "2022-02-12T16:54:46.634Z"
   },
   {
    "duration": 52,
    "start_time": "2022-02-12T16:54:51.233Z"
   },
   {
    "duration": 52,
    "start_time": "2022-02-12T16:55:22.397Z"
   },
   {
    "duration": 60,
    "start_time": "2022-02-12T16:55:29.097Z"
   },
   {
    "duration": 54,
    "start_time": "2022-02-12T17:02:40.007Z"
   },
   {
    "duration": 64,
    "start_time": "2022-02-12T17:07:27.994Z"
   },
   {
    "duration": 74,
    "start_time": "2022-02-12T17:07:41.951Z"
   },
   {
    "duration": 50,
    "start_time": "2022-02-12T17:11:05.472Z"
   },
   {
    "duration": 59,
    "start_time": "2022-02-12T17:11:20.920Z"
   },
   {
    "duration": 55,
    "start_time": "2022-02-12T17:11:37.207Z"
   },
   {
    "duration": 8,
    "start_time": "2022-02-12T17:11:38.036Z"
   },
   {
    "duration": 48,
    "start_time": "2022-02-12T17:11:39.444Z"
   },
   {
    "duration": 2,
    "start_time": "2022-02-12T17:11:41.140Z"
   },
   {
    "duration": 3,
    "start_time": "2022-02-12T17:11:41.619Z"
   },
   {
    "duration": 9,
    "start_time": "2022-02-12T17:11:42.332Z"
   },
   {
    "duration": 72,
    "start_time": "2022-02-12T17:11:43.627Z"
   },
   {
    "duration": 65,
    "start_time": "2022-02-12T17:14:00.496Z"
   },
   {
    "duration": 19,
    "start_time": "2022-02-12T17:14:11.544Z"
   },
   {
    "duration": 63,
    "start_time": "2022-02-12T17:15:23.328Z"
   },
   {
    "duration": 180,
    "start_time": "2022-02-12T17:15:27.804Z"
   },
   {
    "duration": 178,
    "start_time": "2022-02-12T17:15:56.163Z"
   },
   {
    "duration": 288,
    "start_time": "2022-02-12T17:20:03.596Z"
   },
   {
    "duration": 21,
    "start_time": "2022-02-12T17:20:23.676Z"
   },
   {
    "duration": 24,
    "start_time": "2022-02-12T17:21:07.701Z"
   },
   {
    "duration": 23,
    "start_time": "2022-02-12T17:39:49.057Z"
   },
   {
    "duration": 9,
    "start_time": "2022-02-12T17:39:55.872Z"
   },
   {
    "duration": 9,
    "start_time": "2022-02-12T17:40:08.245Z"
   },
   {
    "duration": 8,
    "start_time": "2022-02-12T17:40:14.105Z"
   },
   {
    "duration": 183,
    "start_time": "2022-02-12T17:46:32.098Z"
   },
   {
    "duration": 49,
    "start_time": "2022-02-12T17:46:44.737Z"
   },
   {
    "duration": 177,
    "start_time": "2022-02-12T17:46:48.613Z"
   },
   {
    "duration": 196,
    "start_time": "2022-02-12T17:47:15.642Z"
   },
   {
    "duration": 173,
    "start_time": "2022-02-12T17:47:41.010Z"
   },
   {
    "duration": 4,
    "start_time": "2022-02-12T17:47:46.845Z"
   },
   {
    "duration": 29,
    "start_time": "2022-02-12T17:47:51.510Z"
   },
   {
    "duration": 22,
    "start_time": "2022-02-12T17:48:44.674Z"
   },
   {
    "duration": 24,
    "start_time": "2022-02-12T17:49:06.833Z"
   },
   {
    "duration": 23,
    "start_time": "2022-02-12T17:54:10.101Z"
   },
   {
    "duration": 22,
    "start_time": "2022-02-12T17:54:20.258Z"
   },
   {
    "duration": 23,
    "start_time": "2022-02-12T17:56:08.810Z"
   },
   {
    "duration": 22,
    "start_time": "2022-02-12T17:56:45.502Z"
   },
   {
    "duration": 23,
    "start_time": "2022-02-12T17:59:23.190Z"
   },
   {
    "duration": 24,
    "start_time": "2022-02-12T18:10:04.503Z"
   },
   {
    "duration": 28,
    "start_time": "2022-02-12T18:10:20.367Z"
   },
   {
    "duration": 718,
    "start_time": "2022-02-12T18:11:30.015Z"
   },
   {
    "duration": 189,
    "start_time": "2022-02-12T18:11:42.915Z"
   },
   {
    "duration": 211,
    "start_time": "2022-02-12T18:11:48.127Z"
   },
   {
    "duration": 8,
    "start_time": "2022-02-12T18:12:36.611Z"
   },
   {
    "duration": 9,
    "start_time": "2022-02-12T18:13:15.852Z"
   },
   {
    "duration": 174,
    "start_time": "2022-02-12T18:21:44.664Z"
   },
   {
    "duration": 7,
    "start_time": "2022-02-12T18:21:53.904Z"
   },
   {
    "duration": 11,
    "start_time": "2022-02-12T18:22:22.012Z"
   },
   {
    "duration": 14,
    "start_time": "2022-02-12T18:22:54.748Z"
   },
   {
    "duration": 12,
    "start_time": "2022-02-12T18:23:44.868Z"
   },
   {
    "duration": 10,
    "start_time": "2022-02-12T18:24:16.240Z"
   },
   {
    "duration": 12,
    "start_time": "2022-02-12T18:25:08.760Z"
   },
   {
    "duration": 12,
    "start_time": "2022-02-12T18:25:19.276Z"
   },
   {
    "duration": 14,
    "start_time": "2022-02-12T18:26:19.304Z"
   },
   {
    "duration": 15,
    "start_time": "2022-02-12T18:29:02.878Z"
   },
   {
    "duration": 13,
    "start_time": "2022-02-12T18:29:10.882Z"
   },
   {
    "duration": 12,
    "start_time": "2022-02-12T18:29:27.146Z"
   },
   {
    "duration": 13,
    "start_time": "2022-02-12T18:29:55.785Z"
   },
   {
    "duration": 12,
    "start_time": "2022-02-12T18:30:04.985Z"
   },
   {
    "duration": 9,
    "start_time": "2022-02-12T18:30:12.881Z"
   },
   {
    "duration": 8,
    "start_time": "2022-02-12T18:31:11.361Z"
   },
   {
    "duration": 5,
    "start_time": "2022-02-12T18:32:09.836Z"
   },
   {
    "duration": 21,
    "start_time": "2022-02-12T18:32:21.588Z"
   },
   {
    "duration": 20,
    "start_time": "2022-02-12T18:32:30.440Z"
   },
   {
    "duration": 20,
    "start_time": "2022-02-12T18:32:40.755Z"
   },
   {
    "duration": 9,
    "start_time": "2022-02-12T18:33:35.723Z"
   },
   {
    "duration": 19,
    "start_time": "2022-02-12T18:33:51.479Z"
   },
   {
    "duration": 20,
    "start_time": "2022-02-12T18:34:11.587Z"
   },
   {
    "duration": 11,
    "start_time": "2022-02-12T18:34:15.719Z"
   },
   {
    "duration": 12,
    "start_time": "2022-02-12T18:34:23.216Z"
   },
   {
    "duration": 14,
    "start_time": "2022-02-12T18:34:28.787Z"
   },
   {
    "duration": 9,
    "start_time": "2022-02-12T18:34:49.855Z"
   },
   {
    "duration": 8,
    "start_time": "2022-02-12T18:35:03.255Z"
   },
   {
    "duration": 9,
    "start_time": "2022-02-12T18:35:11.379Z"
   },
   {
    "duration": 9,
    "start_time": "2022-02-12T18:36:59.838Z"
   },
   {
    "duration": 10,
    "start_time": "2022-02-12T18:37:11.846Z"
   },
   {
    "duration": 12,
    "start_time": "2022-02-12T18:38:03.958Z"
   },
   {
    "duration": 12,
    "start_time": "2022-02-12T18:38:55.074Z"
   },
   {
    "duration": 14,
    "start_time": "2022-02-12T18:39:25.589Z"
   },
   {
    "duration": 27,
    "start_time": "2022-02-12T18:39:57.650Z"
   },
   {
    "duration": 18,
    "start_time": "2022-02-12T18:40:12.125Z"
   },
   {
    "duration": 57,
    "start_time": "2022-02-12T18:43:29.816Z"
   },
   {
    "duration": 60,
    "start_time": "2022-02-12T18:43:46.533Z"
   },
   {
    "duration": 64,
    "start_time": "2022-02-12T18:43:52.669Z"
   },
   {
    "duration": 133,
    "start_time": "2022-02-12T18:44:07.056Z"
   },
   {
    "duration": 9,
    "start_time": "2022-02-12T18:44:12.405Z"
   },
   {
    "duration": 56,
    "start_time": "2022-02-12T18:44:38.720Z"
   },
   {
    "duration": 63,
    "start_time": "2022-02-12T18:44:43.981Z"
   },
   {
    "duration": 15,
    "start_time": "2022-02-12T18:45:03.349Z"
   },
   {
    "duration": 18,
    "start_time": "2022-02-12T18:45:43.812Z"
   },
   {
    "duration": 22,
    "start_time": "2022-02-12T18:48:05.580Z"
   },
   {
    "duration": 22,
    "start_time": "2022-02-12T18:54:28.647Z"
   },
   {
    "duration": 200,
    "start_time": "2022-02-12T18:56:01.180Z"
   },
   {
    "duration": 185,
    "start_time": "2022-02-12T18:56:07.635Z"
   },
   {
    "duration": 196,
    "start_time": "2022-02-12T18:56:15.595Z"
   },
   {
    "duration": 187,
    "start_time": "2022-02-12T18:56:45.655Z"
   },
   {
    "duration": 14,
    "start_time": "2022-02-12T18:56:57.087Z"
   },
   {
    "duration": 26,
    "start_time": "2022-02-12T18:57:02.215Z"
   },
   {
    "duration": 22,
    "start_time": "2022-02-12T18:58:13.207Z"
   },
   {
    "duration": 23,
    "start_time": "2022-02-12T18:58:21.275Z"
   },
   {
    "duration": 21,
    "start_time": "2022-02-12T18:58:54.951Z"
   },
   {
    "duration": 22,
    "start_time": "2022-02-12T18:59:43.023Z"
   },
   {
    "duration": 21,
    "start_time": "2022-02-12T18:59:50.911Z"
   },
   {
    "duration": 21,
    "start_time": "2022-02-12T18:59:57.027Z"
   },
   {
    "duration": 23,
    "start_time": "2022-02-12T19:00:04.640Z"
   },
   {
    "duration": 22,
    "start_time": "2022-02-12T19:00:07.975Z"
   },
   {
    "duration": 23,
    "start_time": "2022-02-12T19:00:14.519Z"
   },
   {
    "duration": 36,
    "start_time": "2022-02-12T19:22:43.061Z"
   },
   {
    "duration": 21,
    "start_time": "2022-02-12T19:23:26.229Z"
   },
   {
    "duration": 9,
    "start_time": "2022-02-12T19:23:39.553Z"
   },
   {
    "duration": 14,
    "start_time": "2022-02-12T19:23:45.313Z"
   },
   {
    "duration": 9,
    "start_time": "2022-02-12T19:23:52.545Z"
   },
   {
    "duration": 13,
    "start_time": "2022-02-12T19:24:06.917Z"
   },
   {
    "duration": 7,
    "start_time": "2022-02-12T19:24:20.810Z"
   },
   {
    "duration": 22,
    "start_time": "2022-02-12T19:24:27.664Z"
   },
   {
    "duration": 27,
    "start_time": "2022-02-12T19:24:45.537Z"
   },
   {
    "duration": 27,
    "start_time": "2022-02-12T19:25:05.534Z"
   },
   {
    "duration": 630,
    "start_time": "2022-02-12T19:26:15.635Z"
   },
   {
    "duration": 74,
    "start_time": "2022-02-12T19:26:16.268Z"
   },
   {
    "duration": 25,
    "start_time": "2022-02-12T19:26:16.344Z"
   },
   {
    "duration": 5,
    "start_time": "2022-02-12T19:26:16.371Z"
   },
   {
    "duration": 16,
    "start_time": "2022-02-12T19:26:16.378Z"
   },
   {
    "duration": 17,
    "start_time": "2022-02-12T19:26:16.395Z"
   },
   {
    "duration": 2,
    "start_time": "2022-02-12T19:26:16.414Z"
   },
   {
    "duration": 77,
    "start_time": "2022-02-12T19:26:16.418Z"
   },
   {
    "duration": 9,
    "start_time": "2022-02-12T19:26:16.497Z"
   },
   {
    "duration": 72,
    "start_time": "2022-02-12T19:26:16.508Z"
   },
   {
    "duration": 3,
    "start_time": "2022-02-12T19:26:16.581Z"
   },
   {
    "duration": 7,
    "start_time": "2022-02-12T19:26:16.585Z"
   },
   {
    "duration": 11,
    "start_time": "2022-02-12T19:26:16.593Z"
   },
   {
    "duration": 67,
    "start_time": "2022-02-12T19:26:16.605Z"
   },
   {
    "duration": 9,
    "start_time": "2022-02-12T19:26:16.674Z"
   },
   {
    "duration": 17,
    "start_time": "2022-02-12T19:26:16.685Z"
   },
   {
    "duration": 34,
    "start_time": "2022-02-12T19:26:16.703Z"
   },
   {
    "duration": 21,
    "start_time": "2022-02-12T19:26:16.738Z"
   },
   {
    "duration": 50,
    "start_time": "2022-02-12T19:26:22.603Z"
   },
   {
    "duration": 77,
    "start_time": "2022-02-12T19:26:34.311Z"
   },
   {
    "duration": 10,
    "start_time": "2022-02-12T19:26:36.207Z"
   },
   {
    "duration": 6,
    "start_time": "2022-02-12T19:26:40.552Z"
   },
   {
    "duration": 15,
    "start_time": "2022-02-12T19:26:41.371Z"
   },
   {
    "duration": 15,
    "start_time": "2022-02-12T19:26:42.051Z"
   },
   {
    "duration": 3,
    "start_time": "2022-02-12T19:26:43.759Z"
   },
   {
    "duration": 51,
    "start_time": "2022-02-12T19:26:44.556Z"
   },
   {
    "duration": 8,
    "start_time": "2022-02-12T19:26:45.643Z"
   },
   {
    "duration": 48,
    "start_time": "2022-02-12T19:26:46.375Z"
   },
   {
    "duration": 3,
    "start_time": "2022-02-12T19:26:47.559Z"
   },
   {
    "duration": 2,
    "start_time": "2022-02-12T19:26:48.051Z"
   },
   {
    "duration": 9,
    "start_time": "2022-02-12T19:26:50.007Z"
   },
   {
    "duration": 59,
    "start_time": "2022-02-12T19:26:52.200Z"
   },
   {
    "duration": 11,
    "start_time": "2022-02-12T19:26:53.108Z"
   },
   {
    "duration": 16,
    "start_time": "2022-02-12T19:26:54.607Z"
   },
   {
    "duration": 33,
    "start_time": "2022-02-12T19:27:18.959Z"
   },
   {
    "duration": 6,
    "start_time": "2022-02-12T19:28:45.551Z"
   },
   {
    "duration": 12,
    "start_time": "2022-02-12T19:28:52.983Z"
   },
   {
    "duration": 12,
    "start_time": "2022-02-12T19:29:42.271Z"
   },
   {
    "duration": 11,
    "start_time": "2022-02-12T19:29:48.763Z"
   },
   {
    "duration": 586,
    "start_time": "2022-02-12T19:29:54.507Z"
   },
   {
    "duration": 87,
    "start_time": "2022-02-12T19:29:55.095Z"
   },
   {
    "duration": 13,
    "start_time": "2022-02-12T19:29:55.184Z"
   },
   {
    "duration": 5,
    "start_time": "2022-02-12T19:29:55.199Z"
   },
   {
    "duration": 14,
    "start_time": "2022-02-12T19:29:55.206Z"
   },
   {
    "duration": 44,
    "start_time": "2022-02-12T19:29:55.221Z"
   },
   {
    "duration": 2,
    "start_time": "2022-02-12T19:29:55.267Z"
   },
   {
    "duration": 56,
    "start_time": "2022-02-12T19:29:55.273Z"
   },
   {
    "duration": 7,
    "start_time": "2022-02-12T19:29:55.331Z"
   },
   {
    "duration": 65,
    "start_time": "2022-02-12T19:29:55.340Z"
   },
   {
    "duration": 3,
    "start_time": "2022-02-12T19:29:55.406Z"
   },
   {
    "duration": 5,
    "start_time": "2022-02-12T19:29:55.410Z"
   },
   {
    "duration": 16,
    "start_time": "2022-02-12T19:29:55.417Z"
   },
   {
    "duration": 59,
    "start_time": "2022-02-12T19:29:55.435Z"
   },
   {
    "duration": 8,
    "start_time": "2022-02-12T19:29:55.496Z"
   },
   {
    "duration": 15,
    "start_time": "2022-02-12T19:29:55.505Z"
   },
   {
    "duration": 51,
    "start_time": "2022-02-12T19:29:55.521Z"
   },
   {
    "duration": 13,
    "start_time": "2022-02-12T19:29:55.573Z"
   },
   {
    "duration": 51,
    "start_time": "2022-02-12T19:30:03.587Z"
   },
   {
    "duration": 80,
    "start_time": "2022-02-12T19:30:04.039Z"
   },
   {
    "duration": 16,
    "start_time": "2022-02-12T19:30:04.819Z"
   },
   {
    "duration": 9,
    "start_time": "2022-02-12T19:30:05.187Z"
   },
   {
    "duration": 23,
    "start_time": "2022-02-12T19:30:05.584Z"
   },
   {
    "duration": 24,
    "start_time": "2022-02-12T19:30:05.935Z"
   },
   {
    "duration": 3,
    "start_time": "2022-02-12T19:30:06.763Z"
   },
   {
    "duration": 64,
    "start_time": "2022-02-12T19:30:07.225Z"
   },
   {
    "duration": 9,
    "start_time": "2022-02-12T19:30:07.667Z"
   },
   {
    "duration": 53,
    "start_time": "2022-02-12T19:30:08.263Z"
   },
   {
    "duration": 3,
    "start_time": "2022-02-12T19:30:08.923Z"
   },
   {
    "duration": 2,
    "start_time": "2022-02-12T19:30:09.451Z"
   },
   {
    "duration": 8,
    "start_time": "2022-02-12T19:30:09.983Z"
   },
   {
    "duration": 51,
    "start_time": "2022-02-12T19:30:10.983Z"
   },
   {
    "duration": 11,
    "start_time": "2022-02-12T19:30:11.819Z"
   },
   {
    "duration": 16,
    "start_time": "2022-02-12T19:30:12.823Z"
   },
   {
    "duration": 31,
    "start_time": "2022-02-12T19:30:13.999Z"
   },
   {
    "duration": 13,
    "start_time": "2022-02-12T19:33:17.643Z"
   },
   {
    "duration": 7,
    "start_time": "2022-02-12T19:33:20.980Z"
   },
   {
    "duration": 22,
    "start_time": "2022-02-12T19:33:44.051Z"
   },
   {
    "duration": 35,
    "start_time": "2022-02-12T19:37:06.558Z"
   },
   {
    "duration": 784,
    "start_time": "2022-02-13T05:24:15.375Z"
   },
   {
    "duration": 120,
    "start_time": "2022-02-13T05:24:20.131Z"
   },
   {
    "duration": 21,
    "start_time": "2022-02-13T05:24:22.223Z"
   },
   {
    "duration": 8,
    "start_time": "2022-02-13T05:24:34.455Z"
   },
   {
    "duration": 20,
    "start_time": "2022-02-13T05:24:35.742Z"
   },
   {
    "duration": 35,
    "start_time": "2022-02-13T05:24:36.535Z"
   },
   {
    "duration": 6,
    "start_time": "2022-02-13T05:24:37.802Z"
   },
   {
    "duration": 87,
    "start_time": "2022-02-13T05:24:38.547Z"
   },
   {
    "duration": 11,
    "start_time": "2022-02-13T05:24:39.671Z"
   },
   {
    "duration": 74,
    "start_time": "2022-02-13T05:24:40.639Z"
   },
   {
    "duration": 3,
    "start_time": "2022-02-13T05:24:42.063Z"
   },
   {
    "duration": 3,
    "start_time": "2022-02-13T05:24:42.570Z"
   },
   {
    "duration": 11,
    "start_time": "2022-02-13T05:24:43.170Z"
   },
   {
    "duration": 78,
    "start_time": "2022-02-13T05:24:45.287Z"
   },
   {
    "duration": 12,
    "start_time": "2022-02-13T05:24:52.823Z"
   },
   {
    "duration": 22,
    "start_time": "2022-02-13T05:24:54.523Z"
   },
   {
    "duration": 48,
    "start_time": "2022-02-13T05:24:59.047Z"
   },
   {
    "duration": 18,
    "start_time": "2022-02-13T05:25:12.746Z"
   },
   {
    "duration": 57,
    "start_time": "2022-02-13T05:25:14.375Z"
   },
   {
    "duration": 101,
    "start_time": "2022-02-13T05:27:15.438Z"
   },
   {
    "duration": 57,
    "start_time": "2022-02-13T05:29:05.331Z"
   },
   {
    "duration": 52,
    "start_time": "2022-02-13T05:31:29.775Z"
   },
   {
    "duration": 54,
    "start_time": "2022-02-13T05:31:35.342Z"
   },
   {
    "duration": 50,
    "start_time": "2022-02-13T05:31:44.795Z"
   },
   {
    "duration": 51,
    "start_time": "2022-02-13T05:31:48.439Z"
   },
   {
    "duration": 753,
    "start_time": "2022-02-13T05:31:53.362Z"
   },
   {
    "duration": 128,
    "start_time": "2022-02-13T05:31:54.118Z"
   },
   {
    "duration": 22,
    "start_time": "2022-02-13T05:31:54.249Z"
   },
   {
    "duration": 8,
    "start_time": "2022-02-13T05:31:54.274Z"
   },
   {
    "duration": 52,
    "start_time": "2022-02-13T05:31:54.284Z"
   },
   {
    "duration": 24,
    "start_time": "2022-02-13T05:31:54.339Z"
   },
   {
    "duration": 4,
    "start_time": "2022-02-13T05:31:54.365Z"
   },
   {
    "duration": 118,
    "start_time": "2022-02-13T05:31:54.373Z"
   },
   {
    "duration": 10,
    "start_time": "2022-02-13T05:31:54.494Z"
   },
   {
    "duration": 101,
    "start_time": "2022-02-13T05:31:54.506Z"
   },
   {
    "duration": 3,
    "start_time": "2022-02-13T05:31:54.609Z"
   },
   {
    "duration": 20,
    "start_time": "2022-02-13T05:31:54.614Z"
   },
   {
    "duration": 14,
    "start_time": "2022-02-13T05:31:54.637Z"
   },
   {
    "duration": 105,
    "start_time": "2022-02-13T05:31:54.654Z"
   },
   {
    "duration": 14,
    "start_time": "2022-02-13T05:31:54.762Z"
   },
   {
    "duration": 24,
    "start_time": "2022-02-13T05:31:54.779Z"
   },
   {
    "duration": 51,
    "start_time": "2022-02-13T05:31:54.833Z"
   },
   {
    "duration": 50,
    "start_time": "2022-02-13T05:31:54.887Z"
   },
   {
    "duration": 53,
    "start_time": "2022-02-13T05:31:54.940Z"
   },
   {
    "duration": 143,
    "start_time": "2022-02-13T05:31:54.996Z"
   },
   {
    "duration": 66,
    "start_time": "2022-02-13T05:32:02.903Z"
   },
   {
    "duration": 114,
    "start_time": "2022-02-13T05:32:03.518Z"
   },
   {
    "duration": 15,
    "start_time": "2022-02-13T05:32:04.391Z"
   },
   {
    "duration": 9,
    "start_time": "2022-02-13T05:32:04.938Z"
   },
   {
    "duration": 20,
    "start_time": "2022-02-13T05:32:05.403Z"
   },
   {
    "duration": 25,
    "start_time": "2022-02-13T05:32:05.846Z"
   },
   {
    "duration": 4,
    "start_time": "2022-02-13T05:32:06.806Z"
   },
   {
    "duration": 85,
    "start_time": "2022-02-13T05:32:07.311Z"
   },
   {
    "duration": 11,
    "start_time": "2022-02-13T05:32:07.922Z"
   },
   {
    "duration": 73,
    "start_time": "2022-02-13T05:32:08.775Z"
   },
   {
    "duration": 3,
    "start_time": "2022-02-13T05:32:09.386Z"
   },
   {
    "duration": 3,
    "start_time": "2022-02-13T05:32:09.882Z"
   },
   {
    "duration": 11,
    "start_time": "2022-02-13T05:32:10.430Z"
   },
   {
    "duration": 76,
    "start_time": "2022-02-13T05:32:11.402Z"
   },
   {
    "duration": 16,
    "start_time": "2022-02-13T05:32:12.027Z"
   },
   {
    "duration": 57,
    "start_time": "2022-02-13T05:32:48.166Z"
   },
   {
    "duration": 340,
    "start_time": "2022-02-13T05:32:59.282Z"
   },
   {
    "duration": 14,
    "start_time": "2022-02-13T05:35:15.274Z"
   },
   {
    "duration": 52,
    "start_time": "2022-02-13T05:36:05.478Z"
   },
   {
    "duration": 784,
    "start_time": "2022-02-13T05:36:51.217Z"
   },
   {
    "duration": 119,
    "start_time": "2022-02-13T05:36:52.004Z"
   },
   {
    "duration": 25,
    "start_time": "2022-02-13T05:36:52.126Z"
   },
   {
    "duration": 7,
    "start_time": "2022-02-13T05:36:52.153Z"
   },
   {
    "duration": 20,
    "start_time": "2022-02-13T05:36:52.162Z"
   },
   {
    "duration": 61,
    "start_time": "2022-02-13T05:36:52.184Z"
   },
   {
    "duration": 4,
    "start_time": "2022-02-13T05:36:52.248Z"
   },
   {
    "duration": 95,
    "start_time": "2022-02-13T05:36:52.255Z"
   },
   {
    "duration": 11,
    "start_time": "2022-02-13T05:36:52.353Z"
   },
   {
    "duration": 93,
    "start_time": "2022-02-13T05:36:52.366Z"
   },
   {
    "duration": 3,
    "start_time": "2022-02-13T05:36:52.461Z"
   },
   {
    "duration": 5,
    "start_time": "2022-02-13T05:36:52.466Z"
   },
   {
    "duration": 13,
    "start_time": "2022-02-13T05:36:52.474Z"
   },
   {
    "duration": 99,
    "start_time": "2022-02-13T05:36:52.489Z"
   },
   {
    "duration": 11,
    "start_time": "2022-02-13T05:36:52.590Z"
   },
   {
    "duration": 38,
    "start_time": "2022-02-13T05:36:52.604Z"
   },
   {
    "duration": 45,
    "start_time": "2022-02-13T05:36:52.644Z"
   },
   {
    "duration": 45,
    "start_time": "2022-02-13T05:36:52.692Z"
   },
   {
    "duration": 54,
    "start_time": "2022-02-13T05:36:52.739Z"
   },
   {
    "duration": 123,
    "start_time": "2022-02-13T05:36:52.795Z"
   },
   {
    "duration": 63,
    "start_time": "2022-02-13T05:36:56.330Z"
   },
   {
    "duration": 112,
    "start_time": "2022-02-13T05:36:57.415Z"
   },
   {
    "duration": 13,
    "start_time": "2022-02-13T05:36:59.022Z"
   },
   {
    "duration": 8,
    "start_time": "2022-02-13T05:36:59.686Z"
   },
   {
    "duration": 20,
    "start_time": "2022-02-13T05:37:00.391Z"
   },
   {
    "duration": 23,
    "start_time": "2022-02-13T05:37:01.179Z"
   },
   {
    "duration": 4,
    "start_time": "2022-02-13T05:37:02.662Z"
   },
   {
    "duration": 85,
    "start_time": "2022-02-13T05:37:03.391Z"
   },
   {
    "duration": 11,
    "start_time": "2022-02-13T05:37:04.526Z"
   },
   {
    "duration": 84,
    "start_time": "2022-02-13T05:37:05.674Z"
   },
   {
    "duration": 3,
    "start_time": "2022-02-13T05:37:07.695Z"
   },
   {
    "duration": 4,
    "start_time": "2022-02-13T05:37:08.446Z"
   },
   {
    "duration": 12,
    "start_time": "2022-02-13T05:37:11.266Z"
   },
   {
    "duration": 74,
    "start_time": "2022-02-13T05:37:15.282Z"
   },
   {
    "duration": 14,
    "start_time": "2022-02-13T05:37:18.246Z"
   },
   {
    "duration": 23,
    "start_time": "2022-02-13T05:37:20.738Z"
   },
   {
    "duration": 46,
    "start_time": "2022-02-13T05:37:29.574Z"
   },
   {
    "duration": 17,
    "start_time": "2022-02-13T05:37:37.166Z"
   },
   {
    "duration": 52,
    "start_time": "2022-02-13T05:38:05.379Z"
   },
   {
    "duration": 55,
    "start_time": "2022-02-13T05:40:01.462Z"
   },
   {
    "duration": 95,
    "start_time": "2022-02-13T05:40:16.814Z"
   },
   {
    "duration": 52,
    "start_time": "2022-02-13T05:40:39.238Z"
   },
   {
    "duration": 771,
    "start_time": "2022-02-13T05:40:43.762Z"
   },
   {
    "duration": 123,
    "start_time": "2022-02-13T05:40:44.536Z"
   },
   {
    "duration": 21,
    "start_time": "2022-02-13T05:40:44.663Z"
   },
   {
    "duration": 8,
    "start_time": "2022-02-13T05:40:44.687Z"
   },
   {
    "duration": 49,
    "start_time": "2022-02-13T05:40:44.698Z"
   },
   {
    "duration": 25,
    "start_time": "2022-02-13T05:40:44.749Z"
   },
   {
    "duration": 4,
    "start_time": "2022-02-13T05:40:44.776Z"
   },
   {
    "duration": 121,
    "start_time": "2022-02-13T05:40:44.783Z"
   },
   {
    "duration": 27,
    "start_time": "2022-02-13T05:40:44.907Z"
   },
   {
    "duration": 74,
    "start_time": "2022-02-13T05:40:44.937Z"
   },
   {
    "duration": 20,
    "start_time": "2022-02-13T05:40:45.014Z"
   },
   {
    "duration": 9,
    "start_time": "2022-02-13T05:40:45.036Z"
   },
   {
    "duration": 15,
    "start_time": "2022-02-13T05:40:45.048Z"
   },
   {
    "duration": 92,
    "start_time": "2022-02-13T05:40:45.066Z"
   },
   {
    "duration": 12,
    "start_time": "2022-02-13T05:40:45.160Z"
   },
   {
    "duration": 22,
    "start_time": "2022-02-13T05:40:45.175Z"
   },
   {
    "duration": 75,
    "start_time": "2022-02-13T05:40:45.200Z"
   },
   {
    "duration": 16,
    "start_time": "2022-02-13T05:40:45.277Z"
   },
   {
    "duration": 84,
    "start_time": "2022-02-13T05:40:45.295Z"
   },
   {
    "duration": 123,
    "start_time": "2022-02-13T05:40:45.381Z"
   },
   {
    "duration": 65,
    "start_time": "2022-02-13T05:40:46.722Z"
   },
   {
    "duration": 113,
    "start_time": "2022-02-13T05:40:47.359Z"
   },
   {
    "duration": 13,
    "start_time": "2022-02-13T05:40:48.274Z"
   },
   {
    "duration": 8,
    "start_time": "2022-02-13T05:40:48.826Z"
   },
   {
    "duration": 21,
    "start_time": "2022-02-13T05:40:49.346Z"
   },
   {
    "duration": 22,
    "start_time": "2022-02-13T05:40:49.890Z"
   },
   {
    "duration": 5,
    "start_time": "2022-02-13T05:40:50.978Z"
   },
   {
    "duration": 88,
    "start_time": "2022-02-13T05:40:51.582Z"
   },
   {
    "duration": 12,
    "start_time": "2022-02-13T05:40:52.246Z"
   },
   {
    "duration": 76,
    "start_time": "2022-02-13T05:40:52.922Z"
   },
   {
    "duration": 2,
    "start_time": "2022-02-13T05:40:53.619Z"
   },
   {
    "duration": 3,
    "start_time": "2022-02-13T05:40:54.086Z"
   },
   {
    "duration": 13,
    "start_time": "2022-02-13T05:40:54.658Z"
   },
   {
    "duration": 72,
    "start_time": "2022-02-13T05:40:55.615Z"
   },
   {
    "duration": 16,
    "start_time": "2022-02-13T05:40:56.234Z"
   },
   {
    "duration": 24,
    "start_time": "2022-02-13T05:40:57.438Z"
   },
   {
    "duration": 53,
    "start_time": "2022-02-13T05:40:58.914Z"
   },
   {
    "duration": 18,
    "start_time": "2022-02-13T05:41:04.178Z"
   },
   {
    "duration": 59,
    "start_time": "2022-02-13T05:41:05.098Z"
   },
   {
    "duration": 336,
    "start_time": "2022-02-13T05:41:25.486Z"
   },
   {
    "duration": 57,
    "start_time": "2022-02-13T05:41:43.238Z"
   },
   {
    "duration": 55,
    "start_time": "2022-02-13T05:42:14.787Z"
   },
   {
    "duration": 57,
    "start_time": "2022-02-13T05:42:23.746Z"
   },
   {
    "duration": 54,
    "start_time": "2022-02-13T05:42:34.338Z"
   },
   {
    "duration": 246,
    "start_time": "2022-02-13T05:43:03.042Z"
   },
   {
    "duration": 57,
    "start_time": "2022-02-13T05:43:07.654Z"
   },
   {
    "duration": 239,
    "start_time": "2022-02-13T05:45:13.603Z"
   },
   {
    "duration": 56,
    "start_time": "2022-02-13T05:45:18.610Z"
   },
   {
    "duration": 51,
    "start_time": "2022-02-13T05:48:15.226Z"
   },
   {
    "duration": 94,
    "start_time": "2022-02-13T05:48:20.019Z"
   },
   {
    "duration": 19,
    "start_time": "2022-02-13T05:50:01.367Z"
   },
   {
    "duration": 13,
    "start_time": "2022-02-13T05:51:10.390Z"
   },
   {
    "duration": 25,
    "start_time": "2022-02-13T05:51:33.958Z"
   },
   {
    "duration": 16,
    "start_time": "2022-02-13T05:51:39.926Z"
   },
   {
    "duration": 66,
    "start_time": "2022-02-13T05:56:17.275Z"
   },
   {
    "duration": 126,
    "start_time": "2022-02-13T05:56:18.828Z"
   },
   {
    "duration": 15,
    "start_time": "2022-02-13T05:56:23.063Z"
   },
   {
    "duration": 8,
    "start_time": "2022-02-13T05:56:25.788Z"
   },
   {
    "duration": 21,
    "start_time": "2022-02-13T05:56:26.567Z"
   },
   {
    "duration": 23,
    "start_time": "2022-02-13T05:56:27.471Z"
   },
   {
    "duration": 4,
    "start_time": "2022-02-13T05:56:29.204Z"
   },
   {
    "duration": 87,
    "start_time": "2022-02-13T05:56:29.920Z"
   },
   {
    "duration": 11,
    "start_time": "2022-02-13T05:56:31.140Z"
   },
   {
    "duration": 72,
    "start_time": "2022-02-13T05:56:34.688Z"
   },
   {
    "duration": 3,
    "start_time": "2022-02-13T05:56:36.056Z"
   },
   {
    "duration": 3,
    "start_time": "2022-02-13T05:56:36.819Z"
   },
   {
    "duration": 12,
    "start_time": "2022-02-13T05:56:39.128Z"
   },
   {
    "duration": 80,
    "start_time": "2022-02-13T05:56:51.263Z"
   },
   {
    "duration": 14,
    "start_time": "2022-02-13T05:56:54.336Z"
   },
   {
    "duration": 22,
    "start_time": "2022-02-13T05:57:00.704Z"
   },
   {
    "duration": 86,
    "start_time": "2022-02-13T05:57:53.076Z"
   },
   {
    "duration": 17,
    "start_time": "2022-02-13T05:58:18.631Z"
   },
   {
    "duration": 45,
    "start_time": "2022-02-13T05:58:44.268Z"
   },
   {
    "duration": 66,
    "start_time": "2022-02-13T05:59:01.872Z"
   },
   {
    "duration": 112,
    "start_time": "2022-02-13T05:59:02.575Z"
   },
   {
    "duration": 14,
    "start_time": "2022-02-13T05:59:03.831Z"
   },
   {
    "duration": 8,
    "start_time": "2022-02-13T05:59:04.464Z"
   },
   {
    "duration": 19,
    "start_time": "2022-02-13T05:59:04.943Z"
   },
   {
    "duration": 22,
    "start_time": "2022-02-13T05:59:05.436Z"
   },
   {
    "duration": 4,
    "start_time": "2022-02-13T05:59:06.268Z"
   },
   {
    "duration": 85,
    "start_time": "2022-02-13T05:59:06.692Z"
   },
   {
    "duration": 11,
    "start_time": "2022-02-13T05:59:07.120Z"
   },
   {
    "duration": 75,
    "start_time": "2022-02-13T05:59:07.660Z"
   },
   {
    "duration": 2,
    "start_time": "2022-02-13T05:59:08.136Z"
   },
   {
    "duration": 3,
    "start_time": "2022-02-13T05:59:08.568Z"
   },
   {
    "duration": 12,
    "start_time": "2022-02-13T05:59:09.035Z"
   },
   {
    "duration": 74,
    "start_time": "2022-02-13T05:59:09.727Z"
   },
   {
    "duration": 14,
    "start_time": "2022-02-13T05:59:10.287Z"
   },
   {
    "duration": 22,
    "start_time": "2022-02-13T05:59:11.491Z"
   },
   {
    "duration": 60,
    "start_time": "2022-02-13T05:59:12.304Z"
   },
   {
    "duration": 16,
    "start_time": "2022-02-13T05:59:15.296Z"
   },
   {
    "duration": 59,
    "start_time": "2022-02-13T05:59:15.899Z"
   },
   {
    "duration": 49,
    "start_time": "2022-02-13T05:59:41.496Z"
   },
   {
    "duration": 67,
    "start_time": "2022-02-13T06:01:05.476Z"
   },
   {
    "duration": 112,
    "start_time": "2022-02-13T06:01:10.116Z"
   },
   {
    "duration": 96,
    "start_time": "2022-02-13T06:06:35.620Z"
   },
   {
    "duration": 72,
    "start_time": "2022-02-13T06:06:48.271Z"
   },
   {
    "duration": 51,
    "start_time": "2022-02-13T06:08:00.143Z"
   },
   {
    "duration": 17,
    "start_time": "2022-02-13T06:08:29.563Z"
   },
   {
    "duration": 55,
    "start_time": "2022-02-13T06:08:38.695Z"
   },
   {
    "duration": 757,
    "start_time": "2022-02-13T06:08:52.254Z"
   },
   {
    "duration": 119,
    "start_time": "2022-02-13T06:08:53.013Z"
   },
   {
    "duration": 21,
    "start_time": "2022-02-13T06:08:53.135Z"
   },
   {
    "duration": 8,
    "start_time": "2022-02-13T06:08:53.158Z"
   },
   {
    "duration": 20,
    "start_time": "2022-02-13T06:08:53.168Z"
   },
   {
    "duration": 61,
    "start_time": "2022-02-13T06:08:53.191Z"
   },
   {
    "duration": 4,
    "start_time": "2022-02-13T06:08:53.255Z"
   },
   {
    "duration": 97,
    "start_time": "2022-02-13T06:08:53.262Z"
   },
   {
    "duration": 9,
    "start_time": "2022-02-13T06:08:53.362Z"
   },
   {
    "duration": 95,
    "start_time": "2022-02-13T06:08:53.373Z"
   },
   {
    "duration": 3,
    "start_time": "2022-02-13T06:08:53.470Z"
   },
   {
    "duration": 6,
    "start_time": "2022-02-13T06:08:53.475Z"
   },
   {
    "duration": 13,
    "start_time": "2022-02-13T06:08:53.484Z"
   },
   {
    "duration": 96,
    "start_time": "2022-02-13T06:08:53.500Z"
   },
   {
    "duration": 14,
    "start_time": "2022-02-13T06:08:53.598Z"
   },
   {
    "duration": 34,
    "start_time": "2022-02-13T06:08:53.614Z"
   },
   {
    "duration": 52,
    "start_time": "2022-02-13T06:08:53.650Z"
   },
   {
    "duration": 42,
    "start_time": "2022-02-13T06:08:53.704Z"
   },
   {
    "duration": 55,
    "start_time": "2022-02-13T06:08:53.748Z"
   },
   {
    "duration": 63,
    "start_time": "2022-02-13T06:08:55.786Z"
   },
   {
    "duration": 120,
    "start_time": "2022-02-13T06:08:56.274Z"
   },
   {
    "duration": 14,
    "start_time": "2022-02-13T06:08:57.433Z"
   },
   {
    "duration": 8,
    "start_time": "2022-02-13T06:08:57.982Z"
   },
   {
    "duration": 22,
    "start_time": "2022-02-13T06:08:58.462Z"
   },
   {
    "duration": 22,
    "start_time": "2022-02-13T06:08:59.150Z"
   },
   {
    "duration": 4,
    "start_time": "2022-02-13T06:09:00.686Z"
   },
   {
    "duration": 85,
    "start_time": "2022-02-13T06:09:01.295Z"
   },
   {
    "duration": 11,
    "start_time": "2022-02-13T06:09:02.330Z"
   },
   {
    "duration": 75,
    "start_time": "2022-02-13T06:09:03.546Z"
   },
   {
    "duration": 3,
    "start_time": "2022-02-13T06:09:04.202Z"
   },
   {
    "duration": 3,
    "start_time": "2022-02-13T06:09:04.754Z"
   },
   {
    "duration": 11,
    "start_time": "2022-02-13T06:09:05.390Z"
   },
   {
    "duration": 72,
    "start_time": "2022-02-13T06:09:07.158Z"
   },
   {
    "duration": 15,
    "start_time": "2022-02-13T06:09:08.242Z"
   },
   {
    "duration": 23,
    "start_time": "2022-02-13T06:09:09.086Z"
   },
   {
    "duration": 49,
    "start_time": "2022-02-13T06:09:10.118Z"
   },
   {
    "duration": 48,
    "start_time": "2022-02-13T06:09:29.678Z"
   },
   {
    "duration": 17,
    "start_time": "2022-02-13T06:09:33.526Z"
   },
   {
    "duration": 54,
    "start_time": "2022-02-13T06:09:35.354Z"
   },
   {
    "duration": 53,
    "start_time": "2022-02-13T06:09:41.798Z"
   },
   {
    "duration": 57,
    "start_time": "2022-02-13T06:10:06.582Z"
   },
   {
    "duration": 56,
    "start_time": "2022-02-13T06:10:22.986Z"
   },
   {
    "duration": 111,
    "start_time": "2022-02-13T06:21:36.802Z"
   },
   {
    "duration": 850,
    "start_time": "2022-02-13T06:21:46.800Z"
   },
   {
    "duration": 148,
    "start_time": "2022-02-13T06:21:47.654Z"
   },
   {
    "duration": 32,
    "start_time": "2022-02-13T06:21:47.805Z"
   },
   {
    "duration": 8,
    "start_time": "2022-02-13T06:21:47.840Z"
   },
   {
    "duration": 22,
    "start_time": "2022-02-13T06:21:47.851Z"
   },
   {
    "duration": 65,
    "start_time": "2022-02-13T06:21:47.876Z"
   },
   {
    "duration": 4,
    "start_time": "2022-02-13T06:21:47.944Z"
   },
   {
    "duration": 122,
    "start_time": "2022-02-13T06:21:47.952Z"
   },
   {
    "duration": 14,
    "start_time": "2022-02-13T06:21:48.077Z"
   },
   {
    "duration": 105,
    "start_time": "2022-02-13T06:21:48.094Z"
   },
   {
    "duration": 3,
    "start_time": "2022-02-13T06:21:48.201Z"
   },
   {
    "duration": 25,
    "start_time": "2022-02-13T06:21:48.207Z"
   },
   {
    "duration": 11,
    "start_time": "2022-02-13T06:21:48.235Z"
   },
   {
    "duration": 107,
    "start_time": "2022-02-13T06:21:48.248Z"
   },
   {
    "duration": 13,
    "start_time": "2022-02-13T06:21:48.358Z"
   },
   {
    "duration": 21,
    "start_time": "2022-02-13T06:21:48.374Z"
   },
   {
    "duration": 80,
    "start_time": "2022-02-13T06:21:48.397Z"
   },
   {
    "duration": 15,
    "start_time": "2022-02-13T06:21:48.479Z"
   },
   {
    "duration": 84,
    "start_time": "2022-02-13T06:21:48.497Z"
   },
   {
    "duration": 64,
    "start_time": "2022-02-13T06:21:53.715Z"
   },
   {
    "duration": 120,
    "start_time": "2022-02-13T06:21:55.203Z"
   },
   {
    "duration": 124,
    "start_time": "2022-02-13T06:22:30.596Z"
   },
   {
    "duration": 3,
    "start_time": "2022-02-13T06:25:12.819Z"
   },
   {
    "duration": 14,
    "start_time": "2022-02-13T06:26:06.744Z"
   },
   {
    "duration": 910,
    "start_time": "2022-02-13T06:27:25.705Z"
   },
   {
    "duration": 144,
    "start_time": "2022-02-13T06:27:26.618Z"
   },
   {
    "duration": 4,
    "start_time": "2022-02-13T06:27:26.765Z"
   },
   {
    "duration": 11,
    "start_time": "2022-02-13T06:27:26.771Z"
   },
   {
    "duration": 60,
    "start_time": "2022-02-13T06:27:26.784Z"
   },
   {
    "duration": 27,
    "start_time": "2022-02-13T06:27:26.846Z"
   },
   {
    "duration": 5,
    "start_time": "2022-02-13T06:27:26.876Z"
   },
   {
    "duration": 153,
    "start_time": "2022-02-13T06:27:26.887Z"
   },
   {
    "duration": 21,
    "start_time": "2022-02-13T06:27:27.043Z"
   },
   {
    "duration": 136,
    "start_time": "2022-02-13T06:27:27.067Z"
   },
   {
    "duration": 3,
    "start_time": "2022-02-13T06:27:27.206Z"
   },
   {
    "duration": 21,
    "start_time": "2022-02-13T06:27:27.211Z"
   },
   {
    "duration": 24,
    "start_time": "2022-02-13T06:27:27.235Z"
   },
   {
    "duration": 106,
    "start_time": "2022-02-13T06:27:27.262Z"
   },
   {
    "duration": 17,
    "start_time": "2022-02-13T06:27:27.371Z"
   },
   {
    "duration": 48,
    "start_time": "2022-02-13T06:27:27.391Z"
   },
   {
    "duration": 89,
    "start_time": "2022-02-13T06:27:27.443Z"
   },
   {
    "duration": 20,
    "start_time": "2022-02-13T06:27:27.535Z"
   },
   {
    "duration": 93,
    "start_time": "2022-02-13T06:27:27.557Z"
   },
   {
    "duration": 68,
    "start_time": "2022-02-13T06:27:31.598Z"
   },
   {
    "duration": 122,
    "start_time": "2022-02-13T06:27:34.493Z"
   },
   {
    "duration": 15,
    "start_time": "2022-02-13T06:27:43.433Z"
   },
   {
    "duration": 15,
    "start_time": "2022-02-13T06:31:09.191Z"
   },
   {
    "duration": 77,
    "start_time": "2022-02-13T06:32:53.958Z"
   },
   {
    "duration": 81,
    "start_time": "2022-02-13T06:33:29.878Z"
   },
   {
    "duration": 80,
    "start_time": "2022-02-13T06:43:09.381Z"
   },
   {
    "duration": 13,
    "start_time": "2022-02-13T06:46:08.814Z"
   },
   {
    "duration": 32,
    "start_time": "2022-02-13T06:47:17.350Z"
   },
   {
    "duration": 158,
    "start_time": "2022-02-13T06:49:36.467Z"
   },
   {
    "duration": 121,
    "start_time": "2022-02-13T06:52:35.950Z"
   },
   {
    "duration": 156,
    "start_time": "2022-02-13T06:53:23.189Z"
   },
   {
    "duration": 6,
    "start_time": "2022-02-13T07:00:53.554Z"
   },
   {
    "duration": 36,
    "start_time": "2022-02-13T07:01:43.658Z"
   },
   {
    "duration": 64,
    "start_time": "2022-02-13T07:02:16.318Z"
   },
   {
    "duration": 75,
    "start_time": "2022-02-13T07:03:35.774Z"
   },
   {
    "duration": 25,
    "start_time": "2022-02-13T07:06:47.223Z"
   },
   {
    "duration": 5,
    "start_time": "2022-02-13T07:07:49.154Z"
   },
   {
    "duration": 33,
    "start_time": "2022-02-13T07:08:02.979Z"
   },
   {
    "duration": 5,
    "start_time": "2022-02-13T07:08:27.823Z"
   },
   {
    "duration": 14,
    "start_time": "2022-02-13T07:09:13.434Z"
   },
   {
    "duration": 11,
    "start_time": "2022-02-13T07:12:24.982Z"
   },
   {
    "duration": 14,
    "start_time": "2022-02-13T07:12:40.726Z"
   },
   {
    "duration": 14,
    "start_time": "2022-02-13T07:12:46.038Z"
   },
   {
    "duration": 12,
    "start_time": "2022-02-13T07:13:52.763Z"
   },
   {
    "duration": 12,
    "start_time": "2022-02-13T07:14:50.418Z"
   },
   {
    "duration": 22,
    "start_time": "2022-02-13T07:15:43.754Z"
   },
   {
    "duration": 79,
    "start_time": "2022-02-13T07:16:26.754Z"
   },
   {
    "duration": 102,
    "start_time": "2022-02-13T07:16:37.219Z"
   },
   {
    "duration": 30,
    "start_time": "2022-02-13T07:16:49.134Z"
   },
   {
    "duration": 48,
    "start_time": "2022-02-13T07:16:57.030Z"
   },
   {
    "duration": 53,
    "start_time": "2022-02-13T07:20:45.642Z"
   },
   {
    "duration": 54,
    "start_time": "2022-02-13T07:21:21.422Z"
   },
   {
    "duration": 84,
    "start_time": "2022-02-13T07:23:17.454Z"
   },
   {
    "duration": 32,
    "start_time": "2022-02-13T07:25:03.523Z"
   },
   {
    "duration": 754,
    "start_time": "2022-02-13T07:25:08.980Z"
   },
   {
    "duration": 22,
    "start_time": "2022-02-13T07:25:09.738Z"
   },
   {
    "duration": 112,
    "start_time": "2022-02-13T07:25:09.763Z"
   },
   {
    "duration": 91,
    "start_time": "2022-02-13T07:25:09.878Z"
   },
   {
    "duration": 14,
    "start_time": "2022-02-13T07:25:09.972Z"
   },
   {
    "duration": 12,
    "start_time": "2022-02-13T07:25:09.989Z"
   },
   {
    "duration": 135,
    "start_time": "2022-02-13T07:25:10.032Z"
   },
   {
    "duration": 89,
    "start_time": "2022-02-13T07:25:10.171Z"
   },
   {
    "duration": 79,
    "start_time": "2022-02-13T07:25:10.263Z"
   },
   {
    "duration": 20,
    "start_time": "2022-02-13T07:25:10.345Z"
   },
   {
    "duration": 25,
    "start_time": "2022-02-13T07:25:10.367Z"
   },
   {
    "duration": 38,
    "start_time": "2022-02-13T07:25:10.395Z"
   },
   {
    "duration": 118,
    "start_time": "2022-02-13T07:25:10.435Z"
   },
   {
    "duration": 11,
    "start_time": "2022-02-13T07:25:10.556Z"
   },
   {
    "duration": 108,
    "start_time": "2022-02-13T07:25:10.570Z"
   },
   {
    "duration": 3,
    "start_time": "2022-02-13T07:25:10.680Z"
   },
   {
    "duration": 6,
    "start_time": "2022-02-13T07:25:10.685Z"
   },
   {
    "duration": 13,
    "start_time": "2022-02-13T07:25:10.694Z"
   },
   {
    "duration": 73,
    "start_time": "2022-02-13T07:25:10.733Z"
   },
   {
    "duration": 29,
    "start_time": "2022-02-13T07:25:10.809Z"
   },
   {
    "duration": 21,
    "start_time": "2022-02-13T07:25:10.840Z"
   },
   {
    "duration": 87,
    "start_time": "2022-02-13T07:25:10.863Z"
   },
   {
    "duration": 17,
    "start_time": "2022-02-13T07:25:10.955Z"
   },
   {
    "duration": 93,
    "start_time": "2022-02-13T07:25:10.975Z"
   },
   {
    "duration": 65,
    "start_time": "2022-02-13T07:25:15.297Z"
   },
   {
    "duration": 15,
    "start_time": "2022-02-13T07:25:16.768Z"
   },
   {
    "duration": 80,
    "start_time": "2022-02-13T07:25:17.272Z"
   },
   {
    "duration": 82,
    "start_time": "2022-02-13T07:25:18.077Z"
   },
   {
    "duration": 14,
    "start_time": "2022-02-13T07:25:19.176Z"
   },
   {
    "duration": 14,
    "start_time": "2022-02-13T07:25:19.764Z"
   },
   {
    "duration": 114,
    "start_time": "2022-02-13T07:25:21.544Z"
   },
   {
    "duration": 67,
    "start_time": "2022-02-13T07:25:24.872Z"
   },
   {
    "duration": 50,
    "start_time": "2022-02-13T07:27:07.853Z"
   },
   {
    "duration": 10,
    "start_time": "2022-02-13T07:29:23.128Z"
   },
   {
    "duration": 76,
    "start_time": "2022-02-13T07:30:11.660Z"
   },
   {
    "duration": 419,
    "start_time": "2022-02-13T07:30:38.725Z"
   },
   {
    "duration": 78,
    "start_time": "2022-02-13T07:30:56.712Z"
   },
   {
    "duration": 35,
    "start_time": "2022-02-13T07:32:20.879Z"
   },
   {
    "duration": 4,
    "start_time": "2022-02-13T07:42:35.492Z"
   },
   {
    "duration": 5,
    "start_time": "2022-02-13T07:47:25.788Z"
   },
   {
    "duration": 5,
    "start_time": "2022-02-13T07:48:04.837Z"
   },
   {
    "duration": 5,
    "start_time": "2022-02-13T07:49:36.602Z"
   },
   {
    "duration": 5,
    "start_time": "2022-02-13T07:50:05.253Z"
   },
   {
    "duration": 52,
    "start_time": "2022-02-13T07:51:43.148Z"
   },
   {
    "duration": 935,
    "start_time": "2022-02-13T07:53:51.106Z"
   },
   {
    "duration": 23,
    "start_time": "2022-02-13T07:53:52.045Z"
   },
   {
    "duration": 118,
    "start_time": "2022-02-13T07:53:52.074Z"
   },
   {
    "duration": 105,
    "start_time": "2022-02-13T07:53:52.194Z"
   },
   {
    "duration": 15,
    "start_time": "2022-02-13T07:53:52.301Z"
   },
   {
    "duration": 13,
    "start_time": "2022-02-13T07:53:52.333Z"
   },
   {
    "duration": 182,
    "start_time": "2022-02-13T07:53:52.350Z"
   },
   {
    "duration": 112,
    "start_time": "2022-02-13T07:53:52.535Z"
   },
   {
    "duration": 94,
    "start_time": "2022-02-13T07:53:52.649Z"
   },
   {
    "duration": 14,
    "start_time": "2022-02-13T07:53:52.745Z"
   },
   {
    "duration": 139,
    "start_time": "2022-02-13T07:53:52.761Z"
   },
   {
    "duration": 56,
    "start_time": "2022-02-13T07:53:52.903Z"
   },
   {
    "duration": 6,
    "start_time": "2022-02-13T07:53:52.961Z"
   },
   {
    "duration": 33,
    "start_time": "2022-02-13T07:53:52.972Z"
   },
   {
    "duration": 32,
    "start_time": "2022-02-13T07:53:53.033Z"
   },
   {
    "duration": 4,
    "start_time": "2022-02-13T07:53:53.069Z"
   },
   {
    "duration": 143,
    "start_time": "2022-02-13T07:53:53.077Z"
   },
   {
    "duration": 3,
    "start_time": "2022-02-13T07:53:53.222Z"
   },
   {
    "duration": 15,
    "start_time": "2022-02-13T07:53:53.234Z"
   },
   {
    "duration": 30,
    "start_time": "2022-02-13T07:53:53.252Z"
   },
   {
    "duration": 117,
    "start_time": "2022-02-13T07:53:53.284Z"
   },
   {
    "duration": 31,
    "start_time": "2022-02-13T07:53:53.406Z"
   },
   {
    "duration": 23,
    "start_time": "2022-02-13T07:53:53.440Z"
   },
   {
    "duration": 92,
    "start_time": "2022-02-13T07:53:53.466Z"
   },
   {
    "duration": 22,
    "start_time": "2022-02-13T07:53:53.561Z"
   },
   {
    "duration": 152,
    "start_time": "2022-02-13T07:53:53.587Z"
   },
   {
    "duration": 75,
    "start_time": "2022-02-13T07:53:56.795Z"
   },
   {
    "duration": 18,
    "start_time": "2022-02-13T07:54:00.263Z"
   },
   {
    "duration": 75,
    "start_time": "2022-02-13T07:54:15.015Z"
   },
   {
    "duration": 90,
    "start_time": "2022-02-13T07:54:25.922Z"
   },
   {
    "duration": 93,
    "start_time": "2022-02-13T07:55:14.026Z"
   },
   {
    "duration": 18,
    "start_time": "2022-02-13T07:55:15.330Z"
   },
   {
    "duration": 84,
    "start_time": "2022-02-13T07:55:15.886Z"
   },
   {
    "duration": 79,
    "start_time": "2022-02-13T07:55:16.615Z"
   },
   {
    "duration": 14,
    "start_time": "2022-02-13T07:55:17.175Z"
   },
   {
    "duration": 17,
    "start_time": "2022-02-13T07:55:17.926Z"
   },
   {
    "duration": 113,
    "start_time": "2022-02-13T07:55:19.687Z"
   },
   {
    "duration": 69,
    "start_time": "2022-02-13T07:55:21.347Z"
   },
   {
    "duration": 52,
    "start_time": "2022-02-13T07:55:24.339Z"
   },
   {
    "duration": 10,
    "start_time": "2022-02-13T07:55:25.315Z"
   },
   {
    "duration": 75,
    "start_time": "2022-02-13T07:55:26.671Z"
   },
   {
    "duration": 35,
    "start_time": "2022-02-13T07:55:29.791Z"
   },
   {
    "duration": 6,
    "start_time": "2022-02-13T07:55:37.646Z"
   },
   {
    "duration": 327,
    "start_time": "2022-02-13T07:58:03.403Z"
   },
   {
    "duration": 77,
    "start_time": "2022-02-13T07:58:28.619Z"
   },
   {
    "duration": 267,
    "start_time": "2022-02-13T07:58:42.215Z"
   },
   {
    "duration": 7,
    "start_time": "2022-02-13T07:59:14.358Z"
   },
   {
    "duration": 7,
    "start_time": "2022-02-13T07:59:31.571Z"
   },
   {
    "duration": 7,
    "start_time": "2022-02-13T07:59:50.194Z"
   },
   {
    "duration": 6,
    "start_time": "2022-02-13T08:01:04.187Z"
   },
   {
    "duration": 10,
    "start_time": "2022-02-13T08:01:11.870Z"
   },
   {
    "duration": 9,
    "start_time": "2022-02-13T08:01:27.371Z"
   },
   {
    "duration": 24,
    "start_time": "2022-02-13T08:01:49.567Z"
   },
   {
    "duration": 253,
    "start_time": "2022-02-13T08:02:09.298Z"
   },
   {
    "duration": 11,
    "start_time": "2022-02-13T08:02:21.939Z"
   },
   {
    "duration": 11,
    "start_time": "2022-02-13T08:02:53.871Z"
   },
   {
    "duration": 11,
    "start_time": "2022-02-13T08:04:41.463Z"
   },
   {
    "duration": 11,
    "start_time": "2022-02-13T08:04:50.383Z"
   },
   {
    "duration": 355,
    "start_time": "2022-02-13T08:05:52.043Z"
   },
   {
    "duration": 267,
    "start_time": "2022-02-13T08:06:09.495Z"
   },
   {
    "duration": 39,
    "start_time": "2022-02-13T08:06:16.167Z"
   },
   {
    "duration": 39,
    "start_time": "2022-02-13T08:08:14.995Z"
   },
   {
    "duration": 39,
    "start_time": "2022-02-13T08:09:12.543Z"
   },
   {
    "duration": 39,
    "start_time": "2022-02-13T08:09:33.875Z"
   },
   {
    "duration": 37,
    "start_time": "2022-02-13T08:10:34.675Z"
   },
   {
    "duration": 34,
    "start_time": "2022-02-13T08:37:00.988Z"
   },
   {
    "duration": 19,
    "start_time": "2022-02-13T08:37:26.130Z"
   },
   {
    "duration": 35,
    "start_time": "2022-02-13T08:37:32.579Z"
   },
   {
    "duration": 50,
    "start_time": "2022-02-13T08:38:24.843Z"
   },
   {
    "duration": 129,
    "start_time": "2022-02-13T09:39:43.983Z"
   },
   {
    "duration": 16,
    "start_time": "2022-02-13T09:39:47.307Z"
   },
   {
    "duration": 813,
    "start_time": "2022-02-13T09:40:19.068Z"
   },
   {
    "duration": 12,
    "start_time": "2022-02-13T09:40:19.884Z"
   },
   {
    "duration": 37,
    "start_time": "2022-02-13T09:40:19.900Z"
   },
   {
    "duration": 93,
    "start_time": "2022-02-13T09:40:19.940Z"
   },
   {
    "duration": 81,
    "start_time": "2022-02-13T09:40:20.036Z"
   },
   {
    "duration": 16,
    "start_time": "2022-02-13T09:40:20.132Z"
   },
   {
    "duration": 16,
    "start_time": "2022-02-13T09:40:20.151Z"
   },
   {
    "duration": 148,
    "start_time": "2022-02-13T09:40:20.172Z"
   },
   {
    "duration": 111,
    "start_time": "2022-02-13T09:40:20.323Z"
   },
   {
    "duration": 76,
    "start_time": "2022-02-13T09:40:20.437Z"
   },
   {
    "duration": 14,
    "start_time": "2022-02-13T09:40:20.533Z"
   },
   {
    "duration": 142,
    "start_time": "2022-02-13T09:40:20.550Z"
   },
   {
    "duration": 63,
    "start_time": "2022-02-13T09:40:20.695Z"
   },
   {
    "duration": 40,
    "start_time": "2022-02-13T09:40:20.761Z"
   },
   {
    "duration": 61,
    "start_time": "2022-02-13T09:40:20.804Z"
   },
   {
    "duration": 21,
    "start_time": "2022-02-13T09:40:20.868Z"
   },
   {
    "duration": 49,
    "start_time": "2022-02-13T09:40:20.891Z"
   },
   {
    "duration": 4,
    "start_time": "2022-02-13T09:40:20.943Z"
   },
   {
    "duration": 110,
    "start_time": "2022-02-13T09:40:20.949Z"
   },
   {
    "duration": 3,
    "start_time": "2022-02-13T09:40:21.062Z"
   },
   {
    "duration": 7,
    "start_time": "2022-02-13T09:40:21.067Z"
   },
   {
    "duration": 16,
    "start_time": "2022-02-13T09:40:21.076Z"
   },
   {
    "duration": 103,
    "start_time": "2022-02-13T09:40:21.096Z"
   },
   {
    "duration": 33,
    "start_time": "2022-02-13T09:40:21.202Z"
   },
   {
    "duration": 24,
    "start_time": "2022-02-13T09:40:21.238Z"
   },
   {
    "duration": 85,
    "start_time": "2022-02-13T09:40:21.265Z"
   },
   {
    "duration": 18,
    "start_time": "2022-02-13T09:40:21.353Z"
   },
   {
    "duration": 92,
    "start_time": "2022-02-13T09:40:21.374Z"
   },
   {
    "duration": 91,
    "start_time": "2022-02-13T09:40:26.609Z"
   },
   {
    "duration": 14,
    "start_time": "2022-02-13T09:40:28.104Z"
   },
   {
    "duration": 14,
    "start_time": "2022-02-13T09:40:31.786Z"
   },
   {
    "duration": 84,
    "start_time": "2022-02-13T09:40:33.013Z"
   },
   {
    "duration": 86,
    "start_time": "2022-02-13T09:40:34.797Z"
   },
   {
    "duration": 16,
    "start_time": "2022-02-13T09:40:36.476Z"
   },
   {
    "duration": 14,
    "start_time": "2022-02-13T09:40:39.860Z"
   },
   {
    "duration": 8,
    "start_time": "2022-02-13T09:59:18.910Z"
   },
   {
    "duration": 37,
    "start_time": "2022-02-13T09:59:28.978Z"
   },
   {
    "duration": 12,
    "start_time": "2022-02-13T09:59:40.761Z"
   },
   {
    "duration": 875,
    "start_time": "2022-02-13T09:59:45.900Z"
   },
   {
    "duration": 16,
    "start_time": "2022-02-13T09:59:46.778Z"
   },
   {
    "duration": 43,
    "start_time": "2022-02-13T09:59:46.797Z"
   },
   {
    "duration": 99,
    "start_time": "2022-02-13T09:59:46.843Z"
   },
   {
    "duration": 92,
    "start_time": "2022-02-13T09:59:46.944Z"
   },
   {
    "duration": 15,
    "start_time": "2022-02-13T09:59:47.038Z"
   },
   {
    "duration": 140,
    "start_time": "2022-02-13T09:59:47.056Z"
   },
   {
    "duration": 76,
    "start_time": "2022-02-13T09:59:47.200Z"
   },
   {
    "duration": 75,
    "start_time": "2022-02-13T09:59:47.279Z"
   },
   {
    "duration": 10,
    "start_time": "2022-02-13T09:59:47.356Z"
   },
   {
    "duration": 102,
    "start_time": "2022-02-13T09:59:47.369Z"
   },
   {
    "duration": 36,
    "start_time": "2022-02-13T09:59:47.473Z"
   },
   {
    "duration": 54,
    "start_time": "2022-02-13T09:59:47.512Z"
   },
   {
    "duration": 34,
    "start_time": "2022-02-13T09:59:47.569Z"
   },
   {
    "duration": 52,
    "start_time": "2022-02-13T09:59:47.606Z"
   },
   {
    "duration": 30,
    "start_time": "2022-02-13T09:59:47.661Z"
   },
   {
    "duration": 5,
    "start_time": "2022-02-13T09:59:47.694Z"
   },
   {
    "duration": 165,
    "start_time": "2022-02-13T09:59:47.702Z"
   },
   {
    "duration": 3,
    "start_time": "2022-02-13T09:59:47.870Z"
   },
   {
    "duration": 5,
    "start_time": "2022-02-13T09:59:47.876Z"
   },
   {
    "duration": 15,
    "start_time": "2022-02-13T09:59:47.884Z"
   },
   {
    "duration": 7475,
    "start_time": "2022-02-13T09:59:47.902Z"
   },
   {
    "duration": -28,
    "start_time": "2022-02-13T09:59:55.410Z"
   },
   {
    "duration": -38,
    "start_time": "2022-02-13T09:59:55.422Z"
   },
   {
    "duration": -49,
    "start_time": "2022-02-13T09:59:55.435Z"
   },
   {
    "duration": -55,
    "start_time": "2022-02-13T09:59:55.443Z"
   },
   {
    "duration": -59,
    "start_time": "2022-02-13T09:59:55.450Z"
   },
   {
    "duration": 135,
    "start_time": "2022-02-13T09:59:56.289Z"
   },
   {
    "duration": 14,
    "start_time": "2022-02-13T09:59:57.222Z"
   },
   {
    "duration": 21,
    "start_time": "2022-02-13T09:59:57.709Z"
   },
   {
    "duration": 128,
    "start_time": "2022-02-13T09:59:58.317Z"
   },
   {
    "duration": 123,
    "start_time": "2022-02-13T09:59:58.885Z"
   },
   {
    "duration": 21,
    "start_time": "2022-02-13T09:59:59.413Z"
   },
   {
    "duration": 189,
    "start_time": "2022-02-13T10:00:01.145Z"
   },
   {
    "duration": 69,
    "start_time": "2022-02-13T10:00:02.645Z"
   },
   {
    "duration": 53,
    "start_time": "2022-02-13T10:00:04.733Z"
   },
   {
    "duration": 10,
    "start_time": "2022-02-13T10:00:06.241Z"
   },
   {
    "duration": 96,
    "start_time": "2022-02-13T10:00:08.401Z"
   },
   {
    "duration": 36,
    "start_time": "2022-02-13T10:00:09.392Z"
   },
   {
    "duration": 48,
    "start_time": "2022-02-13T10:00:13.649Z"
   },
   {
    "duration": 35,
    "start_time": "2022-02-13T10:00:27.304Z"
   },
   {
    "duration": 45,
    "start_time": "2022-02-13T10:00:39.036Z"
   },
   {
    "duration": 7,
    "start_time": "2022-02-13T10:03:49.773Z"
   },
   {
    "duration": 35,
    "start_time": "2022-02-13T10:04:02.204Z"
   },
   {
    "duration": 18,
    "start_time": "2022-02-13T10:04:28.528Z"
   },
   {
    "duration": 7,
    "start_time": "2022-02-13T10:07:28.356Z"
   },
   {
    "duration": 16,
    "start_time": "2022-02-13T10:07:59.552Z"
   },
   {
    "duration": 17,
    "start_time": "2022-02-13T10:08:38.349Z"
   },
   {
    "duration": 3,
    "start_time": "2022-02-13T10:08:41.452Z"
   },
   {
    "duration": 22,
    "start_time": "2022-02-13T10:08:49.276Z"
   },
   {
    "duration": 8,
    "start_time": "2022-02-13T10:09:20.876Z"
   },
   {
    "duration": 17,
    "start_time": "2022-02-13T10:10:49.860Z"
   },
   {
    "duration": 6,
    "start_time": "2022-02-13T10:11:31.924Z"
   },
   {
    "duration": 20,
    "start_time": "2022-02-13T10:11:45.564Z"
   },
   {
    "duration": 43,
    "start_time": "2022-02-13T10:12:19.336Z"
   },
   {
    "duration": 21,
    "start_time": "2022-02-13T10:14:10.192Z"
   },
   {
    "duration": 22,
    "start_time": "2022-02-13T10:14:23.696Z"
   },
   {
    "duration": 28,
    "start_time": "2022-02-13T10:14:35.176Z"
   },
   {
    "duration": 279,
    "start_time": "2022-02-13T10:17:02.840Z"
   },
   {
    "duration": 23,
    "start_time": "2022-02-13T10:17:23.596Z"
   },
   {
    "duration": 42,
    "start_time": "2022-02-13T10:17:30.069Z"
   },
   {
    "duration": 338,
    "start_time": "2022-02-13T14:40:33.638Z"
   },
   {
    "duration": 292,
    "start_time": "2022-02-13T14:40:46.743Z"
   },
   {
    "duration": 301,
    "start_time": "2022-02-13T14:41:02.433Z"
   },
   {
    "duration": 287,
    "start_time": "2022-02-13T14:42:20.277Z"
   },
   {
    "duration": 390,
    "start_time": "2022-02-13T14:42:33.909Z"
   },
   {
    "duration": 1153,
    "start_time": "2022-02-13T14:42:51.941Z"
   },
   {
    "duration": 31,
    "start_time": "2022-02-13T14:42:53.098Z"
   },
   {
    "duration": 20,
    "start_time": "2022-02-13T14:42:53.473Z"
   },
   {
    "duration": 104,
    "start_time": "2022-02-13T14:42:54.142Z"
   },
   {
    "duration": 136,
    "start_time": "2022-02-13T14:42:56.810Z"
   },
   {
    "duration": 30,
    "start_time": "2022-02-13T14:42:58.210Z"
   },
   {
    "duration": 193,
    "start_time": "2022-02-13T14:43:02.885Z"
   },
   {
    "duration": 112,
    "start_time": "2022-02-13T14:43:05.877Z"
   },
   {
    "duration": 93,
    "start_time": "2022-02-13T14:43:08.062Z"
   },
   {
    "duration": 15,
    "start_time": "2022-02-13T14:43:09.478Z"
   },
   {
    "duration": 86,
    "start_time": "2022-02-13T14:43:11.912Z"
   },
   {
    "duration": 50,
    "start_time": "2022-02-13T14:43:17.001Z"
   },
   {
    "duration": 41,
    "start_time": "2022-02-13T14:43:21.344Z"
   },
   {
    "duration": 8,
    "start_time": "2022-02-13T14:43:25.357Z"
   },
   {
    "duration": 26,
    "start_time": "2022-02-13T14:43:29.172Z"
   },
   {
    "duration": 11,
    "start_time": "2022-02-13T14:43:35.492Z"
   },
   {
    "duration": 27,
    "start_time": "2022-02-13T14:43:38.744Z"
   },
   {
    "duration": 7,
    "start_time": "2022-02-13T14:43:41.289Z"
   },
   {
    "duration": 19,
    "start_time": "2022-02-13T14:43:43.744Z"
   },
   {
    "duration": 25,
    "start_time": "2022-02-13T14:43:45.033Z"
   },
   {
    "duration": 58,
    "start_time": "2022-02-13T14:43:51.489Z"
   },
   {
    "duration": 44,
    "start_time": "2022-02-13T14:44:03.569Z"
   },
   {
    "duration": 2137,
    "start_time": "2022-02-13T14:44:30.758Z"
   },
   {
    "duration": 2135,
    "start_time": "2022-02-13T14:44:51.333Z"
   },
   {
    "duration": 2554,
    "start_time": "2022-02-13T14:45:21.972Z"
   },
   {
    "duration": 5,
    "start_time": "2022-02-13T14:45:33.837Z"
   },
   {
    "duration": 7,
    "start_time": "2022-02-13T14:45:47.769Z"
   },
   {
    "duration": 319,
    "start_time": "2022-02-13T14:46:00.098Z"
   },
   {
    "duration": 307,
    "start_time": "2022-02-13T14:49:29.874Z"
   },
   {
    "duration": 809,
    "start_time": "2022-02-13T14:52:54.485Z"
   },
   {
    "duration": 623,
    "start_time": "2022-02-13T14:54:23.332Z"
   },
   {
    "duration": 590,
    "start_time": "2022-02-13T14:54:33.569Z"
   },
   {
    "duration": 281,
    "start_time": "2022-02-13T14:55:34.828Z"
   },
   {
    "duration": 9,
    "start_time": "2022-02-13T14:56:05.228Z"
   },
   {
    "duration": 317,
    "start_time": "2022-02-13T14:56:43.225Z"
   },
   {
    "duration": 3067,
    "start_time": "2022-02-13T14:56:50.978Z"
   },
   {
    "duration": 284,
    "start_time": "2022-02-13T14:58:54.237Z"
   },
   {
    "duration": 279,
    "start_time": "2022-02-13T14:59:24.156Z"
   },
   {
    "duration": 357,
    "start_time": "2022-02-13T14:59:34.392Z"
   },
   {
    "duration": 280,
    "start_time": "2022-02-13T15:01:40.492Z"
   },
   {
    "duration": 90,
    "start_time": "2022-02-13T15:06:47.105Z"
   },
   {
    "duration": 99,
    "start_time": "2022-02-13T15:06:56.804Z"
   },
   {
    "duration": 324,
    "start_time": "2022-02-13T15:07:07.213Z"
   },
   {
    "duration": 5,
    "start_time": "2022-02-13T15:07:57.473Z"
   },
   {
    "duration": 7,
    "start_time": "2022-02-13T15:08:08.753Z"
   },
   {
    "duration": 7305,
    "start_time": "2022-02-13T15:08:56.355Z"
   },
   {
    "duration": 11,
    "start_time": "2022-02-13T15:09:43.053Z"
   },
   {
    "duration": 11,
    "start_time": "2022-02-13T15:10:54.656Z"
   },
   {
    "duration": 17,
    "start_time": "2022-02-13T15:12:00.125Z"
   },
   {
    "duration": 7,
    "start_time": "2022-02-13T15:14:43.661Z"
   },
   {
    "duration": 48,
    "start_time": "2022-02-13T15:14:58.030Z"
   },
   {
    "duration": 19,
    "start_time": "2022-02-13T15:15:31.078Z"
   },
   {
    "duration": 520,
    "start_time": "2022-02-13T15:25:22.341Z"
   },
   {
    "duration": 7,
    "start_time": "2022-02-13T15:25:36.026Z"
   },
   {
    "duration": 25,
    "start_time": "2022-02-13T15:25:42.137Z"
   },
   {
    "duration": 48,
    "start_time": "2022-02-13T15:25:51.266Z"
   },
   {
    "duration": 27,
    "start_time": "2022-02-13T15:26:22.621Z"
   },
   {
    "duration": 3,
    "start_time": "2022-02-13T15:30:27.129Z"
   },
   {
    "duration": 27,
    "start_time": "2022-02-13T15:30:35.849Z"
   },
   {
    "duration": 4,
    "start_time": "2022-02-13T15:31:24.993Z"
   },
   {
    "duration": 29,
    "start_time": "2022-02-13T15:31:32.090Z"
   },
   {
    "duration": 4,
    "start_time": "2022-02-13T15:34:10.673Z"
   },
   {
    "duration": 719,
    "start_time": "2022-02-13T15:34:34.622Z"
   },
   {
    "duration": 5,
    "start_time": "2022-02-13T15:36:04.713Z"
   },
   {
    "duration": 83,
    "start_time": "2022-02-13T15:36:07.044Z"
   },
   {
    "duration": 84,
    "start_time": "2022-02-13T15:36:19.014Z"
   },
   {
    "duration": 5,
    "start_time": "2022-02-13T15:36:36.369Z"
   },
   {
    "duration": 663,
    "start_time": "2022-02-13T15:36:37.418Z"
   },
   {
    "duration": 5,
    "start_time": "2022-02-13T15:38:32.414Z"
   },
   {
    "duration": 109,
    "start_time": "2022-02-13T15:38:33.095Z"
   },
   {
    "duration": 119,
    "start_time": "2022-02-13T15:38:44.621Z"
   },
   {
    "duration": 121,
    "start_time": "2022-02-13T15:38:54.601Z"
   },
   {
    "duration": 5,
    "start_time": "2022-02-13T15:40:49.517Z"
   },
   {
    "duration": 633,
    "start_time": "2022-02-13T15:40:50.842Z"
   },
   {
    "duration": 4,
    "start_time": "2022-02-13T15:42:55.430Z"
   },
   {
    "duration": 3,
    "start_time": "2022-02-13T15:42:58.603Z"
   },
   {
    "duration": 5,
    "start_time": "2022-02-13T15:43:22.994Z"
   },
   {
    "duration": 196,
    "start_time": "2022-02-13T15:43:23.990Z"
   },
   {
    "duration": 476,
    "start_time": "2022-02-13T15:44:15.961Z"
   },
   {
    "duration": 117,
    "start_time": "2022-02-13T15:44:16.666Z"
   },
   {
    "duration": 4,
    "start_time": "2022-02-13T15:44:38.513Z"
   },
   {
    "duration": 40,
    "start_time": "2022-02-13T15:47:05.825Z"
   },
   {
    "duration": 30,
    "start_time": "2022-02-13T15:47:27.618Z"
   },
   {
    "duration": 29,
    "start_time": "2022-02-13T15:47:42.110Z"
   },
   {
    "duration": 906,
    "start_time": "2022-02-13T15:47:54.958Z"
   },
   {
    "duration": 12,
    "start_time": "2022-02-13T15:47:55.868Z"
   },
   {
    "duration": 328,
    "start_time": "2022-02-13T15:47:55.884Z"
   },
   {
    "duration": 305,
    "start_time": "2022-02-13T15:47:56.215Z"
   },
   {
    "duration": 427,
    "start_time": "2022-02-13T15:47:56.522Z"
   },
   {
    "duration": 312,
    "start_time": "2022-02-13T15:47:56.951Z"
   },
   {
    "duration": 406,
    "start_time": "2022-02-13T15:47:57.265Z"
   },
   {
    "duration": 122,
    "start_time": "2022-02-13T15:47:57.726Z"
   },
   {
    "duration": 343,
    "start_time": "2022-02-13T15:47:57.858Z"
   },
   {
    "duration": 277,
    "start_time": "2022-02-13T15:47:58.204Z"
   },
   {
    "duration": 366,
    "start_time": "2022-02-13T15:47:58.484Z"
   },
   {
    "duration": 384,
    "start_time": "2022-02-13T15:47:58.852Z"
   },
   {
    "duration": 230,
    "start_time": "2022-02-13T15:47:59.239Z"
   },
   {
    "duration": 183,
    "start_time": "2022-02-13T15:47:59.472Z"
   },
   {
    "duration": 328,
    "start_time": "2022-02-13T15:47:59.658Z"
   },
   {
    "duration": 397,
    "start_time": "2022-02-13T15:47:59.990Z"
   },
   {
    "duration": 347,
    "start_time": "2022-02-13T15:48:00.389Z"
   },
   {
    "duration": 430,
    "start_time": "2022-02-13T15:48:00.739Z"
   },
   {
    "duration": 222,
    "start_time": "2022-02-13T15:48:01.172Z"
   },
   {
    "duration": 188,
    "start_time": "2022-02-13T15:48:01.396Z"
   },
   {
    "duration": 257,
    "start_time": "2022-02-13T15:48:01.586Z"
   },
   {
    "duration": 165,
    "start_time": "2022-02-13T15:48:01.845Z"
   },
   {
    "duration": 217,
    "start_time": "2022-02-13T15:48:02.016Z"
   },
   {
    "duration": 286,
    "start_time": "2022-02-13T15:48:02.238Z"
   },
   {
    "duration": 206,
    "start_time": "2022-02-13T15:48:02.527Z"
   },
   {
    "duration": 7457,
    "start_time": "2022-02-13T15:48:02.736Z"
   },
   {
    "duration": 201,
    "start_time": "2022-02-13T15:48:09.995Z"
   },
   {
    "duration": 196,
    "start_time": "2022-02-13T15:48:10.001Z"
   },
   {
    "duration": 190,
    "start_time": "2022-02-13T15:48:10.009Z"
   },
   {
    "duration": 184,
    "start_time": "2022-02-13T15:48:10.016Z"
   },
   {
    "duration": 180,
    "start_time": "2022-02-13T15:48:10.021Z"
   },
   {
    "duration": 174,
    "start_time": "2022-02-13T15:48:10.029Z"
   },
   {
    "duration": 168,
    "start_time": "2022-02-13T15:48:10.036Z"
   },
   {
    "duration": 163,
    "start_time": "2022-02-13T15:48:10.042Z"
   },
   {
    "duration": 158,
    "start_time": "2022-02-13T15:48:10.049Z"
   },
   {
    "duration": 153,
    "start_time": "2022-02-13T15:48:10.055Z"
   },
   {
    "duration": 149,
    "start_time": "2022-02-13T15:48:10.061Z"
   },
   {
    "duration": 144,
    "start_time": "2022-02-13T15:48:10.067Z"
   },
   {
    "duration": 139,
    "start_time": "2022-02-13T15:48:10.073Z"
   },
   {
    "duration": 133,
    "start_time": "2022-02-13T15:48:10.080Z"
   },
   {
    "duration": 130,
    "start_time": "2022-02-13T15:48:10.085Z"
   },
   {
    "duration": 125,
    "start_time": "2022-02-13T15:48:10.091Z"
   },
   {
    "duration": 99,
    "start_time": "2022-02-13T15:48:10.118Z"
   },
   {
    "duration": 94,
    "start_time": "2022-02-13T15:48:10.125Z"
   },
   {
    "duration": 89,
    "start_time": "2022-02-13T15:48:10.131Z"
   },
   {
    "duration": 84,
    "start_time": "2022-02-13T15:48:10.137Z"
   },
   {
    "duration": 79,
    "start_time": "2022-02-13T15:48:10.144Z"
   },
   {
    "duration": 74,
    "start_time": "2022-02-13T15:48:10.150Z"
   },
   {
    "duration": 70,
    "start_time": "2022-02-13T15:48:10.156Z"
   },
   {
    "duration": 65,
    "start_time": "2022-02-13T15:48:10.162Z"
   },
   {
    "duration": 62,
    "start_time": "2022-02-13T15:48:10.167Z"
   },
   {
    "duration": 56,
    "start_time": "2022-02-13T15:48:10.174Z"
   },
   {
    "duration": 52,
    "start_time": "2022-02-13T15:48:10.179Z"
   },
   {
    "duration": 18,
    "start_time": "2022-02-13T15:48:10.806Z"
   },
   {
    "duration": 8073,
    "start_time": "2022-02-13T15:48:12.836Z"
   },
   {
    "duration": 219,
    "start_time": "2022-02-13T15:48:20.693Z"
   },
   {
    "duration": 212,
    "start_time": "2022-02-13T15:48:20.702Z"
   },
   {
    "duration": 208,
    "start_time": "2022-02-13T15:48:20.708Z"
   },
   {
    "duration": 303,
    "start_time": "2022-02-13T15:48:25.894Z"
   },
   {
    "duration": 273,
    "start_time": "2022-02-13T15:48:35.547Z"
   },
   {
    "duration": 20,
    "start_time": "2022-02-13T15:48:49.314Z"
   },
   {
    "duration": 372,
    "start_time": "2022-02-13T15:48:58.935Z"
   },
   {
    "duration": 300,
    "start_time": "2022-02-13T15:49:23.682Z"
   },
   {
    "duration": 364,
    "start_time": "2022-02-13T15:49:29.394Z"
   },
   {
    "duration": 315,
    "start_time": "2022-02-13T15:49:32.926Z"
   },
   {
    "duration": 100,
    "start_time": "2022-02-13T15:49:39.971Z"
   },
   {
    "duration": 7,
    "start_time": "2022-02-13T15:49:44.046Z"
   },
   {
    "duration": 322,
    "start_time": "2022-02-13T15:50:05.614Z"
   },
   {
    "duration": 289,
    "start_time": "2022-02-13T15:50:49.506Z"
   },
   {
    "duration": 280,
    "start_time": "2022-02-13T15:50:59.322Z"
   },
   {
    "duration": 8733,
    "start_time": "2022-02-13T15:51:06.977Z"
   },
   {
    "duration": 107,
    "start_time": "2022-02-13T15:51:17.566Z"
   },
   {
    "duration": 19,
    "start_time": "2022-02-13T15:51:26.851Z"
   },
   {
    "duration": 16,
    "start_time": "2022-02-13T15:51:31.119Z"
   },
   {
    "duration": 120,
    "start_time": "2022-02-13T15:51:35.182Z"
   },
   {
    "duration": 91,
    "start_time": "2022-02-13T15:51:39.539Z"
   },
   {
    "duration": 20,
    "start_time": "2022-02-13T15:51:42.560Z"
   },
   {
    "duration": 172,
    "start_time": "2022-02-13T15:51:46.168Z"
   },
   {
    "duration": 119,
    "start_time": "2022-02-13T15:51:57.075Z"
   },
   {
    "duration": 58,
    "start_time": "2022-02-13T15:52:03.674Z"
   },
   {
    "duration": 13,
    "start_time": "2022-02-13T15:52:09.966Z"
   },
   {
    "duration": 80,
    "start_time": "2022-02-13T15:52:12.847Z"
   },
   {
    "duration": 40,
    "start_time": "2022-02-13T15:52:17.118Z"
   },
   {
    "duration": 62,
    "start_time": "2022-02-13T15:52:21.811Z"
   },
   {
    "duration": 40,
    "start_time": "2022-02-13T15:52:32.079Z"
   },
   {
    "duration": 9,
    "start_time": "2022-02-13T15:52:36.138Z"
   },
   {
    "duration": 22,
    "start_time": "2022-02-13T15:52:47.123Z"
   },
   {
    "duration": 33,
    "start_time": "2022-02-13T15:53:02.838Z"
   },
   {
    "duration": 19,
    "start_time": "2022-02-13T15:53:15.878Z"
   },
   {
    "duration": 9,
    "start_time": "2022-02-13T15:53:20.946Z"
   },
   {
    "duration": 24,
    "start_time": "2022-02-13T15:53:24.622Z"
   },
   {
    "duration": 6,
    "start_time": "2022-02-13T15:53:44.835Z"
   },
   {
    "duration": 16,
    "start_time": "2022-02-13T15:53:54.463Z"
   },
   {
    "duration": 18,
    "start_time": "2022-02-13T15:53:58.145Z"
   },
   {
    "duration": 26,
    "start_time": "2022-02-13T15:54:02.593Z"
   },
   {
    "duration": 24,
    "start_time": "2022-02-13T15:54:03.998Z"
   },
   {
    "duration": 44,
    "start_time": "2022-02-13T15:54:06.419Z"
   },
   {
    "duration": 6,
    "start_time": "2022-02-13T15:54:10.650Z"
   },
   {
    "duration": 23,
    "start_time": "2022-02-13T15:54:20.723Z"
   },
   {
    "duration": 20,
    "start_time": "2022-02-13T15:54:27.155Z"
   },
   {
    "duration": 5,
    "start_time": "2022-02-13T15:54:33.366Z"
   },
   {
    "duration": 42,
    "start_time": "2022-02-13T15:54:35.827Z"
   },
   {
    "duration": 8227,
    "start_time": "2022-02-13T15:54:49.906Z"
   },
   {
    "duration": 7456,
    "start_time": "2022-02-13T15:55:03.371Z"
   },
   {
    "duration": 28,
    "start_time": "2022-02-13T15:55:11.610Z"
   },
   {
    "duration": 4,
    "start_time": "2022-02-13T15:55:59.902Z"
   },
   {
    "duration": 587,
    "start_time": "2022-02-13T15:56:01.535Z"
   },
   {
    "duration": 5,
    "start_time": "2022-02-13T15:56:27.811Z"
   },
   {
    "duration": 736,
    "start_time": "2022-02-13T15:56:31.053Z"
   },
   {
    "duration": 599,
    "start_time": "2022-02-13T15:56:57.858Z"
   },
   {
    "duration": 602,
    "start_time": "2022-02-13T15:57:04.376Z"
   },
   {
    "duration": 939,
    "start_time": "2022-02-13T15:57:12.811Z"
   },
   {
    "duration": 818,
    "start_time": "2022-02-13T15:58:20.139Z"
   },
   {
    "duration": 28,
    "start_time": "2022-02-13T15:58:45.123Z"
   },
   {
    "duration": 4,
    "start_time": "2022-02-13T15:58:48.558Z"
   },
   {
    "duration": 19,
    "start_time": "2022-02-13T15:58:50.386Z"
   },
   {
    "duration": 4,
    "start_time": "2022-02-13T15:59:15.870Z"
   },
   {
    "duration": 78,
    "start_time": "2022-02-13T15:59:19.990Z"
   },
   {
    "duration": 28,
    "start_time": "2022-02-13T15:59:52.403Z"
   },
   {
    "duration": 55,
    "start_time": "2022-02-13T16:00:08.602Z"
   },
   {
    "duration": 22,
    "start_time": "2022-02-13T16:00:46.310Z"
   },
   {
    "duration": 28,
    "start_time": "2022-02-13T16:01:14.038Z"
   },
   {
    "duration": 80,
    "start_time": "2022-02-13T16:02:13.434Z"
   },
   {
    "duration": 80,
    "start_time": "2022-02-13T16:06:54.481Z"
   },
   {
    "duration": 27,
    "start_time": "2022-02-13T16:07:16.842Z"
   },
   {
    "duration": 6,
    "start_time": "2022-02-13T16:07:29.826Z"
   },
   {
    "duration": 99,
    "start_time": "2022-02-13T16:07:35.289Z"
   },
   {
    "duration": 5,
    "start_time": "2022-02-13T16:08:14.900Z"
   },
   {
    "duration": 118,
    "start_time": "2022-02-13T16:08:16.053Z"
   },
   {
    "duration": 1108,
    "start_time": "2022-02-13T16:09:34.073Z"
   },
   {
    "duration": 18,
    "start_time": "2022-02-13T16:09:35.185Z"
   },
   {
    "duration": 259,
    "start_time": "2022-02-13T16:09:35.223Z"
   },
   {
    "duration": 252,
    "start_time": "2022-02-13T16:09:35.485Z"
   },
   {
    "duration": 352,
    "start_time": "2022-02-13T16:09:35.739Z"
   },
   {
    "duration": 193,
    "start_time": "2022-02-13T16:09:36.093Z"
   },
   {
    "duration": 299,
    "start_time": "2022-02-13T16:09:36.288Z"
   },
   {
    "duration": 185,
    "start_time": "2022-02-13T16:09:36.591Z"
   },
   {
    "duration": 331,
    "start_time": "2022-02-13T16:09:36.780Z"
   },
   {
    "duration": 263,
    "start_time": "2022-02-13T16:09:37.113Z"
   },
   {
    "duration": 342,
    "start_time": "2022-02-13T16:09:37.379Z"
   },
   {
    "duration": 274,
    "start_time": "2022-02-13T16:09:37.724Z"
   },
   {
    "duration": 298,
    "start_time": "2022-02-13T16:09:38.002Z"
   },
   {
    "duration": 107,
    "start_time": "2022-02-13T16:09:38.302Z"
   },
   {
    "duration": 244,
    "start_time": "2022-02-13T16:09:38.412Z"
   },
   {
    "duration": 239,
    "start_time": "2022-02-13T16:09:38.658Z"
   },
   {
    "duration": 293,
    "start_time": "2022-02-13T16:09:38.899Z"
   },
   {
    "duration": 194,
    "start_time": "2022-02-13T16:09:39.195Z"
   },
   {
    "duration": 282,
    "start_time": "2022-02-13T16:09:39.392Z"
   },
   {
    "duration": 285,
    "start_time": "2022-02-13T16:09:39.676Z"
   },
   {
    "duration": 177,
    "start_time": "2022-02-13T16:09:39.964Z"
   },
   {
    "duration": 224,
    "start_time": "2022-02-13T16:09:40.144Z"
   },
   {
    "duration": 225,
    "start_time": "2022-02-13T16:09:40.373Z"
   },
   {
    "duration": 196,
    "start_time": "2022-02-13T16:09:40.602Z"
   },
   {
    "duration": 204,
    "start_time": "2022-02-13T16:09:40.801Z"
   },
   {
    "duration": 190,
    "start_time": "2022-02-13T16:09:41.008Z"
   },
   {
    "duration": 210,
    "start_time": "2022-02-13T16:09:41.201Z"
   },
   {
    "duration": 232,
    "start_time": "2022-02-13T16:09:41.413Z"
   },
   {
    "duration": 401,
    "start_time": "2022-02-13T16:09:41.649Z"
   },
   {
    "duration": 293,
    "start_time": "2022-02-13T16:09:42.053Z"
   },
   {
    "duration": 227,
    "start_time": "2022-02-13T16:09:42.349Z"
   },
   {
    "duration": 234,
    "start_time": "2022-02-13T16:09:42.579Z"
   },
   {
    "duration": 8949,
    "start_time": "2022-02-13T16:09:42.816Z"
   },
   {
    "duration": 212,
    "start_time": "2022-02-13T16:09:51.558Z"
   },
   {
    "duration": 205,
    "start_time": "2022-02-13T16:09:51.567Z"
   },
   {
    "duration": 202,
    "start_time": "2022-02-13T16:09:51.573Z"
   },
   {
    "duration": 196,
    "start_time": "2022-02-13T16:09:51.581Z"
   },
   {
    "duration": 192,
    "start_time": "2022-02-13T16:09:51.588Z"
   },
   {
    "duration": 188,
    "start_time": "2022-02-13T16:09:51.595Z"
   },
   {
    "duration": 154,
    "start_time": "2022-02-13T16:09:53.156Z"
   },
   {
    "duration": 21,
    "start_time": "2022-02-13T16:09:55.025Z"
   },
   {
    "duration": 33,
    "start_time": "2022-02-13T16:09:55.885Z"
   },
   {
    "duration": 153,
    "start_time": "2022-02-13T16:09:56.845Z"
   },
   {
    "duration": 90,
    "start_time": "2022-02-13T16:09:57.884Z"
   },
   {
    "duration": 16,
    "start_time": "2022-02-13T16:09:58.776Z"
   },
   {
    "duration": 149,
    "start_time": "2022-02-13T16:10:00.909Z"
   },
   {
    "duration": 93,
    "start_time": "2022-02-13T16:10:02.561Z"
   },
   {
    "duration": 91,
    "start_time": "2022-02-13T16:10:03.837Z"
   },
   {
    "duration": 20,
    "start_time": "2022-02-13T16:10:04.753Z"
   },
   {
    "duration": 135,
    "start_time": "2022-02-13T16:10:05.362Z"
   },
   {
    "duration": 56,
    "start_time": "2022-02-13T16:10:06.700Z"
   },
   {
    "duration": 79,
    "start_time": "2022-02-13T16:10:08.192Z"
   },
   {
    "duration": 31,
    "start_time": "2022-02-13T16:10:08.972Z"
   },
   {
    "duration": 23,
    "start_time": "2022-02-13T16:10:09.616Z"
   },
   {
    "duration": 9,
    "start_time": "2022-02-13T16:10:11.040Z"
   },
   {
    "duration": 7,
    "start_time": "2022-02-13T16:10:11.664Z"
   },
   {
    "duration": 24,
    "start_time": "2022-02-13T16:10:12.908Z"
   },
   {
    "duration": 6,
    "start_time": "2022-02-13T16:10:14.184Z"
   },
   {
    "duration": 21,
    "start_time": "2022-02-13T16:10:14.828Z"
   },
   {
    "duration": 24,
    "start_time": "2022-02-13T16:10:15.501Z"
   },
   {
    "duration": 48,
    "start_time": "2022-02-13T16:10:16.244Z"
   },
   {
    "duration": 20,
    "start_time": "2022-02-13T16:10:20.156Z"
   },
   {
    "duration": 19,
    "start_time": "2022-02-13T16:10:21.245Z"
   },
   {
    "duration": 5,
    "start_time": "2022-02-13T16:10:26.148Z"
   },
   {
    "duration": 44,
    "start_time": "2022-02-13T16:10:27.757Z"
   },
   {
    "duration": 24,
    "start_time": "2022-02-13T16:10:30.604Z"
   },
   {
    "duration": 8,
    "start_time": "2022-02-13T16:11:04.780Z"
   },
   {
    "duration": 113,
    "start_time": "2022-02-13T16:11:06.057Z"
   },
   {
    "duration": 108,
    "start_time": "2022-02-13T16:11:32.441Z"
   },
   {
    "duration": 4,
    "start_time": "2022-02-13T16:11:57.881Z"
   },
   {
    "duration": 115,
    "start_time": "2022-02-13T16:11:59.025Z"
   },
   {
    "duration": 19,
    "start_time": "2022-02-13T16:12:58.084Z"
   },
   {
    "duration": 260,
    "start_time": "2022-02-13T16:13:13.529Z"
   },
   {
    "duration": 30,
    "start_time": "2022-02-13T16:14:00.917Z"
   },
   {
    "duration": 22,
    "start_time": "2022-02-13T16:14:07.740Z"
   },
   {
    "duration": 107,
    "start_time": "2022-02-13T16:15:00.562Z"
   },
   {
    "duration": 1158,
    "start_time": "2022-02-13T16:15:15.381Z"
   },
   {
    "duration": 23,
    "start_time": "2022-02-13T16:15:16.543Z"
   },
   {
    "duration": 235,
    "start_time": "2022-02-13T16:15:16.570Z"
   },
   {
    "duration": 330,
    "start_time": "2022-02-13T16:15:16.809Z"
   },
   {
    "duration": 343,
    "start_time": "2022-02-13T16:15:17.142Z"
   },
   {
    "duration": 270,
    "start_time": "2022-02-13T16:15:17.489Z"
   },
   {
    "duration": 360,
    "start_time": "2022-02-13T16:15:17.774Z"
   },
   {
    "duration": 147,
    "start_time": "2022-02-13T16:15:18.138Z"
   },
   {
    "duration": 265,
    "start_time": "2022-02-13T16:15:18.289Z"
   },
   {
    "duration": 186,
    "start_time": "2022-02-13T16:15:18.558Z"
   },
   {
    "duration": 233,
    "start_time": "2022-02-13T16:15:18.747Z"
   },
   {
    "duration": 259,
    "start_time": "2022-02-13T16:15:18.984Z"
   },
   {
    "duration": 158,
    "start_time": "2022-02-13T16:15:19.246Z"
   },
   {
    "duration": 170,
    "start_time": "2022-02-13T16:15:19.407Z"
   },
   {
    "duration": 239,
    "start_time": "2022-02-13T16:15:19.581Z"
   },
   {
    "duration": 265,
    "start_time": "2022-02-13T16:15:19.822Z"
   },
   {
    "duration": 277,
    "start_time": "2022-02-13T16:15:20.090Z"
   },
   {
    "duration": 334,
    "start_time": "2022-02-13T16:15:20.370Z"
   },
   {
    "duration": 318,
    "start_time": "2022-02-13T16:15:20.707Z"
   },
   {
    "duration": 298,
    "start_time": "2022-02-13T16:15:21.028Z"
   },
   {
    "duration": 152,
    "start_time": "2022-02-13T16:15:21.329Z"
   },
   {
    "duration": 214,
    "start_time": "2022-02-13T16:15:21.485Z"
   },
   {
    "duration": 118,
    "start_time": "2022-02-13T16:15:21.706Z"
   },
   {
    "duration": 243,
    "start_time": "2022-02-13T16:15:21.828Z"
   },
   {
    "duration": 292,
    "start_time": "2022-02-13T16:15:22.074Z"
   },
   {
    "duration": 327,
    "start_time": "2022-02-13T16:15:22.368Z"
   },
   {
    "duration": 240,
    "start_time": "2022-02-13T16:15:22.699Z"
   },
   {
    "duration": 152,
    "start_time": "2022-02-13T16:15:22.942Z"
   },
   {
    "duration": 430,
    "start_time": "2022-02-13T16:15:23.097Z"
   },
   {
    "duration": 83,
    "start_time": "2022-02-13T16:15:23.531Z"
   },
   {
    "duration": 139,
    "start_time": "2022-02-13T16:15:23.617Z"
   },
   {
    "duration": 171,
    "start_time": "2022-02-13T16:15:23.759Z"
   },
   {
    "duration": 8494,
    "start_time": "2022-02-13T16:15:23.933Z"
   },
   {
    "duration": 229,
    "start_time": "2022-02-13T16:15:32.201Z"
   },
   {
    "duration": 214,
    "start_time": "2022-02-13T16:15:32.218Z"
   },
   {
    "duration": 208,
    "start_time": "2022-02-13T16:15:32.225Z"
   },
   {
    "duration": 202,
    "start_time": "2022-02-13T16:15:32.233Z"
   },
   {
    "duration": 196,
    "start_time": "2022-02-13T16:15:32.240Z"
   },
   {
    "duration": 108,
    "start_time": "2022-02-13T16:16:45.406Z"
   },
   {
    "duration": 15,
    "start_time": "2022-02-13T16:16:47.086Z"
   },
   {
    "duration": 17,
    "start_time": "2022-02-13T16:16:47.646Z"
   },
   {
    "duration": 84,
    "start_time": "2022-02-13T16:16:48.333Z"
   },
   {
    "duration": 85,
    "start_time": "2022-02-13T16:16:48.986Z"
   },
   {
    "duration": 14,
    "start_time": "2022-02-13T16:16:49.665Z"
   },
   {
    "duration": 125,
    "start_time": "2022-02-13T16:16:51.394Z"
   },
   {
    "duration": 78,
    "start_time": "2022-02-13T16:16:52.585Z"
   },
   {
    "duration": 56,
    "start_time": "2022-02-13T16:16:53.390Z"
   },
   {
    "duration": 11,
    "start_time": "2022-02-13T16:16:54.097Z"
   },
   {
    "duration": 86,
    "start_time": "2022-02-13T16:16:54.695Z"
   },
   {
    "duration": 37,
    "start_time": "2022-02-13T16:16:55.265Z"
   },
   {
    "duration": 36,
    "start_time": "2022-02-13T16:16:56.841Z"
   },
   {
    "duration": 23,
    "start_time": "2022-02-13T16:16:57.574Z"
   },
   {
    "duration": 23,
    "start_time": "2022-02-13T16:16:58.282Z"
   },
   {
    "duration": 19,
    "start_time": "2022-02-13T16:16:59.826Z"
   },
   {
    "duration": 6,
    "start_time": "2022-02-13T16:17:01.053Z"
   },
   {
    "duration": 18,
    "start_time": "2022-02-13T16:17:02.413Z"
   },
   {
    "duration": 6,
    "start_time": "2022-02-13T16:17:03.938Z"
   },
   {
    "duration": 18,
    "start_time": "2022-02-13T16:17:04.714Z"
   },
   {
    "duration": 22,
    "start_time": "2022-02-13T16:17:05.385Z"
   },
   {
    "duration": 43,
    "start_time": "2022-02-13T16:17:06.141Z"
   },
   {
    "duration": 18,
    "start_time": "2022-02-13T16:17:09.410Z"
   },
   {
    "duration": 25,
    "start_time": "2022-02-13T16:17:10.434Z"
   },
   {
    "duration": 5,
    "start_time": "2022-02-13T16:17:13.726Z"
   },
   {
    "duration": 27,
    "start_time": "2022-02-13T16:17:15.114Z"
   },
   {
    "duration": 20,
    "start_time": "2022-02-13T16:17:20.269Z"
   },
   {
    "duration": 5,
    "start_time": "2022-02-13T16:17:33.619Z"
   },
   {
    "duration": 115,
    "start_time": "2022-02-13T16:18:59.686Z"
   },
   {
    "duration": 8,
    "start_time": "2022-02-13T16:21:40.474Z"
   },
   {
    "duration": 41,
    "start_time": "2022-02-13T16:21:46.702Z"
   },
   {
    "duration": 303,
    "start_time": "2022-02-13T16:27:54.488Z"
   },
   {
    "duration": 31,
    "start_time": "2022-02-13T16:28:05.922Z"
   },
   {
    "duration": 8153,
    "start_time": "2022-02-13T16:29:11.313Z"
   },
   {
    "duration": 8159,
    "start_time": "2022-02-13T16:29:30.414Z"
   },
   {
    "duration": 7910,
    "start_time": "2022-02-13T16:30:27.414Z"
   },
   {
    "duration": 43,
    "start_time": "2022-02-13T16:30:46.107Z"
   },
   {
    "duration": 29,
    "start_time": "2022-02-13T16:31:20.513Z"
   },
   {
    "duration": 29,
    "start_time": "2022-02-13T16:31:53.006Z"
   },
   {
    "duration": 37,
    "start_time": "2022-02-13T16:32:36.130Z"
   },
   {
    "duration": 44,
    "start_time": "2022-02-13T16:35:36.270Z"
   },
   {
    "duration": 87,
    "start_time": "2022-02-13T16:36:01.462Z"
   },
   {
    "duration": 78,
    "start_time": "2022-02-13T16:36:12.069Z"
   },
   {
    "duration": 28,
    "start_time": "2022-02-13T16:36:31.314Z"
   },
   {
    "duration": 93,
    "start_time": "2022-02-13T16:38:06.414Z"
   },
   {
    "duration": 33,
    "start_time": "2022-02-13T16:38:10.465Z"
   },
   {
    "duration": 36,
    "start_time": "2022-02-13T16:38:34.813Z"
   },
   {
    "duration": 38,
    "start_time": "2022-02-13T16:38:49.103Z"
   },
   {
    "duration": 28,
    "start_time": "2022-02-13T16:39:21.858Z"
   },
   {
    "duration": 31,
    "start_time": "2022-02-13T16:39:40.606Z"
   },
   {
    "duration": 45,
    "start_time": "2022-02-13T16:40:18.834Z"
   },
   {
    "duration": 35,
    "start_time": "2022-02-13T16:40:38.630Z"
   },
   {
    "duration": 34,
    "start_time": "2022-02-13T16:40:50.838Z"
   },
   {
    "duration": 42,
    "start_time": "2022-02-13T16:41:42.795Z"
   },
   {
    "duration": 29,
    "start_time": "2022-02-13T16:41:49.643Z"
   },
   {
    "duration": 29,
    "start_time": "2022-02-13T16:41:53.815Z"
   },
   {
    "duration": 31,
    "start_time": "2022-02-13T16:42:09.497Z"
   },
   {
    "duration": 29,
    "start_time": "2022-02-13T16:42:39.322Z"
   },
   {
    "duration": 48,
    "start_time": "2022-02-13T16:43:23.842Z"
   },
   {
    "duration": 14,
    "start_time": "2022-02-13T16:45:26.505Z"
   },
   {
    "duration": 13,
    "start_time": "2022-02-13T16:45:42.842Z"
   },
   {
    "duration": 13,
    "start_time": "2022-02-13T16:48:33.667Z"
   },
   {
    "duration": 55,
    "start_time": "2022-02-13T16:51:09.514Z"
   },
   {
    "duration": 10,
    "start_time": "2022-02-13T16:53:48.906Z"
   },
   {
    "duration": 15,
    "start_time": "2022-02-13T16:54:15.266Z"
   },
   {
    "duration": 45,
    "start_time": "2022-02-13T16:55:45.827Z"
   },
   {
    "duration": 33,
    "start_time": "2022-02-13T16:56:29.738Z"
   },
   {
    "duration": 43,
    "start_time": "2022-02-13T16:57:52.630Z"
   },
   {
    "duration": 51,
    "start_time": "2022-02-13T16:58:14.937Z"
   },
   {
    "duration": 32,
    "start_time": "2022-02-13T16:58:29.902Z"
   },
   {
    "duration": 32,
    "start_time": "2022-02-13T16:58:57.310Z"
   },
   {
    "duration": 60,
    "start_time": "2022-02-13T16:58:58.119Z"
   },
   {
    "duration": 31,
    "start_time": "2022-02-13T17:02:26.907Z"
   },
   {
    "duration": 35,
    "start_time": "2022-02-13T17:02:56.323Z"
   },
   {
    "duration": 37,
    "start_time": "2022-02-13T17:03:33.466Z"
   },
   {
    "duration": 28,
    "start_time": "2022-02-13T17:03:36.452Z"
   },
   {
    "duration": 212,
    "start_time": "2022-02-14T01:06:40.212Z"
   },
   {
    "duration": 214,
    "start_time": "2022-02-14T01:06:54.857Z"
   },
   {
    "duration": 599,
    "start_time": "2022-02-14T01:07:08.653Z"
   },
   {
    "duration": 9,
    "start_time": "2022-02-14T01:07:10.859Z"
   },
   {
    "duration": 10,
    "start_time": "2022-02-14T01:07:11.472Z"
   },
   {
    "duration": 50,
    "start_time": "2022-02-14T01:07:12.056Z"
   },
   {
    "duration": 49,
    "start_time": "2022-02-14T01:07:12.677Z"
   },
   {
    "duration": 9,
    "start_time": "2022-02-14T01:07:13.337Z"
   },
   {
    "duration": 80,
    "start_time": "2022-02-14T01:07:15.065Z"
   },
   {
    "duration": 41,
    "start_time": "2022-02-14T01:07:16.193Z"
   },
   {
    "duration": 32,
    "start_time": "2022-02-14T01:07:17.899Z"
   },
   {
    "duration": 7,
    "start_time": "2022-02-14T01:07:18.753Z"
   },
   {
    "duration": 50,
    "start_time": "2022-02-14T01:07:19.393Z"
   },
   {
    "duration": 23,
    "start_time": "2022-02-14T01:07:20.035Z"
   },
   {
    "duration": 23,
    "start_time": "2022-02-14T01:07:21.509Z"
   },
   {
    "duration": 13,
    "start_time": "2022-02-14T01:07:22.169Z"
   },
   {
    "duration": 12,
    "start_time": "2022-02-14T01:07:22.753Z"
   },
   {
    "duration": 6,
    "start_time": "2022-02-14T01:07:23.868Z"
   },
   {
    "duration": 4,
    "start_time": "2022-02-14T01:07:24.401Z"
   },
   {
    "duration": 13,
    "start_time": "2022-02-14T01:07:25.445Z"
   },
   {
    "duration": 4,
    "start_time": "2022-02-14T01:07:26.688Z"
   },
   {
    "duration": 13,
    "start_time": "2022-02-14T01:07:27.325Z"
   },
   {
    "duration": 14,
    "start_time": "2022-02-14T01:07:28.005Z"
   },
   {
    "duration": 24,
    "start_time": "2022-02-14T01:07:28.562Z"
   },
   {
    "duration": 10,
    "start_time": "2022-02-14T01:07:29.916Z"
   },
   {
    "duration": 11,
    "start_time": "2022-02-14T01:07:32.182Z"
   },
   {
    "duration": 3,
    "start_time": "2022-02-14T01:07:35.417Z"
   },
   {
    "duration": 198,
    "start_time": "2022-02-14T01:07:50.246Z"
   },
   {
    "duration": 242,
    "start_time": "2022-02-14T01:08:09.029Z"
   },
   {
    "duration": 194,
    "start_time": "2022-02-14T01:08:25.445Z"
   },
   {
    "duration": 12,
    "start_time": "2022-02-14T01:08:35.945Z"
   },
   {
    "duration": 183,
    "start_time": "2022-02-14T01:08:46.985Z"
   },
   {
    "duration": 22,
    "start_time": "2022-02-14T01:08:59.076Z"
   },
   {
    "duration": 177,
    "start_time": "2022-02-14T01:09:00.669Z"
   },
   {
    "duration": 605,
    "start_time": "2022-02-14T01:09:07.667Z"
   },
   {
    "duration": 8,
    "start_time": "2022-02-14T01:09:08.274Z"
   },
   {
    "duration": 10,
    "start_time": "2022-02-14T01:09:08.284Z"
   },
   {
    "duration": 52,
    "start_time": "2022-02-14T01:09:08.295Z"
   },
   {
    "duration": 49,
    "start_time": "2022-02-14T01:09:08.348Z"
   },
   {
    "duration": 10,
    "start_time": "2022-02-14T01:09:08.398Z"
   },
   {
    "duration": 82,
    "start_time": "2022-02-14T01:09:08.409Z"
   },
   {
    "duration": 50,
    "start_time": "2022-02-14T01:09:08.494Z"
   },
   {
    "duration": 37,
    "start_time": "2022-02-14T01:09:08.546Z"
   },
   {
    "duration": 7,
    "start_time": "2022-02-14T01:09:08.584Z"
   },
   {
    "duration": 60,
    "start_time": "2022-02-14T01:09:08.593Z"
   },
   {
    "duration": 19,
    "start_time": "2022-02-14T01:09:08.655Z"
   },
   {
    "duration": 23,
    "start_time": "2022-02-14T01:09:08.731Z"
   },
   {
    "duration": 13,
    "start_time": "2022-02-14T01:09:08.755Z"
   },
   {
    "duration": 11,
    "start_time": "2022-02-14T01:09:08.769Z"
   },
   {
    "duration": 6,
    "start_time": "2022-02-14T01:09:08.781Z"
   },
   {
    "duration": 4,
    "start_time": "2022-02-14T01:09:08.788Z"
   },
   {
    "duration": 41,
    "start_time": "2022-02-14T01:09:08.794Z"
   },
   {
    "duration": 3,
    "start_time": "2022-02-14T01:09:08.836Z"
   },
   {
    "duration": 17,
    "start_time": "2022-02-14T01:09:08.841Z"
   },
   {
    "duration": 16,
    "start_time": "2022-02-14T01:09:08.859Z"
   },
   {
    "duration": 64,
    "start_time": "2022-02-14T01:09:08.877Z"
   },
   {
    "duration": 10,
    "start_time": "2022-02-14T01:09:08.944Z"
   },
   {
    "duration": 11,
    "start_time": "2022-02-14T01:09:08.956Z"
   },
   {
    "duration": 3,
    "start_time": "2022-02-14T01:09:08.968Z"
   },
   {
    "duration": 64,
    "start_time": "2022-02-14T01:09:08.973Z"
   },
   {
    "duration": 14,
    "start_time": "2022-02-14T01:09:09.039Z"
   },
   {
    "duration": 6,
    "start_time": "2022-02-14T01:09:09.054Z"
   },
   {
    "duration": 105,
    "start_time": "2022-02-14T01:09:09.062Z"
   },
   {
    "duration": 16,
    "start_time": "2022-02-14T01:09:09.168Z"
   },
   {
    "duration": 66,
    "start_time": "2022-02-14T01:09:09.185Z"
   },
   {
    "duration": 30,
    "start_time": "2022-02-14T01:09:09.253Z"
   },
   {
    "duration": 45,
    "start_time": "2022-02-14T01:09:09.285Z"
   },
   {
    "duration": 20,
    "start_time": "2022-02-14T01:09:09.332Z"
   },
   {
    "duration": 17,
    "start_time": "2022-02-14T01:09:09.354Z"
   },
   {
    "duration": 16,
    "start_time": "2022-02-14T01:09:09.373Z"
   },
   {
    "duration": 64,
    "start_time": "2022-02-14T01:09:15.220Z"
   },
   {
    "duration": 10,
    "start_time": "2022-02-14T01:09:16.898Z"
   },
   {
    "duration": 9,
    "start_time": "2022-02-14T01:09:17.470Z"
   },
   {
    "duration": 51,
    "start_time": "2022-02-14T01:09:18.131Z"
   },
   {
    "duration": 48,
    "start_time": "2022-02-14T01:09:18.706Z"
   },
   {
    "duration": 11,
    "start_time": "2022-02-14T01:09:19.250Z"
   },
   {
    "duration": 77,
    "start_time": "2022-02-14T01:09:20.926Z"
   },
   {
    "duration": 39,
    "start_time": "2022-02-14T01:09:22.338Z"
   },
   {
    "duration": 31,
    "start_time": "2022-02-14T01:09:23.794Z"
   },
   {
    "duration": 8,
    "start_time": "2022-02-14T01:09:24.666Z"
   },
   {
    "duration": 49,
    "start_time": "2022-02-14T01:09:25.496Z"
   },
   {
    "duration": 22,
    "start_time": "2022-02-14T01:09:26.166Z"
   },
   {
    "duration": 23,
    "start_time": "2022-02-14T01:09:27.892Z"
   },
   {
    "duration": 13,
    "start_time": "2022-02-14T01:09:28.717Z"
   },
   {
    "duration": 12,
    "start_time": "2022-02-14T01:09:29.547Z"
   },
   {
    "duration": 5,
    "start_time": "2022-02-14T01:09:31.569Z"
   },
   {
    "duration": 4,
    "start_time": "2022-02-14T01:09:32.134Z"
   },
   {
    "duration": 12,
    "start_time": "2022-02-14T01:09:33.350Z"
   },
   {
    "duration": 4,
    "start_time": "2022-02-14T01:09:34.932Z"
   },
   {
    "duration": 12,
    "start_time": "2022-02-14T01:09:35.690Z"
   },
   {
    "duration": 14,
    "start_time": "2022-02-14T01:09:37.902Z"
   },
   {
    "duration": 22,
    "start_time": "2022-02-14T01:09:38.692Z"
   },
   {
    "duration": 11,
    "start_time": "2022-02-14T01:09:41.754Z"
   },
   {
    "duration": 10,
    "start_time": "2022-02-14T01:09:55.034Z"
   },
   {
    "duration": 10,
    "start_time": "2022-02-14T01:10:09.626Z"
   },
   {
    "duration": 236,
    "start_time": "2022-02-14T01:11:09.430Z"
   },
   {
    "duration": 11,
    "start_time": "2022-02-14T01:11:17.681Z"
   },
   {
    "duration": 9,
    "start_time": "2022-02-14T01:11:38.722Z"
   },
   {
    "duration": 11,
    "start_time": "2022-02-14T01:12:00.963Z"
   },
   {
    "duration": 12,
    "start_time": "2022-02-14T01:12:05.442Z"
   },
   {
    "duration": 3,
    "start_time": "2022-02-14T01:12:09.098Z"
   },
   {
    "duration": 16,
    "start_time": "2022-02-14T01:12:11.846Z"
   },
   {
    "duration": 13,
    "start_time": "2022-02-14T01:12:18.034Z"
   },
   {
    "duration": 18,
    "start_time": "2022-02-14T01:14:59.402Z"
   },
   {
    "duration": 18,
    "start_time": "2022-02-14T01:15:11.226Z"
   },
   {
    "duration": 8,
    "start_time": "2022-02-14T01:15:17.118Z"
   },
   {
    "duration": 605,
    "start_time": "2022-02-14T01:15:23.663Z"
   },
   {
    "duration": 10,
    "start_time": "2022-02-14T01:15:24.270Z"
   },
   {
    "duration": 9,
    "start_time": "2022-02-14T01:15:24.281Z"
   },
   {
    "duration": 71,
    "start_time": "2022-02-14T01:15:24.292Z"
   },
   {
    "duration": 50,
    "start_time": "2022-02-14T01:15:24.365Z"
   },
   {
    "duration": 24,
    "start_time": "2022-02-14T01:15:24.416Z"
   },
   {
    "duration": 95,
    "start_time": "2022-02-14T01:15:24.441Z"
   },
   {
    "duration": 39,
    "start_time": "2022-02-14T01:15:24.538Z"
   },
   {
    "duration": 52,
    "start_time": "2022-02-14T01:15:24.579Z"
   },
   {
    "duration": 7,
    "start_time": "2022-02-14T01:15:24.632Z"
   },
   {
    "duration": 51,
    "start_time": "2022-02-14T01:15:24.640Z"
   },
   {
    "duration": 40,
    "start_time": "2022-02-14T01:15:24.693Z"
   },
   {
    "duration": 22,
    "start_time": "2022-02-14T01:15:24.734Z"
   },
   {
    "duration": 20,
    "start_time": "2022-02-14T01:15:24.757Z"
   },
   {
    "duration": 11,
    "start_time": "2022-02-14T01:15:24.778Z"
   },
   {
    "duration": 6,
    "start_time": "2022-02-14T01:15:24.790Z"
   },
   {
    "duration": 3,
    "start_time": "2022-02-14T01:15:24.798Z"
   },
   {
    "duration": 39,
    "start_time": "2022-02-14T01:15:24.803Z"
   },
   {
    "duration": 3,
    "start_time": "2022-02-14T01:15:24.844Z"
   },
   {
    "duration": 13,
    "start_time": "2022-02-14T01:15:24.849Z"
   },
   {
    "duration": 14,
    "start_time": "2022-02-14T01:15:24.864Z"
   },
   {
    "duration": 65,
    "start_time": "2022-02-14T01:15:24.880Z"
   },
   {
    "duration": 10,
    "start_time": "2022-02-14T01:15:24.948Z"
   },
   {
    "duration": 13,
    "start_time": "2022-02-14T01:15:24.960Z"
   },
   {
    "duration": 4,
    "start_time": "2022-02-14T01:15:24.975Z"
   },
   {
    "duration": 18,
    "start_time": "2022-02-14T01:15:24.980Z"
   },
   {
    "duration": 41,
    "start_time": "2022-02-14T01:15:24.999Z"
   },
   {
    "duration": 4,
    "start_time": "2022-02-14T01:15:25.041Z"
   },
   {
    "duration": 56,
    "start_time": "2022-02-14T01:15:25.047Z"
   },
   {
    "duration": 39,
    "start_time": "2022-02-14T01:15:25.104Z"
   },
   {
    "duration": 29,
    "start_time": "2022-02-14T01:15:25.145Z"
   },
   {
    "duration": 64,
    "start_time": "2022-02-14T01:15:25.176Z"
   },
   {
    "duration": 22,
    "start_time": "2022-02-14T01:15:25.242Z"
   },
   {
    "duration": 18,
    "start_time": "2022-02-14T01:15:25.266Z"
   },
   {
    "duration": 46,
    "start_time": "2022-02-14T01:15:25.286Z"
   },
   {
    "duration": 14,
    "start_time": "2022-02-14T01:15:25.334Z"
   },
   {
    "duration": 61,
    "start_time": "2022-02-14T01:15:28.872Z"
   },
   {
    "duration": 9,
    "start_time": "2022-02-14T01:15:29.796Z"
   },
   {
    "duration": 11,
    "start_time": "2022-02-14T01:15:30.239Z"
   },
   {
    "duration": 51,
    "start_time": "2022-02-14T01:15:30.739Z"
   },
   {
    "duration": 52,
    "start_time": "2022-02-14T01:15:31.192Z"
   },
   {
    "duration": 12,
    "start_time": "2022-02-14T01:15:31.611Z"
   },
   {
    "duration": 75,
    "start_time": "2022-02-14T01:15:32.964Z"
   },
   {
    "duration": 40,
    "start_time": "2022-02-14T01:15:33.908Z"
   },
   {
    "duration": 33,
    "start_time": "2022-02-14T01:15:34.388Z"
   },
   {
    "duration": 8,
    "start_time": "2022-02-14T01:15:34.903Z"
   },
   {
    "duration": 50,
    "start_time": "2022-02-14T01:15:35.383Z"
   },
   {
    "duration": 20,
    "start_time": "2022-02-14T01:15:35.820Z"
   },
   {
    "duration": 23,
    "start_time": "2022-02-14T01:15:37.101Z"
   },
   {
    "duration": 21,
    "start_time": "2022-02-14T01:15:37.595Z"
   },
   {
    "duration": 12,
    "start_time": "2022-02-14T01:15:38.099Z"
   },
   {
    "duration": 6,
    "start_time": "2022-02-14T01:15:39.395Z"
   },
   {
    "duration": 4,
    "start_time": "2022-02-14T01:15:39.871Z"
   },
   {
    "duration": 13,
    "start_time": "2022-02-14T01:15:41.308Z"
   },
   {
    "duration": 9,
    "start_time": "2022-02-14T01:16:39.555Z"
   },
   {
    "duration": 4,
    "start_time": "2022-02-14T01:16:40.747Z"
   },
   {
    "duration": 4,
    "start_time": "2022-02-14T01:17:41.949Z"
   },
   {
    "duration": 11,
    "start_time": "2022-02-14T01:17:44.307Z"
   },
   {
    "duration": 11,
    "start_time": "2022-02-14T01:19:10.378Z"
   },
   {
    "duration": 4,
    "start_time": "2022-02-14T01:19:15.300Z"
   },
   {
    "duration": 12,
    "start_time": "2022-02-14T01:19:17.054Z"
   },
   {
    "duration": 13,
    "start_time": "2022-02-14T01:19:22.635Z"
   },
   {
    "duration": 23,
    "start_time": "2022-02-14T01:19:29.029Z"
   },
   {
    "duration": 26,
    "start_time": "2022-02-14T01:19:50.497Z"
   },
   {
    "duration": 10,
    "start_time": "2022-02-14T01:20:23.495Z"
   },
   {
    "duration": 11,
    "start_time": "2022-02-14T01:20:52.061Z"
   },
   {
    "duration": 3,
    "start_time": "2022-02-14T01:21:15.949Z"
   },
   {
    "duration": 15,
    "start_time": "2022-02-14T01:21:17.493Z"
   },
   {
    "duration": 15,
    "start_time": "2022-02-14T01:21:40.732Z"
   },
   {
    "duration": 12,
    "start_time": "2022-02-14T01:21:46.689Z"
   },
   {
    "duration": 3,
    "start_time": "2022-02-14T01:22:12.118Z"
   },
   {
    "duration": 57,
    "start_time": "2022-02-14T01:22:14.921Z"
   },
   {
    "duration": 9,
    "start_time": "2022-02-14T02:55:59.209Z"
   },
   {
    "duration": 63,
    "start_time": "2022-02-14T02:56:20.847Z"
   },
   {
    "duration": 63,
    "start_time": "2022-02-14T02:56:25.176Z"
   },
   {
    "duration": 12,
    "start_time": "2022-02-14T02:56:32.537Z"
   },
   {
    "duration": 10,
    "start_time": "2022-02-14T02:56:37.025Z"
   },
   {
    "duration": 13,
    "start_time": "2022-02-14T02:56:43.417Z"
   },
   {
    "duration": 64,
    "start_time": "2022-02-14T02:56:48.401Z"
   },
   {
    "duration": 17,
    "start_time": "2022-02-14T02:56:53.889Z"
   },
   {
    "duration": 12,
    "start_time": "2022-02-14T03:09:21.184Z"
   },
   {
    "duration": 65,
    "start_time": "2022-02-14T03:11:55.608Z"
   },
   {
    "duration": 10,
    "start_time": "2022-02-14T03:12:00.209Z"
   },
   {
    "duration": 4,
    "start_time": "2022-02-14T03:13:53.066Z"
   },
   {
    "duration": 225,
    "start_time": "2022-02-14T03:14:12.465Z"
   },
   {
    "duration": 8,
    "start_time": "2022-02-14T03:15:48.481Z"
   },
   {
    "duration": 6,
    "start_time": "2022-02-14T03:16:05.897Z"
   },
   {
    "duration": 13,
    "start_time": "2022-02-14T03:16:11.889Z"
   },
   {
    "duration": 6,
    "start_time": "2022-02-14T03:16:22.513Z"
   },
   {
    "duration": 7,
    "start_time": "2022-02-14T03:16:38.081Z"
   },
   {
    "duration": 5,
    "start_time": "2022-02-14T03:16:52.505Z"
   },
   {
    "duration": 4,
    "start_time": "2022-02-14T03:18:15.530Z"
   },
   {
    "duration": 6,
    "start_time": "2022-02-14T03:19:15.033Z"
   },
   {
    "duration": 6,
    "start_time": "2022-02-14T03:19:19.465Z"
   },
   {
    "duration": 54,
    "start_time": "2022-02-14T03:19:45.921Z"
   },
   {
    "duration": 69,
    "start_time": "2022-02-14T03:20:03.409Z"
   },
   {
    "duration": 6,
    "start_time": "2022-02-14T03:20:44.769Z"
   },
   {
    "duration": 6,
    "start_time": "2022-02-14T03:20:59.825Z"
   },
   {
    "duration": 4,
    "start_time": "2022-02-14T03:21:05.313Z"
   },
   {
    "duration": 5,
    "start_time": "2022-02-14T03:21:09.305Z"
   },
   {
    "duration": 4,
    "start_time": "2022-02-14T03:21:29.617Z"
   },
   {
    "duration": 4,
    "start_time": "2022-02-14T03:27:21.769Z"
   },
   {
    "duration": 4,
    "start_time": "2022-02-14T03:27:30.457Z"
   },
   {
    "duration": 4,
    "start_time": "2022-02-14T03:27:33.801Z"
   },
   {
    "duration": 4,
    "start_time": "2022-02-14T03:27:40.536Z"
   },
   {
    "duration": 17,
    "start_time": "2022-02-14T03:30:31.872Z"
   },
   {
    "duration": 20,
    "start_time": "2022-02-14T03:30:41.520Z"
   },
   {
    "duration": 13,
    "start_time": "2022-02-14T03:31:26.351Z"
   },
   {
    "duration": 5,
    "start_time": "2022-02-14T03:32:17.096Z"
   },
   {
    "duration": 6,
    "start_time": "2022-02-14T03:32:53.808Z"
   },
   {
    "duration": 6,
    "start_time": "2022-02-14T03:33:10.016Z"
   },
   {
    "duration": 8,
    "start_time": "2022-02-14T03:36:39.585Z"
   },
   {
    "duration": 10,
    "start_time": "2022-02-14T03:44:31.254Z"
   },
   {
    "duration": 14,
    "start_time": "2022-02-14T03:55:55.781Z"
   },
   {
    "duration": 183,
    "start_time": "2022-02-14T04:02:13.765Z"
   },
   {
    "duration": 52,
    "start_time": "2022-02-14T04:02:23.765Z"
   },
   {
    "duration": 50,
    "start_time": "2022-02-14T04:04:07.572Z"
   },
   {
    "duration": 12,
    "start_time": "2022-02-14T04:06:30.548Z"
   },
   {
    "duration": 52,
    "start_time": "2022-02-14T04:09:49.268Z"
   },
   {
    "duration": 52,
    "start_time": "2022-02-14T04:10:01.220Z"
   },
   {
    "duration": 10,
    "start_time": "2022-02-14T04:30:46.771Z"
   },
   {
    "duration": 9,
    "start_time": "2022-02-14T04:31:53.251Z"
   },
   {
    "duration": 58,
    "start_time": "2022-02-14T04:33:48.371Z"
   },
   {
    "duration": 39,
    "start_time": "2022-02-14T04:42:36.232Z"
   },
   {
    "duration": 8,
    "start_time": "2022-02-14T04:48:47.682Z"
   },
   {
    "duration": 10,
    "start_time": "2022-02-14T04:48:56.562Z"
   },
   {
    "duration": 7,
    "start_time": "2022-02-14T04:50:45.857Z"
   },
   {
    "duration": 5,
    "start_time": "2022-02-14T04:50:48.018Z"
   },
   {
    "duration": 623,
    "start_time": "2022-02-14T04:51:16.435Z"
   },
   {
    "duration": 10,
    "start_time": "2022-02-14T04:51:17.060Z"
   },
   {
    "duration": 7,
    "start_time": "2022-02-14T04:51:17.072Z"
   },
   {
    "duration": 10,
    "start_time": "2022-02-14T04:51:17.081Z"
   },
   {
    "duration": 41,
    "start_time": "2022-02-14T04:51:17.093Z"
   },
   {
    "duration": 52,
    "start_time": "2022-02-14T04:51:17.136Z"
   },
   {
    "duration": 68,
    "start_time": "2022-02-14T04:51:17.190Z"
   },
   {
    "duration": 9,
    "start_time": "2022-02-14T04:51:17.260Z"
   },
   {
    "duration": 94,
    "start_time": "2022-02-14T04:51:17.271Z"
   },
   {
    "duration": 20,
    "start_time": "2022-02-14T04:51:17.366Z"
   },
   {
    "duration": 23,
    "start_time": "2022-02-14T04:51:17.388Z"
   },
   {
    "duration": 20,
    "start_time": "2022-02-14T04:51:17.413Z"
   },
   {
    "duration": 32,
    "start_time": "2022-02-14T04:51:17.435Z"
   },
   {
    "duration": 7,
    "start_time": "2022-02-14T04:51:17.469Z"
   },
   {
    "duration": 82,
    "start_time": "2022-02-14T04:51:17.477Z"
   },
   {
    "duration": 21,
    "start_time": "2022-02-14T04:51:17.560Z"
   },
   {
    "duration": 21,
    "start_time": "2022-02-14T04:51:17.582Z"
   },
   {
    "duration": 39,
    "start_time": "2022-02-14T04:51:17.605Z"
   },
   {
    "duration": 11,
    "start_time": "2022-02-14T04:51:17.646Z"
   },
   {
    "duration": 8,
    "start_time": "2022-02-14T04:51:17.659Z"
   },
   {
    "duration": 4,
    "start_time": "2022-02-14T04:51:17.668Z"
   },
   {
    "duration": 18,
    "start_time": "2022-02-14T04:51:17.673Z"
   },
   {
    "duration": 4,
    "start_time": "2022-02-14T04:51:17.694Z"
   },
   {
    "duration": 14,
    "start_time": "2022-02-14T04:51:17.729Z"
   },
   {
    "duration": 16,
    "start_time": "2022-02-14T04:51:17.745Z"
   },
   {
    "duration": 25,
    "start_time": "2022-02-14T04:51:17.762Z"
   },
   {
    "duration": 11,
    "start_time": "2022-02-14T04:51:17.788Z"
   },
   {
    "duration": 39,
    "start_time": "2022-02-14T04:51:17.801Z"
   },
   {
    "duration": 5,
    "start_time": "2022-02-14T04:51:17.842Z"
   },
   {
    "duration": 17,
    "start_time": "2022-02-14T04:51:17.848Z"
   },
   {
    "duration": 12,
    "start_time": "2022-02-14T04:51:17.867Z"
   },
   {
    "duration": 14,
    "start_time": "2022-02-14T04:51:17.881Z"
   },
   {
    "duration": 74,
    "start_time": "2022-02-14T04:51:17.896Z"
   },
   {
    "duration": 16,
    "start_time": "2022-02-14T04:51:17.972Z"
   },
   {
    "duration": 47,
    "start_time": "2022-02-14T04:51:17.990Z"
   },
   {
    "duration": 30,
    "start_time": "2022-02-14T04:51:18.039Z"
   },
   {
    "duration": 21,
    "start_time": "2022-02-14T04:51:18.071Z"
   },
   {
    "duration": 44,
    "start_time": "2022-02-14T04:51:18.094Z"
   },
   {
    "duration": 17,
    "start_time": "2022-02-14T04:51:18.140Z"
   },
   {
    "duration": 15,
    "start_time": "2022-02-14T04:51:18.159Z"
   },
   {
    "duration": 62,
    "start_time": "2022-02-14T04:51:21.528Z"
   },
   {
    "duration": 10,
    "start_time": "2022-02-14T04:51:23.615Z"
   },
   {
    "duration": 5,
    "start_time": "2022-02-14T04:51:24.335Z"
   },
   {
    "duration": 8,
    "start_time": "2022-02-14T04:51:25.048Z"
   },
   {
    "duration": 10,
    "start_time": "2022-02-14T04:51:26.448Z"
   },
   {
    "duration": 51,
    "start_time": "2022-02-14T04:51:27.607Z"
   },
   {
    "duration": 51,
    "start_time": "2022-02-14T04:51:28.725Z"
   },
   {
    "duration": 10,
    "start_time": "2022-02-14T04:51:29.200Z"
   },
   {
    "duration": 80,
    "start_time": "2022-02-14T04:51:32.888Z"
   },
   {
    "duration": 22,
    "start_time": "2022-02-14T04:51:40.977Z"
   },
   {
    "duration": 20,
    "start_time": "2022-02-14T04:51:53.049Z"
   },
   {
    "duration": 6,
    "start_time": "2022-02-14T04:58:01.936Z"
   },
   {
    "duration": 6,
    "start_time": "2022-02-14T04:58:16.831Z"
   },
   {
    "duration": 7,
    "start_time": "2022-02-14T05:07:29.976Z"
   },
   {
    "duration": 28,
    "start_time": "2022-02-14T05:07:40.334Z"
   },
   {
    "duration": 4,
    "start_time": "2022-02-14T05:15:02.864Z"
   },
   {
    "duration": 3,
    "start_time": "2022-02-14T05:15:26.070Z"
   },
   {
    "duration": 3,
    "start_time": "2022-02-14T05:16:57.637Z"
   },
   {
    "duration": 4,
    "start_time": "2022-02-14T05:17:07.991Z"
   },
   {
    "duration": 4,
    "start_time": "2022-02-14T05:18:40.830Z"
   },
   {
    "duration": 3,
    "start_time": "2022-02-14T05:19:21.927Z"
   },
   {
    "duration": 4,
    "start_time": "2022-02-14T05:25:04.982Z"
   },
   {
    "duration": 4,
    "start_time": "2022-02-14T05:25:08.510Z"
   },
   {
    "duration": 27,
    "start_time": "2022-02-14T05:27:29.694Z"
   },
   {
    "duration": 27,
    "start_time": "2022-02-14T05:27:50.479Z"
   },
   {
    "duration": 9,
    "start_time": "2022-02-14T05:28:13.415Z"
   },
   {
    "duration": 24,
    "start_time": "2022-02-14T05:28:26.015Z"
   },
   {
    "duration": 22,
    "start_time": "2022-02-14T05:30:46.094Z"
   },
   {
    "duration": 227,
    "start_time": "2022-02-14T05:31:13.647Z"
   },
   {
    "duration": 184,
    "start_time": "2022-02-14T05:31:26.510Z"
   },
   {
    "duration": 174,
    "start_time": "2022-02-14T05:31:35.318Z"
   },
   {
    "duration": 188,
    "start_time": "2022-02-14T05:31:38.895Z"
   },
   {
    "duration": 8,
    "start_time": "2022-02-14T05:31:59.758Z"
   },
   {
    "duration": 31,
    "start_time": "2022-02-14T05:33:29.926Z"
   },
   {
    "duration": 14,
    "start_time": "2022-02-14T05:36:56.174Z"
   },
   {
    "duration": 14,
    "start_time": "2022-02-14T05:37:07.990Z"
   },
   {
    "duration": 7,
    "start_time": "2022-02-14T05:38:43.158Z"
   },
   {
    "duration": 58,
    "start_time": "2022-02-14T05:39:31.670Z"
   },
   {
    "duration": 59,
    "start_time": "2022-02-14T05:39:44.413Z"
   },
   {
    "duration": 99,
    "start_time": "2022-02-14T05:40:14.582Z"
   },
   {
    "duration": 59,
    "start_time": "2022-02-14T05:40:31.421Z"
   },
   {
    "duration": 63,
    "start_time": "2022-02-14T05:40:36.233Z"
   },
   {
    "duration": 9,
    "start_time": "2022-02-14T05:40:43.942Z"
   },
   {
    "duration": 64,
    "start_time": "2022-02-14T05:40:45.062Z"
   },
   {
    "duration": 6,
    "start_time": "2022-02-14T05:40:51.510Z"
   },
   {
    "duration": 6,
    "start_time": "2022-02-14T05:41:04.365Z"
   },
   {
    "duration": 10,
    "start_time": "2022-02-14T05:41:39.126Z"
   },
   {
    "duration": 9,
    "start_time": "2022-02-14T05:42:57.170Z"
   },
   {
    "duration": 21,
    "start_time": "2022-02-14T05:49:15.669Z"
   },
   {
    "duration": 24,
    "start_time": "2022-02-14T05:54:28.669Z"
   },
   {
    "duration": 195,
    "start_time": "2022-02-14T05:54:55.822Z"
   },
   {
    "duration": 1321,
    "start_time": "2022-02-14T05:55:02.221Z"
   },
   {
    "duration": 1223,
    "start_time": "2022-02-14T05:55:19.909Z"
   },
   {
    "duration": 37,
    "start_time": "2022-02-14T05:55:36.676Z"
   },
   {
    "duration": 23,
    "start_time": "2022-02-14T05:56:13.356Z"
   },
   {
    "duration": 22,
    "start_time": "2022-02-14T05:56:21.836Z"
   },
   {
    "duration": 23,
    "start_time": "2022-02-14T05:56:56.220Z"
   },
   {
    "duration": 24,
    "start_time": "2022-02-14T05:57:05.836Z"
   },
   {
    "duration": 22,
    "start_time": "2022-02-14T05:57:25.548Z"
   },
   {
    "duration": 24,
    "start_time": "2022-02-14T05:57:44.228Z"
   },
   {
    "duration": 24,
    "start_time": "2022-02-14T05:58:07.156Z"
   },
   {
    "duration": 21,
    "start_time": "2022-02-14T05:58:28.284Z"
   },
   {
    "duration": 21,
    "start_time": "2022-02-14T05:58:34.868Z"
   },
   {
    "duration": 59,
    "start_time": "2022-02-14T05:58:42.765Z"
   },
   {
    "duration": 22,
    "start_time": "2022-02-14T05:59:22.396Z"
   },
   {
    "duration": 34,
    "start_time": "2022-02-14T05:59:51.195Z"
   },
   {
    "duration": 36,
    "start_time": "2022-02-14T06:00:03.820Z"
   },
   {
    "duration": 35,
    "start_time": "2022-02-14T06:00:14.140Z"
   },
   {
    "duration": 23,
    "start_time": "2022-02-14T06:00:32.107Z"
   },
   {
    "duration": 61,
    "start_time": "2022-02-14T06:00:53.275Z"
   },
   {
    "duration": 22,
    "start_time": "2022-02-14T06:01:01.404Z"
   },
   {
    "duration": 22,
    "start_time": "2022-02-14T06:01:09.652Z"
   },
   {
    "duration": 25,
    "start_time": "2022-02-14T06:01:12.853Z"
   },
   {
    "duration": 24,
    "start_time": "2022-02-14T06:01:16.203Z"
   },
   {
    "duration": 24,
    "start_time": "2022-02-14T06:02:00.189Z"
   },
   {
    "duration": 51,
    "start_time": "2022-02-14T06:07:27.331Z"
   },
   {
    "duration": 11,
    "start_time": "2022-02-14T06:57:06.536Z"
   },
   {
    "duration": 12,
    "start_time": "2022-02-14T06:57:24.518Z"
   },
   {
    "duration": 9,
    "start_time": "2022-02-14T06:59:13.383Z"
   },
   {
    "duration": 5,
    "start_time": "2022-02-14T06:59:40.053Z"
   },
   {
    "duration": 20,
    "start_time": "2022-02-14T07:03:04.511Z"
   },
   {
    "duration": 20,
    "start_time": "2022-02-14T07:03:39.751Z"
   },
   {
    "duration": 23,
    "start_time": "2022-02-14T07:10:08.197Z"
   },
   {
    "duration": 25,
    "start_time": "2022-02-14T07:10:46.062Z"
   },
   {
    "duration": 24,
    "start_time": "2022-02-14T07:10:52.461Z"
   },
   {
    "duration": 23,
    "start_time": "2022-02-14T07:10:57.229Z"
   },
   {
    "duration": 23,
    "start_time": "2022-02-14T07:11:48.005Z"
   },
   {
    "duration": 21,
    "start_time": "2022-02-14T07:12:55.766Z"
   },
   {
    "duration": 24,
    "start_time": "2022-02-14T07:18:40.972Z"
   },
   {
    "duration": 4,
    "start_time": "2022-02-14T07:18:50.275Z"
   },
   {
    "duration": 4,
    "start_time": "2022-02-14T07:20:30.670Z"
   },
   {
    "duration": 59,
    "start_time": "2022-02-14T07:21:08.835Z"
   },
   {
    "duration": 63,
    "start_time": "2022-02-14T07:21:41.684Z"
   },
   {
    "duration": 5,
    "start_time": "2022-02-14T07:21:56.301Z"
   },
   {
    "duration": 4,
    "start_time": "2022-02-14T07:22:03.348Z"
   },
   {
    "duration": 4,
    "start_time": "2022-02-14T07:22:14.964Z"
   },
   {
    "duration": 4,
    "start_time": "2022-02-14T07:22:35.460Z"
   },
   {
    "duration": 5,
    "start_time": "2022-02-14T07:22:50.907Z"
   },
   {
    "duration": 5,
    "start_time": "2022-02-14T07:23:07.795Z"
   },
   {
    "duration": 5,
    "start_time": "2022-02-14T07:23:26.371Z"
   },
   {
    "duration": 6,
    "start_time": "2022-02-14T07:24:43.804Z"
   },
   {
    "duration": 4,
    "start_time": "2022-02-14T07:24:56.652Z"
   },
   {
    "duration": 5,
    "start_time": "2022-02-14T07:26:09.011Z"
   },
   {
    "duration": 4,
    "start_time": "2022-02-14T07:26:15.508Z"
   },
   {
    "duration": 4,
    "start_time": "2022-02-14T07:27:21.411Z"
   },
   {
    "duration": 4,
    "start_time": "2022-02-14T07:27:59.540Z"
   },
   {
    "duration": 4,
    "start_time": "2022-02-14T07:28:18.476Z"
   },
   {
    "duration": 5,
    "start_time": "2022-02-14T07:28:27.555Z"
   },
   {
    "duration": 64,
    "start_time": "2022-02-14T07:30:28.579Z"
   },
   {
    "duration": 20,
    "start_time": "2022-02-14T07:30:33.891Z"
   },
   {
    "duration": 7,
    "start_time": "2022-02-14T07:30:43.252Z"
   },
   {
    "duration": 6,
    "start_time": "2022-02-14T07:30:49.611Z"
   },
   {
    "duration": 8,
    "start_time": "2022-02-14T07:31:10.315Z"
   },
   {
    "duration": 6,
    "start_time": "2022-02-14T07:31:29.992Z"
   },
   {
    "duration": 7,
    "start_time": "2022-02-14T07:31:59.434Z"
   },
   {
    "duration": 8,
    "start_time": "2022-02-14T07:32:08.920Z"
   },
   {
    "duration": 4,
    "start_time": "2022-02-14T07:32:21.658Z"
   },
   {
    "duration": 4,
    "start_time": "2022-02-14T07:32:34.642Z"
   },
   {
    "duration": 3,
    "start_time": "2022-02-14T07:32:56.450Z"
   },
   {
    "duration": 7,
    "start_time": "2022-02-14T07:33:36.818Z"
   },
   {
    "duration": 97,
    "start_time": "2022-02-14T07:34:27.107Z"
   },
   {
    "duration": 60,
    "start_time": "2022-02-14T07:34:32.378Z"
   },
   {
    "duration": 9,
    "start_time": "2022-02-14T07:34:52.955Z"
   },
   {
    "duration": 9,
    "start_time": "2022-02-14T07:35:14.731Z"
   },
   {
    "duration": 59,
    "start_time": "2022-02-14T07:35:22.666Z"
   },
   {
    "duration": 7,
    "start_time": "2022-02-14T07:35:26.435Z"
   },
   {
    "duration": 6,
    "start_time": "2022-02-14T07:35:47.764Z"
   },
   {
    "duration": 7,
    "start_time": "2022-02-14T07:36:14.434Z"
   },
   {
    "duration": 6,
    "start_time": "2022-02-14T07:37:12.617Z"
   },
   {
    "duration": 54,
    "start_time": "2022-02-14T07:40:14.547Z"
   },
   {
    "duration": 22,
    "start_time": "2022-02-14T07:46:12.339Z"
   },
   {
    "duration": 24,
    "start_time": "2022-02-14T07:46:29.330Z"
   },
   {
    "duration": 22,
    "start_time": "2022-02-14T07:46:38.034Z"
   },
   {
    "duration": 23,
    "start_time": "2022-02-14T07:48:36.410Z"
   },
   {
    "duration": 22,
    "start_time": "2022-02-14T07:49:15.978Z"
   },
   {
    "duration": 13,
    "start_time": "2022-02-14T07:53:01.050Z"
   },
   {
    "duration": 4,
    "start_time": "2022-02-14T07:57:49.649Z"
   },
   {
    "duration": 13,
    "start_time": "2022-02-14T07:59:08.641Z"
   },
   {
    "duration": 13,
    "start_time": "2022-02-14T07:59:17.240Z"
   },
   {
    "duration": 13,
    "start_time": "2022-02-14T07:59:57.664Z"
   },
   {
    "duration": 23,
    "start_time": "2022-02-14T08:01:51.777Z"
   },
   {
    "duration": 34,
    "start_time": "2022-02-14T08:08:09.576Z"
   },
   {
    "duration": 700,
    "start_time": "2022-02-14T08:09:03.600Z"
   },
   {
    "duration": 37,
    "start_time": "2022-02-14T08:09:09.223Z"
   },
   {
    "duration": 28,
    "start_time": "2022-02-14T08:11:45.120Z"
   },
   {
    "duration": 21,
    "start_time": "2022-02-14T08:12:09.698Z"
   },
   {
    "duration": 20,
    "start_time": "2022-02-14T08:12:23.688Z"
   },
   {
    "duration": 21,
    "start_time": "2022-02-14T08:12:36.976Z"
   },
   {
    "duration": 22,
    "start_time": "2022-02-14T08:12:50.577Z"
   },
   {
    "duration": 42,
    "start_time": "2022-02-14T08:13:06.680Z"
   },
   {
    "duration": 180,
    "start_time": "2022-02-14T08:14:29.833Z"
   },
   {
    "duration": 43,
    "start_time": "2022-02-14T08:15:08.760Z"
   },
   {
    "duration": 30,
    "start_time": "2022-02-14T08:15:23.088Z"
   },
   {
    "duration": 29,
    "start_time": "2022-02-14T08:15:49.172Z"
   },
   {
    "duration": 225,
    "start_time": "2022-02-14T08:17:00.681Z"
   },
   {
    "duration": 16,
    "start_time": "2022-02-14T08:17:56.879Z"
   },
   {
    "duration": 28,
    "start_time": "2022-02-14T08:18:25.296Z"
   },
   {
    "duration": 444,
    "start_time": "2022-02-14T08:20:19.744Z"
   },
   {
    "duration": 29,
    "start_time": "2022-02-14T08:20:24.623Z"
   },
   {
    "duration": 184,
    "start_time": "2022-02-14T08:25:57.368Z"
   },
   {
    "duration": 16,
    "start_time": "2022-02-14T08:28:02.919Z"
   },
   {
    "duration": 16,
    "start_time": "2022-02-14T08:28:42.487Z"
   },
   {
    "duration": 44,
    "start_time": "2022-02-14T08:28:55.727Z"
   },
   {
    "duration": 4284,
    "start_time": "2022-02-14T08:29:07.376Z"
   },
   {
    "duration": 15,
    "start_time": "2022-02-14T08:29:18.912Z"
   },
   {
    "duration": 28,
    "start_time": "2022-02-14T08:29:54.630Z"
   },
   {
    "duration": 18,
    "start_time": "2022-02-14T08:30:45.575Z"
   },
   {
    "duration": 35,
    "start_time": "2022-02-14T08:31:08.222Z"
   },
   {
    "duration": 219,
    "start_time": "2022-02-14T08:32:21.712Z"
   },
   {
    "duration": 15,
    "start_time": "2022-02-14T08:32:48.623Z"
   },
   {
    "duration": 23,
    "start_time": "2022-02-14T08:39:54.694Z"
   },
   {
    "duration": 26,
    "start_time": "2022-02-14T08:40:24.166Z"
   },
   {
    "duration": 26,
    "start_time": "2022-02-14T08:40:29.206Z"
   },
   {
    "duration": 26,
    "start_time": "2022-02-14T08:40:36.038Z"
   },
   {
    "duration": 25,
    "start_time": "2022-02-14T08:41:50.111Z"
   },
   {
    "duration": 26,
    "start_time": "2022-02-14T08:42:52.350Z"
   },
   {
    "duration": 20,
    "start_time": "2022-02-14T08:44:00.333Z"
   },
   {
    "duration": 11,
    "start_time": "2022-02-14T08:49:22.997Z"
   },
   {
    "duration": 10,
    "start_time": "2022-02-14T08:51:59.517Z"
   },
   {
    "duration": 3,
    "start_time": "2022-02-14T08:56:02.420Z"
   },
   {
    "duration": 3,
    "start_time": "2022-02-14T08:56:48.956Z"
   },
   {
    "duration": 17,
    "start_time": "2022-02-14T08:57:39.108Z"
   },
   {
    "duration": 4,
    "start_time": "2022-02-14T08:57:42.739Z"
   },
   {
    "duration": 16,
    "start_time": "2022-02-14T08:57:43.579Z"
   },
   {
    "duration": 641,
    "start_time": "2022-02-14T08:58:12.531Z"
   },
   {
    "duration": 9,
    "start_time": "2022-02-14T08:58:13.173Z"
   },
   {
    "duration": 7,
    "start_time": "2022-02-14T08:58:13.184Z"
   },
   {
    "duration": 10,
    "start_time": "2022-02-14T08:58:13.193Z"
   },
   {
    "duration": 31,
    "start_time": "2022-02-14T08:58:13.204Z"
   },
   {
    "duration": 52,
    "start_time": "2022-02-14T08:58:13.236Z"
   },
   {
    "duration": 68,
    "start_time": "2022-02-14T08:58:13.290Z"
   },
   {
    "duration": 10,
    "start_time": "2022-02-14T08:58:13.360Z"
   },
   {
    "duration": 93,
    "start_time": "2022-02-14T08:58:13.372Z"
   },
   {
    "duration": 20,
    "start_time": "2022-02-14T08:58:13.466Z"
   },
   {
    "duration": 21,
    "start_time": "2022-02-14T08:58:13.487Z"
   },
   {
    "duration": 24,
    "start_time": "2022-02-14T08:58:13.509Z"
   },
   {
    "duration": 7,
    "start_time": "2022-02-14T08:58:13.534Z"
   },
   {
    "duration": 4,
    "start_time": "2022-02-14T08:58:13.542Z"
   },
   {
    "duration": 25,
    "start_time": "2022-02-14T08:58:13.547Z"
   },
   {
    "duration": 5,
    "start_time": "2022-02-14T08:58:13.574Z"
   },
   {
    "duration": 13,
    "start_time": "2022-02-14T08:58:13.580Z"
   },
   {
    "duration": 41,
    "start_time": "2022-02-14T08:58:13.594Z"
   },
   {
    "duration": 23,
    "start_time": "2022-02-14T08:58:13.637Z"
   },
   {
    "duration": 11,
    "start_time": "2022-02-14T08:58:13.661Z"
   },
   {
    "duration": 75,
    "start_time": "2022-02-14T08:58:13.673Z"
   },
   {
    "duration": 11,
    "start_time": "2022-02-14T08:58:13.750Z"
   },
   {
    "duration": 8,
    "start_time": "2022-02-14T08:58:13.764Z"
   },
   {
    "duration": 4,
    "start_time": "2022-02-14T08:58:13.774Z"
   },
   {
    "duration": 23,
    "start_time": "2022-02-14T08:58:13.780Z"
   },
   {
    "duration": 46,
    "start_time": "2022-02-14T08:58:13.805Z"
   },
   {
    "duration": 4,
    "start_time": "2022-02-14T08:58:13.853Z"
   },
   {
    "duration": 9,
    "start_time": "2022-02-14T08:58:13.859Z"
   },
   {
    "duration": 22,
    "start_time": "2022-02-14T08:58:13.870Z"
   },
   {
    "duration": 37,
    "start_time": "2022-02-14T08:58:13.894Z"
   },
   {
    "duration": 4,
    "start_time": "2022-02-14T08:58:13.932Z"
   },
   {
    "duration": 13,
    "start_time": "2022-02-14T08:58:13.938Z"
   },
   {
    "duration": 26,
    "start_time": "2022-02-14T08:58:13.953Z"
   },
   {
    "duration": 23,
    "start_time": "2022-02-14T08:58:13.981Z"
   },
   {
    "duration": 9,
    "start_time": "2022-02-14T08:58:14.031Z"
   },
   {
    "duration": 12,
    "start_time": "2022-02-14T08:58:14.042Z"
   },
   {
    "duration": 5,
    "start_time": "2022-02-14T08:58:14.056Z"
   },
   {
    "duration": 17,
    "start_time": "2022-02-14T08:58:14.062Z"
   },
   {
    "duration": 10,
    "start_time": "2022-02-14T08:58:14.080Z"
   },
   {
    "duration": 4,
    "start_time": "2022-02-14T08:58:14.091Z"
   },
   {
    "duration": 81,
    "start_time": "2022-02-14T08:58:14.096Z"
   },
   {
    "duration": 15,
    "start_time": "2022-02-14T08:58:14.179Z"
   },
   {
    "duration": 44,
    "start_time": "2022-02-14T08:58:14.196Z"
   },
   {
    "duration": 28,
    "start_time": "2022-02-14T08:58:14.242Z"
   },
   {
    "duration": 20,
    "start_time": "2022-02-14T08:58:14.271Z"
   },
   {
    "duration": 45,
    "start_time": "2022-02-14T08:58:14.293Z"
   },
   {
    "duration": 17,
    "start_time": "2022-02-14T08:58:14.340Z"
   },
   {
    "duration": 16,
    "start_time": "2022-02-14T08:58:14.359Z"
   },
   {
    "duration": 16,
    "start_time": "2022-02-14T08:58:31.587Z"
   },
   {
    "duration": 11,
    "start_time": "2022-02-14T08:58:35.074Z"
   },
   {
    "duration": 15,
    "start_time": "2022-02-14T08:58:50.219Z"
   },
   {
    "duration": 588,
    "start_time": "2022-02-14T08:59:01.995Z"
   },
   {
    "duration": 9,
    "start_time": "2022-02-14T08:59:02.584Z"
   },
   {
    "duration": 4,
    "start_time": "2022-02-14T08:59:02.595Z"
   },
   {
    "duration": 32,
    "start_time": "2022-02-14T08:59:02.600Z"
   },
   {
    "duration": 11,
    "start_time": "2022-02-14T08:59:02.633Z"
   },
   {
    "duration": 51,
    "start_time": "2022-02-14T08:59:02.645Z"
   },
   {
    "duration": 67,
    "start_time": "2022-02-14T08:59:02.698Z"
   },
   {
    "duration": 9,
    "start_time": "2022-02-14T08:59:02.767Z"
   },
   {
    "duration": 103,
    "start_time": "2022-02-14T08:59:02.778Z"
   },
   {
    "duration": 21,
    "start_time": "2022-02-14T08:59:02.883Z"
   },
   {
    "duration": 38,
    "start_time": "2022-02-14T08:59:02.906Z"
   },
   {
    "duration": 6,
    "start_time": "2022-02-14T08:59:02.946Z"
   },
   {
    "duration": 8,
    "start_time": "2022-02-14T08:59:02.953Z"
   },
   {
    "duration": 6,
    "start_time": "2022-02-14T08:59:02.962Z"
   },
   {
    "duration": 22,
    "start_time": "2022-02-14T08:59:02.970Z"
   },
   {
    "duration": 6,
    "start_time": "2022-02-14T08:59:02.993Z"
   },
   {
    "duration": 36,
    "start_time": "2022-02-14T08:59:03.001Z"
   },
   {
    "duration": 8,
    "start_time": "2022-02-14T08:59:03.039Z"
   },
   {
    "duration": 24,
    "start_time": "2022-02-14T08:59:03.049Z"
   },
   {
    "duration": 8,
    "start_time": "2022-02-14T08:59:03.075Z"
   },
   {
    "duration": 89,
    "start_time": "2022-02-14T08:59:03.084Z"
   },
   {
    "duration": 12,
    "start_time": "2022-02-14T08:59:03.174Z"
   },
   {
    "duration": 8,
    "start_time": "2022-02-14T08:59:03.189Z"
   },
   {
    "duration": 4,
    "start_time": "2022-02-14T08:59:03.199Z"
   },
   {
    "duration": 43,
    "start_time": "2022-02-14T08:59:03.204Z"
   },
   {
    "duration": 22,
    "start_time": "2022-02-14T08:59:03.249Z"
   },
   {
    "duration": 4,
    "start_time": "2022-02-14T08:59:03.273Z"
   },
   {
    "duration": 8,
    "start_time": "2022-02-14T08:59:03.278Z"
   },
   {
    "duration": 47,
    "start_time": "2022-02-14T08:59:03.288Z"
   },
   {
    "duration": 13,
    "start_time": "2022-02-14T08:59:03.336Z"
   },
   {
    "duration": 4,
    "start_time": "2022-02-14T08:59:03.350Z"
   },
   {
    "duration": 14,
    "start_time": "2022-02-14T08:59:03.355Z"
   },
   {
    "duration": 60,
    "start_time": "2022-02-14T08:59:03.371Z"
   },
   {
    "duration": 26,
    "start_time": "2022-02-14T08:59:03.433Z"
   },
   {
    "duration": 10,
    "start_time": "2022-02-14T08:59:03.460Z"
   },
   {
    "duration": 12,
    "start_time": "2022-02-14T08:59:03.471Z"
   },
   {
    "duration": 4,
    "start_time": "2022-02-14T08:59:03.485Z"
   },
   {
    "duration": 41,
    "start_time": "2022-02-14T08:59:03.491Z"
   },
   {
    "duration": 16,
    "start_time": "2022-02-14T08:59:03.534Z"
   },
   {
    "duration": 4,
    "start_time": "2022-02-14T08:59:03.552Z"
   },
   {
    "duration": 52,
    "start_time": "2022-02-14T08:59:03.557Z"
   },
   {
    "duration": 33,
    "start_time": "2022-02-14T08:59:03.611Z"
   },
   {
    "duration": 27,
    "start_time": "2022-02-14T08:59:03.645Z"
   },
   {
    "duration": 27,
    "start_time": "2022-02-14T08:59:03.673Z"
   },
   {
    "duration": 42,
    "start_time": "2022-02-14T08:59:03.702Z"
   },
   {
    "duration": 17,
    "start_time": "2022-02-14T08:59:03.746Z"
   },
   {
    "duration": 15,
    "start_time": "2022-02-14T08:59:03.765Z"
   },
   {
    "duration": 14,
    "start_time": "2022-02-14T08:59:03.782Z"
   },
   {
    "duration": 11,
    "start_time": "2022-02-14T09:01:36.291Z"
   },
   {
    "duration": 3,
    "start_time": "2022-02-14T09:03:27.860Z"
   },
   {
    "duration": 53,
    "start_time": "2022-02-14T09:07:40.331Z"
   },
   {
    "duration": 55,
    "start_time": "2022-02-14T09:08:39.075Z"
   },
   {
    "duration": 12,
    "start_time": "2022-02-14T09:22:03.498Z"
   },
   {
    "duration": 15,
    "start_time": "2022-02-14T09:22:20.778Z"
   },
   {
    "duration": 22,
    "start_time": "2022-02-14T09:27:33.265Z"
   },
   {
    "duration": 24,
    "start_time": "2022-02-14T09:31:18.026Z"
   },
   {
    "duration": 24,
    "start_time": "2022-02-14T09:31:46.489Z"
   },
   {
    "duration": 6,
    "start_time": "2022-02-14T09:33:02.570Z"
   },
   {
    "duration": 9,
    "start_time": "2022-02-14T09:33:35.906Z"
   },
   {
    "duration": 9,
    "start_time": "2022-02-14T09:34:10.066Z"
   },
   {
    "duration": 9,
    "start_time": "2022-02-14T09:34:15.081Z"
   },
   {
    "duration": 8,
    "start_time": "2022-02-14T09:35:06.401Z"
   },
   {
    "duration": 9,
    "start_time": "2022-02-14T09:35:57.790Z"
   },
   {
    "duration": 10,
    "start_time": "2022-02-14T09:36:28.425Z"
   },
   {
    "duration": 9,
    "start_time": "2022-02-14T09:36:33.505Z"
   },
   {
    "duration": 8,
    "start_time": "2022-02-14T09:36:49.665Z"
   },
   {
    "duration": 8,
    "start_time": "2022-02-14T09:37:46.905Z"
   },
   {
    "duration": 71,
    "start_time": "2022-02-14T09:37:54.465Z"
   },
   {
    "duration": 8,
    "start_time": "2022-02-14T09:38:04.961Z"
   },
   {
    "duration": 8,
    "start_time": "2022-02-14T09:38:13.330Z"
   },
   {
    "duration": 9,
    "start_time": "2022-02-14T09:38:17.105Z"
   },
   {
    "duration": 11,
    "start_time": "2022-02-14T09:38:21.385Z"
   },
   {
    "duration": 9,
    "start_time": "2022-02-14T09:38:28.945Z"
   },
   {
    "duration": 66,
    "start_time": "2022-02-14T09:39:04.544Z"
   },
   {
    "duration": 10,
    "start_time": "2022-02-14T09:39:07.769Z"
   },
   {
    "duration": 9,
    "start_time": "2022-02-14T09:39:39.313Z"
   },
   {
    "duration": 9,
    "start_time": "2022-02-14T09:39:44.690Z"
   },
   {
    "duration": 15,
    "start_time": "2022-02-14T09:40:10.272Z"
   },
   {
    "duration": 28,
    "start_time": "2022-02-14T09:40:52.425Z"
   },
   {
    "duration": 30,
    "start_time": "2022-02-14T09:42:21.097Z"
   },
   {
    "duration": 29,
    "start_time": "2022-02-14T09:50:16.488Z"
   },
   {
    "duration": 5,
    "start_time": "2022-02-14T09:51:08.641Z"
   },
   {
    "duration": 12,
    "start_time": "2022-02-14T09:51:17.440Z"
   },
   {
    "duration": 8,
    "start_time": "2022-02-14T09:54:23.639Z"
   },
   {
    "duration": 4,
    "start_time": "2022-02-14T10:01:05.001Z"
   },
   {
    "duration": 3,
    "start_time": "2022-02-14T10:01:37.080Z"
   },
   {
    "duration": 4,
    "start_time": "2022-02-14T10:02:15.320Z"
   },
   {
    "duration": 31,
    "start_time": "2022-02-14T10:04:31.095Z"
   },
   {
    "duration": 265,
    "start_time": "2022-02-14T10:04:47.431Z"
   },
   {
    "duration": 53,
    "start_time": "2022-02-14T10:05:08.944Z"
   },
   {
    "duration": 46,
    "start_time": "2022-02-14T10:05:42.536Z"
   },
   {
    "duration": 53,
    "start_time": "2022-02-14T10:06:25.927Z"
   },
   {
    "duration": 50,
    "start_time": "2022-02-14T10:07:27.063Z"
   },
   {
    "duration": 37,
    "start_time": "2022-02-14T10:07:47.863Z"
   },
   {
    "duration": 38,
    "start_time": "2022-02-14T10:07:56.295Z"
   },
   {
    "duration": 1073,
    "start_time": "2022-02-14T10:10:24.516Z"
   },
   {
    "duration": 35,
    "start_time": "2022-02-14T10:10:48.263Z"
   },
   {
    "duration": 27,
    "start_time": "2022-02-14T10:11:10.128Z"
   },
   {
    "duration": 24,
    "start_time": "2022-02-14T10:11:27.719Z"
   },
   {
    "duration": 20,
    "start_time": "2022-02-14T10:17:28.909Z"
   },
   {
    "duration": 10,
    "start_time": "2022-02-14T10:19:19.342Z"
   },
   {
    "duration": 44,
    "start_time": "2022-02-14T10:20:00.806Z"
   },
   {
    "duration": 33,
    "start_time": "2022-02-14T10:20:46.846Z"
   },
   {
    "duration": 31,
    "start_time": "2022-02-14T10:28:02.926Z"
   },
   {
    "duration": 62,
    "start_time": "2022-02-14T10:30:23.980Z"
   },
   {
    "duration": 6727,
    "start_time": "2022-02-21T11:47:37.532Z"
   },
   {
    "duration": 789,
    "start_time": "2022-02-21T11:47:53.973Z"
   },
   {
    "duration": 17,
    "start_time": "2022-02-21T11:47:54.764Z"
   },
   {
    "duration": 9,
    "start_time": "2022-02-21T11:47:54.784Z"
   },
   {
    "duration": 21,
    "start_time": "2022-02-21T11:47:54.796Z"
   },
   {
    "duration": 14,
    "start_time": "2022-02-21T11:47:54.819Z"
   },
   {
    "duration": 92,
    "start_time": "2022-02-21T11:47:54.835Z"
   },
   {
    "duration": 80,
    "start_time": "2022-02-21T11:47:54.929Z"
   },
   {
    "duration": 12,
    "start_time": "2022-02-21T11:47:55.012Z"
   },
   {
    "duration": 123,
    "start_time": "2022-02-21T11:47:55.026Z"
   },
   {
    "duration": 26,
    "start_time": "2022-02-21T11:47:55.151Z"
   },
   {
    "duration": 40,
    "start_time": "2022-02-21T11:47:55.179Z"
   },
   {
    "duration": 6,
    "start_time": "2022-02-21T11:47:55.222Z"
   },
   {
    "duration": 10,
    "start_time": "2022-02-21T11:47:55.230Z"
   },
   {
    "duration": 6,
    "start_time": "2022-02-21T11:47:55.242Z"
   },
   {
    "duration": 59,
    "start_time": "2022-02-21T11:47:55.250Z"
   },
   {
    "duration": 7,
    "start_time": "2022-02-21T11:47:55.311Z"
   },
   {
    "duration": 12,
    "start_time": "2022-02-21T11:47:55.320Z"
   },
   {
    "duration": 19,
    "start_time": "2022-02-21T11:47:55.334Z"
   },
   {
    "duration": 68,
    "start_time": "2022-02-21T11:47:55.355Z"
   },
   {
    "duration": 10,
    "start_time": "2022-02-21T11:47:55.426Z"
   },
   {
    "duration": 113,
    "start_time": "2022-02-21T11:47:55.439Z"
   },
   {
    "duration": 20,
    "start_time": "2022-02-21T11:47:55.554Z"
   },
   {
    "duration": 34,
    "start_time": "2022-02-21T11:47:55.579Z"
   },
   {
    "duration": 5,
    "start_time": "2022-02-21T11:47:55.616Z"
   },
   {
    "duration": 26,
    "start_time": "2022-02-21T11:47:55.623Z"
   },
   {
    "duration": 26,
    "start_time": "2022-02-21T11:47:55.651Z"
   },
   {
    "duration": 29,
    "start_time": "2022-02-21T11:47:55.679Z"
   },
   {
    "duration": 22,
    "start_time": "2022-02-21T11:47:55.711Z"
   },
   {
    "duration": 32,
    "start_time": "2022-02-21T11:47:55.736Z"
   },
   {
    "duration": 15,
    "start_time": "2022-02-21T11:47:55.770Z"
   },
   {
    "duration": 23,
    "start_time": "2022-02-21T11:47:55.787Z"
   },
   {
    "duration": 24,
    "start_time": "2022-02-21T11:47:55.812Z"
   },
   {
    "duration": 41,
    "start_time": "2022-02-21T11:47:55.838Z"
   },
   {
    "duration": 57,
    "start_time": "2022-02-21T11:47:55.881Z"
   },
   {
    "duration": 21,
    "start_time": "2022-02-21T11:47:55.941Z"
   },
   {
    "duration": 20,
    "start_time": "2022-02-21T11:47:55.964Z"
   },
   {
    "duration": 25,
    "start_time": "2022-02-21T11:47:55.986Z"
   },
   {
    "duration": 25,
    "start_time": "2022-02-21T11:47:56.013Z"
   },
   {
    "duration": 22,
    "start_time": "2022-02-21T11:47:56.041Z"
   },
   {
    "duration": 9,
    "start_time": "2022-02-21T11:47:56.065Z"
   },
   {
    "duration": 81,
    "start_time": "2022-02-21T11:47:56.076Z"
   },
   {
    "duration": 21,
    "start_time": "2022-02-21T11:47:56.159Z"
   },
   {
    "duration": 31,
    "start_time": "2022-02-21T11:47:56.182Z"
   },
   {
    "duration": 39,
    "start_time": "2022-02-21T11:47:56.215Z"
   },
   {
    "duration": 5,
    "start_time": "2022-02-21T11:47:56.256Z"
   },
   {
    "duration": 67,
    "start_time": "2022-02-21T11:47:56.264Z"
   },
   {
    "duration": 39,
    "start_time": "2022-02-21T11:47:56.333Z"
   },
   {
    "duration": 84,
    "start_time": "2022-02-21T11:47:56.374Z"
   },
   {
    "duration": -2084,
    "start_time": "2022-02-21T11:47:58.545Z"
   },
   {
    "duration": 99,
    "start_time": "2022-02-21T11:48:53.362Z"
   },
   {
    "duration": 744,
    "start_time": "2022-02-22T02:32:24.408Z"
   },
   {
    "duration": 10,
    "start_time": "2022-02-22T02:32:28.145Z"
   },
   {
    "duration": 5,
    "start_time": "2022-02-22T02:32:30.505Z"
   },
   {
    "duration": 10,
    "start_time": "2022-02-22T02:32:31.618Z"
   },
   {
    "duration": 12,
    "start_time": "2022-02-22T02:32:35.121Z"
   },
   {
    "duration": 57,
    "start_time": "2022-02-22T02:33:34.266Z"
   },
   {
    "duration": 11,
    "start_time": "2022-02-22T02:33:57.271Z"
   },
   {
    "duration": 7343,
    "start_time": "2022-02-22T02:37:13.986Z"
   },
   {
    "duration": 7707,
    "start_time": "2022-02-22T02:39:45.162Z"
   },
   {
    "duration": 4,
    "start_time": "2022-02-22T02:41:21.754Z"
   },
   {
    "duration": 4,
    "start_time": "2022-02-22T02:41:41.410Z"
   },
   {
    "duration": 4,
    "start_time": "2022-02-22T02:42:07.169Z"
   },
   {
    "duration": 9,
    "start_time": "2022-02-22T02:43:44.749Z"
   },
   {
    "duration": 4,
    "start_time": "2022-02-22T02:44:08.978Z"
   },
   {
    "duration": 8,
    "start_time": "2022-02-22T02:44:16.650Z"
   },
   {
    "duration": 9,
    "start_time": "2022-02-22T02:47:25.649Z"
   },
   {
    "duration": 7,
    "start_time": "2022-02-22T02:47:56.810Z"
   },
   {
    "duration": 87,
    "start_time": "2022-02-22T02:48:01.730Z"
   },
   {
    "duration": 8,
    "start_time": "2022-02-22T02:48:04.721Z"
   },
   {
    "duration": 7,
    "start_time": "2022-02-22T02:48:11.129Z"
   },
   {
    "duration": 7,
    "start_time": "2022-02-22T02:48:16.162Z"
   },
   {
    "duration": 7259,
    "start_time": "2022-02-22T02:49:34.234Z"
   },
   {
    "duration": 44,
    "start_time": "2022-02-22T02:50:33.033Z"
   },
   {
    "duration": 54,
    "start_time": "2022-02-22T02:59:43.486Z"
   },
   {
    "duration": 85,
    "start_time": "2022-02-22T04:13:24.788Z"
   },
   {
    "duration": 22,
    "start_time": "2022-02-22T04:13:26.524Z"
   },
   {
    "duration": 22,
    "start_time": "2022-02-22T04:13:28.467Z"
   },
   {
    "duration": 4,
    "start_time": "2022-02-22T04:14:34.884Z"
   },
   {
    "duration": 53,
    "start_time": "2022-02-22T04:15:04.356Z"
   },
   {
    "duration": 50,
    "start_time": "2022-02-22T04:15:29.509Z"
   },
   {
    "duration": 50,
    "start_time": "2022-02-22T04:16:23.661Z"
   },
   {
    "duration": 24,
    "start_time": "2022-02-22T04:20:27.011Z"
   },
   {
    "duration": 22,
    "start_time": "2022-02-22T04:20:31.614Z"
   },
   {
    "duration": 4,
    "start_time": "2022-02-22T04:21:11.532Z"
   },
   {
    "duration": 6,
    "start_time": "2022-02-22T04:22:04.747Z"
   },
   {
    "duration": 6,
    "start_time": "2022-02-22T04:22:15.748Z"
   },
   {
    "duration": 8,
    "start_time": "2022-02-22T04:23:48.509Z"
   },
   {
    "duration": 68,
    "start_time": "2022-02-22T04:23:58.378Z"
   },
   {
    "duration": 11,
    "start_time": "2022-02-22T04:24:00.003Z"
   },
   {
    "duration": 5,
    "start_time": "2022-02-22T04:24:00.738Z"
   },
   {
    "duration": 10,
    "start_time": "2022-02-22T04:24:01.259Z"
   },
   {
    "duration": 12,
    "start_time": "2022-02-22T04:24:02.491Z"
   },
   {
    "duration": 5,
    "start_time": "2022-02-22T04:24:03.267Z"
   },
   {
    "duration": 47,
    "start_time": "2022-02-22T04:24:04.123Z"
   },
   {
    "duration": 49,
    "start_time": "2022-02-22T04:24:04.843Z"
   },
   {
    "duration": 12,
    "start_time": "2022-02-22T04:24:06.619Z"
   },
   {
    "duration": 82,
    "start_time": "2022-02-22T04:24:08.251Z"
   },
   {
    "duration": 24,
    "start_time": "2022-02-22T04:24:10.708Z"
   },
   {
    "duration": 23,
    "start_time": "2022-02-22T04:24:12.171Z"
   },
   {
    "duration": 3,
    "start_time": "2022-02-22T04:24:28.788Z"
   },
   {
    "duration": 9,
    "start_time": "2022-02-22T04:24:32.124Z"
   },
   {
    "duration": 11,
    "start_time": "2022-02-22T04:24:41.156Z"
   },
   {
    "duration": 8,
    "start_time": "2022-02-22T04:24:54.332Z"
   },
   {
    "duration": 8,
    "start_time": "2022-02-22T07:55:57.889Z"
   },
   {
    "duration": 15,
    "start_time": "2022-02-22T07:56:40.690Z"
   },
   {
    "duration": 8,
    "start_time": "2022-02-22T07:56:53.897Z"
   },
   {
    "duration": 7,
    "start_time": "2022-02-22T07:59:49.985Z"
   },
   {
    "duration": 11,
    "start_time": "2022-02-22T08:00:00.216Z"
   },
   {
    "duration": 80,
    "start_time": "2022-02-22T08:00:08.921Z"
   },
   {
    "duration": 11,
    "start_time": "2022-02-22T08:00:09.003Z"
   },
   {
    "duration": 6,
    "start_time": "2022-02-22T08:00:10.704Z"
   },
   {
    "duration": 9,
    "start_time": "2022-02-22T08:00:11.472Z"
   },
   {
    "duration": 13,
    "start_time": "2022-02-22T08:00:13.344Z"
   },
   {
    "duration": 4,
    "start_time": "2022-02-22T08:00:15.000Z"
   },
   {
    "duration": 53,
    "start_time": "2022-02-22T08:00:16.584Z"
   },
   {
    "duration": 52,
    "start_time": "2022-02-22T08:00:17.768Z"
   },
   {
    "duration": 12,
    "start_time": "2022-02-22T08:00:20.352Z"
   },
   {
    "duration": 91,
    "start_time": "2022-02-22T08:00:23.303Z"
   },
   {
    "duration": 23,
    "start_time": "2022-02-22T08:00:25.609Z"
   },
   {
    "duration": 35,
    "start_time": "2022-02-22T08:00:27.072Z"
   },
   {
    "duration": 8,
    "start_time": "2022-02-22T08:00:33.031Z"
   },
   {
    "duration": 9,
    "start_time": "2022-02-22T08:00:43.825Z"
   },
   {
    "duration": 99,
    "start_time": "2022-02-22T08:00:50.336Z"
   },
   {
    "duration": 8,
    "start_time": "2022-02-22T08:00:54.665Z"
   },
   {
    "duration": 8,
    "start_time": "2022-02-22T08:01:05.784Z"
   },
   {
    "duration": 9,
    "start_time": "2022-02-22T08:01:13.145Z"
   },
   {
    "duration": 81,
    "start_time": "2022-02-22T08:01:35.520Z"
   },
   {
    "duration": 92,
    "start_time": "2022-02-22T08:01:39.960Z"
   },
   {
    "duration": 8,
    "start_time": "2022-02-22T08:01:46.153Z"
   },
   {
    "duration": 7,
    "start_time": "2022-02-22T08:01:54.176Z"
   },
   {
    "duration": 77,
    "start_time": "2022-02-22T08:02:41.617Z"
   },
   {
    "duration": 8,
    "start_time": "2022-02-22T08:02:48.888Z"
   },
   {
    "duration": 7,
    "start_time": "2022-02-22T08:03:04.648Z"
   },
   {
    "duration": 10,
    "start_time": "2022-02-22T08:03:17.569Z"
   },
   {
    "duration": 12,
    "start_time": "2022-02-22T08:03:39.120Z"
   },
   {
    "duration": 7,
    "start_time": "2022-02-22T08:04:03.496Z"
   },
   {
    "duration": 7,
    "start_time": "2022-02-22T08:04:21.889Z"
   },
   {
    "duration": 8,
    "start_time": "2022-02-22T08:05:05.793Z"
   },
   {
    "duration": 8,
    "start_time": "2022-02-22T08:05:26.432Z"
   },
   {
    "duration": 127,
    "start_time": "2022-02-22T08:06:07.384Z"
   },
   {
    "duration": 8,
    "start_time": "2022-02-22T08:06:15.329Z"
   },
   {
    "duration": 8,
    "start_time": "2022-02-22T08:06:21.776Z"
   },
   {
    "duration": 51,
    "start_time": "2022-02-22T08:08:32.679Z"
   },
   {
    "duration": 91,
    "start_time": "2022-02-22T08:10:08.640Z"
   },
   {
    "duration": 11,
    "start_time": "2022-02-22T08:10:18.879Z"
   },
   {
    "duration": 16,
    "start_time": "2022-02-22T08:11:02.080Z"
   },
   {
    "duration": 20,
    "start_time": "2022-02-22T08:12:14.279Z"
   },
   {
    "duration": 7362,
    "start_time": "2022-02-22T08:12:48.520Z"
   },
   {
    "duration": 18,
    "start_time": "2022-02-22T08:13:11.879Z"
   },
   {
    "duration": 34,
    "start_time": "2022-02-22T08:14:30.696Z"
   },
   {
    "duration": 22,
    "start_time": "2022-02-22T08:15:20.983Z"
   },
   {
    "duration": 28,
    "start_time": "2022-02-22T08:15:42.688Z"
   },
   {
    "duration": 28,
    "start_time": "2022-02-22T08:16:48.575Z"
   },
   {
    "duration": 27,
    "start_time": "2022-02-22T08:16:59.016Z"
   },
   {
    "duration": 1017,
    "start_time": "2022-02-22T08:18:31.519Z"
   },
   {
    "duration": 1095,
    "start_time": "2022-02-22T08:20:07.863Z"
   },
   {
    "duration": 90,
    "start_time": "2022-02-22T08:20:40.726Z"
   },
   {
    "duration": 1510,
    "start_time": "2022-02-22T08:21:21.022Z"
   },
   {
    "duration": 80,
    "start_time": "2022-02-22T08:22:12.052Z"
   },
   {
    "duration": 84,
    "start_time": "2022-02-22T08:22:18.134Z"
   },
   {
    "duration": 1132,
    "start_time": "2022-02-22T08:22:24.774Z"
   },
   {
    "duration": 1082,
    "start_time": "2022-02-22T08:22:56.838Z"
   },
   {
    "duration": 1193,
    "start_time": "2022-02-22T08:23:16.238Z"
   },
   {
    "duration": 1161,
    "start_time": "2022-02-22T08:23:34.534Z"
   },
   {
    "duration": 1004,
    "start_time": "2022-02-22T08:23:46.655Z"
   },
   {
    "duration": 17,
    "start_time": "2022-02-22T08:24:07.887Z"
   },
   {
    "duration": 35,
    "start_time": "2022-02-22T08:25:14.310Z"
   },
   {
    "duration": 35,
    "start_time": "2022-02-22T08:25:37.140Z"
   },
   {
    "duration": 20,
    "start_time": "2022-02-22T08:26:11.006Z"
   },
   {
    "duration": 24,
    "start_time": "2022-02-22T08:26:45.542Z"
   },
   {
    "duration": 23,
    "start_time": "2022-02-22T08:26:54.077Z"
   },
   {
    "duration": 22,
    "start_time": "2022-02-22T08:27:19.061Z"
   },
   {
    "duration": 26,
    "start_time": "2022-02-22T08:27:27.070Z"
   },
   {
    "duration": 29,
    "start_time": "2022-02-22T08:27:36.079Z"
   },
   {
    "duration": 27,
    "start_time": "2022-02-22T08:27:58.302Z"
   },
   {
    "duration": 13,
    "start_time": "2022-02-22T08:30:05.445Z"
   },
   {
    "duration": 33,
    "start_time": "2022-02-22T08:30:29.438Z"
   },
   {
    "duration": 8,
    "start_time": "2022-02-22T08:30:41.485Z"
   },
   {
    "duration": 86,
    "start_time": "2022-02-22T08:31:18.006Z"
   },
   {
    "duration": 89,
    "start_time": "2022-02-22T08:31:49.357Z"
   },
   {
    "duration": 32,
    "start_time": "2022-02-22T08:31:55.861Z"
   },
   {
    "duration": 38,
    "start_time": "2022-02-22T08:32:27.325Z"
   },
   {
    "duration": 46,
    "start_time": "2022-02-22T08:33:34.677Z"
   },
   {
    "duration": 25,
    "start_time": "2022-02-22T08:33:51.581Z"
   },
   {
    "duration": 24,
    "start_time": "2022-02-22T08:33:57.604Z"
   },
   {
    "duration": 30,
    "start_time": "2022-02-22T08:34:35.998Z"
   },
   {
    "duration": 30,
    "start_time": "2022-02-22T08:34:46.660Z"
   },
   {
    "duration": 33,
    "start_time": "2022-02-22T08:35:24.693Z"
   },
   {
    "duration": 32,
    "start_time": "2022-02-22T08:35:37.269Z"
   },
   {
    "duration": 37,
    "start_time": "2022-02-22T08:36:14.309Z"
   },
   {
    "duration": 299,
    "start_time": "2022-02-22T08:39:27.316Z"
   },
   {
    "duration": 70,
    "start_time": "2022-02-22T08:39:43.438Z"
   },
   {
    "duration": 10,
    "start_time": "2022-02-22T08:39:44.891Z"
   },
   {
    "duration": 5,
    "start_time": "2022-02-22T08:39:45.604Z"
   },
   {
    "duration": 10,
    "start_time": "2022-02-22T08:39:46.181Z"
   },
   {
    "duration": 12,
    "start_time": "2022-02-22T08:39:47.380Z"
   },
   {
    "duration": 4,
    "start_time": "2022-02-22T08:39:48.092Z"
   },
   {
    "duration": 52,
    "start_time": "2022-02-22T08:39:48.547Z"
   },
   {
    "duration": 50,
    "start_time": "2022-02-22T08:39:48.995Z"
   },
   {
    "duration": 15,
    "start_time": "2022-02-22T08:39:50.316Z"
   },
   {
    "duration": 87,
    "start_time": "2022-02-22T08:39:51.755Z"
   },
   {
    "duration": 23,
    "start_time": "2022-02-22T08:39:52.837Z"
   },
   {
    "duration": 26,
    "start_time": "2022-02-22T08:39:53.692Z"
   },
   {
    "duration": 8,
    "start_time": "2022-02-22T08:39:54.564Z"
   },
   {
    "duration": 8,
    "start_time": "2022-02-22T08:39:55.604Z"
   },
   {
    "duration": 9,
    "start_time": "2022-02-22T08:39:59.131Z"
   },
   {
    "duration": 4,
    "start_time": "2022-02-22T08:40:00.612Z"
   },
   {
    "duration": 25,
    "start_time": "2022-02-22T08:40:03.036Z"
   },
   {
    "duration": 7,
    "start_time": "2022-02-22T08:40:04.276Z"
   },
   {
    "duration": 10,
    "start_time": "2022-02-22T08:40:12.200Z"
   },
   {
    "duration": 10,
    "start_time": "2022-02-22T08:40:13.412Z"
   },
   {
    "duration": 25,
    "start_time": "2022-02-22T08:40:14.977Z"
   },
   {
    "duration": 9,
    "start_time": "2022-02-22T08:40:16.484Z"
   },
   {
    "duration": 54,
    "start_time": "2022-02-22T08:40:22.164Z"
   },
   {
    "duration": 14,
    "start_time": "2022-02-22T08:40:25.572Z"
   },
   {
    "duration": 9,
    "start_time": "2022-02-22T08:40:27.613Z"
   },
   {
    "duration": 5,
    "start_time": "2022-02-22T08:40:28.868Z"
   },
   {
    "duration": 25,
    "start_time": "2022-02-22T08:40:30.860Z"
   },
   {
    "duration": 25,
    "start_time": "2022-02-22T08:40:34.132Z"
   },
   {
    "duration": 39,
    "start_time": "2022-02-22T08:40:37.524Z"
   },
   {
    "duration": 7,
    "start_time": "2022-02-22T08:40:40.540Z"
   },
   {
    "duration": 24,
    "start_time": "2022-02-22T08:40:43.269Z"
   },
   {
    "duration": 26,
    "start_time": "2022-02-22T08:41:02.245Z"
   },
   {
    "duration": 15,
    "start_time": "2022-02-22T08:41:04.046Z"
   },
   {
    "duration": 4,
    "start_time": "2022-02-22T08:41:15.196Z"
   },
   {
    "duration": 14,
    "start_time": "2022-02-22T08:41:16.348Z"
   },
   {
    "duration": 34,
    "start_time": "2022-02-22T08:42:09.685Z"
   },
   {
    "duration": 280,
    "start_time": "2022-02-22T08:43:08.718Z"
   },
   {
    "duration": 295,
    "start_time": "2022-02-22T08:43:23.773Z"
   },
   {
    "duration": 31,
    "start_time": "2022-02-22T08:43:32.028Z"
   },
   {
    "duration": 31,
    "start_time": "2022-02-22T08:51:41.467Z"
   },
   {
    "duration": 17,
    "start_time": "2022-02-22T08:52:58.468Z"
   },
   {
    "duration": 20,
    "start_time": "2022-02-22T08:53:36.371Z"
   },
   {
    "duration": 29,
    "start_time": "2022-02-22T08:53:49.675Z"
   },
   {
    "duration": 16,
    "start_time": "2022-02-22T08:54:25.966Z"
   },
   {
    "duration": 30,
    "start_time": "2022-02-22T08:54:35.299Z"
   },
   {
    "duration": 350,
    "start_time": "2022-02-22T08:55:53.109Z"
   },
   {
    "duration": 143,
    "start_time": "2022-02-22T08:56:34.619Z"
   },
   {
    "duration": 278,
    "start_time": "2022-02-22T08:56:39.075Z"
   },
   {
    "duration": 132,
    "start_time": "2022-02-22T08:59:05.292Z"
   },
   {
    "duration": 16,
    "start_time": "2022-02-22T08:59:29.283Z"
   },
   {
    "duration": 16,
    "start_time": "2022-02-22T08:59:44.554Z"
   },
   {
    "duration": 16,
    "start_time": "2022-02-22T08:59:50.035Z"
   },
   {
    "duration": 31,
    "start_time": "2022-02-22T09:00:08.843Z"
   },
   {
    "duration": 333,
    "start_time": "2022-02-22T09:00:41.516Z"
   },
   {
    "duration": 297,
    "start_time": "2022-02-22T09:00:46.787Z"
   },
   {
    "duration": 32,
    "start_time": "2022-02-22T09:00:54.283Z"
   },
   {
    "duration": 33,
    "start_time": "2022-02-22T09:01:41.492Z"
   },
   {
    "duration": 259,
    "start_time": "2022-02-22T09:04:09.516Z"
   },
   {
    "duration": 9,
    "start_time": "2022-02-22T09:04:29.243Z"
   },
   {
    "duration": 96,
    "start_time": "2022-02-22T09:04:55.643Z"
   },
   {
    "duration": 6,
    "start_time": "2022-02-22T09:05:01.947Z"
   },
   {
    "duration": 8,
    "start_time": "2022-02-22T09:09:39.690Z"
   },
   {
    "duration": 17,
    "start_time": "2022-02-22T09:10:37.897Z"
   },
   {
    "duration": 373,
    "start_time": "2022-02-22T09:10:57.410Z"
   },
   {
    "duration": 16,
    "start_time": "2022-02-22T09:11:03.755Z"
   },
   {
    "duration": 409,
    "start_time": "2022-02-22T09:11:14.954Z"
   },
   {
    "duration": 31,
    "start_time": "2022-02-22T09:11:22.322Z"
   },
   {
    "duration": 18,
    "start_time": "2022-02-22T09:11:30.035Z"
   },
   {
    "duration": 36,
    "start_time": "2022-02-22T09:11:35.994Z"
   },
   {
    "duration": 281,
    "start_time": "2022-02-22T09:12:07.111Z"
   },
   {
    "duration": 32,
    "start_time": "2022-02-22T09:12:10.257Z"
   },
   {
    "duration": 20,
    "start_time": "2022-02-22T09:13:23.363Z"
   },
   {
    "duration": 270,
    "start_time": "2022-02-22T09:13:50.953Z"
   },
   {
    "duration": 284,
    "start_time": "2022-02-22T09:13:58.618Z"
   },
   {
    "duration": 20,
    "start_time": "2022-02-22T09:14:05.624Z"
   },
   {
    "duration": 20,
    "start_time": "2022-02-22T09:14:16.177Z"
   },
   {
    "duration": 261,
    "start_time": "2022-02-22T09:14:26.050Z"
   },
   {
    "duration": 20,
    "start_time": "2022-02-22T09:14:37.057Z"
   },
   {
    "duration": 8036,
    "start_time": "2022-02-22T09:15:11.202Z"
   },
   {
    "duration": 6895,
    "start_time": "2022-02-22T09:15:21.506Z"
   },
   {
    "duration": 20,
    "start_time": "2022-02-22T09:15:33.513Z"
   },
   {
    "duration": 22,
    "start_time": "2022-02-22T09:15:46.642Z"
   },
   {
    "duration": 24,
    "start_time": "2022-02-22T09:16:03.889Z"
   },
   {
    "duration": 334,
    "start_time": "2022-02-22T09:17:22.651Z"
   },
   {
    "duration": 272,
    "start_time": "2022-02-22T09:18:03.297Z"
   },
   {
    "duration": 81,
    "start_time": "2022-02-22T09:18:16.770Z"
   },
   {
    "duration": 16,
    "start_time": "2022-02-22T09:18:20.393Z"
   },
   {
    "duration": 31,
    "start_time": "2022-02-22T09:18:30.649Z"
   },
   {
    "duration": 17,
    "start_time": "2022-02-22T09:18:40.385Z"
   },
   {
    "duration": 16,
    "start_time": "2022-02-22T09:18:50.721Z"
   },
   {
    "duration": 21,
    "start_time": "2022-02-22T09:19:15.289Z"
   },
   {
    "duration": 31,
    "start_time": "2022-02-22T09:19:37.529Z"
   },
   {
    "duration": 20,
    "start_time": "2022-02-22T09:19:42.577Z"
   },
   {
    "duration": 374,
    "start_time": "2022-02-22T09:19:56.176Z"
   },
   {
    "duration": 29,
    "start_time": "2022-02-22T09:21:26.320Z"
   },
   {
    "duration": 700,
    "start_time": "2022-02-22T09:22:39.649Z"
   },
   {
    "duration": 28,
    "start_time": "2022-02-22T09:22:48.314Z"
   },
   {
    "duration": 28,
    "start_time": "2022-02-22T09:23:28.026Z"
   },
   {
    "duration": 25,
    "start_time": "2022-02-22T09:23:53.942Z"
   },
   {
    "duration": 31,
    "start_time": "2022-02-22T09:26:07.241Z"
   },
   {
    "duration": 863,
    "start_time": "2022-02-23T14:29:44.486Z"
   },
   {
    "duration": 13,
    "start_time": "2022-02-23T14:29:46.775Z"
   },
   {
    "duration": 7,
    "start_time": "2022-02-23T14:29:47.874Z"
   },
   {
    "duration": 13,
    "start_time": "2022-02-23T14:29:48.839Z"
   },
   {
    "duration": 15,
    "start_time": "2022-02-23T14:29:51.387Z"
   },
   {
    "duration": 6,
    "start_time": "2022-02-23T14:29:52.946Z"
   },
   {
    "duration": 83,
    "start_time": "2022-02-23T14:29:54.082Z"
   },
   {
    "duration": 72,
    "start_time": "2022-02-23T14:29:55.175Z"
   },
   {
    "duration": 21,
    "start_time": "2022-02-23T14:30:16.671Z"
   },
   {
    "duration": 133,
    "start_time": "2022-02-23T14:30:18.898Z"
   },
   {
    "duration": 36,
    "start_time": "2022-02-23T14:30:20.847Z"
   },
   {
    "duration": 41,
    "start_time": "2022-02-23T14:30:22.364Z"
   },
   {
    "duration": 11,
    "start_time": "2022-02-23T14:30:26.947Z"
   },
   {
    "duration": 15,
    "start_time": "2022-02-23T14:30:28.659Z"
   },
   {
    "duration": 13,
    "start_time": "2022-02-23T14:30:56.059Z"
   },
   {
    "duration": 6,
    "start_time": "2022-02-23T14:31:05.834Z"
   },
   {
    "duration": 39,
    "start_time": "2022-02-23T14:31:08.878Z"
   },
   {
    "duration": 9,
    "start_time": "2022-02-23T14:31:12.938Z"
   },
   {
    "duration": 14,
    "start_time": "2022-02-23T14:31:15.091Z"
   },
   {
    "duration": 13,
    "start_time": "2022-02-23T14:31:16.470Z"
   },
   {
    "duration": 41,
    "start_time": "2022-02-23T14:31:35.539Z"
   },
   {
    "duration": 56,
    "start_time": "2022-02-23T14:33:44.414Z"
   },
   {
    "duration": 10,
    "start_time": "2022-02-23T14:33:47.134Z"
   },
   {
    "duration": 38,
    "start_time": "2022-02-23T14:33:58.598Z"
   },
   {
    "duration": 9,
    "start_time": "2022-02-23T14:34:12.143Z"
   },
   {
    "duration": 39,
    "start_time": "2022-02-23T14:34:18.322Z"
   },
   {
    "duration": 19,
    "start_time": "2022-02-23T14:34:46.430Z"
   },
   {
    "duration": 7,
    "start_time": "2022-02-23T14:35:06.255Z"
   },
   {
    "duration": 18,
    "start_time": "2022-02-23T14:35:07.659Z"
   },
   {
    "duration": 45,
    "start_time": "2022-02-23T14:35:35.186Z"
   },
   {
    "duration": 34,
    "start_time": "2022-02-23T14:36:01.551Z"
   },
   {
    "duration": 36,
    "start_time": "2022-02-23T14:36:16.026Z"
   },
   {
    "duration": 35,
    "start_time": "2022-02-23T14:36:29.778Z"
   },
   {
    "duration": 35,
    "start_time": "2022-02-23T14:36:34.911Z"
   },
   {
    "duration": 35,
    "start_time": "2022-02-23T14:36:38.323Z"
   },
   {
    "duration": 58,
    "start_time": "2022-02-23T14:38:48.855Z"
   },
   {
    "duration": 8206,
    "start_time": "2022-02-23T14:39:08.522Z"
   },
   {
    "duration": 3,
    "start_time": "2022-02-23T14:39:29.142Z"
   },
   {
    "duration": 17,
    "start_time": "2022-02-23T14:39:31.606Z"
   },
   {
    "duration": 18,
    "start_time": "2022-02-23T14:39:32.751Z"
   },
   {
    "duration": 5,
    "start_time": "2022-02-23T14:39:34.479Z"
   },
   {
    "duration": 29,
    "start_time": "2022-02-23T14:39:35.170Z"
   },
   {
    "duration": 19,
    "start_time": "2022-02-23T14:39:41.695Z"
   },
   {
    "duration": 716,
    "start_time": "2022-02-23T14:39:50.920Z"
   },
   {
    "duration": 7218,
    "start_time": "2022-02-23T14:39:53.676Z"
   },
   {
    "duration": 650,
    "start_time": "2022-02-23T14:40:00.247Z"
   },
   {
    "duration": 639,
    "start_time": "2022-02-23T14:40:00.260Z"
   },
   {
    "duration": 361,
    "start_time": "2022-02-23T14:40:03.251Z"
   },
   {
    "duration": 94,
    "start_time": "2022-02-23T14:40:22.671Z"
   },
   {
    "duration": 15,
    "start_time": "2022-02-23T14:40:26.822Z"
   },
   {
    "duration": 6,
    "start_time": "2022-02-23T14:40:28.102Z"
   },
   {
    "duration": 14,
    "start_time": "2022-02-23T14:40:29.290Z"
   },
   {
    "duration": 15,
    "start_time": "2022-02-23T14:40:31.910Z"
   },
   {
    "duration": 6,
    "start_time": "2022-02-23T14:40:38.131Z"
   },
   {
    "duration": 73,
    "start_time": "2022-02-23T14:40:40.218Z"
   },
   {
    "duration": 81,
    "start_time": "2022-02-23T14:40:43.067Z"
   },
   {
    "duration": 17,
    "start_time": "2022-02-23T14:40:46.463Z"
   },
   {
    "duration": 120,
    "start_time": "2022-02-23T14:40:54.410Z"
   },
   {
    "duration": 37,
    "start_time": "2022-02-23T14:40:56.747Z"
   },
   {
    "duration": 38,
    "start_time": "2022-02-23T14:40:58.623Z"
   },
   {
    "duration": 12,
    "start_time": "2022-02-23T14:41:00.283Z"
   },
   {
    "duration": 12,
    "start_time": "2022-02-23T14:41:02.107Z"
   },
   {
    "duration": 11,
    "start_time": "2022-02-23T14:41:05.695Z"
   },
   {
    "duration": 6,
    "start_time": "2022-02-23T14:41:07.575Z"
   },
   {
    "duration": 37,
    "start_time": "2022-02-23T14:41:10.438Z"
   },
   {
    "duration": 10,
    "start_time": "2022-02-23T14:41:12.194Z"
   },
   {
    "duration": 16,
    "start_time": "2022-02-23T14:41:14.494Z"
   },
   {
    "duration": 14,
    "start_time": "2022-02-23T14:41:15.862Z"
   },
   {
    "duration": 40,
    "start_time": "2022-02-23T14:41:17.999Z"
   },
   {
    "duration": 11,
    "start_time": "2022-02-23T14:41:19.692Z"
   },
   {
    "duration": 76,
    "start_time": "2022-02-23T14:41:21.242Z"
   },
   {
    "duration": 19,
    "start_time": "2022-02-23T14:41:25.815Z"
   },
   {
    "duration": 13,
    "start_time": "2022-02-23T14:41:27.786Z"
   },
   {
    "duration": 6,
    "start_time": "2022-02-23T14:41:29.031Z"
   },
   {
    "duration": 44,
    "start_time": "2022-02-23T14:41:31.938Z"
   },
   {
    "duration": 36,
    "start_time": "2022-02-23T14:41:35.378Z"
   },
   {
    "duration": 50,
    "start_time": "2022-02-23T14:41:36.451Z"
   },
   {
    "duration": 12,
    "start_time": "2022-02-23T14:41:42.215Z"
   },
   {
    "duration": 39,
    "start_time": "2022-02-23T14:41:52.414Z"
   },
   {
    "duration": 21,
    "start_time": "2022-02-23T14:41:55.903Z"
   },
   {
    "duration": 6,
    "start_time": "2022-02-23T14:42:01.691Z"
   },
   {
    "duration": 19,
    "start_time": "2022-02-23T14:42:05.602Z"
   },
   {
    "duration": 33,
    "start_time": "2022-02-23T14:42:18.263Z"
   },
   {
    "duration": 4,
    "start_time": "2022-02-23T14:42:22.898Z"
   },
   {
    "duration": 16,
    "start_time": "2022-02-23T14:42:25.699Z"
   },
   {
    "duration": 19,
    "start_time": "2022-02-23T14:42:27.375Z"
   },
   {
    "duration": 6,
    "start_time": "2022-02-23T14:42:30.054Z"
   },
   {
    "duration": 28,
    "start_time": "2022-02-23T14:42:31.447Z"
   },
   {
    "duration": 27,
    "start_time": "2022-02-23T14:43:03.362Z"
   },
   {
    "duration": 5,
    "start_time": "2022-02-23T14:43:12.547Z"
   },
   {
    "duration": 26,
    "start_time": "2022-02-23T14:43:13.931Z"
   },
   {
    "duration": 19,
    "start_time": "2022-02-23T14:43:25.678Z"
   },
   {
    "duration": 4,
    "start_time": "2022-02-23T14:43:26.783Z"
   },
   {
    "duration": 97,
    "start_time": "2022-02-23T14:43:27.851Z"
   },
   {
    "duration": 30,
    "start_time": "2022-02-23T14:43:34.398Z"
   },
   {
    "duration": 36,
    "start_time": "2022-02-23T14:43:46.591Z"
   },
   {
    "duration": 76,
    "start_time": "2022-02-23T14:44:14.479Z"
   },
   {
    "duration": 48,
    "start_time": "2022-02-23T14:45:17.515Z"
   },
   {
    "duration": 98,
    "start_time": "2022-02-23T14:45:28.039Z"
   },
   {
    "duration": 96,
    "start_time": "2022-02-23T14:45:31.708Z"
   },
   {
    "duration": 93,
    "start_time": "2022-02-23T14:46:01.027Z"
   },
   {
    "duration": 62,
    "start_time": "2022-02-23T14:46:06.255Z"
   },
   {
    "duration": 353,
    "start_time": "2022-02-23T14:46:14.814Z"
   },
   {
    "duration": 349,
    "start_time": "2022-02-23T14:46:32.663Z"
   },
   {
    "duration": 29,
    "start_time": "2022-02-23T14:46:37.775Z"
   },
   {
    "duration": 22,
    "start_time": "2022-02-23T14:46:51.231Z"
   },
   {
    "duration": 47,
    "start_time": "2022-02-23T14:47:19.852Z"
   },
   {
    "duration": 424,
    "start_time": "2022-02-23T14:48:59.803Z"
   },
   {
    "duration": 359,
    "start_time": "2022-02-23T14:49:04.062Z"
   },
   {
    "duration": 299,
    "start_time": "2022-02-23T14:49:07.307Z"
   },
   {
    "duration": 1419,
    "start_time": "2022-02-23T14:49:09.919Z"
   },
   {
    "duration": 19,
    "start_time": "2022-02-23T14:49:24.463Z"
   },
   {
    "duration": 45,
    "start_time": "2022-02-23T14:49:34.127Z"
   },
   {
    "duration": 44,
    "start_time": "2022-02-23T14:50:07.931Z"
   },
   {
    "duration": 48,
    "start_time": "2022-02-23T14:50:33.735Z"
   },
   {
    "duration": 91,
    "start_time": "2022-02-23T14:51:17.292Z"
   },
   {
    "duration": 393,
    "start_time": "2022-02-23T14:51:20.802Z"
   },
   {
    "duration": 337,
    "start_time": "2022-02-23T14:51:25.835Z"
   },
   {
    "duration": 289,
    "start_time": "2022-02-23T14:51:43.556Z"
   },
   {
    "duration": 48,
    "start_time": "2022-02-23T14:51:52.976Z"
   },
   {
    "duration": 302,
    "start_time": "2022-02-23T14:52:55.354Z"
   },
   {
    "duration": 304,
    "start_time": "2022-02-23T14:53:03.804Z"
   },
   {
    "duration": 243,
    "start_time": "2022-02-23T14:53:22.279Z"
   },
   {
    "duration": 22,
    "start_time": "2022-02-23T14:53:29.939Z"
   },
   {
    "duration": 49,
    "start_time": "2022-02-23T14:53:47.992Z"
   },
   {
    "duration": 79,
    "start_time": "2022-02-23T14:55:22.680Z"
   },
   {
    "duration": 26,
    "start_time": "2022-02-23T14:55:35.015Z"
   },
   {
    "duration": 316,
    "start_time": "2022-02-23T14:57:35.752Z"
   },
   {
    "duration": 53,
    "start_time": "2022-02-23T14:59:54.935Z"
   },
   {
    "duration": 72,
    "start_time": "2022-02-23T15:01:14.104Z"
   },
   {
    "duration": 47,
    "start_time": "2022-02-23T15:01:40.003Z"
   },
   {
    "duration": 26,
    "start_time": "2022-02-23T15:02:51.099Z"
   },
   {
    "duration": 19,
    "start_time": "2022-02-23T15:06:59.400Z"
   },
   {
    "duration": 44,
    "start_time": "2022-02-23T15:07:05.188Z"
   },
   {
    "duration": 285,
    "start_time": "2022-02-23T15:14:43.744Z"
   },
   {
    "duration": 330,
    "start_time": "2022-02-23T15:14:52.668Z"
   },
   {
    "duration": 446,
    "start_time": "2022-02-23T15:14:58.084Z"
   },
   {
    "duration": 10,
    "start_time": "2022-02-23T15:15:07.072Z"
   },
   {
    "duration": 7,
    "start_time": "2022-02-23T15:15:28.772Z"
   },
   {
    "duration": 7616,
    "start_time": "2022-02-23T15:15:37.188Z"
   },
   {
    "duration": 3460,
    "start_time": "2022-02-23T15:15:51.500Z"
   },
   {
    "duration": 60,
    "start_time": "2022-02-23T15:17:14.881Z"
   },
   {
    "duration": 23,
    "start_time": "2022-02-23T15:18:32.836Z"
   },
   {
    "duration": 289,
    "start_time": "2022-02-23T15:18:44.880Z"
   },
   {
    "duration": 320,
    "start_time": "2022-02-23T15:19:10.520Z"
   },
   {
    "duration": 354,
    "start_time": "2022-02-23T15:19:41.832Z"
   },
   {
    "duration": 93,
    "start_time": "2022-02-23T15:19:51.860Z"
   },
   {
    "duration": 13,
    "start_time": "2022-02-23T15:19:52.600Z"
   },
   {
    "duration": 6,
    "start_time": "2022-02-23T15:19:52.984Z"
   },
   {
    "duration": 13,
    "start_time": "2022-02-23T15:19:53.295Z"
   },
   {
    "duration": 16,
    "start_time": "2022-02-23T15:19:54.212Z"
   },
   {
    "duration": 5,
    "start_time": "2022-02-23T15:19:54.772Z"
   },
   {
    "duration": 73,
    "start_time": "2022-02-23T15:19:55.168Z"
   },
   {
    "duration": 73,
    "start_time": "2022-02-23T15:19:55.568Z"
   },
   {
    "duration": 14,
    "start_time": "2022-02-23T15:19:56.384Z"
   },
   {
    "duration": 128,
    "start_time": "2022-02-23T15:19:57.252Z"
   },
   {
    "duration": 35,
    "start_time": "2022-02-23T15:19:57.844Z"
   },
   {
    "duration": 38,
    "start_time": "2022-02-23T15:19:58.283Z"
   },
   {
    "duration": 10,
    "start_time": "2022-02-23T15:19:58.668Z"
   },
   {
    "duration": 12,
    "start_time": "2022-02-23T15:19:59.156Z"
   },
   {
    "duration": 12,
    "start_time": "2022-02-23T15:20:00.107Z"
   },
   {
    "duration": 6,
    "start_time": "2022-02-23T15:20:00.764Z"
   },
   {
    "duration": 39,
    "start_time": "2022-02-23T15:20:01.488Z"
   },
   {
    "duration": 10,
    "start_time": "2022-02-23T15:20:01.951Z"
   },
   {
    "duration": 13,
    "start_time": "2022-02-23T15:20:02.456Z"
   },
   {
    "duration": 14,
    "start_time": "2022-02-23T15:20:02.931Z"
   },
   {
    "duration": 40,
    "start_time": "2022-02-23T15:20:03.900Z"
   },
   {
    "duration": 11,
    "start_time": "2022-02-23T15:20:04.282Z"
   },
   {
    "duration": 75,
    "start_time": "2022-02-23T15:20:04.648Z"
   },
   {
    "duration": 21,
    "start_time": "2022-02-23T15:20:05.504Z"
   },
   {
    "duration": 13,
    "start_time": "2022-02-23T15:20:05.864Z"
   },
   {
    "duration": 7,
    "start_time": "2022-02-23T15:20:06.240Z"
   },
   {
    "duration": 42,
    "start_time": "2022-02-23T15:20:06.860Z"
   },
   {
    "duration": 35,
    "start_time": "2022-02-23T15:20:07.588Z"
   },
   {
    "duration": 65,
    "start_time": "2022-02-23T15:20:07.800Z"
   },
   {
    "duration": 9,
    "start_time": "2022-02-23T15:20:08.591Z"
   },
   {
    "duration": 41,
    "start_time": "2022-02-23T15:20:09.268Z"
   },
   {
    "duration": 21,
    "start_time": "2022-02-23T15:20:10.548Z"
   },
   {
    "duration": 6,
    "start_time": "2022-02-23T15:20:11.632Z"
   },
   {
    "duration": 19,
    "start_time": "2022-02-23T15:20:12.132Z"
   },
   {
    "duration": 27,
    "start_time": "2022-02-23T15:20:12.992Z"
   },
   {
    "duration": 4,
    "start_time": "2022-02-23T15:20:13.583Z"
   },
   {
    "duration": 21,
    "start_time": "2022-02-23T15:20:16.194Z"
   },
   {
    "duration": 5,
    "start_time": "2022-02-23T15:20:18.592Z"
   },
   {
    "duration": 29,
    "start_time": "2022-02-23T15:20:19.131Z"
   },
   {
    "duration": 22,
    "start_time": "2022-02-23T15:20:20.655Z"
   },
   {
    "duration": 5,
    "start_time": "2022-02-23T15:20:21.179Z"
   },
   {
    "duration": 102,
    "start_time": "2022-02-23T15:20:21.620Z"
   },
   {
    "duration": 40,
    "start_time": "2022-02-23T15:20:22.675Z"
   },
   {
    "duration": 21,
    "start_time": "2022-02-23T15:20:24.120Z"
   },
   {
    "duration": 40,
    "start_time": "2022-02-23T15:20:56.164Z"
   },
   {
    "duration": 43,
    "start_time": "2022-02-23T15:21:59.096Z"
   },
   {
    "duration": 79,
    "start_time": "2022-02-23T15:22:11.692Z"
   },
   {
    "duration": 50,
    "start_time": "2022-02-23T15:22:21.108Z"
   },
   {
    "duration": 67,
    "start_time": "2022-02-23T15:23:17.940Z"
   },
   {
    "duration": 62,
    "start_time": "2022-02-23T15:24:29.484Z"
   },
   {
    "duration": 41,
    "start_time": "2022-02-23T15:25:09.612Z"
   },
   {
    "duration": 37,
    "start_time": "2022-02-23T15:28:57.092Z"
   },
   {
    "duration": 44,
    "start_time": "2022-02-23T15:31:28.640Z"
   },
   {
    "duration": 24,
    "start_time": "2022-02-23T15:32:43.520Z"
   },
   {
    "duration": 24,
    "start_time": "2022-02-23T15:34:26.712Z"
   },
   {
    "duration": 24,
    "start_time": "2022-02-23T15:35:09.672Z"
   },
   {
    "duration": 34,
    "start_time": "2022-02-23T15:36:00.604Z"
   },
   {
    "duration": 38,
    "start_time": "2022-02-23T15:36:06.484Z"
   },
   {
    "duration": 53,
    "start_time": "2022-02-23T15:36:38.712Z"
   },
   {
    "duration": 55,
    "start_time": "2022-02-23T15:37:27.812Z"
   },
   {
    "duration": 64,
    "start_time": "2022-02-23T15:39:53.961Z"
   },
   {
    "duration": 100,
    "start_time": "2022-02-23T15:40:22.420Z"
   },
   {
    "duration": 67,
    "start_time": "2022-02-23T15:40:29.739Z"
   },
   {
    "duration": 64,
    "start_time": "2022-02-23T15:40:45.988Z"
   },
   {
    "duration": 52,
    "start_time": "2022-02-23T15:41:11.304Z"
   },
   {
    "duration": 48,
    "start_time": "2022-02-23T15:42:46.156Z"
   },
   {
    "duration": 45,
    "start_time": "2022-02-23T15:43:00.748Z"
   },
   {
    "duration": 51,
    "start_time": "2022-02-23T15:43:20.804Z"
   },
   {
    "duration": 75,
    "start_time": "2022-02-23T15:44:05.176Z"
   },
   {
    "duration": 38,
    "start_time": "2022-02-23T15:44:23.928Z"
   },
   {
    "duration": 101,
    "start_time": "2022-02-23T15:45:04.848Z"
   },
   {
    "duration": 42,
    "start_time": "2022-02-23T15:45:08.580Z"
   },
   {
    "duration": 52,
    "start_time": "2022-02-23T15:46:51.872Z"
   },
   {
    "duration": 65,
    "start_time": "2022-02-23T15:47:15.720Z"
   },
   {
    "duration": 63,
    "start_time": "2022-02-23T15:48:01.308Z"
   },
   {
    "duration": 62,
    "start_time": "2022-02-23T15:49:06.365Z"
   },
   {
    "duration": 93,
    "start_time": "2022-02-23T15:50:29.073Z"
   },
   {
    "duration": 69,
    "start_time": "2022-02-23T15:50:59.340Z"
   },
   {
    "duration": 62,
    "start_time": "2022-02-23T15:51:09.808Z"
   },
   {
    "duration": 66,
    "start_time": "2022-02-23T15:51:57.768Z"
   },
   {
    "duration": 86,
    "start_time": "2022-02-23T15:52:33.693Z"
   },
   {
    "duration": 105,
    "start_time": "2022-02-23T15:57:06.073Z"
   },
   {
    "duration": 66,
    "start_time": "2022-02-23T15:57:40.313Z"
   },
   {
    "duration": 62,
    "start_time": "2022-02-23T15:58:04.636Z"
   },
   {
    "duration": 58,
    "start_time": "2022-02-23T15:58:50.185Z"
   },
   {
    "duration": 92,
    "start_time": "2022-02-23T15:59:09.621Z"
   },
   {
    "duration": 85,
    "start_time": "2022-02-23T15:59:42.725Z"
   },
   {
    "duration": 106,
    "start_time": "2022-02-23T16:00:05.993Z"
   },
   {
    "duration": 97,
    "start_time": "2022-02-23T16:00:32.074Z"
   },
   {
    "duration": 123,
    "start_time": "2022-02-23T16:02:20.559Z"
   },
   {
    "duration": 125,
    "start_time": "2022-02-23T16:02:50.229Z"
   },
   {
    "duration": 94,
    "start_time": "2022-02-23T16:03:05.780Z"
   },
   {
    "duration": 106,
    "start_time": "2022-02-23T16:03:14.889Z"
   },
   {
    "duration": 107,
    "start_time": "2022-02-23T16:03:44.996Z"
   },
   {
    "duration": 120,
    "start_time": "2022-02-23T16:04:06.673Z"
   },
   {
    "duration": 204,
    "start_time": "2022-02-23T16:06:39.621Z"
   },
   {
    "duration": 145,
    "start_time": "2022-02-23T16:07:13.477Z"
   },
   {
    "duration": 140,
    "start_time": "2022-02-23T16:08:48.281Z"
   },
   {
    "duration": 168,
    "start_time": "2022-02-23T16:09:49.357Z"
   },
   {
    "duration": 162,
    "start_time": "2022-02-23T16:09:55.909Z"
   },
   {
    "duration": 105,
    "start_time": "2022-02-23T16:10:04.161Z"
   },
   {
    "duration": 114,
    "start_time": "2022-02-23T16:10:14.886Z"
   },
   {
    "duration": 192,
    "start_time": "2022-02-23T16:10:40.113Z"
   },
   {
    "duration": 329,
    "start_time": "2022-02-24T02:22:27.562Z"
   },
   {
    "duration": 973,
    "start_time": "2022-02-24T02:22:30.919Z"
   },
   {
    "duration": 12,
    "start_time": "2022-02-24T02:22:31.895Z"
   },
   {
    "duration": 25,
    "start_time": "2022-02-24T02:22:31.910Z"
   },
   {
    "duration": 24,
    "start_time": "2022-02-24T02:22:32.247Z"
   },
   {
    "duration": 16,
    "start_time": "2022-02-24T02:22:32.886Z"
   },
   {
    "duration": 6,
    "start_time": "2022-02-24T02:22:32.984Z"
   },
   {
    "duration": 76,
    "start_time": "2022-02-24T02:22:33.052Z"
   },
   {
    "duration": 81,
    "start_time": "2022-02-24T02:22:33.134Z"
   },
   {
    "duration": 15,
    "start_time": "2022-02-24T02:22:33.260Z"
   },
   {
    "duration": 123,
    "start_time": "2022-02-24T02:22:33.381Z"
   },
   {
    "duration": 50,
    "start_time": "2022-02-24T02:22:33.507Z"
   },
   {
    "duration": 53,
    "start_time": "2022-02-24T02:22:33.560Z"
   },
   {
    "duration": 10,
    "start_time": "2022-02-24T02:22:33.623Z"
   },
   {
    "duration": 12,
    "start_time": "2022-02-24T02:22:33.686Z"
   },
   {
    "duration": 11,
    "start_time": "2022-02-24T02:22:33.862Z"
   },
   {
    "duration": 6,
    "start_time": "2022-02-24T02:22:33.971Z"
   },
   {
    "duration": 37,
    "start_time": "2022-02-24T02:22:34.050Z"
   },
   {
    "duration": 8,
    "start_time": "2022-02-24T02:22:34.103Z"
   },
   {
    "duration": 14,
    "start_time": "2022-02-24T02:22:34.171Z"
   },
   {
    "duration": 13,
    "start_time": "2022-02-24T02:22:34.262Z"
   },
   {
    "duration": 44,
    "start_time": "2022-02-24T02:22:34.339Z"
   },
   {
    "duration": 14,
    "start_time": "2022-02-24T02:22:35.670Z"
   },
   {
    "duration": 77,
    "start_time": "2022-02-24T02:22:36.246Z"
   },
   {
    "duration": 22,
    "start_time": "2022-02-24T02:22:37.360Z"
   },
   {
    "duration": 13,
    "start_time": "2022-02-24T02:22:38.162Z"
   },
   {
    "duration": 6,
    "start_time": "2022-02-24T02:22:38.734Z"
   },
   {
    "duration": 34,
    "start_time": "2022-02-24T02:22:40.871Z"
   },
   {
    "duration": 37,
    "start_time": "2022-02-24T02:22:44.870Z"
   },
   {
    "duration": 58,
    "start_time": "2022-02-24T02:22:45.430Z"
   },
   {
    "duration": 9,
    "start_time": "2022-02-24T02:22:48.278Z"
   },
   {
    "duration": 39,
    "start_time": "2022-02-24T02:22:51.022Z"
   },
   {
    "duration": 20,
    "start_time": "2022-02-24T02:22:53.166Z"
   },
   {
    "duration": 6,
    "start_time": "2022-02-24T02:23:02.934Z"
   },
   {
    "duration": 19,
    "start_time": "2022-02-24T02:23:04.062Z"
   },
   {
    "duration": 28,
    "start_time": "2022-02-24T02:23:10.950Z"
   },
   {
    "duration": 382,
    "start_time": "2022-02-24T02:24:04.162Z"
   },
   {
    "duration": 39,
    "start_time": "2022-02-24T02:25:11.199Z"
   },
   {
    "duration": 42,
    "start_time": "2022-02-24T02:25:20.199Z"
   },
   {
    "duration": 60,
    "start_time": "2022-02-24T02:25:31.216Z"
   },
   {
    "duration": 342,
    "start_time": "2022-02-24T02:25:36.663Z"
   },
   {
    "duration": 3867,
    "start_time": "2022-02-24T02:26:25.719Z"
   },
   {
    "duration": 69,
    "start_time": "2022-02-24T02:26:42.503Z"
   },
   {
    "duration": 44,
    "start_time": "2022-02-24T02:27:27.174Z"
   },
   {
    "duration": 44,
    "start_time": "2022-02-24T02:27:44.566Z"
   },
   {
    "duration": 59,
    "start_time": "2022-02-24T02:28:04.983Z"
   },
   {
    "duration": 17,
    "start_time": "2022-02-24T02:31:08.999Z"
   },
   {
    "duration": 21,
    "start_time": "2022-02-24T02:31:50.742Z"
   },
   {
    "duration": 27,
    "start_time": "2022-02-24T02:31:56.974Z"
   },
   {
    "duration": 8395,
    "start_time": "2022-02-24T02:36:04.177Z"
   },
   {
    "duration": 7983,
    "start_time": "2022-02-24T02:36:13.526Z"
   },
   {
    "duration": 316,
    "start_time": "2022-02-24T02:36:43.790Z"
   },
   {
    "duration": 100,
    "start_time": "2022-02-24T02:37:17.790Z"
   },
   {
    "duration": 7,
    "start_time": "2022-02-24T02:37:21.966Z"
   },
   {
    "duration": 26,
    "start_time": "2022-02-24T02:37:31.622Z"
   },
   {
    "duration": 18,
    "start_time": "2022-02-24T02:37:53.260Z"
   },
   {
    "duration": 5,
    "start_time": "2022-02-24T02:38:24.805Z"
   },
   {
    "duration": 27,
    "start_time": "2022-02-24T02:38:25.957Z"
   },
   {
    "duration": 25,
    "start_time": "2022-02-24T02:38:42.486Z"
   },
   {
    "duration": 19,
    "start_time": "2022-02-24T02:39:04.350Z"
   },
   {
    "duration": 18,
    "start_time": "2022-02-24T02:39:11.358Z"
   },
   {
    "duration": 4,
    "start_time": "2022-02-24T02:39:33.541Z"
   },
   {
    "duration": 29,
    "start_time": "2022-02-24T02:41:35.821Z"
   },
   {
    "duration": 4,
    "start_time": "2022-02-24T02:43:01.908Z"
   },
   {
    "duration": 29,
    "start_time": "2022-02-24T02:43:09.734Z"
   },
   {
    "duration": 115,
    "start_time": "2022-02-24T02:45:06.451Z"
   },
   {
    "duration": 89,
    "start_time": "2022-02-24T02:45:12.909Z"
   },
   {
    "duration": 102,
    "start_time": "2022-02-24T02:45:33.197Z"
   },
   {
    "duration": 32,
    "start_time": "2022-02-24T02:46:06.917Z"
   },
   {
    "duration": 40,
    "start_time": "2022-02-24T02:46:52.310Z"
   },
   {
    "duration": 33,
    "start_time": "2022-02-24T02:47:04.470Z"
   },
   {
    "duration": 30,
    "start_time": "2022-02-24T02:47:19.938Z"
   },
   {
    "duration": 30,
    "start_time": "2022-02-24T02:47:36.645Z"
   },
   {
    "duration": 291,
    "start_time": "2022-02-24T02:50:30.605Z"
   },
   {
    "duration": 349,
    "start_time": "2022-02-24T02:50:42.029Z"
   },
   {
    "duration": 20,
    "start_time": "2022-02-24T02:50:57.149Z"
   },
   {
    "duration": 38,
    "start_time": "2022-02-24T02:51:01.517Z"
   },
   {
    "duration": 38,
    "start_time": "2022-02-24T02:51:16.037Z"
   },
   {
    "duration": 37,
    "start_time": "2022-02-24T02:51:45.509Z"
   },
   {
    "duration": 317,
    "start_time": "2022-02-24T02:52:08.917Z"
   },
   {
    "duration": 29,
    "start_time": "2022-02-24T02:52:24.124Z"
   },
   {
    "duration": 32,
    "start_time": "2022-02-24T02:52:40.598Z"
   },
   {
    "duration": 28,
    "start_time": "2022-02-24T02:54:09.109Z"
   },
   {
    "duration": 96,
    "start_time": "2022-02-24T02:54:16.988Z"
   },
   {
    "duration": 22,
    "start_time": "2022-02-24T02:54:17.629Z"
   },
   {
    "duration": 7,
    "start_time": "2022-02-24T02:54:18.014Z"
   },
   {
    "duration": 13,
    "start_time": "2022-02-24T02:54:18.355Z"
   },
   {
    "duration": 17,
    "start_time": "2022-02-24T02:54:19.275Z"
   },
   {
    "duration": 5,
    "start_time": "2022-02-24T02:54:19.819Z"
   },
   {
    "duration": 74,
    "start_time": "2022-02-24T02:54:20.204Z"
   },
   {
    "duration": 72,
    "start_time": "2022-02-24T02:54:20.604Z"
   },
   {
    "duration": 16,
    "start_time": "2022-02-24T02:54:21.459Z"
   },
   {
    "duration": 116,
    "start_time": "2022-02-24T02:54:23.364Z"
   },
   {
    "duration": 35,
    "start_time": "2022-02-24T02:54:24.124Z"
   },
   {
    "duration": 36,
    "start_time": "2022-02-24T02:54:24.620Z"
   },
   {
    "duration": 9,
    "start_time": "2022-02-24T02:54:25.228Z"
   },
   {
    "duration": 12,
    "start_time": "2022-02-24T02:54:25.859Z"
   },
   {
    "duration": 13,
    "start_time": "2022-02-24T02:54:27.803Z"
   },
   {
    "duration": 7,
    "start_time": "2022-02-24T02:54:29.148Z"
   },
   {
    "duration": 38,
    "start_time": "2022-02-24T02:54:30.483Z"
   },
   {
    "duration": 9,
    "start_time": "2022-02-24T02:54:31.502Z"
   },
   {
    "duration": 16,
    "start_time": "2022-02-24T02:54:33.835Z"
   },
   {
    "duration": 14,
    "start_time": "2022-02-24T02:54:34.619Z"
   },
   {
    "duration": 40,
    "start_time": "2022-02-24T02:54:35.947Z"
   },
   {
    "duration": 11,
    "start_time": "2022-02-24T02:54:36.995Z"
   },
   {
    "duration": 71,
    "start_time": "2022-02-24T02:54:37.891Z"
   },
   {
    "duration": 20,
    "start_time": "2022-02-24T02:54:41.396Z"
   },
   {
    "duration": 12,
    "start_time": "2022-02-24T02:54:43.547Z"
   },
   {
    "duration": 6,
    "start_time": "2022-02-24T02:54:44.315Z"
   },
   {
    "duration": 34,
    "start_time": "2022-02-24T02:54:45.641Z"
   },
   {
    "duration": 38,
    "start_time": "2022-02-24T02:54:47.500Z"
   },
   {
    "duration": 47,
    "start_time": "2022-02-24T02:54:48.116Z"
   },
   {
    "duration": 10,
    "start_time": "2022-02-24T02:54:50.803Z"
   },
   {
    "duration": 41,
    "start_time": "2022-02-24T02:54:52.619Z"
   },
   {
    "duration": 18,
    "start_time": "2022-02-24T02:54:54.299Z"
   },
   {
    "duration": 26,
    "start_time": "2022-02-24T02:54:56.356Z"
   },
   {
    "duration": 17,
    "start_time": "2022-02-24T02:55:04.492Z"
   },
   {
    "duration": 6,
    "start_time": "2022-02-24T02:55:05.675Z"
   },
   {
    "duration": 26,
    "start_time": "2022-02-24T02:55:06.284Z"
   },
   {
    "duration": 5,
    "start_time": "2022-02-24T02:55:35.164Z"
   },
   {
    "duration": 27,
    "start_time": "2022-02-24T02:55:35.708Z"
   },
   {
    "duration": 33,
    "start_time": "2022-02-24T02:55:43.508Z"
   },
   {
    "duration": 29,
    "start_time": "2022-02-24T02:57:30.557Z"
   },
   {
    "duration": 29,
    "start_time": "2022-02-24T02:57:40.228Z"
   },
   {
    "duration": 28,
    "start_time": "2022-02-24T02:57:54.900Z"
   },
   {
    "duration": 33,
    "start_time": "2022-02-24T02:58:00.619Z"
   },
   {
    "duration": 321,
    "start_time": "2022-02-24T03:02:09.299Z"
   },
   {
    "duration": 320,
    "start_time": "2022-02-24T03:02:13.739Z"
   },
   {
    "duration": 8451,
    "start_time": "2022-02-24T03:03:21.715Z"
   },
   {
    "duration": -114,
    "start_time": "2022-02-24T03:03:30.282Z"
   },
   {
    "duration": -116,
    "start_time": "2022-02-24T03:03:30.286Z"
   },
   {
    "duration": 16,
    "start_time": "2022-02-24T03:03:32.366Z"
   },
   {
    "duration": 98,
    "start_time": "2022-02-24T03:03:39.811Z"
   },
   {
    "duration": 13,
    "start_time": "2022-02-24T03:03:43.291Z"
   },
   {
    "duration": 7,
    "start_time": "2022-02-24T03:03:44.347Z"
   },
   {
    "duration": 13,
    "start_time": "2022-02-24T03:03:45.256Z"
   },
   {
    "duration": 15,
    "start_time": "2022-02-24T03:03:49.370Z"
   },
   {
    "duration": 6,
    "start_time": "2022-02-24T03:03:51.994Z"
   },
   {
    "duration": 70,
    "start_time": "2022-02-24T03:03:54.506Z"
   },
   {
    "duration": 70,
    "start_time": "2022-02-24T03:03:55.667Z"
   },
   {
    "duration": 15,
    "start_time": "2022-02-24T03:03:57.970Z"
   },
   {
    "duration": 116,
    "start_time": "2022-02-24T03:04:00.010Z"
   },
   {
    "duration": 34,
    "start_time": "2022-02-24T03:04:01.916Z"
   },
   {
    "duration": 34,
    "start_time": "2022-02-24T03:04:02.906Z"
   },
   {
    "duration": 12,
    "start_time": "2022-02-24T03:04:04.274Z"
   },
   {
    "duration": 13,
    "start_time": "2022-02-24T03:04:05.970Z"
   },
   {
    "duration": 11,
    "start_time": "2022-02-24T03:04:08.754Z"
   },
   {
    "duration": 7,
    "start_time": "2022-02-24T03:04:10.482Z"
   },
   {
    "duration": 51,
    "start_time": "2022-02-24T03:04:12.243Z"
   },
   {
    "duration": 9,
    "start_time": "2022-02-24T03:04:13.418Z"
   },
   {
    "duration": 15,
    "start_time": "2022-02-24T03:04:14.402Z"
   },
   {
    "duration": 14,
    "start_time": "2022-02-24T03:04:15.386Z"
   },
   {
    "duration": 38,
    "start_time": "2022-02-24T03:04:16.891Z"
   },
   {
    "duration": 10,
    "start_time": "2022-02-24T03:04:18.074Z"
   },
   {
    "duration": 75,
    "start_time": "2022-02-24T03:04:19.146Z"
   },
   {
    "duration": 19,
    "start_time": "2022-02-24T03:04:21.874Z"
   },
   {
    "duration": 12,
    "start_time": "2022-02-24T03:04:23.018Z"
   },
   {
    "duration": 6,
    "start_time": "2022-02-24T03:04:24.058Z"
   },
   {
    "duration": 36,
    "start_time": "2022-02-24T03:04:25.522Z"
   },
   {
    "duration": 39,
    "start_time": "2022-02-24T03:04:27.939Z"
   },
   {
    "duration": 51,
    "start_time": "2022-02-24T03:04:28.603Z"
   },
   {
    "duration": 10,
    "start_time": "2022-02-24T03:04:31.378Z"
   },
   {
    "duration": 41,
    "start_time": "2022-02-24T03:04:33.610Z"
   },
   {
    "duration": 20,
    "start_time": "2022-02-24T03:04:40.306Z"
   },
   {
    "duration": 6,
    "start_time": "2022-02-24T03:04:47.138Z"
   },
   {
    "duration": 19,
    "start_time": "2022-02-24T03:04:49.186Z"
   },
   {
    "duration": 25,
    "start_time": "2022-02-24T03:04:53.242Z"
   },
   {
    "duration": 18,
    "start_time": "2022-02-24T03:05:07.067Z"
   },
   {
    "duration": 29,
    "start_time": "2022-02-24T03:05:16.691Z"
   },
   {
    "duration": 32,
    "start_time": "2022-02-24T03:05:56.179Z"
   },
   {
    "duration": 32,
    "start_time": "2022-02-24T03:06:10.266Z"
   },
   {
    "duration": 34,
    "start_time": "2022-02-24T03:07:51.236Z"
   },
   {
    "duration": 7230,
    "start_time": "2022-02-24T03:12:13.515Z"
   },
   {
    "duration": -106,
    "start_time": "2022-02-24T03:13:23.208Z"
   },
   {
    "duration": 7697,
    "start_time": "2022-02-24T03:13:35.162Z"
   },
   {
    "duration": 7147,
    "start_time": "2022-02-24T03:13:43.282Z"
   },
   {
    "duration": 7642,
    "start_time": "2022-02-24T03:14:19.338Z"
   },
   {
    "duration": -112,
    "start_time": "2022-02-24T03:14:27.094Z"
   },
   {
    "duration": -113,
    "start_time": "2022-02-24T03:14:27.097Z"
   },
   {
    "duration": 7,
    "start_time": "2022-02-24T03:14:29.154Z"
   },
   {
    "duration": 98,
    "start_time": "2022-02-24T03:15:23.090Z"
   },
   {
    "duration": 13,
    "start_time": "2022-02-24T03:15:24.962Z"
   },
   {
    "duration": 8,
    "start_time": "2022-02-24T03:15:25.577Z"
   },
   {
    "duration": 13,
    "start_time": "2022-02-24T03:15:26.097Z"
   },
   {
    "duration": 16,
    "start_time": "2022-02-24T03:15:27.393Z"
   },
   {
    "duration": 5,
    "start_time": "2022-02-24T03:15:28.297Z"
   },
   {
    "duration": 71,
    "start_time": "2022-02-24T03:15:28.905Z"
   },
   {
    "duration": 71,
    "start_time": "2022-02-24T03:15:29.593Z"
   },
   {
    "duration": 17,
    "start_time": "2022-02-24T03:15:30.849Z"
   },
   {
    "duration": 120,
    "start_time": "2022-02-24T03:15:32.377Z"
   },
   {
    "duration": 35,
    "start_time": "2022-02-24T03:15:33.698Z"
   },
   {
    "duration": 36,
    "start_time": "2022-02-24T03:15:34.569Z"
   },
   {
    "duration": 12,
    "start_time": "2022-02-24T03:15:35.346Z"
   },
   {
    "duration": 14,
    "start_time": "2022-02-24T03:15:36.169Z"
   },
   {
    "duration": 12,
    "start_time": "2022-02-24T03:15:43.545Z"
   },
   {
    "duration": 6,
    "start_time": "2022-02-24T03:15:44.841Z"
   },
   {
    "duration": 34,
    "start_time": "2022-02-24T03:15:46.057Z"
   },
   {
    "duration": 9,
    "start_time": "2022-02-24T03:15:46.961Z"
   },
   {
    "duration": 16,
    "start_time": "2022-02-24T03:15:47.809Z"
   },
   {
    "duration": 12,
    "start_time": "2022-02-24T03:15:48.537Z"
   },
   {
    "duration": 41,
    "start_time": "2022-02-24T03:15:49.673Z"
   },
   {
    "duration": 14,
    "start_time": "2022-02-24T03:15:50.505Z"
   },
   {
    "duration": 74,
    "start_time": "2022-02-24T03:15:51.417Z"
   },
   {
    "duration": 19,
    "start_time": "2022-02-24T03:15:53.369Z"
   },
   {
    "duration": 14,
    "start_time": "2022-02-24T03:15:54.146Z"
   },
   {
    "duration": 7,
    "start_time": "2022-02-24T03:15:54.737Z"
   },
   {
    "duration": 37,
    "start_time": "2022-02-24T03:15:55.625Z"
   },
   {
    "duration": 36,
    "start_time": "2022-02-24T03:15:56.810Z"
   },
   {
    "duration": 53,
    "start_time": "2022-02-24T03:15:57.122Z"
   },
   {
    "duration": 10,
    "start_time": "2022-02-24T03:15:58.337Z"
   },
   {
    "duration": 39,
    "start_time": "2022-02-24T03:15:59.337Z"
   },
   {
    "duration": 19,
    "start_time": "2022-02-24T03:16:04.201Z"
   },
   {
    "duration": 6,
    "start_time": "2022-02-24T03:16:05.889Z"
   },
   {
    "duration": 19,
    "start_time": "2022-02-24T03:16:06.689Z"
   },
   {
    "duration": 25,
    "start_time": "2022-02-24T03:16:08.394Z"
   },
   {
    "duration": 18,
    "start_time": "2022-02-24T03:16:09.273Z"
   },
   {
    "duration": 30,
    "start_time": "2022-02-24T03:16:13.897Z"
   },
   {
    "duration": 5433,
    "start_time": "2022-02-24T03:16:28.650Z"
   },
   {
    "duration": -97,
    "start_time": "2022-02-24T03:16:39.817Z"
   },
   {
    "duration": 30,
    "start_time": "2022-02-24T03:16:41.929Z"
   },
   {
    "duration": 29,
    "start_time": "2022-02-24T03:17:54.596Z"
   },
   {
    "duration": 29,
    "start_time": "2022-02-24T03:17:57.642Z"
   },
   {
    "duration": 5,
    "start_time": "2022-02-24T03:18:35.753Z"
   },
   {
    "duration": 27,
    "start_time": "2022-02-24T03:18:44.074Z"
   },
   {
    "duration": 27,
    "start_time": "2022-02-24T03:19:18.146Z"
   },
   {
    "duration": 26,
    "start_time": "2022-02-24T03:19:46.194Z"
   },
   {
    "duration": 32,
    "start_time": "2022-02-24T03:20:03.697Z"
   },
   {
    "duration": 6744,
    "start_time": "2022-02-24T03:21:04.970Z"
   },
   {
    "duration": 6920,
    "start_time": "2022-02-24T03:21:22.961Z"
   },
   {
    "duration": 98,
    "start_time": "2022-02-24T03:21:46.057Z"
   },
   {
    "duration": 13,
    "start_time": "2022-02-24T03:21:47.562Z"
   },
   {
    "duration": 6,
    "start_time": "2022-02-24T03:21:48.153Z"
   },
   {
    "duration": 12,
    "start_time": "2022-02-24T03:21:48.729Z"
   },
   {
    "duration": 14,
    "start_time": "2022-02-24T03:21:50.121Z"
   },
   {
    "duration": 6,
    "start_time": "2022-02-24T03:21:51.489Z"
   },
   {
    "duration": 73,
    "start_time": "2022-02-24T03:21:57.312Z"
   },
   {
    "duration": 73,
    "start_time": "2022-02-24T03:21:57.736Z"
   },
   {
    "duration": 14,
    "start_time": "2022-02-24T03:21:58.504Z"
   },
   {
    "duration": 116,
    "start_time": "2022-02-24T03:21:59.321Z"
   },
   {
    "duration": 36,
    "start_time": "2022-02-24T03:21:59.882Z"
   },
   {
    "duration": 35,
    "start_time": "2022-02-24T03:22:00.265Z"
   },
   {
    "duration": 10,
    "start_time": "2022-02-24T03:22:00.688Z"
   },
   {
    "duration": 12,
    "start_time": "2022-02-24T03:22:01.073Z"
   },
   {
    "duration": 11,
    "start_time": "2022-02-24T03:22:02.057Z"
   },
   {
    "duration": 6,
    "start_time": "2022-02-24T03:22:02.665Z"
   },
   {
    "duration": 35,
    "start_time": "2022-02-24T03:22:03.273Z"
   },
   {
    "duration": 9,
    "start_time": "2022-02-24T03:22:03.681Z"
   },
   {
    "duration": 13,
    "start_time": "2022-02-24T03:22:04.097Z"
   },
   {
    "duration": 13,
    "start_time": "2022-02-24T03:22:04.513Z"
   },
   {
    "duration": 39,
    "start_time": "2022-02-24T03:22:05.144Z"
   },
   {
    "duration": 11,
    "start_time": "2022-02-24T03:22:05.545Z"
   },
   {
    "duration": 75,
    "start_time": "2022-02-24T03:22:05.945Z"
   },
   {
    "duration": 19,
    "start_time": "2022-02-24T03:22:06.944Z"
   },
   {
    "duration": 13,
    "start_time": "2022-02-24T03:22:07.320Z"
   },
   {
    "duration": 6,
    "start_time": "2022-02-24T03:22:07.736Z"
   },
   {
    "duration": 37,
    "start_time": "2022-02-24T03:22:08.337Z"
   },
   {
    "duration": 37,
    "start_time": "2022-02-24T03:22:09.129Z"
   },
   {
    "duration": 50,
    "start_time": "2022-02-24T03:22:09.329Z"
   },
   {
    "duration": 9,
    "start_time": "2022-02-24T03:22:10.240Z"
   },
   {
    "duration": 40,
    "start_time": "2022-02-24T03:22:10.857Z"
   },
   {
    "duration": 20,
    "start_time": "2022-02-24T03:22:13.041Z"
   },
   {
    "duration": 6,
    "start_time": "2022-02-24T03:22:14.858Z"
   },
   {
    "duration": 18,
    "start_time": "2022-02-24T03:22:15.737Z"
   },
   {
    "duration": 27,
    "start_time": "2022-02-24T03:22:17.537Z"
   },
   {
    "duration": 19,
    "start_time": "2022-02-24T03:22:18.553Z"
   },
   {
    "duration": 29,
    "start_time": "2022-02-24T03:22:22.018Z"
   },
   {
    "duration": 33,
    "start_time": "2022-02-24T03:22:34.633Z"
   },
   {
    "duration": 7532,
    "start_time": "2022-02-24T03:23:35.386Z"
   },
   {
    "duration": 23,
    "start_time": "2022-02-24T03:23:51.322Z"
   },
   {
    "duration": 36,
    "start_time": "2022-02-24T03:24:22.195Z"
   },
   {
    "duration": 35,
    "start_time": "2022-02-24T03:33:20.753Z"
   },
   {
    "duration": 35,
    "start_time": "2022-02-24T03:33:51.225Z"
   },
   {
    "duration": 32,
    "start_time": "2022-02-24T03:34:38.809Z"
   },
   {
    "duration": 32,
    "start_time": "2022-02-24T03:35:04.089Z"
   },
   {
    "duration": 71,
    "start_time": "2022-02-24T03:36:47.426Z"
   },
   {
    "duration": 4332,
    "start_time": "2022-02-24T03:37:07.194Z"
   },
   {
    "duration": 68,
    "start_time": "2022-02-24T03:37:15.980Z"
   },
   {
    "duration": 67,
    "start_time": "2022-02-24T03:37:18.504Z"
   },
   {
    "duration": 71,
    "start_time": "2022-02-24T03:37:34.937Z"
   },
   {
    "duration": 4657,
    "start_time": "2022-02-24T03:37:42.801Z"
   },
   {
    "duration": 74,
    "start_time": "2022-02-24T03:37:49.449Z"
   },
   {
    "duration": 319,
    "start_time": "2022-02-24T03:37:57.393Z"
   },
   {
    "duration": 67,
    "start_time": "2022-02-24T03:38:02.872Z"
   },
   {
    "duration": 67,
    "start_time": "2022-02-24T03:38:37.601Z"
   },
   {
    "duration": 89,
    "start_time": "2022-02-24T03:44:54.024Z"
   },
   {
    "duration": 495,
    "start_time": "2022-02-24T03:47:36.960Z"
   },
   {
    "duration": 90,
    "start_time": "2022-02-24T03:47:43.992Z"
   },
   {
    "duration": 82,
    "start_time": "2022-02-24T03:47:54.104Z"
   },
   {
    "duration": 27,
    "start_time": "2022-02-24T03:49:28.936Z"
   },
   {
    "duration": 84,
    "start_time": "2022-02-24T03:49:59.443Z"
   },
   {
    "duration": 24,
    "start_time": "2022-02-24T03:50:07.416Z"
   },
   {
    "duration": 10,
    "start_time": "2022-02-24T03:51:16.616Z"
   },
   {
    "duration": 12,
    "start_time": "2022-02-24T03:51:35.272Z"
   },
   {
    "duration": 34,
    "start_time": "2022-02-24T03:53:33.152Z"
   },
   {
    "duration": 39,
    "start_time": "2022-02-24T03:55:02.112Z"
   },
   {
    "duration": 42,
    "start_time": "2022-02-24T03:55:12.487Z"
   },
   {
    "duration": 29,
    "start_time": "2022-02-24T03:55:26.400Z"
   },
   {
    "duration": 24,
    "start_time": "2022-02-24T03:56:25.655Z"
   },
   {
    "duration": 33,
    "start_time": "2022-02-24T03:57:10.525Z"
   },
   {
    "duration": 37,
    "start_time": "2022-02-24T03:57:33.215Z"
   },
   {
    "duration": 64,
    "start_time": "2022-02-24T03:58:03.288Z"
   },
   {
    "duration": 49,
    "start_time": "2022-02-24T04:01:39.478Z"
   },
   {
    "duration": 19,
    "start_time": "2022-02-24T04:01:55.392Z"
   },
   {
    "duration": 48,
    "start_time": "2022-02-24T04:02:54.225Z"
   },
   {
    "duration": 105,
    "start_time": "2022-02-24T04:03:15.655Z"
   },
   {
    "duration": 14,
    "start_time": "2022-02-24T04:03:16.293Z"
   },
   {
    "duration": 7,
    "start_time": "2022-02-24T04:03:16.606Z"
   },
   {
    "duration": 14,
    "start_time": "2022-02-24T04:03:16.902Z"
   },
   {
    "duration": 15,
    "start_time": "2022-02-24T04:03:17.548Z"
   },
   {
    "duration": 5,
    "start_time": "2022-02-24T04:03:17.650Z"
   },
   {
    "duration": 68,
    "start_time": "2022-02-24T04:03:17.705Z"
   },
   {
    "duration": 81,
    "start_time": "2022-02-24T04:03:17.776Z"
   },
   {
    "duration": 14,
    "start_time": "2022-02-24T04:03:17.915Z"
   },
   {
    "duration": 116,
    "start_time": "2022-02-24T04:03:18.044Z"
   },
   {
    "duration": 33,
    "start_time": "2022-02-24T04:03:18.163Z"
   },
   {
    "duration": 47,
    "start_time": "2022-02-24T04:03:18.214Z"
   },
   {
    "duration": 10,
    "start_time": "2022-02-24T04:03:18.279Z"
   },
   {
    "duration": 12,
    "start_time": "2022-02-24T04:03:18.334Z"
   },
   {
    "duration": 11,
    "start_time": "2022-02-24T04:03:18.493Z"
   },
   {
    "duration": 7,
    "start_time": "2022-02-24T04:03:18.641Z"
   },
   {
    "duration": 36,
    "start_time": "2022-02-24T04:03:18.718Z"
   },
   {
    "duration": 9,
    "start_time": "2022-02-24T04:03:18.781Z"
   },
   {
    "duration": 15,
    "start_time": "2022-02-24T04:03:18.839Z"
   },
   {
    "duration": 13,
    "start_time": "2022-02-24T04:03:18.895Z"
   },
   {
    "duration": 39,
    "start_time": "2022-02-24T04:03:18.998Z"
   },
   {
    "duration": 10,
    "start_time": "2022-02-24T04:03:19.062Z"
   },
   {
    "duration": 71,
    "start_time": "2022-02-24T04:03:19.129Z"
   },
   {
    "duration": 21,
    "start_time": "2022-02-24T04:03:19.312Z"
   },
   {
    "duration": 12,
    "start_time": "2022-02-24T04:03:19.386Z"
   },
   {
    "duration": 6,
    "start_time": "2022-02-24T04:03:19.434Z"
   },
   {
    "duration": 37,
    "start_time": "2022-02-24T04:03:19.527Z"
   },
   {
    "duration": 37,
    "start_time": "2022-02-24T04:03:19.663Z"
   },
   {
    "duration": 47,
    "start_time": "2022-02-24T04:03:19.711Z"
   },
   {
    "duration": 9,
    "start_time": "2022-02-24T04:03:19.822Z"
   },
   {
    "duration": 41,
    "start_time": "2022-02-24T04:03:19.914Z"
   },
   {
    "duration": 19,
    "start_time": "2022-02-24T04:03:20.026Z"
   },
   {
    "duration": 6,
    "start_time": "2022-02-24T04:03:20.166Z"
   },
   {
    "duration": 19,
    "start_time": "2022-02-24T04:03:20.220Z"
   },
   {
    "duration": 26,
    "start_time": "2022-02-24T04:03:20.357Z"
   },
   {
    "duration": 19,
    "start_time": "2022-02-24T04:03:20.427Z"
   },
   {
    "duration": 29,
    "start_time": "2022-02-24T04:03:20.522Z"
   },
   {
    "duration": 33,
    "start_time": "2022-02-24T04:03:20.622Z"
   },
   {
    "duration": 64,
    "start_time": "2022-02-24T04:03:20.783Z"
   },
   {
    "duration": 29,
    "start_time": "2022-02-24T04:03:20.850Z"
   },
   {
    "duration": 94,
    "start_time": "2022-02-24T04:03:20.882Z"
   },
   {
    "duration": 3,
    "start_time": "2022-02-24T04:03:20.980Z"
   },
   {
    "duration": 25,
    "start_time": "2022-02-24T04:03:21.013Z"
   },
   {
    "duration": 98,
    "start_time": "2022-02-24T04:03:21.064Z"
   },
   {
    "duration": 11,
    "start_time": "2022-02-24T04:03:21.178Z"
   },
   {
    "duration": 48,
    "start_time": "2022-02-24T04:03:21.232Z"
   },
   {
    "duration": 5,
    "start_time": "2022-02-24T04:03:21.320Z"
   },
   {
    "duration": 43,
    "start_time": "2022-02-24T04:03:21.440Z"
   },
   {
    "duration": 97,
    "start_time": "2022-02-24T04:03:24.932Z"
   },
   {
    "duration": 15,
    "start_time": "2022-02-24T04:03:25.058Z"
   },
   {
    "duration": 6,
    "start_time": "2022-02-24T04:03:25.124Z"
   },
   {
    "duration": 13,
    "start_time": "2022-02-24T04:03:25.193Z"
   },
   {
    "duration": 17,
    "start_time": "2022-02-24T04:03:25.374Z"
   },
   {
    "duration": 5,
    "start_time": "2022-02-24T04:03:25.456Z"
   },
   {
    "duration": 76,
    "start_time": "2022-02-24T04:03:25.524Z"
   },
   {
    "duration": 83,
    "start_time": "2022-02-24T04:03:25.602Z"
   },
   {
    "duration": 14,
    "start_time": "2022-02-24T04:03:25.732Z"
   },
   {
    "duration": 123,
    "start_time": "2022-02-24T04:03:25.850Z"
   },
   {
    "duration": 42,
    "start_time": "2022-02-24T04:03:25.976Z"
   },
   {
    "duration": 57,
    "start_time": "2022-02-24T04:03:26.025Z"
   },
   {
    "duration": 15,
    "start_time": "2022-02-24T04:03:26.087Z"
   },
   {
    "duration": 11,
    "start_time": "2022-02-24T04:03:26.150Z"
   },
   {
    "duration": 11,
    "start_time": "2022-02-24T04:03:26.351Z"
   },
   {
    "duration": 5,
    "start_time": "2022-02-24T04:03:26.428Z"
   },
   {
    "duration": 36,
    "start_time": "2022-02-24T04:03:26.518Z"
   },
   {
    "duration": 10,
    "start_time": "2022-02-24T04:03:26.578Z"
   },
   {
    "duration": 14,
    "start_time": "2022-02-24T04:03:26.652Z"
   },
   {
    "duration": 14,
    "start_time": "2022-02-24T04:03:26.712Z"
   },
   {
    "duration": 39,
    "start_time": "2022-02-24T04:03:26.812Z"
   },
   {
    "duration": 10,
    "start_time": "2022-02-24T04:03:26.876Z"
   },
   {
    "duration": 76,
    "start_time": "2022-02-24T04:03:26.941Z"
   },
   {
    "duration": 20,
    "start_time": "2022-02-24T04:03:27.113Z"
   },
   {
    "duration": 13,
    "start_time": "2022-02-24T04:03:27.180Z"
   },
   {
    "duration": 7,
    "start_time": "2022-02-24T04:03:27.242Z"
   },
   {
    "duration": 39,
    "start_time": "2022-02-24T04:03:27.344Z"
   },
   {
    "duration": 37,
    "start_time": "2022-02-24T04:03:27.468Z"
   },
   {
    "duration": 49,
    "start_time": "2022-02-24T04:03:27.516Z"
   },
   {
    "duration": 9,
    "start_time": "2022-02-24T04:03:27.628Z"
   },
   {
    "duration": 38,
    "start_time": "2022-02-24T04:03:27.732Z"
   },
   {
    "duration": 20,
    "start_time": "2022-02-24T04:03:27.846Z"
   },
   {
    "duration": 5,
    "start_time": "2022-02-24T04:03:27.976Z"
   },
   {
    "duration": 18,
    "start_time": "2022-02-24T04:03:28.035Z"
   },
   {
    "duration": 27,
    "start_time": "2022-02-24T04:03:28.172Z"
   },
   {
    "duration": 19,
    "start_time": "2022-02-24T04:03:28.257Z"
   },
   {
    "duration": 28,
    "start_time": "2022-02-24T04:03:28.352Z"
   },
   {
    "duration": 32,
    "start_time": "2022-02-24T04:03:28.446Z"
   },
   {
    "duration": 65,
    "start_time": "2022-02-24T04:03:28.599Z"
   },
   {
    "duration": 66,
    "start_time": "2022-02-24T04:04:40.935Z"
   },
   {
    "duration": 70,
    "start_time": "2022-02-24T04:05:00.032Z"
   },
   {
    "duration": 7458,
    "start_time": "2022-02-24T04:05:42.456Z"
   },
   {
    "duration": 64,
    "start_time": "2022-02-24T04:05:55.063Z"
   },
   {
    "duration": 4783,
    "start_time": "2022-02-24T04:06:02.114Z"
   },
   {
    "duration": 66,
    "start_time": "2022-02-24T04:06:13.559Z"
   },
   {
    "duration": 294,
    "start_time": "2022-02-24T04:06:25.255Z"
   },
   {
    "duration": 312,
    "start_time": "2022-02-24T04:06:32.022Z"
   },
   {
    "duration": 70,
    "start_time": "2022-02-24T04:06:39.998Z"
   },
   {
    "duration": 71,
    "start_time": "2022-02-24T04:06:53.382Z"
   },
   {
    "duration": 69,
    "start_time": "2022-02-24T04:06:56.390Z"
   },
   {
    "duration": 69,
    "start_time": "2022-02-24T04:06:59.654Z"
   },
   {
    "duration": 4404,
    "start_time": "2022-02-24T04:07:31.143Z"
   },
   {
    "duration": 307,
    "start_time": "2022-02-24T04:07:42.744Z"
   },
   {
    "duration": 99,
    "start_time": "2022-02-24T04:07:56.191Z"
   },
   {
    "duration": 68,
    "start_time": "2022-02-24T04:08:00.583Z"
   },
   {
    "duration": 63,
    "start_time": "2022-02-24T04:08:26.134Z"
   },
   {
    "duration": 61,
    "start_time": "2022-02-24T04:08:39.847Z"
   },
   {
    "duration": 60,
    "start_time": "2022-02-24T04:08:50.214Z"
   },
   {
    "duration": 58,
    "start_time": "2022-02-24T04:10:16.814Z"
   },
   {
    "duration": 20,
    "start_time": "2022-02-24T04:12:33.087Z"
   },
   {
    "duration": 4,
    "start_time": "2022-02-24T04:12:42.063Z"
   },
   {
    "duration": 21,
    "start_time": "2022-02-24T04:13:58.775Z"
   },
   {
    "duration": 282,
    "start_time": "2022-02-24T04:14:08.622Z"
   },
   {
    "duration": 311,
    "start_time": "2022-02-24T04:14:13.286Z"
   },
   {
    "duration": 21,
    "start_time": "2022-02-24T04:14:16.830Z"
   },
   {
    "duration": 20,
    "start_time": "2022-02-24T04:14:19.823Z"
   },
   {
    "duration": 20,
    "start_time": "2022-02-24T04:14:24.526Z"
   },
   {
    "duration": 290,
    "start_time": "2022-02-24T04:14:27.462Z"
   },
   {
    "duration": 21,
    "start_time": "2022-02-24T04:14:30.438Z"
   },
   {
    "duration": 21,
    "start_time": "2022-02-24T04:14:37.246Z"
   },
   {
    "duration": 109,
    "start_time": "2022-02-24T04:17:43.239Z"
   },
   {
    "duration": 105,
    "start_time": "2022-02-24T04:18:01.294Z"
   },
   {
    "duration": 116,
    "start_time": "2022-02-24T04:18:13.734Z"
   },
   {
    "duration": 130,
    "start_time": "2022-02-24T04:18:44.742Z"
   },
   {
    "duration": 182,
    "start_time": "2022-02-24T04:18:53.277Z"
   },
   {
    "duration": 98,
    "start_time": "2022-02-24T04:19:00.814Z"
   },
   {
    "duration": 335,
    "start_time": "2022-02-24T04:19:11.222Z"
   },
   {
    "duration": 357,
    "start_time": "2022-02-24T04:19:37.137Z"
   },
   {
    "duration": 267,
    "start_time": "2022-02-24T04:20:25.600Z"
   },
   {
    "duration": 266,
    "start_time": "2022-02-24T04:20:33.552Z"
   },
   {
    "duration": 220,
    "start_time": "2022-02-24T04:22:39.776Z"
   },
   {
    "duration": 240,
    "start_time": "2022-02-24T04:23:10.255Z"
   },
   {
    "duration": 355,
    "start_time": "2022-02-24T04:26:10.959Z"
   },
   {
    "duration": 273,
    "start_time": "2022-02-24T04:26:19.749Z"
   },
   {
    "duration": 264,
    "start_time": "2022-02-24T04:26:34.847Z"
   },
   {
    "duration": 339,
    "start_time": "2022-02-24T04:27:28.382Z"
   },
   {
    "duration": 252,
    "start_time": "2022-02-24T04:32:41.029Z"
   },
   {
    "duration": 345,
    "start_time": "2022-02-24T04:33:35.087Z"
   },
   {
    "duration": 345,
    "start_time": "2022-02-24T04:34:16.358Z"
   },
   {
    "duration": 383,
    "start_time": "2022-02-24T04:34:39.686Z"
   },
   {
    "duration": 271,
    "start_time": "2022-02-24T04:35:04.702Z"
   },
   {
    "duration": 338,
    "start_time": "2022-02-24T04:35:54.200Z"
   },
   {
    "duration": 270,
    "start_time": "2022-02-24T04:38:50.214Z"
   },
   {
    "duration": 311,
    "start_time": "2022-02-24T04:40:48.943Z"
   },
   {
    "duration": 295,
    "start_time": "2022-02-24T04:43:02.925Z"
   },
   {
    "duration": 268,
    "start_time": "2022-02-24T04:43:18.077Z"
   },
   {
    "duration": 5,
    "start_time": "2022-02-24T04:44:00.605Z"
   },
   {
    "duration": 21,
    "start_time": "2022-02-24T04:44:10.404Z"
   },
   {
    "duration": 38,
    "start_time": "2022-02-24T04:46:54.068Z"
   },
   {
    "duration": 115,
    "start_time": "2022-02-24T04:47:18.060Z"
   },
   {
    "duration": 246,
    "start_time": "2022-02-24T04:47:23.909Z"
   },
   {
    "duration": 261,
    "start_time": "2022-02-24T04:48:33.159Z"
   },
   {
    "duration": 367,
    "start_time": "2022-02-24T04:49:44.845Z"
   },
   {
    "duration": 269,
    "start_time": "2022-02-24T04:50:03.805Z"
   },
   {
    "duration": 586,
    "start_time": "2022-02-24T04:50:19.894Z"
   },
   {
    "duration": 237,
    "start_time": "2022-02-24T04:51:27.166Z"
   },
   {
    "duration": 404,
    "start_time": "2022-02-24T04:51:31.142Z"
   },
   {
    "duration": 233,
    "start_time": "2022-02-24T04:51:57.677Z"
   },
   {
    "duration": 280,
    "start_time": "2022-02-24T04:52:55.390Z"
   },
   {
    "duration": 285,
    "start_time": "2022-02-24T04:53:54.222Z"
   },
   {
    "duration": 62,
    "start_time": "2022-02-24T04:54:26.998Z"
   },
   {
    "duration": 76,
    "start_time": "2022-02-24T04:54:43.323Z"
   },
   {
    "duration": 54,
    "start_time": "2022-02-24T04:55:19.300Z"
   },
   {
    "duration": 54,
    "start_time": "2022-02-24T04:55:42.403Z"
   },
   {
    "duration": 323,
    "start_time": "2022-02-24T04:56:41.243Z"
   },
   {
    "duration": 51,
    "start_time": "2022-02-24T04:57:04.019Z"
   },
   {
    "duration": 245,
    "start_time": "2022-02-24T04:58:42.540Z"
   },
   {
    "duration": 266,
    "start_time": "2022-02-24T04:58:53.203Z"
   },
   {
    "duration": 281,
    "start_time": "2022-02-24T04:58:58.651Z"
   },
   {
    "duration": 43,
    "start_time": "2022-02-24T05:09:35.682Z"
   },
   {
    "duration": 43,
    "start_time": "2022-02-24T05:10:19.387Z"
   },
   {
    "duration": 7049,
    "start_time": "2022-02-24T05:10:55.787Z"
   },
   {
    "duration": 633,
    "start_time": "2022-02-24T05:11:29.237Z"
   },
   {
    "duration": 265,
    "start_time": "2022-02-24T05:11:40.115Z"
   },
   {
    "duration": 46,
    "start_time": "2022-02-24T05:13:36.330Z"
   },
   {
    "duration": 48,
    "start_time": "2022-02-24T05:13:45.098Z"
   },
   {
    "duration": 260,
    "start_time": "2022-02-24T05:14:41.947Z"
   },
   {
    "duration": 20,
    "start_time": "2022-02-24T05:16:42.514Z"
   },
   {
    "duration": 20,
    "start_time": "2022-02-24T05:16:50.193Z"
   },
   {
    "duration": 30,
    "start_time": "2022-02-24T05:17:34.209Z"
   },
   {
    "duration": 29,
    "start_time": "2022-02-24T05:18:04.002Z"
   },
   {
    "duration": 25,
    "start_time": "2022-02-24T05:19:44.858Z"
   },
   {
    "duration": 12,
    "start_time": "2022-02-24T05:19:52.409Z"
   },
   {
    "duration": 47,
    "start_time": "2022-02-24T05:19:53.033Z"
   },
   {
    "duration": 101,
    "start_time": "2022-02-24T05:22:24.825Z"
   },
   {
    "duration": 66,
    "start_time": "2022-02-24T05:23:42.290Z"
   },
   {
    "duration": 94,
    "start_time": "2022-02-24T05:23:47.105Z"
   },
   {
    "duration": 75,
    "start_time": "2022-02-24T05:27:32.793Z"
   },
   {
    "duration": 68,
    "start_time": "2022-02-24T05:28:43.600Z"
   },
   {
    "duration": 210,
    "start_time": "2022-02-24T05:29:51.384Z"
   },
   {
    "duration": 54,
    "start_time": "2022-02-24T05:30:03.104Z"
   },
   {
    "duration": 43,
    "start_time": "2022-02-24T05:30:17.462Z"
   },
   {
    "duration": 4,
    "start_time": "2022-02-24T05:32:42.104Z"
   },
   {
    "duration": 66,
    "start_time": "2022-02-24T05:37:37.369Z"
   },
   {
    "duration": 74,
    "start_time": "2022-02-24T05:37:40.960Z"
   },
   {
    "duration": 12,
    "start_time": "2022-02-24T05:37:56.288Z"
   },
   {
    "duration": 339,
    "start_time": "2022-02-24T05:41:52.328Z"
   },
   {
    "duration": 354,
    "start_time": "2022-02-24T05:42:08.121Z"
   },
   {
    "duration": 65,
    "start_time": "2022-02-24T05:42:23.344Z"
   },
   {
    "duration": 67,
    "start_time": "2022-02-24T05:43:39.998Z"
   },
   {
    "duration": 65,
    "start_time": "2022-02-24T05:43:43.560Z"
   },
   {
    "duration": 22,
    "start_time": "2022-02-24T05:45:19.887Z"
   },
   {
    "duration": 50,
    "start_time": "2022-02-24T05:46:06.656Z"
   },
   {
    "duration": 19,
    "start_time": "2022-02-24T05:47:57.415Z"
   },
   {
    "duration": 20,
    "start_time": "2022-02-24T05:48:03.223Z"
   },
   {
    "duration": 61,
    "start_time": "2022-02-24T05:53:27.297Z"
   },
   {
    "duration": 41,
    "start_time": "2022-02-24T05:53:51.224Z"
   },
   {
    "duration": 113,
    "start_time": "2022-02-24T05:55:04.543Z"
   },
   {
    "duration": 125,
    "start_time": "2022-02-24T06:17:10.578Z"
   }
  ],
  "kernelspec": {
   "display_name": "Python 3 (ipykernel)",
   "language": "python",
   "name": "python3"
  },
  "language_info": {
   "codemirror_mode": {
    "name": "ipython",
    "version": 3
   },
   "file_extension": ".py",
   "mimetype": "text/x-python",
   "name": "python",
   "nbconvert_exporter": "python",
   "pygments_lexer": "ipython3",
   "version": "3.9.5"
  },
  "toc": {
   "base_numbering": 1,
   "nav_menu": {},
   "number_sections": true,
   "sideBar": true,
   "skip_h1_title": true,
   "title_cell": "Table of Contents",
   "title_sidebar": "Contents",
   "toc_cell": false,
   "toc_position": {
    "height": "calc(100% - 180px)",
    "left": "10px",
    "top": "150px",
    "width": "356.188px"
   },
   "toc_section_display": true,
   "toc_window_display": true
  }
 },
 "nbformat": 4,
 "nbformat_minor": 5
}
